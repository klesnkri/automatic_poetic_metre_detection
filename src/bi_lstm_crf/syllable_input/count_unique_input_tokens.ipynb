{
 "cells": [
  {
   "cell_type": "markdown",
   "metadata": {
    "pycharm": {
     "name": "#%% md\n"
    }
   },
   "source": [
    "# Count unique X-SAMPA syllables"
   ]
  },
  {
   "cell_type": "code",
   "execution_count": 1,
   "metadata": {
    "pycharm": {
     "name": "#%%\n"
    }
   },
   "outputs": [],
   "source": [
    "%load_ext dotenv\n",
    "%dotenv\n",
    "import os\n",
    "\n",
    "base_dir = os.getenv(\"WORKING_DIR\")\n",
    "os.chdir(base_dir)"
   ]
  },
  {
   "cell_type": "code",
   "execution_count": 2,
   "metadata": {
    "pycharm": {
     "name": "#%%\n"
    }
   },
   "outputs": [],
   "source": [
    "from src.data_loader_and_saver import JSONDataLoaderAndSaver\n",
    "\n",
    "data_loader = JSONDataLoaderAndSaver(base_dir, input_data_dir=\"src/data\")"
   ]
  },
  {
   "cell_type": "code",
   "execution_count": 3,
   "metadata": {
    "pycharm": {
     "name": "#%%\n"
    }
   },
   "outputs": [],
   "source": [
    "from src.kveta.sampa_syllable_parser import SampaSyllableParser\n",
    "\n",
    "sampa_parser = SampaSyllableParser()"
   ]
  },
  {
   "cell_type": "markdown",
   "metadata": {
    "pycharm": {
     "name": "#%% md\n"
    }
   },
   "source": [
    "## All poems just 1 metre, no unknown metres"
   ]
  },
  {
   "cell_type": "code",
   "execution_count": 4,
   "metadata": {
    "pycharm": {
     "name": "#%%\n"
    }
   },
   "outputs": [],
   "source": [
    "extension = \"_one_metre_all_metres_recognized\""
   ]
  },
  {
   "cell_type": "code",
   "execution_count": 5,
   "metadata": {
    "pycharm": {
     "name": "#%%\n"
    }
   },
   "outputs": [
    {
     "name": "stdout",
     "output_type": "stream",
     "text": [
      "train_sampa_tokens_one_metre_all_metres_recognized.json: loaded 40137 records.\n"
     ]
    },
    {
     "data": {
      "text/plain": "[['tEc', 't_so', 'sE', 'h\\\\roznI', 'zlatEm', 'zaskvi:vaji:'],\n ['na', 'za:h\\\\onEx', 'sE', 'astrI', 'usmi:vaji:'],\n ['pP\\\\I', 'pl=nE:', 't_Si:SI', 'v', 'dobrE:m', 'rozmaru'],\n ['sI', 'do', 'kola', 'drux', 'z', 'druh\\\\Em', 'zaspi:vaji:'],\n ['o', 'kra:sni:x', 'J\\\\i:fka:x', 'ktErE:', 'kokEtJE'],\n ['vjEji:P\\\\Em', 'JadEr', 'vl=nu', 'ukri:vaji:'],\n ['o', 'zlati:x', 'slatki:x', 't_SasEx', 'mladoscI'],\n ['jES', 'nEli:tostJE', 's', 'la:sko_u', 'upli:vaji:'],\n ['o', 'polIpt_si:x', 'jIxS', 'sta:lE', 'mi:J', 'a', 'mi:J'],\n ['jES', 'jako', 'pr=vJi:', 'slatkE:', 'nEbi:vaji:'],\n ['o', 'rukavIt_Ska:x', 'stuSka:x', 'kadEP\\\\i:x'],\n ['jES', 'f', 'skP\\\\i:nka:x', 's', 'lIstI', 'la:skI', 'sEtli:vaji:'],\n ['o', 'vlasEx', 'proP\\\\i:dli:x', 'gdIs', 'tmavi:x', 'tEc'],\n ['jES', 'stP\\\\i:br=no_u', 'sE', 'vl=no_u', 'zaxvi:vaji:'],\n ['o', 'pi:sJi:x', 'ktErE:', 'f', 'sklonu', 'mladoscI'],\n ['tak', 'vEsElE:', 'juS', 'notI', 'nEmi:vaji:'],\n ['o', 'fSEm', 't_so', 'vadnE', 'lItski:x', 'losu:', 'h\\\\ro_u'],\n ['nat', 't_Si:m', 'sE', 'ot_SI', 'sl=zo_u', 'zatmi:vaji:'],\n ['fSak', 'nat', 'troskamI', 'slatki:x', 'h\\\\P\\\\i:t_SEk', 'cEx'],\n ['t_Si:S', 'pl=no_u', 'tEpr=f', 'pra:zdJIt', 'umi:vaji:']]"
     },
     "execution_count": 5,
     "metadata": {},
     "output_type": "execute_result"
    }
   ],
   "source": [
    "sampa_tokens = data_loader.load_data(f\"train_sampa_tokens{extension}\")\n",
    "sampa_tokens[0]"
   ]
  },
  {
   "cell_type": "code",
   "execution_count": 6,
   "metadata": {
    "pycharm": {
     "name": "#%%\n"
    }
   },
   "outputs": [
    {
     "data": {
      "text/plain": "['tEc',\n 't_so',\n 'sE',\n 'h\\\\roznI',\n 'zlatEm',\n 'zaskvi:vaji:',\n 'na',\n 'za:h\\\\onEx',\n 'sE',\n 'astrI']"
     },
     "execution_count": 6,
     "metadata": {},
     "output_type": "execute_result"
    }
   ],
   "source": [
    "sampa_tokens = [token for poem in sampa_tokens for line in poem for token in line]\n",
    "sampa_tokens[:10]"
   ]
  },
  {
   "cell_type": "code",
   "execution_count": 7,
   "metadata": {
    "pycharm": {
     "name": "#%%\n"
    }
   },
   "outputs": [
    {
     "data": {
      "text/plain": "7240855"
     },
     "execution_count": 7,
     "metadata": {},
     "output_type": "execute_result"
    }
   ],
   "source": [
    "len(sampa_tokens)"
   ]
  },
  {
   "cell_type": "code",
   "execution_count": 8,
   "outputs": [
    {
     "data": {
      "text/plain": "['tEc', 't_so', 'sE', 'h\\\\ro', 'znI', 'zla', 'tEm', 'za', 'skvi:', 'va']"
     },
     "execution_count": 8,
     "metadata": {},
     "output_type": "execute_result"
    }
   ],
   "source": [
    "syllables = [syll for sampa in sampa_tokens for syll in sampa_parser.get_syllables(sampa)]\n",
    "syllables[:10]"
   ],
   "metadata": {
    "collapsed": false,
    "pycharm": {
     "name": "#%%\n"
    }
   }
  },
  {
   "cell_type": "code",
   "execution_count": 9,
   "metadata": {
    "pycharm": {
     "name": "#%%\n"
    }
   },
   "outputs": [
    {
     "data": {
      "text/plain": "12400823"
     },
     "execution_count": 9,
     "metadata": {},
     "output_type": "execute_result"
    }
   ],
   "source": [
    "len(syllables)"
   ]
  },
  {
   "cell_type": "code",
   "execution_count": 10,
   "metadata": {
    "pycharm": {
     "name": "#%%\n"
    }
   },
   "outputs": [
    {
     "data": {
      "text/plain": "17197"
     },
     "execution_count": 10,
     "metadata": {},
     "output_type": "execute_result"
    }
   ],
   "source": [
    "unique_syllables = set(syllables)\n",
    "len(unique_syllables)"
   ]
  },
  {
   "cell_type": "code",
   "execution_count": 11,
   "metadata": {
    "pycharm": {
     "name": "#%%\n"
    }
   },
   "outputs": [
    {
     "data": {
      "text/plain": "['J\\\\Ej',\n 'znoj',\n 'rstvost',\n 'stax',\n 'bo:s',\n 'zZh\\\\af',\n 'ptmu',\n 'rt_Si:n',\n 'flE:m',\n 'rsEm']"
     },
     "execution_count": 11,
     "metadata": {},
     "output_type": "execute_result"
    }
   ],
   "source": [
    "list(unique_syllables)[:10]"
   ]
  },
  {
   "cell_type": "markdown",
   "metadata": {
    "pycharm": {
     "name": "#%% md\n"
    }
   },
   "source": [
    "## All lines just 1 metre, no unknown metres"
   ]
  },
  {
   "cell_type": "code",
   "execution_count": 12,
   "metadata": {
    "pycharm": {
     "name": "#%%\n"
    }
   },
   "outputs": [],
   "source": [
    "extension = \"_one_metre_line_all_metres_recognized\""
   ]
  },
  {
   "cell_type": "code",
   "execution_count": 13,
   "metadata": {
    "pycharm": {
     "name": "#%%\n"
    }
   },
   "outputs": [
    {
     "name": "stdout",
     "output_type": "stream",
     "text": [
      "train_sampa_tokens_one_metre_line_all_metres_recognized.json: loaded 41762 records.\n"
     ]
    },
    {
     "data": {
      "text/plain": "[['mu:j', 'koJi:t_SEk', 'vrani:'],\n ['jako', 'malovani:'],\n ['h\\\\opsa', 'h\\\\Ejsa', 'h\\\\Ej'],\n ['noSkI', 'pjEknE:', 'zdvi:h\\\\a:'],\n ['uSIma', 'sI', 'stP\\\\i:h\\\\a:'],\n ['h\\\\opsa', 'h\\\\Ejsa', 'h\\\\Ej'],\n ['dlo_uh\\\\a:', 't_SErna:', 'h\\\\P\\\\i:va'],\n ['po', 'vjEtru', 'mu', 'spli:va:'],\n ['h\\\\opsa', 'h\\\\Ejsa', 'h\\\\Ej'],\n ['potkofkI', 'mu', 'zvoJi:'],\n ['jIskra', 'jIskru', 'h\\\\oJi:'],\n ['h\\\\opsa', 'h\\\\Ejsa', 'h\\\\Ej'],\n ['mu:j', 'koJi:t_Sku', 'vrani:'],\n ['jako', 'malovani:'],\n ['h\\\\opsa', 'h\\\\Ejsa', 'h\\\\Ej'],\n ['aS', 'cE', 'osEdla:mE'],\n ['kam', 'sE', 'poJ\\\\i:va:mE'],\n ['h\\\\opsa', 'h\\\\Ejsa', 'h\\\\Ej'],\n ['rozjEdEm', 'sE', 'f', 'polI'],\n ['pP\\\\Ez', 'h\\\\orI', 'a', 'dolI'],\n ['h\\\\opsa', 'h\\\\Ejsa', 'h\\\\Ej'],\n ['rozjEdEm', 'sE', 'lEtEm'],\n ['SIroSIri:m', 'svjEtEm'],\n ['h\\\\opsa', 'h\\\\Ejsa', 'h\\\\Ej'],\n ['ZEc', 'sE', 'rozjEdEmE'],\n ['kam', 'sE', 'rozjEt', 'xt_sEmE'],\n ['h\\\\opsa', 'h\\\\Ejsa', 'h\\\\Ej'],\n ['tak', 'mu:j', 'vrani:', 'koJI'],\n ['ac', 'sI', 'na:s', 'gdo', 'h\\\\oJi:'],\n ['h\\\\opsa', 'h\\\\Ejsa', 'h\\\\Ej']]"
     },
     "execution_count": 13,
     "metadata": {},
     "output_type": "execute_result"
    }
   ],
   "source": [
    "sampa_tokens = data_loader.load_data(f\"train_sampa_tokens{extension}\")\n",
    "sampa_tokens[0]"
   ]
  },
  {
   "cell_type": "code",
   "execution_count": 14,
   "metadata": {
    "pycharm": {
     "name": "#%%\n"
    }
   },
   "outputs": [
    {
     "data": {
      "text/plain": "['mu:j',\n 'koJi:t_SEk',\n 'vrani:',\n 'jako',\n 'malovani:',\n 'h\\\\opsa',\n 'h\\\\Ejsa',\n 'h\\\\Ej',\n 'noSkI',\n 'pjEknE:']"
     },
     "execution_count": 14,
     "metadata": {},
     "output_type": "execute_result"
    }
   ],
   "source": [
    "sampa_tokens = [token for poem in sampa_tokens for line in poem for token in line]\n",
    "sampa_tokens[:10]"
   ]
  },
  {
   "cell_type": "code",
   "execution_count": 15,
   "metadata": {
    "pycharm": {
     "name": "#%%\n"
    }
   },
   "outputs": [
    {
     "data": {
      "text/plain": "7823727"
     },
     "execution_count": 15,
     "metadata": {},
     "output_type": "execute_result"
    }
   ],
   "source": [
    "len(sampa_tokens)"
   ]
  },
  {
   "cell_type": "code",
   "execution_count": 16,
   "metadata": {
    "pycharm": {
     "name": "#%%\n"
    }
   },
   "outputs": [
    {
     "data": {
      "text/plain": "['mu:j', 'ko', 'Ji:', 't_SEk', 'vra', 'ni:', 'ja', 'ko', 'ma', 'lo']"
     },
     "execution_count": 16,
     "metadata": {},
     "output_type": "execute_result"
    }
   ],
   "source": [
    "syllables = [syll for sampa in sampa_tokens for syll in sampa_parser.get_syllables(sampa)]\n",
    "syllables[:10]"
   ]
  },
  {
   "cell_type": "code",
   "execution_count": 17,
   "metadata": {
    "pycharm": {
     "name": "#%%\n"
    }
   },
   "outputs": [
    {
     "data": {
      "text/plain": "13408524"
     },
     "execution_count": 17,
     "metadata": {},
     "output_type": "execute_result"
    }
   ],
   "source": [
    "len(syllables)"
   ]
  },
  {
   "cell_type": "code",
   "execution_count": 18,
   "metadata": {
    "pycharm": {
     "name": "#%%\n"
    }
   },
   "outputs": [
    {
     "data": {
      "text/plain": "17589"
     },
     "execution_count": 18,
     "metadata": {},
     "output_type": "execute_result"
    }
   ],
   "source": [
    "unique_syllables = set(syllables)\n",
    "len(unique_syllables)"
   ]
  },
  {
   "cell_type": "code",
   "execution_count": 19,
   "metadata": {
    "pycharm": {
     "name": "#%%\n"
    }
   },
   "outputs": [
    {
     "data": {
      "text/plain": "['J\\\\Ej',\n 'znoj',\n 'rstvost',\n 'stax',\n 'zZh\\\\af',\n 'ptmu',\n 'rt_Si:n',\n 'flE:m',\n 'rsEm',\n 'J\\\\En']"
     },
     "execution_count": 19,
     "metadata": {},
     "output_type": "execute_result"
    }
   ],
   "source": [
    "list(unique_syllables)[:10]"
   ]
  }
 ],
 "metadata": {
  "kernelspec": {
   "display_name": "Python 3 (ipykernel)",
   "language": "python",
   "name": "python3"
  },
  "language_info": {
   "codemirror_mode": {
    "name": "ipython",
    "version": 3
   },
   "file_extension": ".py",
   "mimetype": "text/x-python",
   "name": "python",
   "nbconvert_exporter": "python",
   "pygments_lexer": "ipython3",
   "version": "3.8.10"
  }
 },
 "nbformat": 4,
 "nbformat_minor": 1
}
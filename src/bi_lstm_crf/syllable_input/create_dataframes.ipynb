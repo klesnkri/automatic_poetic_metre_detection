{
 "cells": [
  {
   "cell_type": "markdown",
   "metadata": {
    "pycharm": {
     "name": "#%% md\n"
    }
   },
   "source": [
    "# Create X-SAMPA syllable input dataframes"
   ]
  },
  {
   "cell_type": "code",
   "execution_count": 1,
   "metadata": {
    "pycharm": {
     "name": "#%%\n"
    }
   },
   "outputs": [],
   "source": [
    "%load_ext dotenv\n",
    "%dotenv\n",
    "import os\n",
    "\n",
    "base_dir = os.getenv(\"WORKING_DIR\")\n",
    "os.chdir(base_dir)"
   ]
  },
  {
   "cell_type": "code",
   "execution_count": 2,
   "metadata": {
    "pycharm": {
     "name": "#%%\n"
    }
   },
   "outputs": [],
   "source": [
    "from src.data_loader_and_saver import JSONDataLoaderAndSaver, CSVDataLoaderAndSaver\n",
    "\n",
    "json_data_loader = JSONDataLoaderAndSaver(base_dir, input_data_dir=\"src/data\")\n",
    "csv_data_saver = CSVDataLoaderAndSaver(base_dir, index_cols=[\"Poem idx\", \"Line idx\", \"Token idx\", \"Syllable idx\"],\n",
    "                                       output_data_dir=\"src/bi_lstm_crf/syllable_input/data\")"
   ]
  },
  {
   "cell_type": "code",
   "execution_count": 3,
   "metadata": {
    "pycharm": {
     "name": "#%%\n"
    }
   },
   "outputs": [],
   "source": [
    "import pandas as pd\n",
    "import json\n",
    "\n",
    "from src.kveta.sampa_syllable_parser import SampaSyllableParser\n",
    "from src.kveta.syllable_class_parser import SyllableClassParser\n",
    "from src.util import Util\n",
    "\n",
    "\n",
    "def get_df(poems_X: list, poems_y: list) -> pd.DataFrame:\n",
    "    \"\"\"\n",
    "    Create X-SAMPA syllable input dataframe from poems X and y dataset.\n",
    "    :param poems_X: Poems X dataset\n",
    "    :param poems_y: Poems y dataset\n",
    "    :return: Created X-SAMPA syllable input dataframe\n",
    "    \"\"\"\n",
    "    df = []\n",
    "    sampa_parser = SampaSyllableParser()\n",
    "    syllable_cls_parser = SyllableClassParser()\n",
    "\n",
    "    for poem_idx, (poem_X, poem_y) in enumerate(zip(poems_X, poems_y)):\n",
    "        for line_idx, (line_X, line_y) in enumerate(zip(poem_X, poem_y)):\n",
    "            line_sonority_peaks = sampa_parser.parse_line(line_X)\n",
    "            line_metre_pattern = Util.normalize_metrical_pattern(line_y[\"pattern\"])\n",
    "            line_syllable_classes = syllable_cls_parser.parse_line(line_sonority_peaks, line_X)\n",
    "            metre_idx = 0\n",
    "\n",
    "            for token_idx, (token_syllable_classes, token_X) in enumerate(zip(line_syllable_classes, line_X)):\n",
    "                sampa_syllables = sampa_parser.get_syllables(token_X[\"xsampa\"])\n",
    "\n",
    "                for syll_idx, (syllable_class, sampa_syllable) in enumerate(zip(token_syllable_classes, sampa_syllables)):\n",
    "                    data = {\n",
    "                        \"Poem idx\": poem_idx,\n",
    "                        \"Line idx\": line_idx,\n",
    "                        \"Token idx\": token_idx,\n",
    "                        \"Syllable idx\": syll_idx,\n",
    "                        \"Syllable class\": syllable_class,\n",
    "                        \"Sampa syllable\": sampa_syllable,\n",
    "                        \"Author\": json.dumps(token_X[\"author\"]),\n",
    "                        \"Year\": Util.get_year(token_X[\"year\"]),\n",
    "                        \"POS\": token_X[\"morph\"][0],\n",
    "                        \"Metre pos\": line_metre_pattern[metre_idx],\n",
    "                        \"Lemma\": token_X[\"lemma\"]\n",
    "                    }\n",
    "\n",
    "                    df.append(data)\n",
    "                    metre_idx += 1\n",
    "\n",
    "    df = pd.DataFrame(df)\n",
    "    df.set_index([\"Poem idx\", \"Line idx\", \"Token idx\", \"Syllable idx\"], inplace=True)\n",
    "\n",
    "    return df"
   ]
  },
  {
   "cell_type": "markdown",
   "metadata": {},
   "source": [
    "## All poems just 1 metre, no unknown metres"
   ]
  },
  {
   "cell_type": "code",
   "execution_count": 4,
   "metadata": {
    "pycharm": {
     "name": "#%%\n"
    }
   },
   "outputs": [],
   "source": [
    "extension = \"_one_metre_all_metres_recognized\""
   ]
  },
  {
   "cell_type": "code",
   "execution_count": 5,
   "metadata": {
    "pycharm": {
     "name": "#%%\n"
    }
   },
   "outputs": [
    {
     "name": "stdout",
     "output_type": "stream",
     "text": [
      "train_X_one_metre_all_metres_recognized.json: loaded 40137 records.\n",
      "train_y_one_metre_all_metres_recognized.json: loaded 40137 records.\n"
     ]
    }
   ],
   "source": [
    "train_X = json_data_loader.load_data(f\"train_X{extension}\")\n",
    "train_y = json_data_loader.load_data(f\"train_y{extension}\")"
   ]
  },
  {
   "cell_type": "code",
   "execution_count": 6,
   "metadata": {
    "pycharm": {
     "is_executing": true
    }
   },
   "outputs": [
    {
     "data": {
      "text/html": [
       "<div>\n",
       "<style scoped>\n",
       "    .dataframe tbody tr th:only-of-type {\n",
       "        vertical-align: middle;\n",
       "    }\n",
       "\n",
       "    .dataframe tbody tr th {\n",
       "        vertical-align: top;\n",
       "    }\n",
       "\n",
       "    .dataframe thead th {\n",
       "        text-align: right;\n",
       "    }\n",
       "</style>\n",
       "<table border=\"1\" class=\"dataframe\">\n",
       "  <thead>\n",
       "    <tr style=\"text-align: right;\">\n",
       "      <th></th>\n",
       "      <th></th>\n",
       "      <th></th>\n",
       "      <th></th>\n",
       "      <th>Syllable class</th>\n",
       "      <th>Sampa syllable</th>\n",
       "      <th>Author</th>\n",
       "      <th>Year</th>\n",
       "      <th>POS</th>\n",
       "      <th>Metre pos</th>\n",
       "      <th>Lemma</th>\n",
       "    </tr>\n",
       "    <tr>\n",
       "      <th>Poem idx</th>\n",
       "      <th>Line idx</th>\n",
       "      <th>Token idx</th>\n",
       "      <th>Syllable idx</th>\n",
       "      <th></th>\n",
       "      <th></th>\n",
       "      <th></th>\n",
       "      <th></th>\n",
       "      <th></th>\n",
       "      <th></th>\n",
       "      <th></th>\n",
       "    </tr>\n",
       "  </thead>\n",
       "  <tbody>\n",
       "    <tr>\n",
       "      <th rowspan=\"5\" valign=\"top\">0</th>\n",
       "      <th rowspan=\"5\" valign=\"top\">0</th>\n",
       "      <th>0</th>\n",
       "      <th>0</th>\n",
       "      <td>SyllableClass(initial=True, final=True, conten...</td>\n",
       "      <td>tEc</td>\n",
       "      <td>{\"born\": 1853, \"died\": 1912, \"name\": \"Vrchlick...</td>\n",
       "      <td>1886.0</td>\n",
       "      <td>D</td>\n",
       "      <td>W</td>\n",
       "      <td>teď</td>\n",
       "    </tr>\n",
       "    <tr>\n",
       "      <th>1</th>\n",
       "      <th>0</th>\n",
       "      <td>SyllableClass(initial=True, final=True, conten...</td>\n",
       "      <td>t_so</td>\n",
       "      <td>{\"born\": 1853, \"died\": 1912, \"name\": \"Vrchlick...</td>\n",
       "      <td>1886.0</td>\n",
       "      <td>P</td>\n",
       "      <td>S</td>\n",
       "      <td>co</td>\n",
       "    </tr>\n",
       "    <tr>\n",
       "      <th>2</th>\n",
       "      <th>0</th>\n",
       "      <td>SyllableClass(initial=True, final=True, conten...</td>\n",
       "      <td>sE</td>\n",
       "      <td>{\"born\": 1853, \"died\": 1912, \"name\": \"Vrchlick...</td>\n",
       "      <td>1886.0</td>\n",
       "      <td>P</td>\n",
       "      <td>W</td>\n",
       "      <td>se</td>\n",
       "    </tr>\n",
       "    <tr>\n",
       "      <th rowspan=\"2\" valign=\"top\">3</th>\n",
       "      <th>0</th>\n",
       "      <td>SyllableClass(initial=True, final=False, conte...</td>\n",
       "      <td>h\\ro</td>\n",
       "      <td>{\"born\": 1853, \"died\": 1912, \"name\": \"Vrchlick...</td>\n",
       "      <td>1886.0</td>\n",
       "      <td>N</td>\n",
       "      <td>S</td>\n",
       "      <td>hrozen</td>\n",
       "    </tr>\n",
       "    <tr>\n",
       "      <th>1</th>\n",
       "      <td>SyllableClass(initial=False, final=True, conte...</td>\n",
       "      <td>znI</td>\n",
       "      <td>{\"born\": 1853, \"died\": 1912, \"name\": \"Vrchlick...</td>\n",
       "      <td>1886.0</td>\n",
       "      <td>N</td>\n",
       "      <td>W</td>\n",
       "      <td>hrozen</td>\n",
       "    </tr>\n",
       "    <tr>\n",
       "      <th>...</th>\n",
       "      <th>...</th>\n",
       "      <th>...</th>\n",
       "      <th>...</th>\n",
       "      <td>...</td>\n",
       "      <td>...</td>\n",
       "      <td>...</td>\n",
       "      <td>...</td>\n",
       "      <td>...</td>\n",
       "      <td>...</td>\n",
       "      <td>...</td>\n",
       "    </tr>\n",
       "    <tr>\n",
       "      <th rowspan=\"5\" valign=\"top\">40136</th>\n",
       "      <th rowspan=\"5\" valign=\"top\">71</th>\n",
       "      <th>1</th>\n",
       "      <th>1</th>\n",
       "      <td>SyllableClass(initial=False, final=True, conte...</td>\n",
       "      <td>mku</td>\n",
       "      <td>{\"born\": 1835, \"died\": 1923, \"name\": \"Heyduk, ...</td>\n",
       "      <td>1899.0</td>\n",
       "      <td>N</td>\n",
       "      <td>W</td>\n",
       "      <td>domek</td>\n",
       "    </tr>\n",
       "    <tr>\n",
       "      <th>2</th>\n",
       "      <th>0</th>\n",
       "      <td>SyllableClass(initial=True, final=True, conten...</td>\n",
       "      <td>na</td>\n",
       "      <td>{\"born\": 1835, \"died\": 1923, \"name\": \"Heyduk, ...</td>\n",
       "      <td>1899.0</td>\n",
       "      <td>R</td>\n",
       "      <td>S</td>\n",
       "      <td>na</td>\n",
       "    </tr>\n",
       "    <tr>\n",
       "      <th rowspan=\"3\" valign=\"top\">3</th>\n",
       "      <th>0</th>\n",
       "      <td>SyllableClass(initial=True, final=False, conte...</td>\n",
       "      <td>u:</td>\n",
       "      <td>{\"born\": 1835, \"died\": 1923, \"name\": \"Heyduk, ...</td>\n",
       "      <td>1899.0</td>\n",
       "      <td>N</td>\n",
       "      <td>W</td>\n",
       "      <td>údolí</td>\n",
       "    </tr>\n",
       "    <tr>\n",
       "      <th>1</th>\n",
       "      <td>SyllableClass(initial=False, final=False, cont...</td>\n",
       "      <td>do</td>\n",
       "      <td>{\"born\": 1835, \"died\": 1923, \"name\": \"Heyduk, ...</td>\n",
       "      <td>1899.0</td>\n",
       "      <td>N</td>\n",
       "      <td>S</td>\n",
       "      <td>údolí</td>\n",
       "    </tr>\n",
       "    <tr>\n",
       "      <th>2</th>\n",
       "      <td>SyllableClass(initial=False, final=True, conte...</td>\n",
       "      <td>li:</td>\n",
       "      <td>{\"born\": 1835, \"died\": 1923, \"name\": \"Heyduk, ...</td>\n",
       "      <td>1899.0</td>\n",
       "      <td>N</td>\n",
       "      <td>W</td>\n",
       "      <td>údolí</td>\n",
       "    </tr>\n",
       "  </tbody>\n",
       "</table>\n",
       "<p>12400823 rows × 7 columns</p>\n",
       "</div>"
      ],
      "text/plain": [
       "                                                                             Syllable class  \\\n",
       "Poem idx Line idx Token idx Syllable idx                                                      \n",
       "0        0        0         0             SyllableClass(initial=True, final=True, conten...   \n",
       "                  1         0             SyllableClass(initial=True, final=True, conten...   \n",
       "                  2         0             SyllableClass(initial=True, final=True, conten...   \n",
       "                  3         0             SyllableClass(initial=True, final=False, conte...   \n",
       "                            1             SyllableClass(initial=False, final=True, conte...   \n",
       "...                                                                                     ...   \n",
       "40136    71       1         1             SyllableClass(initial=False, final=True, conte...   \n",
       "                  2         0             SyllableClass(initial=True, final=True, conten...   \n",
       "                  3         0             SyllableClass(initial=True, final=False, conte...   \n",
       "                            1             SyllableClass(initial=False, final=False, cont...   \n",
       "                            2             SyllableClass(initial=False, final=True, conte...   \n",
       "\n",
       "                                         Sampa syllable  \\\n",
       "Poem idx Line idx Token idx Syllable idx                  \n",
       "0        0        0         0                       tEc   \n",
       "                  1         0                      t_so   \n",
       "                  2         0                        sE   \n",
       "                  3         0                      h\\ro   \n",
       "                            1                       znI   \n",
       "...                                                 ...   \n",
       "40136    71       1         1                       mku   \n",
       "                  2         0                        na   \n",
       "                  3         0                        u:   \n",
       "                            1                        do   \n",
       "                            2                       li:   \n",
       "\n",
       "                                                                                     Author  \\\n",
       "Poem idx Line idx Token idx Syllable idx                                                      \n",
       "0        0        0         0             {\"born\": 1853, \"died\": 1912, \"name\": \"Vrchlick...   \n",
       "                  1         0             {\"born\": 1853, \"died\": 1912, \"name\": \"Vrchlick...   \n",
       "                  2         0             {\"born\": 1853, \"died\": 1912, \"name\": \"Vrchlick...   \n",
       "                  3         0             {\"born\": 1853, \"died\": 1912, \"name\": \"Vrchlick...   \n",
       "                            1             {\"born\": 1853, \"died\": 1912, \"name\": \"Vrchlick...   \n",
       "...                                                                                     ...   \n",
       "40136    71       1         1             {\"born\": 1835, \"died\": 1923, \"name\": \"Heyduk, ...   \n",
       "                  2         0             {\"born\": 1835, \"died\": 1923, \"name\": \"Heyduk, ...   \n",
       "                  3         0             {\"born\": 1835, \"died\": 1923, \"name\": \"Heyduk, ...   \n",
       "                            1             {\"born\": 1835, \"died\": 1923, \"name\": \"Heyduk, ...   \n",
       "                            2             {\"born\": 1835, \"died\": 1923, \"name\": \"Heyduk, ...   \n",
       "\n",
       "                                            Year POS Metre pos   Lemma  \n",
       "Poem idx Line idx Token idx Syllable idx                                \n",
       "0        0        0         0             1886.0   D         W     teď  \n",
       "                  1         0             1886.0   P         S      co  \n",
       "                  2         0             1886.0   P         W      se  \n",
       "                  3         0             1886.0   N         S  hrozen  \n",
       "                            1             1886.0   N         W  hrozen  \n",
       "...                                          ...  ..       ...     ...  \n",
       "40136    71       1         1             1899.0   N         W   domek  \n",
       "                  2         0             1899.0   R         S      na  \n",
       "                  3         0             1899.0   N         W   údolí  \n",
       "                            1             1899.0   N         S   údolí  \n",
       "                            2             1899.0   N         W   údolí  \n",
       "\n",
       "[12400823 rows x 7 columns]"
      ]
     },
     "execution_count": 6,
     "metadata": {},
     "output_type": "execute_result"
    }
   ],
   "source": [
    "train_df = get_df(train_X, train_y)\n",
    "train_df"
   ]
  },
  {
   "cell_type": "code",
   "execution_count": 7,
   "metadata": {
    "pycharm": {
     "name": "#%%\n"
    }
   },
   "outputs": [
    {
     "data": {
      "text/plain": [
       "Syllable class      0\n",
       "Sampa syllable      0\n",
       "Author              0\n",
       "Year              330\n",
       "POS                 0\n",
       "Metre pos           0\n",
       "Lemma               0\n",
       "dtype: int64"
      ]
     },
     "execution_count": 7,
     "metadata": {},
     "output_type": "execute_result"
    }
   ],
   "source": [
    "train_df.isna().sum()"
   ]
  },
  {
   "cell_type": "code",
   "execution_count": 8,
   "metadata": {
    "pycharm": {
     "name": "#%%\n"
    }
   },
   "outputs": [
    {
     "data": {
      "text/plain": [
       "11"
      ]
     },
     "execution_count": 8,
     "metadata": {},
     "output_type": "execute_result"
    }
   ],
   "source": [
    "train_df[\"POS\"].nunique()"
   ]
  },
  {
   "cell_type": "code",
   "execution_count": 9,
   "metadata": {
    "pycharm": {
     "name": "#%%\n"
    }
   },
   "outputs": [
    {
     "data": {
      "text/plain": [
       "array(['D', 'P', 'N', 'V', 'R', 'A', 'J', 'C', 'X', 'T', 'I'],\n",
       "      dtype=object)"
      ]
     },
     "execution_count": 9,
     "metadata": {},
     "output_type": "execute_result"
    }
   ],
   "source": [
    "train_df[\"POS\"].unique()"
   ]
  },
  {
   "cell_type": "code",
   "execution_count": 10,
   "metadata": {
    "pycharm": {
     "name": "#%%\n"
    }
   },
   "outputs": [
    {
     "data": {
      "text/plain": [
       "279"
      ]
     },
     "execution_count": 10,
     "metadata": {},
     "output_type": "execute_result"
    }
   ],
   "source": [
    "train_df[\"Author\"].nunique()"
   ]
  },
  {
   "cell_type": "code",
   "execution_count": 11,
   "metadata": {
    "pycharm": {
     "name": "#%%\n"
    }
   },
   "outputs": [
    {
     "data": {
      "text/plain": [
       "array([1886., 1880., 1899., 1884., 1892., 1908., 1823., 1821., 1965.,\n",
       "       1927., 1934., 1902., 1921., 1844., 1905., 1872., 1883., 1915.,\n",
       "       1935., 1891., 1827., 1906., 1834., 1936., 1881., 1858., 1926.,\n",
       "       1904., 1893., 1853., 1903., 1907., 1932., 1984., 1885., 1900.,\n",
       "       1897., 1962., 1882., 1896., 1888., 1901., 1933., 1938., 1930.,\n",
       "       1832., 1913., 1894., 1843., 1870., 1873., 1911., 1887., 1875.,\n",
       "       1944., 1865., 1857., 1928., 1898., 1912., 1874., 1859., 1918.,\n",
       "       1895., 1862., 1920., 1910., 1931., 1824., 1833., 1950., 1959.,\n",
       "       1914., 1863., 1919., 1890., 1812., 1889., 1868., 1957., 1946.,\n",
       "       1925., 1854., 1846., 1852., 1851., 1878., 1917., 1958., 1923.,\n",
       "       1864., 1922., 1956., 1909., 1822., 1939., 1951., 1948., 1937.,\n",
       "       1954., 1871., 1879., 1840., 1856., 1940., 1841., 1929., 1942.,\n",
       "       1916., 1830., 1876., 1941., 1820., 1924., 1836., 1963., 1869.,\n",
       "       1861., 1807., 1974., 1860., 1866., 1815., 1816., 1806., 1867.,\n",
       "       1847., 1850., 1845., 1842., 1945., 1877., 1829., 1809., 1805.,\n",
       "       1814., 1803., 1839., 1837., 1838., 1804., 1831., 1835., 1947.,\n",
       "         nan])"
      ]
     },
     "execution_count": 11,
     "metadata": {},
     "output_type": "execute_result"
    }
   ],
   "source": [
    "train_df[\"Year\"].unique()"
   ]
  },
  {
   "cell_type": "code",
   "execution_count": 12,
   "metadata": {
    "pycharm": {
     "name": "#%%\n"
    }
   },
   "outputs": [
    {
     "data": {
      "text/plain": [
       "count    1.240049e+07\n",
       "mean     1.896801e+03\n",
       "std      2.755570e+01\n",
       "min      1.803000e+03\n",
       "25%      1.883000e+03\n",
       "50%      1.897000e+03\n",
       "75%      1.914000e+03\n",
       "max      1.984000e+03\n",
       "Name: Year, dtype: float64"
      ]
     },
     "execution_count": 12,
     "metadata": {},
     "output_type": "execute_result"
    }
   ],
   "source": [
    "train_df[\"Year\"].describe()"
   ]
  },
  {
   "cell_type": "code",
   "execution_count": 13,
   "metadata": {
    "pycharm": {
     "name": "#%%\n"
    }
   },
   "outputs": [
    {
     "data": {
      "text/plain": [
       "17197"
      ]
     },
     "execution_count": 13,
     "metadata": {},
     "output_type": "execute_result"
    }
   ],
   "source": [
    "train_df[\"Sampa syllable\"].nunique()"
   ]
  },
  {
   "cell_type": "code",
   "execution_count": 14,
   "metadata": {
    "pycharm": {
     "name": "#%%\n"
    }
   },
   "outputs": [
    {
     "data": {
      "text/plain": [
       "131910"
      ]
     },
     "execution_count": 14,
     "metadata": {},
     "output_type": "execute_result"
    }
   ],
   "source": [
    "train_df[\"Lemma\"].nunique()"
   ]
  },
  {
   "cell_type": "code",
   "execution_count": 15,
   "metadata": {
    "pycharm": {
     "name": "#%%\n"
    }
   },
   "outputs": [
    {
     "name": "stdout",
     "output_type": "stream",
     "text": [
      "Data saved to train_one_metre_all_metres_recognized.csv\n"
     ]
    }
   ],
   "source": [
    "csv_data_saver.save_data(train_df, f\"train{extension}\")"
   ]
  },
  {
   "cell_type": "code",
   "execution_count": 7,
   "metadata": {
    "pycharm": {
     "name": "#%%\n"
    }
   },
   "outputs": [
    {
     "name": "stdout",
     "output_type": "stream",
     "text": [
      "dev_X_one_metre_all_metres_recognized.json: loaded 8601 records.\n",
      "dev_y_one_metre_all_metres_recognized.json: loaded 8601 records.\n"
     ]
    }
   ],
   "source": [
    "dev_X = json_data_loader.load_data(f\"dev_X{extension}\")\n",
    "dev_y = json_data_loader.load_data(f\"dev_y{extension}\")"
   ]
  },
  {
   "cell_type": "code",
   "execution_count": 8,
   "metadata": {
    "pycharm": {
     "name": "#%%\n"
    }
   },
   "outputs": [
    {
     "data": {
      "text/html": [
       "<div>\n",
       "<style scoped>\n",
       "    .dataframe tbody tr th:only-of-type {\n",
       "        vertical-align: middle;\n",
       "    }\n",
       "\n",
       "    .dataframe tbody tr th {\n",
       "        vertical-align: top;\n",
       "    }\n",
       "\n",
       "    .dataframe thead th {\n",
       "        text-align: right;\n",
       "    }\n",
       "</style>\n",
       "<table border=\"1\" class=\"dataframe\">\n",
       "  <thead>\n",
       "    <tr style=\"text-align: right;\">\n",
       "      <th></th>\n",
       "      <th></th>\n",
       "      <th></th>\n",
       "      <th></th>\n",
       "      <th>Syllable class</th>\n",
       "      <th>Sampa syllable</th>\n",
       "      <th>Author</th>\n",
       "      <th>Year</th>\n",
       "      <th>POS</th>\n",
       "      <th>Metre pos</th>\n",
       "      <th>Lemma</th>\n",
       "    </tr>\n",
       "    <tr>\n",
       "      <th>Poem idx</th>\n",
       "      <th>Line idx</th>\n",
       "      <th>Token idx</th>\n",
       "      <th>Syllable idx</th>\n",
       "      <th></th>\n",
       "      <th></th>\n",
       "      <th></th>\n",
       "      <th></th>\n",
       "      <th></th>\n",
       "      <th></th>\n",
       "      <th></th>\n",
       "    </tr>\n",
       "  </thead>\n",
       "  <tbody>\n",
       "    <tr>\n",
       "      <th rowspan=\"5\" valign=\"top\">0</th>\n",
       "      <th rowspan=\"5\" valign=\"top\">0</th>\n",
       "      <th>0</th>\n",
       "      <th>0</th>\n",
       "      <td>SyllableClass(initial=True, final=True, conten...</td>\n",
       "      <td>tI</td>\n",
       "      <td>{\"born\": 1835, \"died\": 1923, \"name\": \"Heyduk, ...</td>\n",
       "      <td>1859</td>\n",
       "      <td>P</td>\n",
       "      <td>S</td>\n",
       "      <td>ten</td>\n",
       "    </tr>\n",
       "    <tr>\n",
       "      <th>1</th>\n",
       "      <th>0</th>\n",
       "      <td>SyllableClass(initial=True, final=True, conten...</td>\n",
       "      <td>ma:</td>\n",
       "      <td>{\"born\": 1835, \"died\": 1923, \"name\": \"Heyduk, ...</td>\n",
       "      <td>1859</td>\n",
       "      <td>V</td>\n",
       "      <td>W</td>\n",
       "      <td>mít</td>\n",
       "    </tr>\n",
       "    <tr>\n",
       "      <th rowspan=\"2\" valign=\"top\">2</th>\n",
       "      <th>0</th>\n",
       "      <td>SyllableClass(initial=True, final=False, conte...</td>\n",
       "      <td>ru:</td>\n",
       "      <td>{\"born\": 1835, \"died\": 1923, \"name\": \"Heyduk, ...</td>\n",
       "      <td>1859</td>\n",
       "      <td>N</td>\n",
       "      <td>S</td>\n",
       "      <td>růže</td>\n",
       "    </tr>\n",
       "    <tr>\n",
       "      <th>1</th>\n",
       "      <td>SyllableClass(initial=False, final=True, conte...</td>\n",
       "      <td>ZE</td>\n",
       "      <td>{\"born\": 1835, \"died\": 1923, \"name\": \"Heyduk, ...</td>\n",
       "      <td>1859</td>\n",
       "      <td>N</td>\n",
       "      <td>W</td>\n",
       "      <td>růže</td>\n",
       "    </tr>\n",
       "    <tr>\n",
       "      <th>3</th>\n",
       "      <th>0</th>\n",
       "      <td>SyllableClass(initial=True, final=False, conte...</td>\n",
       "      <td>tma</td>\n",
       "      <td>{\"born\": 1835, \"died\": 1923, \"name\": \"Heyduk, ...</td>\n",
       "      <td>1859</td>\n",
       "      <td>A</td>\n",
       "      <td>S</td>\n",
       "      <td>tmavý</td>\n",
       "    </tr>\n",
       "    <tr>\n",
       "      <th>...</th>\n",
       "      <th>...</th>\n",
       "      <th>...</th>\n",
       "      <th>...</th>\n",
       "      <td>...</td>\n",
       "      <td>...</td>\n",
       "      <td>...</td>\n",
       "      <td>...</td>\n",
       "      <td>...</td>\n",
       "      <td>...</td>\n",
       "      <td>...</td>\n",
       "    </tr>\n",
       "    <tr>\n",
       "      <th rowspan=\"5\" valign=\"top\">8600</th>\n",
       "      <th rowspan=\"5\" valign=\"top\">31</th>\n",
       "      <th>2</th>\n",
       "      <th>0</th>\n",
       "      <td>SyllableClass(initial=True, final=True, conten...</td>\n",
       "      <td>sE</td>\n",
       "      <td>{\"born\": 1853, \"died\": 1912, \"name\": \"Vrchlick...</td>\n",
       "      <td>1875</td>\n",
       "      <td>P</td>\n",
       "      <td>W</td>\n",
       "      <td>se</td>\n",
       "    </tr>\n",
       "    <tr>\n",
       "      <th rowspan=\"4\" valign=\"top\">4</th>\n",
       "      <th>0</th>\n",
       "      <td>SyllableClass(initial=True, final=False, conte...</td>\n",
       "      <td>I</td>\n",
       "      <td>{\"born\": 1853, \"died\": 1912, \"name\": \"Vrchlick...</td>\n",
       "      <td>1875</td>\n",
       "      <td>X</td>\n",
       "      <td>S</td>\n",
       "      <td>immortelou</td>\n",
       "    </tr>\n",
       "    <tr>\n",
       "      <th>1</th>\n",
       "      <td>SyllableClass(initial=False, final=False, cont...</td>\n",
       "      <td>mo</td>\n",
       "      <td>{\"born\": 1853, \"died\": 1912, \"name\": \"Vrchlick...</td>\n",
       "      <td>1875</td>\n",
       "      <td>X</td>\n",
       "      <td>W</td>\n",
       "      <td>immortelou</td>\n",
       "    </tr>\n",
       "    <tr>\n",
       "      <th>2</th>\n",
       "      <td>SyllableClass(initial=False, final=False, cont...</td>\n",
       "      <td>rtE</td>\n",
       "      <td>{\"born\": 1853, \"died\": 1912, \"name\": \"Vrchlick...</td>\n",
       "      <td>1875</td>\n",
       "      <td>X</td>\n",
       "      <td>S</td>\n",
       "      <td>immortelou</td>\n",
       "    </tr>\n",
       "    <tr>\n",
       "      <th>3</th>\n",
       "      <td>SyllableClass(initial=False, final=True, conte...</td>\n",
       "      <td>lo_u</td>\n",
       "      <td>{\"born\": 1853, \"died\": 1912, \"name\": \"Vrchlick...</td>\n",
       "      <td>1875</td>\n",
       "      <td>X</td>\n",
       "      <td>W</td>\n",
       "      <td>immortelou</td>\n",
       "    </tr>\n",
       "  </tbody>\n",
       "</table>\n",
       "<p>2666295 rows × 7 columns</p>\n",
       "</div>"
      ],
      "text/plain": [
       "                                                                             Syllable class  \\\n",
       "Poem idx Line idx Token idx Syllable idx                                                      \n",
       "0        0        0         0             SyllableClass(initial=True, final=True, conten...   \n",
       "                  1         0             SyllableClass(initial=True, final=True, conten...   \n",
       "                  2         0             SyllableClass(initial=True, final=False, conte...   \n",
       "                            1             SyllableClass(initial=False, final=True, conte...   \n",
       "                  3         0             SyllableClass(initial=True, final=False, conte...   \n",
       "...                                                                                     ...   \n",
       "8600     31       2         0             SyllableClass(initial=True, final=True, conten...   \n",
       "                  4         0             SyllableClass(initial=True, final=False, conte...   \n",
       "                            1             SyllableClass(initial=False, final=False, cont...   \n",
       "                            2             SyllableClass(initial=False, final=False, cont...   \n",
       "                            3             SyllableClass(initial=False, final=True, conte...   \n",
       "\n",
       "                                         Sampa syllable  \\\n",
       "Poem idx Line idx Token idx Syllable idx                  \n",
       "0        0        0         0                        tI   \n",
       "                  1         0                       ma:   \n",
       "                  2         0                       ru:   \n",
       "                            1                        ZE   \n",
       "                  3         0                       tma   \n",
       "...                                                 ...   \n",
       "8600     31       2         0                        sE   \n",
       "                  4         0                         I   \n",
       "                            1                        mo   \n",
       "                            2                       rtE   \n",
       "                            3                      lo_u   \n",
       "\n",
       "                                                                                     Author  \\\n",
       "Poem idx Line idx Token idx Syllable idx                                                      \n",
       "0        0        0         0             {\"born\": 1835, \"died\": 1923, \"name\": \"Heyduk, ...   \n",
       "                  1         0             {\"born\": 1835, \"died\": 1923, \"name\": \"Heyduk, ...   \n",
       "                  2         0             {\"born\": 1835, \"died\": 1923, \"name\": \"Heyduk, ...   \n",
       "                            1             {\"born\": 1835, \"died\": 1923, \"name\": \"Heyduk, ...   \n",
       "                  3         0             {\"born\": 1835, \"died\": 1923, \"name\": \"Heyduk, ...   \n",
       "...                                                                                     ...   \n",
       "8600     31       2         0             {\"born\": 1853, \"died\": 1912, \"name\": \"Vrchlick...   \n",
       "                  4         0             {\"born\": 1853, \"died\": 1912, \"name\": \"Vrchlick...   \n",
       "                            1             {\"born\": 1853, \"died\": 1912, \"name\": \"Vrchlick...   \n",
       "                            2             {\"born\": 1853, \"died\": 1912, \"name\": \"Vrchlick...   \n",
       "                            3             {\"born\": 1853, \"died\": 1912, \"name\": \"Vrchlick...   \n",
       "\n",
       "                                          Year POS Metre pos       Lemma  \n",
       "Poem idx Line idx Token idx Syllable idx                                  \n",
       "0        0        0         0             1859   P         S         ten  \n",
       "                  1         0             1859   V         W         mít  \n",
       "                  2         0             1859   N         S        růže  \n",
       "                            1             1859   N         W        růže  \n",
       "                  3         0             1859   A         S       tmavý  \n",
       "...                                        ...  ..       ...         ...  \n",
       "8600     31       2         0             1875   P         W          se  \n",
       "                  4         0             1875   X         S  immortelou  \n",
       "                            1             1875   X         W  immortelou  \n",
       "                            2             1875   X         S  immortelou  \n",
       "                            3             1875   X         W  immortelou  \n",
       "\n",
       "[2666295 rows x 7 columns]"
      ]
     },
     "execution_count": 8,
     "metadata": {},
     "output_type": "execute_result"
    }
   ],
   "source": [
    "dev_df = get_df(dev_X, dev_y)\n",
    "dev_df"
   ]
  },
  {
   "cell_type": "code",
   "execution_count": 9,
   "metadata": {
    "pycharm": {
     "name": "#%%\n"
    }
   },
   "outputs": [
    {
     "name": "stdout",
     "output_type": "stream",
     "text": [
      "Data saved to dev_one_metre_all_metres_recognized.csv\n"
     ]
    }
   ],
   "source": [
    "csv_data_saver.save_data(dev_df, f\"dev{extension}\")"
   ]
  },
  {
   "cell_type": "code",
   "execution_count": 10,
   "metadata": {
    "pycharm": {
     "name": "#%%\n"
    }
   },
   "outputs": [
    {
     "name": "stdout",
     "output_type": "stream",
     "text": [
      "test_X_one_metre_all_metres_recognized.json: loaded 8601 records.\n",
      "test_y_one_metre_all_metres_recognized.json: loaded 8601 records.\n"
     ]
    }
   ],
   "source": [
    "test_X = json_data_loader.load_data(f\"test_X{extension}\")\n",
    "test_y = json_data_loader.load_data(f\"test_y{extension}\")"
   ]
  },
  {
   "cell_type": "code",
   "execution_count": 11,
   "metadata": {
    "pycharm": {
     "name": "#%%\n"
    }
   },
   "outputs": [
    {
     "data": {
      "text/html": [
       "<div>\n",
       "<style scoped>\n",
       "    .dataframe tbody tr th:only-of-type {\n",
       "        vertical-align: middle;\n",
       "    }\n",
       "\n",
       "    .dataframe tbody tr th {\n",
       "        vertical-align: top;\n",
       "    }\n",
       "\n",
       "    .dataframe thead th {\n",
       "        text-align: right;\n",
       "    }\n",
       "</style>\n",
       "<table border=\"1\" class=\"dataframe\">\n",
       "  <thead>\n",
       "    <tr style=\"text-align: right;\">\n",
       "      <th></th>\n",
       "      <th></th>\n",
       "      <th></th>\n",
       "      <th></th>\n",
       "      <th>Syllable class</th>\n",
       "      <th>Sampa syllable</th>\n",
       "      <th>Author</th>\n",
       "      <th>Year</th>\n",
       "      <th>POS</th>\n",
       "      <th>Metre pos</th>\n",
       "      <th>Lemma</th>\n",
       "    </tr>\n",
       "    <tr>\n",
       "      <th>Poem idx</th>\n",
       "      <th>Line idx</th>\n",
       "      <th>Token idx</th>\n",
       "      <th>Syllable idx</th>\n",
       "      <th></th>\n",
       "      <th></th>\n",
       "      <th></th>\n",
       "      <th></th>\n",
       "      <th></th>\n",
       "      <th></th>\n",
       "      <th></th>\n",
       "    </tr>\n",
       "  </thead>\n",
       "  <tbody>\n",
       "    <tr>\n",
       "      <th rowspan=\"5\" valign=\"top\">0</th>\n",
       "      <th rowspan=\"5\" valign=\"top\">0</th>\n",
       "      <th rowspan=\"4\" valign=\"top\">1</th>\n",
       "      <th>0</th>\n",
       "      <td>SyllableClass(initial=True, final=False, conte...</td>\n",
       "      <td>ka</td>\n",
       "      <td>{\"born\": 1881, \"died\": 1914, \"name\": \"Gellner,...</td>\n",
       "      <td>1901</td>\n",
       "      <td>N</td>\n",
       "      <td>W</td>\n",
       "      <td>kasematy</td>\n",
       "    </tr>\n",
       "    <tr>\n",
       "      <th>1</th>\n",
       "      <td>SyllableClass(initial=False, final=False, cont...</td>\n",
       "      <td>sE</td>\n",
       "      <td>{\"born\": 1881, \"died\": 1914, \"name\": \"Gellner,...</td>\n",
       "      <td>1901</td>\n",
       "      <td>N</td>\n",
       "      <td>S</td>\n",
       "      <td>kasematy</td>\n",
       "    </tr>\n",
       "    <tr>\n",
       "      <th>2</th>\n",
       "      <td>SyllableClass(initial=False, final=False, cont...</td>\n",
       "      <td>ma</td>\n",
       "      <td>{\"born\": 1881, \"died\": 1914, \"name\": \"Gellner,...</td>\n",
       "      <td>1901</td>\n",
       "      <td>N</td>\n",
       "      <td>W</td>\n",
       "      <td>kasematy</td>\n",
       "    </tr>\n",
       "    <tr>\n",
       "      <th>3</th>\n",
       "      <td>SyllableClass(initial=False, final=True, conte...</td>\n",
       "      <td>tI</td>\n",
       "      <td>{\"born\": 1881, \"died\": 1914, \"name\": \"Gellner,...</td>\n",
       "      <td>1901</td>\n",
       "      <td>N</td>\n",
       "      <td>S</td>\n",
       "      <td>kasematy</td>\n",
       "    </tr>\n",
       "    <tr>\n",
       "      <th>2</th>\n",
       "      <th>0</th>\n",
       "      <td>SyllableClass(initial=True, final=True, conten...</td>\n",
       "      <td>va:s</td>\n",
       "      <td>{\"born\": 1881, \"died\": 1914, \"name\": \"Gellner,...</td>\n",
       "      <td>1901</td>\n",
       "      <td>P</td>\n",
       "      <td>W</td>\n",
       "      <td>vy</td>\n",
       "    </tr>\n",
       "    <tr>\n",
       "      <th>...</th>\n",
       "      <th>...</th>\n",
       "      <th>...</th>\n",
       "      <th>...</th>\n",
       "      <td>...</td>\n",
       "      <td>...</td>\n",
       "      <td>...</td>\n",
       "      <td>...</td>\n",
       "      <td>...</td>\n",
       "      <td>...</td>\n",
       "      <td>...</td>\n",
       "    </tr>\n",
       "    <tr>\n",
       "      <th rowspan=\"5\" valign=\"top\">8600</th>\n",
       "      <th rowspan=\"5\" valign=\"top\">7</th>\n",
       "      <th>1</th>\n",
       "      <th>1</th>\n",
       "      <td>SyllableClass(initial=False, final=True, conte...</td>\n",
       "      <td>ZI</td>\n",
       "      <td>{\"born\": 1835, \"died\": 1923, \"name\": \"Heyduk, ...</td>\n",
       "      <td>1885</td>\n",
       "      <td>N</td>\n",
       "      <td>W</td>\n",
       "      <td>růže</td>\n",
       "    </tr>\n",
       "    <tr>\n",
       "      <th rowspan=\"3\" valign=\"top\">2</th>\n",
       "      <th>0</th>\n",
       "      <td>SyllableClass(initial=True, final=False, conte...</td>\n",
       "      <td>ro</td>\n",
       "      <td>{\"born\": 1835, \"died\": 1923, \"name\": \"Heyduk, ...</td>\n",
       "      <td>1885</td>\n",
       "      <td>V</td>\n",
       "      <td>S</td>\n",
       "      <td>rozvít</td>\n",
       "    </tr>\n",
       "    <tr>\n",
       "      <th>1</th>\n",
       "      <td>SyllableClass(initial=False, final=False, cont...</td>\n",
       "      <td>zvI</td>\n",
       "      <td>{\"born\": 1835, \"died\": 1923, \"name\": \"Heyduk, ...</td>\n",
       "      <td>1885</td>\n",
       "      <td>V</td>\n",
       "      <td>W</td>\n",
       "      <td>rozvít</td>\n",
       "    </tr>\n",
       "    <tr>\n",
       "      <th>2</th>\n",
       "      <td>SyllableClass(initial=False, final=True, conte...</td>\n",
       "      <td>jE</td>\n",
       "      <td>{\"born\": 1835, \"died\": 1923, \"name\": \"Heyduk, ...</td>\n",
       "      <td>1885</td>\n",
       "      <td>V</td>\n",
       "      <td>S</td>\n",
       "      <td>rozvít</td>\n",
       "    </tr>\n",
       "    <tr>\n",
       "      <th>3</th>\n",
       "      <th>0</th>\n",
       "      <td>SyllableClass(initial=True, final=True, conten...</td>\n",
       "      <td>sE</td>\n",
       "      <td>{\"born\": 1835, \"died\": 1923, \"name\": \"Heyduk, ...</td>\n",
       "      <td>1885</td>\n",
       "      <td>P</td>\n",
       "      <td>W</td>\n",
       "      <td>se</td>\n",
       "    </tr>\n",
       "  </tbody>\n",
       "</table>\n",
       "<p>2751680 rows × 7 columns</p>\n",
       "</div>"
      ],
      "text/plain": [
       "                                                                             Syllable class  \\\n",
       "Poem idx Line idx Token idx Syllable idx                                                      \n",
       "0        0        1         0             SyllableClass(initial=True, final=False, conte...   \n",
       "                            1             SyllableClass(initial=False, final=False, cont...   \n",
       "                            2             SyllableClass(initial=False, final=False, cont...   \n",
       "                            3             SyllableClass(initial=False, final=True, conte...   \n",
       "                  2         0             SyllableClass(initial=True, final=True, conten...   \n",
       "...                                                                                     ...   \n",
       "8600     7        1         1             SyllableClass(initial=False, final=True, conte...   \n",
       "                  2         0             SyllableClass(initial=True, final=False, conte...   \n",
       "                            1             SyllableClass(initial=False, final=False, cont...   \n",
       "                            2             SyllableClass(initial=False, final=True, conte...   \n",
       "                  3         0             SyllableClass(initial=True, final=True, conten...   \n",
       "\n",
       "                                         Sampa syllable  \\\n",
       "Poem idx Line idx Token idx Syllable idx                  \n",
       "0        0        1         0                        ka   \n",
       "                            1                        sE   \n",
       "                            2                        ma   \n",
       "                            3                        tI   \n",
       "                  2         0                      va:s   \n",
       "...                                                 ...   \n",
       "8600     7        1         1                        ZI   \n",
       "                  2         0                        ro   \n",
       "                            1                       zvI   \n",
       "                            2                        jE   \n",
       "                  3         0                        sE   \n",
       "\n",
       "                                                                                     Author  \\\n",
       "Poem idx Line idx Token idx Syllable idx                                                      \n",
       "0        0        1         0             {\"born\": 1881, \"died\": 1914, \"name\": \"Gellner,...   \n",
       "                            1             {\"born\": 1881, \"died\": 1914, \"name\": \"Gellner,...   \n",
       "                            2             {\"born\": 1881, \"died\": 1914, \"name\": \"Gellner,...   \n",
       "                            3             {\"born\": 1881, \"died\": 1914, \"name\": \"Gellner,...   \n",
       "                  2         0             {\"born\": 1881, \"died\": 1914, \"name\": \"Gellner,...   \n",
       "...                                                                                     ...   \n",
       "8600     7        1         1             {\"born\": 1835, \"died\": 1923, \"name\": \"Heyduk, ...   \n",
       "                  2         0             {\"born\": 1835, \"died\": 1923, \"name\": \"Heyduk, ...   \n",
       "                            1             {\"born\": 1835, \"died\": 1923, \"name\": \"Heyduk, ...   \n",
       "                            2             {\"born\": 1835, \"died\": 1923, \"name\": \"Heyduk, ...   \n",
       "                  3         0             {\"born\": 1835, \"died\": 1923, \"name\": \"Heyduk, ...   \n",
       "\n",
       "                                          Year POS Metre pos     Lemma  \n",
       "Poem idx Line idx Token idx Syllable idx                                \n",
       "0        0        1         0             1901   N         W  kasematy  \n",
       "                            1             1901   N         S  kasematy  \n",
       "                            2             1901   N         W  kasematy  \n",
       "                            3             1901   N         S  kasematy  \n",
       "                  2         0             1901   P         W        vy  \n",
       "...                                        ...  ..       ...       ...  \n",
       "8600     7        1         1             1885   N         W      růže  \n",
       "                  2         0             1885   V         S    rozvít  \n",
       "                            1             1885   V         W    rozvít  \n",
       "                            2             1885   V         S    rozvít  \n",
       "                  3         0             1885   P         W        se  \n",
       "\n",
       "[2751680 rows x 7 columns]"
      ]
     },
     "execution_count": 11,
     "metadata": {},
     "output_type": "execute_result"
    }
   ],
   "source": [
    "test_df = get_df(test_X, test_y)\n",
    "test_df"
   ]
  },
  {
   "cell_type": "code",
   "execution_count": 12,
   "metadata": {
    "pycharm": {
     "name": "#%%\n"
    }
   },
   "outputs": [
    {
     "name": "stdout",
     "output_type": "stream",
     "text": [
      "Data saved to test_one_metre_all_metres_recognized.csv\n"
     ]
    }
   ],
   "source": [
    "csv_data_saver.save_data(test_df, f\"test{extension}\")"
   ]
  },
  {
   "cell_type": "markdown",
   "metadata": {
    "pycharm": {
     "name": "#%% md\n"
    }
   },
   "source": [
    "## All lines just 1 metre, no unknown metres"
   ]
  },
  {
   "cell_type": "code",
   "execution_count": 6,
   "metadata": {
    "pycharm": {
     "name": "#%%\n"
    }
   },
   "outputs": [],
   "source": [
    "extension = \"_one_metre_line_all_metres_recognized\""
   ]
  },
  {
   "cell_type": "code",
   "execution_count": 5,
   "metadata": {
    "pycharm": {
     "name": "#%%\n"
    }
   },
   "outputs": [
    {
     "name": "stdout",
     "output_type": "stream",
     "text": [
      "train_X_one_metre_line_all_metres_recognized.json: loaded 41762 records.\n",
      "train_y_one_metre_line_all_metres_recognized.json: loaded 41762 records.\n"
     ]
    }
   ],
   "source": [
    "train_X = json_data_loader.load_data(f\"train_X{extension}\")\n",
    "train_y = json_data_loader.load_data(f\"train_y{extension}\")"
   ]
  },
  {
   "cell_type": "code",
   "execution_count": 6,
   "metadata": {
    "pycharm": {
     "name": "#%%\n"
    }
   },
   "outputs": [
    {
     "data": {
      "text/html": [
       "<div>\n",
       "<style scoped>\n",
       "    .dataframe tbody tr th:only-of-type {\n",
       "        vertical-align: middle;\n",
       "    }\n",
       "\n",
       "    .dataframe tbody tr th {\n",
       "        vertical-align: top;\n",
       "    }\n",
       "\n",
       "    .dataframe thead th {\n",
       "        text-align: right;\n",
       "    }\n",
       "</style>\n",
       "<table border=\"1\" class=\"dataframe\">\n",
       "  <thead>\n",
       "    <tr style=\"text-align: right;\">\n",
       "      <th></th>\n",
       "      <th></th>\n",
       "      <th></th>\n",
       "      <th></th>\n",
       "      <th>Syllable class</th>\n",
       "      <th>Sampa syllable</th>\n",
       "      <th>Author</th>\n",
       "      <th>Year</th>\n",
       "      <th>POS</th>\n",
       "      <th>Metre pos</th>\n",
       "      <th>Lemma</th>\n",
       "    </tr>\n",
       "    <tr>\n",
       "      <th>Poem idx</th>\n",
       "      <th>Line idx</th>\n",
       "      <th>Token idx</th>\n",
       "      <th>Syllable idx</th>\n",
       "      <th></th>\n",
       "      <th></th>\n",
       "      <th></th>\n",
       "      <th></th>\n",
       "      <th></th>\n",
       "      <th></th>\n",
       "      <th></th>\n",
       "    </tr>\n",
       "  </thead>\n",
       "  <tbody>\n",
       "    <tr>\n",
       "      <th rowspan=\"5\" valign=\"top\">0</th>\n",
       "      <th rowspan=\"5\" valign=\"top\">0</th>\n",
       "      <th>0</th>\n",
       "      <th>0</th>\n",
       "      <td>SyllableClass(initial=True, final=True, conten...</td>\n",
       "      <td>mu:j</td>\n",
       "      <td>{\"born\": 1845, \"died\": 1912, \"name\": \"Sl\\u00e1...</td>\n",
       "      <td>1907</td>\n",
       "      <td>P</td>\n",
       "      <td>S</td>\n",
       "      <td>můj</td>\n",
       "    </tr>\n",
       "    <tr>\n",
       "      <th rowspan=\"3\" valign=\"top\">1</th>\n",
       "      <th>0</th>\n",
       "      <td>SyllableClass(initial=True, final=False, conte...</td>\n",
       "      <td>ko</td>\n",
       "      <td>{\"born\": 1845, \"died\": 1912, \"name\": \"Sl\\u00e1...</td>\n",
       "      <td>1907</td>\n",
       "      <td>N</td>\n",
       "      <td>W</td>\n",
       "      <td>koníček</td>\n",
       "    </tr>\n",
       "    <tr>\n",
       "      <th>1</th>\n",
       "      <td>SyllableClass(initial=False, final=False, cont...</td>\n",
       "      <td>Ji:</td>\n",
       "      <td>{\"born\": 1845, \"died\": 1912, \"name\": \"Sl\\u00e1...</td>\n",
       "      <td>1907</td>\n",
       "      <td>N</td>\n",
       "      <td>S</td>\n",
       "      <td>koníček</td>\n",
       "    </tr>\n",
       "    <tr>\n",
       "      <th>2</th>\n",
       "      <td>SyllableClass(initial=False, final=True, conte...</td>\n",
       "      <td>t_SEk</td>\n",
       "      <td>{\"born\": 1845, \"died\": 1912, \"name\": \"Sl\\u00e1...</td>\n",
       "      <td>1907</td>\n",
       "      <td>N</td>\n",
       "      <td>W</td>\n",
       "      <td>koníček</td>\n",
       "    </tr>\n",
       "    <tr>\n",
       "      <th>2</th>\n",
       "      <th>0</th>\n",
       "      <td>SyllableClass(initial=True, final=False, conte...</td>\n",
       "      <td>vra</td>\n",
       "      <td>{\"born\": 1845, \"died\": 1912, \"name\": \"Sl\\u00e1...</td>\n",
       "      <td>1907</td>\n",
       "      <td>A</td>\n",
       "      <td>S</td>\n",
       "      <td>vraný</td>\n",
       "    </tr>\n",
       "    <tr>\n",
       "      <th>...</th>\n",
       "      <th>...</th>\n",
       "      <th>...</th>\n",
       "      <th>...</th>\n",
       "      <td>...</td>\n",
       "      <td>...</td>\n",
       "      <td>...</td>\n",
       "      <td>...</td>\n",
       "      <td>...</td>\n",
       "      <td>...</td>\n",
       "      <td>...</td>\n",
       "    </tr>\n",
       "    <tr>\n",
       "      <th rowspan=\"5\" valign=\"top\">41761</th>\n",
       "      <th rowspan=\"5\" valign=\"top\">3</th>\n",
       "      <th>4</th>\n",
       "      <th>0</th>\n",
       "      <td>SyllableClass(initial=True, final=True, conten...</td>\n",
       "      <td>t_SI</td>\n",
       "      <td>{\"born\": 1864, \"died\": 1942, \"name\": \"Machar, ...</td>\n",
       "      <td>1935</td>\n",
       "      <td>J</td>\n",
       "      <td>S</td>\n",
       "      <td>či</td>\n",
       "    </tr>\n",
       "    <tr>\n",
       "      <th>5</th>\n",
       "      <th>0</th>\n",
       "      <td>SyllableClass(initial=True, final=True, conten...</td>\n",
       "      <td>ZE</td>\n",
       "      <td>{\"born\": 1864, \"died\": 1942, \"name\": \"Machar, ...</td>\n",
       "      <td>1935</td>\n",
       "      <td>J</td>\n",
       "      <td>W</td>\n",
       "      <td>že</td>\n",
       "    </tr>\n",
       "    <tr>\n",
       "      <th>6</th>\n",
       "      <th>0</th>\n",
       "      <td>SyllableClass(initial=True, final=True, conten...</td>\n",
       "      <td>jsEm</td>\n",
       "      <td>{\"born\": 1864, \"died\": 1942, \"name\": \"Machar, ...</td>\n",
       "      <td>1935</td>\n",
       "      <td>V</td>\n",
       "      <td>S</td>\n",
       "      <td>být</td>\n",
       "    </tr>\n",
       "    <tr>\n",
       "      <th>7</th>\n",
       "      <th>0</th>\n",
       "      <td>SyllableClass(initial=True, final=True, conten...</td>\n",
       "      <td>P\\Ek</td>\n",
       "      <td>{\"born\": 1864, \"died\": 1942, \"name\": \"Machar, ...</td>\n",
       "      <td>1935</td>\n",
       "      <td>V</td>\n",
       "      <td>W</td>\n",
       "      <td>říci</td>\n",
       "    </tr>\n",
       "    <tr>\n",
       "      <th>8</th>\n",
       "      <th>0</th>\n",
       "      <td>SyllableClass(initial=True, final=True, conten...</td>\n",
       "      <td>nE</td>\n",
       "      <td>{\"born\": 1864, \"died\": 1942, \"name\": \"Machar, ...</td>\n",
       "      <td>1935</td>\n",
       "      <td>T</td>\n",
       "      <td>S</td>\n",
       "      <td>ne</td>\n",
       "    </tr>\n",
       "  </tbody>\n",
       "</table>\n",
       "<p>13408524 rows × 7 columns</p>\n",
       "</div>"
      ],
      "text/plain": [
       "                                                                             Syllable class  \\\n",
       "Poem idx Line idx Token idx Syllable idx                                                      \n",
       "0        0        0         0             SyllableClass(initial=True, final=True, conten...   \n",
       "                  1         0             SyllableClass(initial=True, final=False, conte...   \n",
       "                            1             SyllableClass(initial=False, final=False, cont...   \n",
       "                            2             SyllableClass(initial=False, final=True, conte...   \n",
       "                  2         0             SyllableClass(initial=True, final=False, conte...   \n",
       "...                                                                                     ...   \n",
       "41761    3        4         0             SyllableClass(initial=True, final=True, conten...   \n",
       "                  5         0             SyllableClass(initial=True, final=True, conten...   \n",
       "                  6         0             SyllableClass(initial=True, final=True, conten...   \n",
       "                  7         0             SyllableClass(initial=True, final=True, conten...   \n",
       "                  8         0             SyllableClass(initial=True, final=True, conten...   \n",
       "\n",
       "                                         Sampa syllable  \\\n",
       "Poem idx Line idx Token idx Syllable idx                  \n",
       "0        0        0         0                      mu:j   \n",
       "                  1         0                        ko   \n",
       "                            1                       Ji:   \n",
       "                            2                     t_SEk   \n",
       "                  2         0                       vra   \n",
       "...                                                 ...   \n",
       "41761    3        4         0                      t_SI   \n",
       "                  5         0                        ZE   \n",
       "                  6         0                      jsEm   \n",
       "                  7         0                      P\\Ek   \n",
       "                  8         0                        nE   \n",
       "\n",
       "                                                                                     Author  \\\n",
       "Poem idx Line idx Token idx Syllable idx                                                      \n",
       "0        0        0         0             {\"born\": 1845, \"died\": 1912, \"name\": \"Sl\\u00e1...   \n",
       "                  1         0             {\"born\": 1845, \"died\": 1912, \"name\": \"Sl\\u00e1...   \n",
       "                            1             {\"born\": 1845, \"died\": 1912, \"name\": \"Sl\\u00e1...   \n",
       "                            2             {\"born\": 1845, \"died\": 1912, \"name\": \"Sl\\u00e1...   \n",
       "                  2         0             {\"born\": 1845, \"died\": 1912, \"name\": \"Sl\\u00e1...   \n",
       "...                                                                                     ...   \n",
       "41761    3        4         0             {\"born\": 1864, \"died\": 1942, \"name\": \"Machar, ...   \n",
       "                  5         0             {\"born\": 1864, \"died\": 1942, \"name\": \"Machar, ...   \n",
       "                  6         0             {\"born\": 1864, \"died\": 1942, \"name\": \"Machar, ...   \n",
       "                  7         0             {\"born\": 1864, \"died\": 1942, \"name\": \"Machar, ...   \n",
       "                  8         0             {\"born\": 1864, \"died\": 1942, \"name\": \"Machar, ...   \n",
       "\n",
       "                                          Year POS Metre pos    Lemma  \n",
       "Poem idx Line idx Token idx Syllable idx                               \n",
       "0        0        0         0             1907   P         S      můj  \n",
       "                  1         0             1907   N         W  koníček  \n",
       "                            1             1907   N         S  koníček  \n",
       "                            2             1907   N         W  koníček  \n",
       "                  2         0             1907   A         S    vraný  \n",
       "...                                        ...  ..       ...      ...  \n",
       "41761    3        4         0             1935   J         S       či  \n",
       "                  5         0             1935   J         W       že  \n",
       "                  6         0             1935   V         S      být  \n",
       "                  7         0             1935   V         W     říci  \n",
       "                  8         0             1935   T         S       ne  \n",
       "\n",
       "[13408524 rows x 7 columns]"
      ]
     },
     "execution_count": 6,
     "metadata": {},
     "output_type": "execute_result"
    }
   ],
   "source": [
    "train_df = get_df(train_X, train_y)\n",
    "train_df"
   ]
  },
  {
   "cell_type": "code",
   "execution_count": 7,
   "metadata": {
    "pycharm": {
     "name": "#%%\n"
    }
   },
   "outputs": [
    {
     "name": "stdout",
     "output_type": "stream",
     "text": [
      "Data saved to train_one_metre_line_all_metres_recognized.csv\n"
     ]
    }
   ],
   "source": [
    "csv_data_saver.save_data(train_df, f\"train{extension}\")"
   ]
  },
  {
   "cell_type": "code",
   "execution_count": 7,
   "metadata": {
    "pycharm": {
     "name": "#%%\n"
    }
   },
   "outputs": [
    {
     "name": "stdout",
     "output_type": "stream",
     "text": [
      "dev_X_one_metre_line_all_metres_recognized.json: loaded 8949 records.\n",
      "dev_y_one_metre_line_all_metres_recognized.json: loaded 8949 records.\n"
     ]
    }
   ],
   "source": [
    "dev_X = json_data_loader.load_data(f\"dev_X{extension}\")\n",
    "dev_y = json_data_loader.load_data(f\"dev_y{extension}\")"
   ]
  },
  {
   "cell_type": "code",
   "execution_count": 8,
   "metadata": {
    "pycharm": {
     "name": "#%%\n"
    }
   },
   "outputs": [
    {
     "data": {
      "text/html": [
       "<div>\n",
       "<style scoped>\n",
       "    .dataframe tbody tr th:only-of-type {\n",
       "        vertical-align: middle;\n",
       "    }\n",
       "\n",
       "    .dataframe tbody tr th {\n",
       "        vertical-align: top;\n",
       "    }\n",
       "\n",
       "    .dataframe thead th {\n",
       "        text-align: right;\n",
       "    }\n",
       "</style>\n",
       "<table border=\"1\" class=\"dataframe\">\n",
       "  <thead>\n",
       "    <tr style=\"text-align: right;\">\n",
       "      <th></th>\n",
       "      <th></th>\n",
       "      <th></th>\n",
       "      <th></th>\n",
       "      <th>Syllable class</th>\n",
       "      <th>Sampa syllable</th>\n",
       "      <th>Author</th>\n",
       "      <th>Year</th>\n",
       "      <th>POS</th>\n",
       "      <th>Metre pos</th>\n",
       "      <th>Lemma</th>\n",
       "    </tr>\n",
       "    <tr>\n",
       "      <th>Poem idx</th>\n",
       "      <th>Line idx</th>\n",
       "      <th>Token idx</th>\n",
       "      <th>Syllable idx</th>\n",
       "      <th></th>\n",
       "      <th></th>\n",
       "      <th></th>\n",
       "      <th></th>\n",
       "      <th></th>\n",
       "      <th></th>\n",
       "      <th></th>\n",
       "    </tr>\n",
       "  </thead>\n",
       "  <tbody>\n",
       "    <tr>\n",
       "      <th rowspan=\"5\" valign=\"top\">0</th>\n",
       "      <th rowspan=\"5\" valign=\"top\">0</th>\n",
       "      <th>0</th>\n",
       "      <th>0</th>\n",
       "      <td>SyllableClass(initial=True, final=True, conten...</td>\n",
       "      <td>t_sos</td>\n",
       "      <td>{\"born\": 1860, \"died\": 1939, \"name\": \"Haasz, J...</td>\n",
       "      <td>1918.0</td>\n",
       "      <td>X</td>\n",
       "      <td>W</td>\n",
       "      <td>Co´s</td>\n",
       "    </tr>\n",
       "    <tr>\n",
       "      <th rowspan=\"2\" valign=\"top\">1</th>\n",
       "      <th>0</th>\n",
       "      <td>SyllableClass(initial=True, final=False, conte...</td>\n",
       "      <td>bo</td>\n",
       "      <td>{\"born\": 1860, \"died\": 1939, \"name\": \"Haasz, J...</td>\n",
       "      <td>1918.0</td>\n",
       "      <td>N</td>\n",
       "      <td>S</td>\n",
       "      <td>bůh</td>\n",
       "    </tr>\n",
       "    <tr>\n",
       "      <th>1</th>\n",
       "      <td>SyllableClass(initial=False, final=True, conte...</td>\n",
       "      <td>ZE</td>\n",
       "      <td>{\"born\": 1860, \"died\": 1939, \"name\": \"Haasz, J...</td>\n",
       "      <td>1918.0</td>\n",
       "      <td>N</td>\n",
       "      <td>W</td>\n",
       "      <td>bůh</td>\n",
       "    </tr>\n",
       "    <tr>\n",
       "      <th rowspan=\"2\" valign=\"top\">2</th>\n",
       "      <th>0</th>\n",
       "      <td>SyllableClass(initial=True, final=False, conte...</td>\n",
       "      <td>kvjE</td>\n",
       "      <td>{\"born\": 1860, \"died\": 1939, \"name\": \"Haasz, J...</td>\n",
       "      <td>1918.0</td>\n",
       "      <td>N</td>\n",
       "      <td>S</td>\n",
       "      <td>květ</td>\n",
       "    </tr>\n",
       "    <tr>\n",
       "      <th>1</th>\n",
       "      <td>SyllableClass(initial=False, final=True, conte...</td>\n",
       "      <td>tu:</td>\n",
       "      <td>{\"born\": 1860, \"died\": 1939, \"name\": \"Haasz, J...</td>\n",
       "      <td>1918.0</td>\n",
       "      <td>N</td>\n",
       "      <td>W</td>\n",
       "      <td>květ</td>\n",
       "    </tr>\n",
       "    <tr>\n",
       "      <th>...</th>\n",
       "      <th>...</th>\n",
       "      <th>...</th>\n",
       "      <th>...</th>\n",
       "      <td>...</td>\n",
       "      <td>...</td>\n",
       "      <td>...</td>\n",
       "      <td>...</td>\n",
       "      <td>...</td>\n",
       "      <td>...</td>\n",
       "      <td>...</td>\n",
       "    </tr>\n",
       "    <tr>\n",
       "      <th rowspan=\"5\" valign=\"top\">8948</th>\n",
       "      <th rowspan=\"5\" valign=\"top\">10</th>\n",
       "      <th rowspan=\"2\" valign=\"top\">3</th>\n",
       "      <th>1</th>\n",
       "      <td>SyllableClass(initial=False, final=False, cont...</td>\n",
       "      <td>ltu</td>\n",
       "      <td>{\"born\": 1833, \"died\": 1875, \"name\": \"Pfleger ...</td>\n",
       "      <td>1859.0</td>\n",
       "      <td>N</td>\n",
       "      <td>W</td>\n",
       "      <td>kultura</td>\n",
       "    </tr>\n",
       "    <tr>\n",
       "      <th>2</th>\n",
       "      <td>SyllableClass(initial=False, final=True, conte...</td>\n",
       "      <td>rI</td>\n",
       "      <td>{\"born\": 1833, \"died\": 1875, \"name\": \"Pfleger ...</td>\n",
       "      <td>1859.0</td>\n",
       "      <td>N</td>\n",
       "      <td>S</td>\n",
       "      <td>kultura</td>\n",
       "    </tr>\n",
       "    <tr>\n",
       "      <th>4</th>\n",
       "      <th>0</th>\n",
       "      <td>SyllableClass(initial=True, final=True, conten...</td>\n",
       "      <td>zdE</td>\n",
       "      <td>{\"born\": 1833, \"died\": 1875, \"name\": \"Pfleger ...</td>\n",
       "      <td>1859.0</td>\n",
       "      <td>D</td>\n",
       "      <td>W</td>\n",
       "      <td>zde</td>\n",
       "    </tr>\n",
       "    <tr>\n",
       "      <th rowspan=\"2\" valign=\"top\">5</th>\n",
       "      <th>0</th>\n",
       "      <td>SyllableClass(initial=True, final=False, conte...</td>\n",
       "      <td>fsto_u</td>\n",
       "      <td>{\"born\": 1833, \"died\": 1875, \"name\": \"Pfleger ...</td>\n",
       "      <td>1859.0</td>\n",
       "      <td>V</td>\n",
       "      <td>S</td>\n",
       "      <td>vstoupit</td>\n",
       "    </tr>\n",
       "    <tr>\n",
       "      <th>1</th>\n",
       "      <td>SyllableClass(initial=False, final=True, conte...</td>\n",
       "      <td>pi:</td>\n",
       "      <td>{\"born\": 1833, \"died\": 1875, \"name\": \"Pfleger ...</td>\n",
       "      <td>1859.0</td>\n",
       "      <td>V</td>\n",
       "      <td>W</td>\n",
       "      <td>vstoupit</td>\n",
       "    </tr>\n",
       "  </tbody>\n",
       "</table>\n",
       "<p>2965332 rows × 7 columns</p>\n",
       "</div>"
      ],
      "text/plain": [
       "                                                                             Syllable class  \\\n",
       "Poem idx Line idx Token idx Syllable idx                                                      \n",
       "0        0        0         0             SyllableClass(initial=True, final=True, conten...   \n",
       "                  1         0             SyllableClass(initial=True, final=False, conte...   \n",
       "                            1             SyllableClass(initial=False, final=True, conte...   \n",
       "                  2         0             SyllableClass(initial=True, final=False, conte...   \n",
       "                            1             SyllableClass(initial=False, final=True, conte...   \n",
       "...                                                                                     ...   \n",
       "8948     10       3         1             SyllableClass(initial=False, final=False, cont...   \n",
       "                            2             SyllableClass(initial=False, final=True, conte...   \n",
       "                  4         0             SyllableClass(initial=True, final=True, conten...   \n",
       "                  5         0             SyllableClass(initial=True, final=False, conte...   \n",
       "                            1             SyllableClass(initial=False, final=True, conte...   \n",
       "\n",
       "                                         Sampa syllable  \\\n",
       "Poem idx Line idx Token idx Syllable idx                  \n",
       "0        0        0         0                     t_sos   \n",
       "                  1         0                        bo   \n",
       "                            1                        ZE   \n",
       "                  2         0                      kvjE   \n",
       "                            1                       tu:   \n",
       "...                                                 ...   \n",
       "8948     10       3         1                       ltu   \n",
       "                            2                        rI   \n",
       "                  4         0                       zdE   \n",
       "                  5         0                    fsto_u   \n",
       "                            1                       pi:   \n",
       "\n",
       "                                                                                     Author  \\\n",
       "Poem idx Line idx Token idx Syllable idx                                                      \n",
       "0        0        0         0             {\"born\": 1860, \"died\": 1939, \"name\": \"Haasz, J...   \n",
       "                  1         0             {\"born\": 1860, \"died\": 1939, \"name\": \"Haasz, J...   \n",
       "                            1             {\"born\": 1860, \"died\": 1939, \"name\": \"Haasz, J...   \n",
       "                  2         0             {\"born\": 1860, \"died\": 1939, \"name\": \"Haasz, J...   \n",
       "                            1             {\"born\": 1860, \"died\": 1939, \"name\": \"Haasz, J...   \n",
       "...                                                                                     ...   \n",
       "8948     10       3         1             {\"born\": 1833, \"died\": 1875, \"name\": \"Pfleger ...   \n",
       "                            2             {\"born\": 1833, \"died\": 1875, \"name\": \"Pfleger ...   \n",
       "                  4         0             {\"born\": 1833, \"died\": 1875, \"name\": \"Pfleger ...   \n",
       "                  5         0             {\"born\": 1833, \"died\": 1875, \"name\": \"Pfleger ...   \n",
       "                            1             {\"born\": 1833, \"died\": 1875, \"name\": \"Pfleger ...   \n",
       "\n",
       "                                            Year POS Metre pos     Lemma  \n",
       "Poem idx Line idx Token idx Syllable idx                                  \n",
       "0        0        0         0             1918.0   X         W      Co´s  \n",
       "                  1         0             1918.0   N         S       bůh  \n",
       "                            1             1918.0   N         W       bůh  \n",
       "                  2         0             1918.0   N         S      květ  \n",
       "                            1             1918.0   N         W      květ  \n",
       "...                                          ...  ..       ...       ...  \n",
       "8948     10       3         1             1859.0   N         W   kultura  \n",
       "                            2             1859.0   N         S   kultura  \n",
       "                  4         0             1859.0   D         W       zde  \n",
       "                  5         0             1859.0   V         S  vstoupit  \n",
       "                            1             1859.0   V         W  vstoupit  \n",
       "\n",
       "[2965332 rows x 7 columns]"
      ]
     },
     "execution_count": 8,
     "metadata": {},
     "output_type": "execute_result"
    }
   ],
   "source": [
    "dev_df = get_df(dev_X, dev_y)\n",
    "dev_df"
   ]
  },
  {
   "cell_type": "code",
   "execution_count": 9,
   "metadata": {
    "pycharm": {
     "name": "#%%\n"
    }
   },
   "outputs": [
    {
     "name": "stdout",
     "output_type": "stream",
     "text": [
      "Data saved to dev_one_metre_line_all_metres_recognized.csv\n"
     ]
    }
   ],
   "source": [
    "csv_data_saver.save_data(dev_df, f\"dev{extension}\")"
   ]
  },
  {
   "cell_type": "code",
   "execution_count": 10,
   "metadata": {
    "pycharm": {
     "name": "#%%\n"
    }
   },
   "outputs": [
    {
     "name": "stdout",
     "output_type": "stream",
     "text": [
      "test_X_one_metre_line_all_metres_recognized.json: loaded 8950 records.\n",
      "test_y_one_metre_line_all_metres_recognized.json: loaded 8950 records.\n"
     ]
    }
   ],
   "source": [
    "test_X = json_data_loader.load_data(f\"test_X{extension}\")\n",
    "test_y = json_data_loader.load_data(f\"test_y{extension}\")"
   ]
  },
  {
   "cell_type": "code",
   "execution_count": 11,
   "metadata": {
    "pycharm": {
     "name": "#%%\n"
    }
   },
   "outputs": [
    {
     "data": {
      "text/html": [
       "<div>\n",
       "<style scoped>\n",
       "    .dataframe tbody tr th:only-of-type {\n",
       "        vertical-align: middle;\n",
       "    }\n",
       "\n",
       "    .dataframe tbody tr th {\n",
       "        vertical-align: top;\n",
       "    }\n",
       "\n",
       "    .dataframe thead th {\n",
       "        text-align: right;\n",
       "    }\n",
       "</style>\n",
       "<table border=\"1\" class=\"dataframe\">\n",
       "  <thead>\n",
       "    <tr style=\"text-align: right;\">\n",
       "      <th></th>\n",
       "      <th></th>\n",
       "      <th></th>\n",
       "      <th></th>\n",
       "      <th>Syllable class</th>\n",
       "      <th>Sampa syllable</th>\n",
       "      <th>Author</th>\n",
       "      <th>Year</th>\n",
       "      <th>POS</th>\n",
       "      <th>Metre pos</th>\n",
       "      <th>Lemma</th>\n",
       "    </tr>\n",
       "    <tr>\n",
       "      <th>Poem idx</th>\n",
       "      <th>Line idx</th>\n",
       "      <th>Token idx</th>\n",
       "      <th>Syllable idx</th>\n",
       "      <th></th>\n",
       "      <th></th>\n",
       "      <th></th>\n",
       "      <th></th>\n",
       "      <th></th>\n",
       "      <th></th>\n",
       "      <th></th>\n",
       "    </tr>\n",
       "  </thead>\n",
       "  <tbody>\n",
       "    <tr>\n",
       "      <th rowspan=\"5\" valign=\"top\">0</th>\n",
       "      <th rowspan=\"5\" valign=\"top\">0</th>\n",
       "      <th>0</th>\n",
       "      <th>0</th>\n",
       "      <td>SyllableClass(initial=True, final=True, conten...</td>\n",
       "      <td>t_so</td>\n",
       "      <td>{\"born\": 1855, \"died\": 1934, \"name\": \"Kalus, J...</td>\n",
       "      <td>1882</td>\n",
       "      <td>P</td>\n",
       "      <td>S</td>\n",
       "      <td>co</td>\n",
       "    </tr>\n",
       "    <tr>\n",
       "      <th>1</th>\n",
       "      <th>0</th>\n",
       "      <td>SyllableClass(initial=True, final=True, conten...</td>\n",
       "      <td>sE</td>\n",
       "      <td>{\"born\": 1855, \"died\": 1934, \"name\": \"Kalus, J...</td>\n",
       "      <td>1882</td>\n",
       "      <td>P</td>\n",
       "      <td>W</td>\n",
       "      <td>se</td>\n",
       "    </tr>\n",
       "    <tr>\n",
       "      <th rowspan=\"2\" valign=\"top\">2</th>\n",
       "      <th>0</th>\n",
       "      <td>SyllableClass(initial=True, final=False, conte...</td>\n",
       "      <td>ma</td>\n",
       "      <td>{\"born\": 1855, \"died\": 1934, \"name\": \"Kalus, J...</td>\n",
       "      <td>1882</td>\n",
       "      <td>N</td>\n",
       "      <td>S</td>\n",
       "      <td>matka</td>\n",
       "    </tr>\n",
       "    <tr>\n",
       "      <th>1</th>\n",
       "      <td>SyllableClass(initial=False, final=True, conte...</td>\n",
       "      <td>tka</td>\n",
       "      <td>{\"born\": 1855, \"died\": 1934, \"name\": \"Kalus, J...</td>\n",
       "      <td>1882</td>\n",
       "      <td>N</td>\n",
       "      <td>W</td>\n",
       "      <td>matka</td>\n",
       "    </tr>\n",
       "    <tr>\n",
       "      <th>3</th>\n",
       "      <th>0</th>\n",
       "      <td>SyllableClass(initial=True, final=False, conte...</td>\n",
       "      <td>nE</td>\n",
       "      <td>{\"born\": 1855, \"died\": 1934, \"name\": \"Kalus, J...</td>\n",
       "      <td>1882</td>\n",
       "      <td>V</td>\n",
       "      <td>S</td>\n",
       "      <td>starat</td>\n",
       "    </tr>\n",
       "    <tr>\n",
       "      <th>...</th>\n",
       "      <th>...</th>\n",
       "      <th>...</th>\n",
       "      <th>...</th>\n",
       "      <td>...</td>\n",
       "      <td>...</td>\n",
       "      <td>...</td>\n",
       "      <td>...</td>\n",
       "      <td>...</td>\n",
       "      <td>...</td>\n",
       "      <td>...</td>\n",
       "    </tr>\n",
       "    <tr>\n",
       "      <th rowspan=\"5\" valign=\"top\">8949</th>\n",
       "      <th rowspan=\"5\" valign=\"top\">33</th>\n",
       "      <th rowspan=\"2\" valign=\"top\">3</th>\n",
       "      <th>0</th>\n",
       "      <td>SyllableClass(initial=True, final=False, conte...</td>\n",
       "      <td>mo</td>\n",
       "      <td>{\"born\": 1857, \"died\": 1937, \"name\": \"Kysel\\u0...</td>\n",
       "      <td>1923</td>\n",
       "      <td>V</td>\n",
       "      <td>S</td>\n",
       "      <td>moci</td>\n",
       "    </tr>\n",
       "    <tr>\n",
       "      <th>1</th>\n",
       "      <td>SyllableClass(initial=False, final=True, conte...</td>\n",
       "      <td>h\\l=</td>\n",
       "      <td>{\"born\": 1857, \"died\": 1937, \"name\": \"Kysel\\u0...</td>\n",
       "      <td>1923</td>\n",
       "      <td>V</td>\n",
       "      <td>W</td>\n",
       "      <td>moci</td>\n",
       "    </tr>\n",
       "    <tr>\n",
       "      <th rowspan=\"2\" valign=\"top\">4</th>\n",
       "      <th>0</th>\n",
       "      <td>SyllableClass(initial=True, final=False, conte...</td>\n",
       "      <td>tva:</td>\n",
       "      <td>{\"born\": 1857, \"died\": 1937, \"name\": \"Kysel\\u0...</td>\n",
       "      <td>1923</td>\n",
       "      <td>N</td>\n",
       "      <td>S</td>\n",
       "      <td>tvář</td>\n",
       "    </tr>\n",
       "    <tr>\n",
       "      <th>1</th>\n",
       "      <td>SyllableClass(initial=False, final=True, conte...</td>\n",
       "      <td>P\\i:</td>\n",
       "      <td>{\"born\": 1857, \"died\": 1937, \"name\": \"Kysel\\u0...</td>\n",
       "      <td>1923</td>\n",
       "      <td>N</td>\n",
       "      <td>W</td>\n",
       "      <td>tvář</td>\n",
       "    </tr>\n",
       "    <tr>\n",
       "      <th>6</th>\n",
       "      <th>0</th>\n",
       "      <td>SyllableClass(initial=True, final=True, conten...</td>\n",
       "      <td>tva:P\\</td>\n",
       "      <td>{\"born\": 1857, \"died\": 1937, \"name\": \"Kysel\\u0...</td>\n",
       "      <td>1923</td>\n",
       "      <td>N</td>\n",
       "      <td>S</td>\n",
       "      <td>tvář</td>\n",
       "    </tr>\n",
       "  </tbody>\n",
       "</table>\n",
       "<p>2820008 rows × 7 columns</p>\n",
       "</div>"
      ],
      "text/plain": [
       "                                                                             Syllable class  \\\n",
       "Poem idx Line idx Token idx Syllable idx                                                      \n",
       "0        0        0         0             SyllableClass(initial=True, final=True, conten...   \n",
       "                  1         0             SyllableClass(initial=True, final=True, conten...   \n",
       "                  2         0             SyllableClass(initial=True, final=False, conte...   \n",
       "                            1             SyllableClass(initial=False, final=True, conte...   \n",
       "                  3         0             SyllableClass(initial=True, final=False, conte...   \n",
       "...                                                                                     ...   \n",
       "8949     33       3         0             SyllableClass(initial=True, final=False, conte...   \n",
       "                            1             SyllableClass(initial=False, final=True, conte...   \n",
       "                  4         0             SyllableClass(initial=True, final=False, conte...   \n",
       "                            1             SyllableClass(initial=False, final=True, conte...   \n",
       "                  6         0             SyllableClass(initial=True, final=True, conten...   \n",
       "\n",
       "                                         Sampa syllable  \\\n",
       "Poem idx Line idx Token idx Syllable idx                  \n",
       "0        0        0         0                      t_so   \n",
       "                  1         0                        sE   \n",
       "                  2         0                        ma   \n",
       "                            1                       tka   \n",
       "                  3         0                        nE   \n",
       "...                                                 ...   \n",
       "8949     33       3         0                        mo   \n",
       "                            1                      h\\l=   \n",
       "                  4         0                      tva:   \n",
       "                            1                      P\\i:   \n",
       "                  6         0                    tva:P\\   \n",
       "\n",
       "                                                                                     Author  \\\n",
       "Poem idx Line idx Token idx Syllable idx                                                      \n",
       "0        0        0         0             {\"born\": 1855, \"died\": 1934, \"name\": \"Kalus, J...   \n",
       "                  1         0             {\"born\": 1855, \"died\": 1934, \"name\": \"Kalus, J...   \n",
       "                  2         0             {\"born\": 1855, \"died\": 1934, \"name\": \"Kalus, J...   \n",
       "                            1             {\"born\": 1855, \"died\": 1934, \"name\": \"Kalus, J...   \n",
       "                  3         0             {\"born\": 1855, \"died\": 1934, \"name\": \"Kalus, J...   \n",
       "...                                                                                     ...   \n",
       "8949     33       3         0             {\"born\": 1857, \"died\": 1937, \"name\": \"Kysel\\u0...   \n",
       "                            1             {\"born\": 1857, \"died\": 1937, \"name\": \"Kysel\\u0...   \n",
       "                  4         0             {\"born\": 1857, \"died\": 1937, \"name\": \"Kysel\\u0...   \n",
       "                            1             {\"born\": 1857, \"died\": 1937, \"name\": \"Kysel\\u0...   \n",
       "                  6         0             {\"born\": 1857, \"died\": 1937, \"name\": \"Kysel\\u0...   \n",
       "\n",
       "                                          Year POS Metre pos   Lemma  \n",
       "Poem idx Line idx Token idx Syllable idx                              \n",
       "0        0        0         0             1882   P         S      co  \n",
       "                  1         0             1882   P         W      se  \n",
       "                  2         0             1882   N         S   matka  \n",
       "                            1             1882   N         W   matka  \n",
       "                  3         0             1882   V         S  starat  \n",
       "...                                        ...  ..       ...     ...  \n",
       "8949     33       3         0             1923   V         S    moci  \n",
       "                            1             1923   V         W    moci  \n",
       "                  4         0             1923   N         S    tvář  \n",
       "                            1             1923   N         W    tvář  \n",
       "                  6         0             1923   N         S    tvář  \n",
       "\n",
       "[2820008 rows x 7 columns]"
      ]
     },
     "execution_count": 11,
     "metadata": {},
     "output_type": "execute_result"
    }
   ],
   "source": [
    "test_df = get_df(test_X, test_y)\n",
    "test_df"
   ]
  },
  {
   "cell_type": "code",
   "execution_count": 12,
   "metadata": {
    "pycharm": {
     "name": "#%%\n"
    }
   },
   "outputs": [
    {
     "name": "stdout",
     "output_type": "stream",
     "text": [
      "Data saved to test_one_metre_line_all_metres_recognized.csv\n"
     ]
    }
   ],
   "source": [
    "csv_data_saver.save_data(test_df, f\"test{extension}\")"
   ]
  }
 ],
 "metadata": {
  "kernelspec": {
   "display_name": "Python 3 (ipykernel)",
   "language": "python",
   "name": "python3"
  },
  "language_info": {
   "codemirror_mode": {
    "name": "ipython",
    "version": 3
   },
   "file_extension": ".py",
   "mimetype": "text/x-python",
   "name": "python",
   "nbconvert_exporter": "python",
   "pygments_lexer": "ipython3",
   "version": "3.8.10"
  }
 },
 "nbformat": 4,
 "nbformat_minor": 1
}
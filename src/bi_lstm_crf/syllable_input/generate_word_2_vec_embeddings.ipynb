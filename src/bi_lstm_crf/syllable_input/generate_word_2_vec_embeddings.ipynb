{
 "cells": [
  {
   "cell_type": "markdown",
   "source": [
    "# Generate Word2Vec embeddings for X-SAMPA syllables"
   ],
   "metadata": {
    "collapsed": false,
    "pycharm": {
     "name": "#%% md\n"
    }
   }
  },
  {
   "cell_type": "code",
   "execution_count": 1,
   "outputs": [],
   "source": [
    "%load_ext dotenv\n",
    "%dotenv\n",
    "import os\n",
    "\n",
    "base_dir = os.getenv(\"WORKING_DIR\")\n",
    "os.chdir(base_dir)"
   ],
   "metadata": {
    "collapsed": false,
    "pycharm": {
     "name": "#%%\n"
    }
   }
  },
  {
   "cell_type": "code",
   "execution_count": 2,
   "outputs": [],
   "source": [
    "from src.data_loader_and_saver import JSONDataLoaderAndSaver\n",
    "\n",
    "data_loader = JSONDataLoaderAndSaver(base_dir, input_data_dir=\"src/data\")"
   ],
   "metadata": {
    "collapsed": false,
    "pycharm": {
     "name": "#%%\n"
    }
   }
  },
  {
   "cell_type": "code",
   "execution_count": 3,
   "outputs": [],
   "source": [
    "from src.bi_lstm_crf.embeddings_saver import EmbeddingsSaver\n",
    "\n",
    "embeddings_saver = EmbeddingsSaver(\"sampa_syllables\", base_dir, \"src/bi_lstm_crf/embeddings\")"
   ],
   "metadata": {
    "collapsed": false,
    "pycharm": {
     "name": "#%%\n"
    }
   }
  },
  {
   "cell_type": "code",
   "execution_count": 4,
   "metadata": {
    "pycharm": {
     "name": "#%%\n"
    }
   },
   "outputs": [],
   "source": [
    "from src.kveta.sampa_syllable_parser import SampaSyllableParser\n",
    "\n",
    "sampa_parser = SampaSyllableParser()"
   ]
  },
  {
   "cell_type": "code",
   "execution_count": 5,
   "outputs": [],
   "source": [
    "from gensim.models import Word2Vec"
   ],
   "metadata": {
    "collapsed": false,
    "pycharm": {
     "name": "#%%\n"
    }
   }
  },
  {
   "cell_type": "markdown",
   "metadata": {
    "pycharm": {
     "name": "#%% md\n"
    }
   },
   "source": [
    "## All poems just 1 metre, no unknown metres"
   ]
  },
  {
   "cell_type": "code",
   "execution_count": 6,
   "metadata": {
    "pycharm": {
     "name": "#%%\n"
    }
   },
   "outputs": [],
   "source": [
    "extension = \"_one_metre_all_metres_recognized\""
   ]
  },
  {
   "cell_type": "code",
   "execution_count": 7,
   "metadata": {
    "pycharm": {
     "name": "#%%\n"
    }
   },
   "outputs": [
    {
     "name": "stdout",
     "output_type": "stream",
     "text": [
      "train_sampa_tokens_one_metre_all_metres_recognized.json: loaded 40137 records.\n"
     ]
    },
    {
     "data": {
      "text/plain": "[['tEc', 't_so', 'sE', 'h\\\\roznI', 'zlatEm', 'zaskvi:vaji:'],\n ['na', 'za:h\\\\onEx', 'sE', 'astrI', 'usmi:vaji:'],\n ['pP\\\\I', 'pl=nE:', 't_Si:SI', 'v', 'dobrE:m', 'rozmaru'],\n ['sI', 'do', 'kola', 'drux', 'z', 'druh\\\\Em', 'zaspi:vaji:'],\n ['o', 'kra:sni:x', 'J\\\\i:fka:x', 'ktErE:', 'kokEtJE'],\n ['vjEji:P\\\\Em', 'JadEr', 'vl=nu', 'ukri:vaji:'],\n ['o', 'zlati:x', 'slatki:x', 't_SasEx', 'mladoscI'],\n ['jES', 'nEli:tostJE', 's', 'la:sko_u', 'upli:vaji:'],\n ['o', 'polIpt_si:x', 'jIxS', 'sta:lE', 'mi:J', 'a', 'mi:J'],\n ['jES', 'jako', 'pr=vJi:', 'slatkE:', 'nEbi:vaji:'],\n ['o', 'rukavIt_Ska:x', 'stuSka:x', 'kadEP\\\\i:x'],\n ['jES', 'f', 'skP\\\\i:nka:x', 's', 'lIstI', 'la:skI', 'sEtli:vaji:'],\n ['o', 'vlasEx', 'proP\\\\i:dli:x', 'gdIs', 'tmavi:x', 'tEc'],\n ['jES', 'stP\\\\i:br=no_u', 'sE', 'vl=no_u', 'zaxvi:vaji:'],\n ['o', 'pi:sJi:x', 'ktErE:', 'f', 'sklonu', 'mladoscI'],\n ['tak', 'vEsElE:', 'juS', 'notI', 'nEmi:vaji:'],\n ['o', 'fSEm', 't_so', 'vadnE', 'lItski:x', 'losu:', 'h\\\\ro_u'],\n ['nat', 't_Si:m', 'sE', 'ot_SI', 'sl=zo_u', 'zatmi:vaji:'],\n ['fSak', 'nat', 'troskamI', 'slatki:x', 'h\\\\P\\\\i:t_SEk', 'cEx'],\n ['t_Si:S', 'pl=no_u', 'tEpr=f', 'pra:zdJIt', 'umi:vaji:']]"
     },
     "execution_count": 7,
     "metadata": {},
     "output_type": "execute_result"
    }
   ],
   "source": [
    "sampa_tokens = data_loader.load_data(f\"train_sampa_tokens{extension}\")\n",
    "sampa_tokens[0]"
   ]
  },
  {
   "cell_type": "code",
   "execution_count": 8,
   "metadata": {
    "pycharm": {
     "name": "#%%\n"
    }
   },
   "outputs": [
    {
     "data": {
      "text/plain": "['tEc', 't_so', 'sE', 'h\\\\roznI', 'zlatEm', 'zaskvi:vaji:']"
     },
     "execution_count": 8,
     "metadata": {},
     "output_type": "execute_result"
    }
   ],
   "source": [
    "sampa_tokens = [line for poem in sampa_tokens for line in poem]\n",
    "sampa_tokens[0]"
   ]
  },
  {
   "cell_type": "code",
   "execution_count": 9,
   "metadata": {
    "pycharm": {
     "name": "#%%\n"
    }
   },
   "outputs": [
    {
     "data": {
      "text/plain": "1323119"
     },
     "execution_count": 9,
     "metadata": {},
     "output_type": "execute_result"
    }
   ],
   "source": [
    "len(sampa_tokens)"
   ]
  },
  {
   "cell_type": "code",
   "execution_count": 10,
   "metadata": {
    "pycharm": {
     "name": "#%%\n"
    }
   },
   "outputs": [
    {
     "data": {
      "text/plain": "['tEc', 't_so', 'sE', 'h\\\\ro', 'znI', 'zla', 'tEm', 'za', 'skvi:', 'va', 'ji:']"
     },
     "execution_count": 10,
     "metadata": {},
     "output_type": "execute_result"
    }
   ],
   "source": [
    "sentences = [[syll for sampa_token in line for syll in sampa_parser.get_syllables(sampa_token)] for line in sampa_tokens]\n",
    "sentences[0]"
   ]
  },
  {
   "cell_type": "code",
   "execution_count": 11,
   "metadata": {
    "pycharm": {
     "name": "#%%\n"
    }
   },
   "outputs": [
    {
     "data": {
      "text/plain": "1323119"
     },
     "execution_count": 11,
     "metadata": {},
     "output_type": "execute_result"
    }
   ],
   "source": [
    "len(sentences)"
   ]
  },
  {
   "cell_type": "code",
   "execution_count": 12,
   "metadata": {
    "pycharm": {
     "name": "#%%\n"
    }
   },
   "outputs": [],
   "source": [
    "model = Word2Vec(sentences=sentences, vector_size=100, window=5, min_count=1, workers=4)"
   ]
  },
  {
   "cell_type": "code",
   "execution_count": 13,
   "outputs": [
    {
     "data": {
      "text/plain": "[('sJi:P\\\\', 0.8218221068382263),\n ('sJEx', 0.6744515895843506),\n ('sJIt', 0.6575213074684143),\n ('zlIf', 0.6558831930160522),\n ('sJi:', 0.5904481410980225),\n ('sEJ', 0.5803896188735962),\n ('SES', 0.5532275438308716),\n ('smEn', 0.5508992671966553),\n ('smEx', 0.5405819416046143),\n ('smEm', 0.533706545829773)]"
     },
     "execution_count": 13,
     "metadata": {},
     "output_type": "execute_result"
    }
   ],
   "source": [
    "model.wv.most_similar(\"sJi:k\", topn=10)"
   ],
   "metadata": {
    "collapsed": false,
    "pycharm": {
     "name": "#%%\n"
    }
   }
  },
  {
   "cell_type": "code",
   "execution_count": 14,
   "metadata": {
    "pycharm": {
     "name": "#%%\n"
    }
   },
   "outputs": [
    {
     "data": {
      "text/plain": "['a', 'sE', 'jE', 'nE', 'o', 'na', 'po', 'lI', 'h\\\\o', 'lE']"
     },
     "execution_count": 14,
     "metadata": {},
     "output_type": "execute_result"
    }
   ],
   "source": [
    "vocab = model.wv.index_to_key\n",
    "vocab[:10]"
   ]
  },
  {
   "cell_type": "code",
   "execution_count": 15,
   "metadata": {
    "pycharm": {
     "name": "#%%\n"
    }
   },
   "outputs": [
    {
     "data": {
      "text/plain": "17197"
     },
     "execution_count": 15,
     "metadata": {},
     "output_type": "execute_result"
    }
   ],
   "source": [
    "len(vocab)"
   ]
  },
  {
   "cell_type": "code",
   "execution_count": 16,
   "outputs": [
    {
     "name": "stdout",
     "output_type": "stream",
     "text": [
      "Embeddings saved to embeddings_sampa_syllables_one_metre_all_metres_recognized.gz\n"
     ]
    }
   ],
   "source": [
    "embeddings_saver.save_embeddings(model, vocab, extension)"
   ],
   "metadata": {
    "collapsed": false,
    "pycharm": {
     "name": "#%%\n"
    }
   }
  },
  {
   "cell_type": "markdown",
   "source": [
    "## All lines just 1 metre, no unknown metres"
   ],
   "metadata": {
    "collapsed": false
   }
  },
  {
   "cell_type": "code",
   "execution_count": 31,
   "outputs": [],
   "source": [
    "extension = \"_one_metre_line_all_metres_recognized\""
   ],
   "metadata": {
    "collapsed": false,
    "pycharm": {
     "name": "#%%\n"
    }
   }
  },
  {
   "cell_type": "code",
   "execution_count": 32,
   "outputs": [
    {
     "name": "stdout",
     "output_type": "stream",
     "text": [
      "train_sampa_tokens_one_metre_line_all_metres_recognized.json: loaded 41762 records.\n"
     ]
    },
    {
     "data": {
      "text/plain": "[['mu:j', 'koJi:t_SEk', 'vrani:'],\n ['jako', 'malovani:'],\n ['h\\\\opsa', 'h\\\\Ejsa', 'h\\\\Ej'],\n ['noSkI', 'pjEknE:', 'zdvi:h\\\\a:'],\n ['uSIma', 'sI', 'stP\\\\i:h\\\\a:'],\n ['h\\\\opsa', 'h\\\\Ejsa', 'h\\\\Ej'],\n ['dlo_uh\\\\a:', 't_SErna:', 'h\\\\P\\\\i:va'],\n ['po', 'vjEtru', 'mu', 'spli:va:'],\n ['h\\\\opsa', 'h\\\\Ejsa', 'h\\\\Ej'],\n ['potkofkI', 'mu', 'zvoJi:'],\n ['jIskra', 'jIskru', 'h\\\\oJi:'],\n ['h\\\\opsa', 'h\\\\Ejsa', 'h\\\\Ej'],\n ['mu:j', 'koJi:t_Sku', 'vrani:'],\n ['jako', 'malovani:'],\n ['h\\\\opsa', 'h\\\\Ejsa', 'h\\\\Ej'],\n ['aS', 'cE', 'osEdla:mE'],\n ['kam', 'sE', 'poJ\\\\i:va:mE'],\n ['h\\\\opsa', 'h\\\\Ejsa', 'h\\\\Ej'],\n ['rozjEdEm', 'sE', 'f', 'polI'],\n ['pP\\\\Ez', 'h\\\\orI', 'a', 'dolI'],\n ['h\\\\opsa', 'h\\\\Ejsa', 'h\\\\Ej'],\n ['rozjEdEm', 'sE', 'lEtEm'],\n ['SIroSIri:m', 'svjEtEm'],\n ['h\\\\opsa', 'h\\\\Ejsa', 'h\\\\Ej'],\n ['ZEc', 'sE', 'rozjEdEmE'],\n ['kam', 'sE', 'rozjEt', 'xt_sEmE'],\n ['h\\\\opsa', 'h\\\\Ejsa', 'h\\\\Ej'],\n ['tak', 'mu:j', 'vrani:', 'koJI'],\n ['ac', 'sI', 'na:s', 'gdo', 'h\\\\oJi:'],\n ['h\\\\opsa', 'h\\\\Ejsa', 'h\\\\Ej']]"
     },
     "execution_count": 32,
     "metadata": {},
     "output_type": "execute_result"
    }
   ],
   "source": [
    "sampa_tokens = data_loader.load_data(f\"train_sampa_tokens{extension}\")\n",
    "sampa_tokens[0]"
   ],
   "metadata": {
    "collapsed": false,
    "pycharm": {
     "name": "#%%\n"
    }
   }
  },
  {
   "cell_type": "code",
   "execution_count": 33,
   "outputs": [
    {
     "data": {
      "text/plain": "['mu:j', 'koJi:t_SEk', 'vrani:']"
     },
     "execution_count": 33,
     "metadata": {},
     "output_type": "execute_result"
    }
   ],
   "source": [
    "sampa_tokens = [line for poem in sampa_tokens for line in poem]\n",
    "sampa_tokens[0]"
   ],
   "metadata": {
    "collapsed": false,
    "pycharm": {
     "name": "#%%\n"
    }
   }
  },
  {
   "cell_type": "code",
   "execution_count": 34,
   "outputs": [
    {
     "data": {
      "text/plain": "1434187"
     },
     "execution_count": 34,
     "metadata": {},
     "output_type": "execute_result"
    }
   ],
   "source": [
    "len(sampa_tokens)"
   ],
   "metadata": {
    "collapsed": false,
    "pycharm": {
     "name": "#%%\n"
    }
   }
  },
  {
   "cell_type": "code",
   "execution_count": 35,
   "outputs": [
    {
     "data": {
      "text/plain": "['mu:j', 'ko', 'Ji:', 't_SEk', 'vra', 'ni:']"
     },
     "execution_count": 35,
     "metadata": {},
     "output_type": "execute_result"
    }
   ],
   "source": [
    "sentences = [[syll for sampa_token in line for syll in sampa_parser.get_syllables(sampa_token)] for line in sampa_tokens]\n",
    "sentences[0]"
   ],
   "metadata": {
    "collapsed": false,
    "pycharm": {
     "name": "#%%\n"
    }
   }
  },
  {
   "cell_type": "code",
   "execution_count": 36,
   "outputs": [
    {
     "data": {
      "text/plain": "1434187"
     },
     "execution_count": 36,
     "metadata": {},
     "output_type": "execute_result"
    }
   ],
   "source": [
    "len(sentences)"
   ],
   "metadata": {
    "collapsed": false,
    "pycharm": {
     "name": "#%%\n"
    }
   }
  },
  {
   "cell_type": "code",
   "execution_count": 37,
   "outputs": [],
   "source": [
    "model = Word2Vec(sentences=sentences, vector_size=100, window=5, min_count=1, workers=4)"
   ],
   "metadata": {
    "collapsed": false,
    "pycharm": {
     "name": "#%%\n"
    }
   }
  },
  {
   "cell_type": "code",
   "execution_count": 38,
   "outputs": [
    {
     "data": {
      "text/plain": "array([-1.2578778 ,  0.7765036 , -1.719597  , -0.8721979 ,  1.4351071 ,\n        0.4534164 , -1.2066792 , -1.435556  ,  2.0679584 ,  0.11561677,\n       -0.39317933,  0.57331127, -1.1125889 ,  0.7042801 ,  1.8864619 ,\n       -1.6707833 ,  0.24268824,  0.7571237 ,  0.60766494,  0.23893344,\n        1.282776  , -0.4417474 ,  0.7752723 , -2.246198  , -0.9891198 ,\n       -2.548064  , -1.8823848 , -0.8477542 , -1.4762535 ,  0.5680849 ,\n       -1.3101867 , -0.3506459 ,  0.43943116, -1.7477374 , -0.50576264,\n       -0.7006718 , -1.7652946 , -2.8245993 ,  0.4906584 , -2.2424204 ,\n        0.06671168, -1.2228371 ,  1.4229977 , -0.7655375 ,  0.22899467,\n        1.1292756 , -0.19747517, -1.2078893 ,  2.1079013 ,  1.7278663 ,\n       -0.07951596, -1.7949287 , -0.5174524 ,  1.0209321 , -0.54930687,\n       -2.8948164 , -1.9857851 ,  3.2667851 , -0.38583663,  0.8674617 ,\n       -2.2349408 ,  2.192388  ,  0.23176646, -1.437929  ,  0.69532174,\n        1.1353384 ,  0.83849496,  3.7022793 , -0.9401905 , -1.222049  ,\n        0.07637231,  1.5466421 ,  0.18685071, -0.6542319 , -1.9980615 ,\n        1.060862  , -0.24867792,  0.66939324,  3.947623  ,  0.3619805 ,\n       -0.3774561 ,  0.03144541, -0.25783125,  1.2913387 , -2.064198  ,\n        0.23442025, -1.3118428 , -0.06722305, -0.7735823 , -1.1687638 ,\n        0.88811177,  1.0107601 ,  1.9775606 , -3.0785754 ,  1.3999332 ,\n       -0.07516924, -1.9383488 ,  0.2237076 ,  0.21484092,  1.131058  ],\n      dtype=float32)"
     },
     "execution_count": 38,
     "metadata": {},
     "output_type": "execute_result"
    }
   ],
   "source": [
    "model.wv[\"sJi:k\"]"
   ],
   "metadata": {
    "collapsed": false,
    "pycharm": {
     "name": "#%%\n"
    }
   }
  },
  {
   "cell_type": "code",
   "execution_count": 39,
   "outputs": [
    {
     "data": {
      "text/plain": "[('sJi:P\\\\', 0.8067282438278198),\n ('zlIf', 0.7727611064910889),\n ('sJIt', 0.7053767442703247),\n ('sJEx', 0.6722691059112549),\n ('SES', 0.6415119171142578),\n ('smEx', 0.6143134832382202),\n ('sEJ', 0.6060691475868225),\n ('sJi:', 0.5881050229072571),\n ('sma:k', 0.5839481949806213),\n ('smEn', 0.5685071349143982)]"
     },
     "execution_count": 39,
     "metadata": {},
     "output_type": "execute_result"
    }
   ],
   "source": [
    "model.wv.most_similar(\"sJi:k\", topn=10)"
   ],
   "metadata": {
    "collapsed": false,
    "pycharm": {
     "name": "#%%\n"
    }
   }
  },
  {
   "cell_type": "code",
   "execution_count": 40,
   "outputs": [
    {
     "data": {
      "text/plain": "['a', 'sE', 'jE', 'nE', 'o', 'na', 'po', 'lI', 'h\\\\o', 'lE']"
     },
     "execution_count": 40,
     "metadata": {},
     "output_type": "execute_result"
    }
   ],
   "source": [
    "vocab = model.wv.index_to_key\n",
    "vocab[:10]"
   ],
   "metadata": {
    "collapsed": false,
    "pycharm": {
     "name": "#%%\n"
    }
   }
  },
  {
   "cell_type": "code",
   "execution_count": 41,
   "outputs": [
    {
     "data": {
      "text/plain": "17589"
     },
     "execution_count": 41,
     "metadata": {},
     "output_type": "execute_result"
    }
   ],
   "source": [
    "len(vocab)"
   ],
   "metadata": {
    "collapsed": false,
    "pycharm": {
     "name": "#%%\n"
    }
   }
  },
  {
   "cell_type": "code",
   "execution_count": 42,
   "metadata": {
    "pycharm": {
     "name": "#%%\n"
    }
   },
   "outputs": [
    {
     "name": "stdout",
     "output_type": "stream",
     "text": [
      "Embeddings saved to embeddings_sampa_syllables_one_metre_line_all_metres_recognized.gz\n"
     ]
    }
   ],
   "source": [
    "embeddings_saver.save_embeddings(model, vocab, extension)"
   ]
  }
 ],
 "metadata": {
  "kernelspec": {
   "display_name": "Python 3 (ipykernel)",
   "language": "python",
   "name": "python3"
  },
  "language_info": {
   "codemirror_mode": {
    "name": "ipython",
    "version": 3
   },
   "file_extension": ".py",
   "mimetype": "text/x-python",
   "name": "python",
   "nbconvert_exporter": "python",
   "pygments_lexer": "ipython3",
   "version": "3.8.10"
  }
 },
 "nbformat": 4,
 "nbformat_minor": 1
}
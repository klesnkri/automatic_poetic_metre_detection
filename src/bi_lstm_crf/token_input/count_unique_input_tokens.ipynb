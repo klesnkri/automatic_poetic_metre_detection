{
 "cells": [
  {
   "cell_type": "markdown",
   "source": [
    "# Count unique tokens"
   ],
   "metadata": {
    "collapsed": false,
    "pycharm": {
     "name": "#%% md\n"
    }
   }
  },
  {
   "cell_type": "code",
   "execution_count": 3,
   "outputs": [
    {
     "name": "stdout",
     "output_type": "stream",
     "text": [
      "The dotenv extension is already loaded. To reload it, use:\n",
      "  %reload_ext dotenv\n"
     ]
    }
   ],
   "source": [
    "%load_ext dotenv\n",
    "%dotenv\n",
    "import os\n",
    "\n",
    "base_dir = os.getenv(\"WORKING_DIR\")\n",
    "os.chdir(base_dir)"
   ],
   "metadata": {
    "collapsed": false,
    "pycharm": {
     "name": "#%%\n"
    }
   }
  },
  {
   "cell_type": "code",
   "execution_count": 4,
   "metadata": {
    "pycharm": {
     "name": "#%%\n"
    }
   },
   "outputs": [],
   "source": [
    "from src.data_loader_and_saver import JSONDataLoaderAndSaver\n",
    "\n",
    "data_loader = JSONDataLoaderAndSaver(base_dir, input_data_dir=\"src/data\")"
   ]
  },
  {
   "cell_type": "markdown",
   "metadata": {
    "pycharm": {
     "name": "#%% md\n"
    }
   },
   "source": [
    "## All poems just 1 metre, no unknown metres"
   ]
  },
  {
   "cell_type": "code",
   "execution_count": 6,
   "metadata": {
    "pycharm": {
     "name": "#%%\n"
    }
   },
   "outputs": [],
   "source": [
    "extension = \"_one_metre_all_metres_recognized\""
   ]
  },
  {
   "cell_type": "code",
   "execution_count": 7,
   "metadata": {
    "pycharm": {
     "name": "#%%\n"
    }
   },
   "outputs": [
    {
     "name": "stdout",
     "output_type": "stream",
     "text": [
      "train_tokens_one_metre_all_metres_recognized.json: loaded 40137 records.\n"
     ]
    },
    {
     "data": {
      "text/plain": "[['teď', 'co', 'se', 'hrozny', 'zlatem', 'zaskvívají'],\n ['na', 'záhonech', 'se', 'astry', 'usmívají'],\n ['při', 'plné', 'číši', 'v', 'dobrém', 'rozmaru'],\n ['si', 'do', 'kola', 'druh', 's', 'druhem', 'zazpívají'],\n ['o', 'krásných', 'dívkách', 'které', 'koketně'],\n ['vějířem', 'ňader', 'vlnu', 'ukrývají'],\n ['o', 'zlatých', 'sladkých', 'časech', 'mladosti'],\n ['jež', 'nelítostně', 's', 'láskou', 'uplývají'],\n ['o', 'polibcích', 'jichž', 'stále', 'míň', 'a', 'míň'],\n ['jež', 'jako', 'první', 'sladké', 'nebývají'],\n ['o', 'rukavičkách', 'stužkách', 'kadeřích'],\n ['jež', 'v', 'skřínkách', 's', 'listy', 'lásky', 'setlívají'],\n ['o', 'vlasech', 'prořídlých', 'kdys', 'tmavých', 'teď'],\n ['jež', 'stříbrnou', 'se', 'vlnou', 'zachvívají'],\n ['o', 'písních', 'které', 'v', 'sklonu', 'mladosti'],\n ['tak', 'veselé', 'juž', 'noty', 'nemívají'],\n ['o', 'všem', 'co', 'vadne', 'lidských', 'losů', 'hrou'],\n ['nad', 'čím', 'se', 'oči', 'slzou', 'zatmívají'],\n ['však', 'nad', 'troskami', 'sladkých', 'hříček', 'těch'],\n ['číš', 'plnou', 'teprv', 'prázdnit', 'umívají']]"
     },
     "execution_count": 7,
     "metadata": {},
     "output_type": "execute_result"
    }
   ],
   "source": [
    "tokens = data_loader.load_data(f\"train_tokens{extension}\")\n",
    "tokens[0]"
   ]
  },
  {
   "cell_type": "code",
   "execution_count": 8,
   "metadata": {
    "pycharm": {
     "name": "#%%\n"
    }
   },
   "outputs": [
    {
     "data": {
      "text/plain": "['teď',\n 'co',\n 'se',\n 'hrozny',\n 'zlatem',\n 'zaskvívají',\n 'na',\n 'záhonech',\n 'se',\n 'astry']"
     },
     "execution_count": 8,
     "metadata": {},
     "output_type": "execute_result"
    }
   ],
   "source": [
    "tokens = [token for poem in tokens for line in poem for token in line]\n",
    "tokens[:10]"
   ]
  },
  {
   "cell_type": "code",
   "execution_count": 9,
   "metadata": {
    "pycharm": {
     "name": "#%%\n"
    }
   },
   "outputs": [
    {
     "data": {
      "text/plain": "7240855"
     },
     "execution_count": 9,
     "metadata": {},
     "output_type": "execute_result"
    }
   ],
   "source": [
    "len(tokens)"
   ]
  },
  {
   "cell_type": "code",
   "execution_count": 10,
   "metadata": {
    "pycharm": {
     "name": "#%%\n"
    }
   },
   "outputs": [
    {
     "data": {
      "text/plain": "279392"
     },
     "execution_count": 10,
     "metadata": {},
     "output_type": "execute_result"
    }
   ],
   "source": [
    "unique_tokens = set(tokens)\n",
    "len(unique_tokens)"
   ]
  },
  {
   "cell_type": "markdown",
   "metadata": {
    "pycharm": {
     "name": "#%% md\n"
    }
   },
   "source": [
    "## All lines just 1 metre, no unknown metres"
   ]
  },
  {
   "cell_type": "code",
   "execution_count": 11,
   "metadata": {
    "pycharm": {
     "name": "#%%\n"
    }
   },
   "outputs": [],
   "source": [
    "extension = \"_one_metre_line_all_metres_recognized\""
   ]
  },
  {
   "cell_type": "code",
   "execution_count": 12,
   "metadata": {
    "pycharm": {
     "name": "#%%\n"
    }
   },
   "outputs": [
    {
     "name": "stdout",
     "output_type": "stream",
     "text": [
      "train_tokens_one_metre_line_all_metres_recognized.json: loaded 41762 records.\n"
     ]
    },
    {
     "data": {
      "text/plain": "[['můj', 'koníček', 'vraný'],\n ['jako', 'malovaný'],\n ['hopsa', 'hejsa', 'hej'],\n ['nožky', 'pěkné', 'zdvíhá'],\n ['ušima', 'si', 'stříhá'],\n ['hopsa', 'hejsa', 'hej'],\n ['dlouhá', 'černá', 'hříva'],\n ['po', 'větru', 'mu', 'splývá'],\n ['hopsa', 'hejsa', 'hej'],\n ['podkovky', 'mu', 'zvoní'],\n ['jiskra', 'jiskru', 'honí'],\n ['hopsa', 'hejsa', 'hej'],\n ['můj', 'koníčku', 'vraný'],\n ['jako', 'malovaný'],\n ['hopsa', 'hejsa', 'hej'],\n ['až', 'tě', 'osedláme'],\n ['kam', 'se', 'podíváme'],\n ['hopsa', 'hejsa', 'hej'],\n ['rozjedem', 'se', 'v', 'poli'],\n ['přes', 'hory', 'a', 'doly'],\n ['hopsa', 'hejsa', 'hej'],\n ['rozjedem', 'se', 'letem'],\n ['široširým', 'světem'],\n ['hopsa', 'hejsa', 'hej'],\n ['žeť', 'se', 'rozjedeme'],\n ['kam', 'se', 'rozjet', 'chceme'],\n ['hopsa', 'hejsa', 'hej'],\n ['tak', 'můj', 'vraný', 'koni'],\n ['ať', 'si', 'nás', 'kdo', 'honí'],\n ['hopsa', 'hejsa', 'hej']]"
     },
     "execution_count": 12,
     "metadata": {},
     "output_type": "execute_result"
    }
   ],
   "source": [
    "tokens = data_loader.load_data(f\"train_tokens{extension}\")\n",
    "tokens[0]"
   ]
  },
  {
   "cell_type": "code",
   "execution_count": 13,
   "metadata": {
    "pycharm": {
     "name": "#%%\n"
    }
   },
   "outputs": [
    {
     "data": {
      "text/plain": "['můj',\n 'koníček',\n 'vraný',\n 'jako',\n 'malovaný',\n 'hopsa',\n 'hejsa',\n 'hej',\n 'nožky',\n 'pěkné']"
     },
     "execution_count": 13,
     "metadata": {},
     "output_type": "execute_result"
    }
   ],
   "source": [
    "tokens = [token for poem in tokens for line in poem for token in line]\n",
    "tokens[:10]"
   ]
  },
  {
   "cell_type": "code",
   "execution_count": 14,
   "metadata": {
    "pycharm": {
     "name": "#%%\n"
    }
   },
   "outputs": [
    {
     "data": {
      "text/plain": "7823727"
     },
     "execution_count": 14,
     "metadata": {},
     "output_type": "execute_result"
    }
   ],
   "source": [
    "len(tokens)"
   ]
  },
  {
   "cell_type": "code",
   "execution_count": 15,
   "metadata": {
    "pycharm": {
     "name": "#%%\n"
    }
   },
   "outputs": [
    {
     "data": {
      "text/plain": "292659"
     },
     "execution_count": 15,
     "metadata": {},
     "output_type": "execute_result"
    }
   ],
   "source": [
    "unique_tokens = set(tokens)\n",
    "len(unique_tokens)"
   ]
  }
 ],
 "metadata": {
  "kernelspec": {
   "display_name": "Python 3 (ipykernel)",
   "language": "python",
   "name": "python3"
  },
  "language_info": {
   "codemirror_mode": {
    "name": "ipython",
    "version": 3
   },
   "file_extension": ".py",
   "mimetype": "text/x-python",
   "name": "python",
   "nbconvert_exporter": "python",
   "pygments_lexer": "ipython3",
   "version": "3.8.10"
  }
 },
 "nbformat": 4,
 "nbformat_minor": 1
}
{
 "cells": [
  {
   "cell_type": "markdown",
   "source": [
    "# Create token input CoNLL datasets for the BiLSTM-CRF model"
   ],
   "metadata": {
    "collapsed": false,
    "pycharm": {
     "name": "#%% md\n"
    }
   }
  },
  {
   "cell_type": "code",
   "execution_count": 1,
   "outputs": [],
   "source": [
    "%load_ext dotenv\n",
    "%dotenv\n",
    "import os\n",
    "\n",
    "base_dir = os.getenv(\"WORKING_DIR\")\n",
    "os.chdir(base_dir)"
   ],
   "metadata": {
    "collapsed": false,
    "pycharm": {
     "name": "#%%\n"
    }
   }
  },
  {
   "cell_type": "code",
   "execution_count": 2,
   "metadata": {
    "pycharm": {
     "name": "#%%\n"
    }
   },
   "outputs": [],
   "source": [
    "from src.data_loader_and_saver import CSVDataLoaderAndSaver\n",
    "\n",
    "data_loader = CSVDataLoaderAndSaver(base_dir, input_data_dir=\"src/bi_lstm_crf/token_input/data\", index_cols=[\"Poem idx\", \"Line idx\", \"Token idx\"])"
   ]
  },
  {
   "cell_type": "code",
   "execution_count": 3,
   "metadata": {
    "pycharm": {
     "name": "#%%\n"
    }
   },
   "outputs": [],
   "source": [
    "from src.bi_lstm_crf.conll_data_saver import CoNLLDataSaver"
   ]
  },
  {
   "cell_type": "markdown",
   "metadata": {
    "pycharm": {
     "name": "#%% md\n"
    }
   },
   "source": [
    "## All poems just 1 metre, no unknown metres"
   ]
  },
  {
   "cell_type": "code",
   "execution_count": 4,
   "metadata": {
    "pycharm": {
     "name": "#%%\n"
    }
   },
   "outputs": [],
   "source": [
    "extension = \"_one_metre_all_metres_recognized\""
   ]
  },
  {
   "cell_type": "code",
   "execution_count": 5,
   "metadata": {
    "pycharm": {
     "name": "#%%\n"
    }
   },
   "outputs": [],
   "source": [
    "conll_saver = CoNLLDataSaver(base_dir, f\"resources/emnlp2017-bilstm-cnn-crf/data/ccv_tokens{extension}\")"
   ]
  },
  {
   "cell_type": "code",
   "execution_count": 6,
   "metadata": {
    "pycharm": {
     "name": "#%%\n"
    }
   },
   "outputs": [
    {
     "name": "stdout",
     "output_type": "stream",
     "text": [
      "train_one_metre_all_metres_recognized.csv: loaded 7240855 records.\n",
      "dev_one_metre_all_metres_recognized.csv: loaded 1554844 records.\n",
      "test_one_metre_all_metres_recognized.csv: loaded 1606108 records.\n"
     ]
    }
   ],
   "source": [
    "train_df, dev_df, test_df = data_loader.load_all_data(extension)"
   ]
  },
  {
   "cell_type": "code",
   "execution_count": 7,
   "metadata": {
    "pycharm": {
     "name": "#%%\n"
    }
   },
   "outputs": [
    {
     "name": "stdout",
     "output_type": "stream",
     "text": [
      "CoNLL dataset saved to train.txt\n",
      "CoNLL dataset saved to dev.txt\n",
      "CoNLL dataset saved to test.txt\n"
     ]
    }
   ],
   "source": [
    "conll_saver.save_all_data(train_df, dev_df, test_df)"
   ]
  },
  {
   "cell_type": "markdown",
   "metadata": {
    "pycharm": {
     "name": "#%% md\n"
    }
   },
   "source": [
    "## All poems just 1 metre, no unknown metres, poem as line"
   ]
  },
  {
   "cell_type": "code",
   "execution_count": 4,
   "metadata": {
    "pycharm": {
     "name": "#%%\n"
    }
   },
   "outputs": [],
   "source": [
    "input_extension = \"_one_metre_all_metres_recognized\"\n",
    "output_extension = f\"{input_extension}_poem_line\""
   ]
  },
  {
   "cell_type": "code",
   "execution_count": 5,
   "metadata": {
    "pycharm": {
     "name": "#%%\n"
    }
   },
   "outputs": [],
   "source": [
    "conll_saver = CoNLLDataSaver(base_dir, f\"resources/emnlp2017-bilstm-cnn-crf/data/ccv_tokens{output_extension}\", poem_line=True)"
   ]
  },
  {
   "cell_type": "code",
   "execution_count": 6,
   "metadata": {
    "pycharm": {
     "name": "#%%\n"
    }
   },
   "outputs": [
    {
     "name": "stdout",
     "output_type": "stream",
     "text": [
      "train_one_metre_all_metres_recognized.csv: loaded 7240855 records.\n",
      "dev_one_metre_all_metres_recognized.csv: loaded 1554844 records.\n",
      "test_one_metre_all_metres_recognized.csv: loaded 1606108 records.\n"
     ]
    }
   ],
   "source": [
    "train_df, dev_df, test_df = data_loader.load_all_data(input_extension)"
   ]
  },
  {
   "cell_type": "code",
   "execution_count": 7,
   "metadata": {},
   "outputs": [
    {
     "name": "stdout",
     "output_type": "stream",
     "text": [
      "CoNLL dataset saved to train.txt\n",
      "CoNLL dataset saved to dev.txt\n",
      "CoNLL dataset saved to test.txt\n"
     ]
    }
   ],
   "source": [
    "conll_saver.save_all_data(train_df, dev_df, test_df)"
   ]
  },
  {
   "cell_type": "markdown",
   "metadata": {
    "pycharm": {
     "name": "#%% md\n"
    }
   },
   "source": [
    "## All lines just 1 metre, no unknown metres"
   ]
  },
  {
   "cell_type": "code",
   "execution_count": 12,
   "metadata": {
    "pycharm": {
     "name": "#%%\n"
    }
   },
   "outputs": [],
   "source": [
    "extension = \"_one_metre_line_all_metres_recognized\""
   ]
  },
  {
   "cell_type": "code",
   "execution_count": 13,
   "metadata": {
    "pycharm": {
     "name": "#%%\n"
    }
   },
   "outputs": [],
   "source": [
    "conll_saver = CoNLLDataSaver(base_dir, f\"resources/emnlp2017-bilstm-cnn-crf/data/ccv_tokens{extension}\")"
   ]
  },
  {
   "cell_type": "code",
   "execution_count": 14,
   "metadata": {
    "pycharm": {
     "name": "#%%\n"
    }
   },
   "outputs": [
    {
     "name": "stdout",
     "output_type": "stream",
     "text": [
      "train_one_metre_line_all_metres_recognized.csv: loaded 7823727 records.\n",
      "dev_one_metre_line_all_metres_recognized.csv: loaded 1730053 records.\n",
      "test_one_metre_line_all_metres_recognized.csv: loaded 1646197 records.\n"
     ]
    }
   ],
   "source": [
    "train_df, dev_df, test_df = data_loader.load_all_data(extension)"
   ]
  },
  {
   "cell_type": "code",
   "execution_count": 15,
   "metadata": {},
   "outputs": [
    {
     "name": "stdout",
     "output_type": "stream",
     "text": [
      "CoNLL dataset saved to train.txt\n",
      "CoNLL dataset saved to dev.txt\n",
      "CoNLL dataset saved to test.txt\n"
     ]
    }
   ],
   "source": [
    "conll_saver.save_all_data(train_df, dev_df, test_df)"
   ]
  },
  {
   "cell_type": "markdown",
   "metadata": {
    "pycharm": {
     "name": "#%% md\n"
    }
   },
   "source": [
    "## All lines just 1 metre, no unknown metres, poem as line"
   ]
  },
  {
   "cell_type": "code",
   "execution_count": 16,
   "metadata": {
    "pycharm": {
     "name": "#%%\n"
    }
   },
   "outputs": [],
   "source": [
    "input_extension = \"_one_metre_line_all_metres_recognized\"\n",
    "output_extension = f\"{input_extension}_poem_line\""
   ]
  },
  {
   "cell_type": "code",
   "execution_count": 17,
   "metadata": {
    "pycharm": {
     "name": "#%%\n"
    }
   },
   "outputs": [],
   "source": [
    "conll_saver = CoNLLDataSaver(base_dir, f\"resources/emnlp2017-bilstm-cnn-crf/data/ccv_tokens{output_extension}\", poem_line=True)"
   ]
  },
  {
   "cell_type": "code",
   "execution_count": 18,
   "metadata": {
    "pycharm": {
     "name": "#%%\n"
    }
   },
   "outputs": [
    {
     "name": "stdout",
     "output_type": "stream",
     "text": [
      "train_one_metre_line_all_metres_recognized.csv: loaded 7823727 records.\n",
      "dev_one_metre_line_all_metres_recognized.csv: loaded 1730053 records.\n",
      "test_one_metre_line_all_metres_recognized.csv: loaded 1646197 records.\n"
     ]
    }
   ],
   "source": [
    "train_df, dev_df, test_df = data_loader.load_all_data(input_extension)"
   ]
  },
  {
   "cell_type": "code",
   "execution_count": 19,
   "metadata": {
    "pycharm": {
     "name": "#%%\n"
    }
   },
   "outputs": [
    {
     "name": "stdout",
     "output_type": "stream",
     "text": [
      "CoNLL dataset saved to train.txt\n",
      "CoNLL dataset saved to dev.txt\n",
      "CoNLL dataset saved to test.txt\n"
     ]
    }
   ],
   "source": [
    "conll_saver.save_all_data(train_df, dev_df, test_df)"
   ]
  }
 ],
 "metadata": {
  "kernelspec": {
   "display_name": "Python 3 (ipykernel)",
   "language": "python",
   "name": "python3"
  },
  "language_info": {
   "codemirror_mode": {
    "name": "ipython",
    "version": 3
   },
   "file_extension": ".py",
   "mimetype": "text/x-python",
   "name": "python",
   "nbconvert_exporter": "python",
   "pygments_lexer": "ipython3",
   "version": "3.8.10"
  }
 },
 "nbformat": 4,
 "nbformat_minor": 1
}
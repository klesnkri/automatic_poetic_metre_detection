{
 "cells": [
  {
   "cell_type": "markdown",
   "metadata": {
    "pycharm": {
     "name": "#%% md\n"
    }
   },
   "source": [
    "# Create token input dataframes"
   ]
  },
  {
   "cell_type": "code",
   "execution_count": 1,
   "metadata": {
    "pycharm": {
     "name": "#%%\n"
    }
   },
   "outputs": [],
   "source": [
    "%load_ext dotenv\n",
    "%dotenv\n",
    "import os\n",
    "\n",
    "base_dir = os.getenv(\"WORKING_DIR\")\n",
    "os.chdir(base_dir)"
   ]
  },
  {
   "cell_type": "code",
   "execution_count": 2,
   "metadata": {
    "pycharm": {
     "name": "#%%\n"
    }
   },
   "outputs": [],
   "source": [
    "from src.data_loader_and_saver import JSONDataLoaderAndSaver, CSVDataLoaderAndSaver\n",
    "\n",
    "json_data_loader = JSONDataLoaderAndSaver(base_dir, input_data_dir=\"src/data\")\n",
    "csv_data_saver = CSVDataLoaderAndSaver(base_dir, index_cols=[\"Poem idx\", \"Line idx\", \"Token idx\"], output_data_dir=\"src/bi_lstm_crf/token_input/data\")"
   ]
  },
  {
   "cell_type": "code",
   "execution_count": 3,
   "metadata": {
    "pycharm": {
     "name": "#%%\n"
    }
   },
   "outputs": [],
   "source": [
    "import pandas as pd\n",
    "import json\n",
    "\n",
    "from src.kveta.sampa_syllable_parser import SampaSyllableParser\n",
    "from src.util import Util\n",
    "\n",
    "EMPTY_POS = \"_\"\n",
    "\n",
    "\n",
    "def get_df(poems_X: list, poems_y: list) -> pd.DataFrame:\n",
    "    \"\"\"\n",
    "    Create token input dataframe from poems X and y dataset.\n",
    "    :param poems_X: Poems X dataset\n",
    "    :param poems_y: Poems y dataset\n",
    "    :return: Created token input dataframe\n",
    "    \"\"\"\n",
    "    df = []\n",
    "    sampa_parser = SampaSyllableParser()\n",
    "\n",
    "    for poem_idx, (poem_X, poem_y) in enumerate(zip(poems_X, poems_y)):\n",
    "        for line_idx, (line_X, line_y) in enumerate(zip(poem_X, poem_y)):\n",
    "            line_metre_pattern = Util.normalize_metrical_pattern(line_y[\"pattern\"])\n",
    "\n",
    "            for token_idx, token_X in enumerate(line_X):\n",
    "                syllable_cnt = sampa_parser.get_syllable_cnt(token_X[\"xsampa\"])\n",
    "\n",
    "                if syllable_cnt > 0:\n",
    "                    metre_pos = line_metre_pattern[:syllable_cnt]\n",
    "                    line_metre_pattern = line_metre_pattern[syllable_cnt:]\n",
    "                else:\n",
    "                    metre_pos = EMPTY_POS\n",
    "\n",
    "                data = {\n",
    "                    \"Poem idx\": poem_idx,\n",
    "                    \"Line idx\": line_idx,\n",
    "                    \"Token idx\": token_idx,\n",
    "                    \"Token\": token_X[\"token_lc\"],\n",
    "                    \"Author\": json.dumps(token_X[\"author\"]),\n",
    "                    \"Year\": Util.get_year(token_X[\"year\"]),\n",
    "                    \"POS\": token_X[\"morph\"][0],\n",
    "                    \"Lemma\": token_X[\"lemma\"],\n",
    "                    \"Metre pos\": metre_pos\n",
    "                }\n",
    "\n",
    "                df.append(data)\n",
    "\n",
    "    df = pd.DataFrame(df)\n",
    "    df.set_index([\"Poem idx\", \"Line idx\", \"Token idx\"], inplace=True)\n",
    "\n",
    "    return df"
   ]
  },
  {
   "cell_type": "markdown",
   "metadata": {},
   "source": [
    "## All poems just 1 metre, no unknown metres"
   ]
  },
  {
   "cell_type": "code",
   "execution_count": 5,
   "metadata": {
    "pycharm": {
     "name": "#%%\n"
    }
   },
   "outputs": [],
   "source": [
    "extension = \"_one_metre_all_metres_recognized\""
   ]
  },
  {
   "cell_type": "code",
   "execution_count": 6,
   "metadata": {
    "pycharm": {
     "name": "#%%\n"
    }
   },
   "outputs": [
    {
     "name": "stdout",
     "output_type": "stream",
     "text": [
      "train_X_one_metre_all_metres_recognized.json: loaded 40137 records.\n",
      "train_y_one_metre_all_metres_recognized.json: loaded 40137 records.\n"
     ]
    }
   ],
   "source": [
    "train_X = json_data_loader.load_data(f\"train_X{extension}\")\n",
    "train_y = json_data_loader.load_data(f\"train_y{extension}\")"
   ]
  },
  {
   "cell_type": "code",
   "execution_count": 7,
   "metadata": {},
   "outputs": [
    {
     "data": {
      "text/html": [
       "<div>\n",
       "<style scoped>\n",
       "    .dataframe tbody tr th:only-of-type {\n",
       "        vertical-align: middle;\n",
       "    }\n",
       "\n",
       "    .dataframe tbody tr th {\n",
       "        vertical-align: top;\n",
       "    }\n",
       "\n",
       "    .dataframe thead th {\n",
       "        text-align: right;\n",
       "    }\n",
       "</style>\n",
       "<table border=\"1\" class=\"dataframe\">\n",
       "  <thead>\n",
       "    <tr style=\"text-align: right;\">\n",
       "      <th></th>\n",
       "      <th></th>\n",
       "      <th></th>\n",
       "      <th>Token</th>\n",
       "      <th>Author</th>\n",
       "      <th>Year</th>\n",
       "      <th>POS</th>\n",
       "      <th>Lemma</th>\n",
       "      <th>Metre pos</th>\n",
       "    </tr>\n",
       "    <tr>\n",
       "      <th>Poem idx</th>\n",
       "      <th>Line idx</th>\n",
       "      <th>Token idx</th>\n",
       "      <th></th>\n",
       "      <th></th>\n",
       "      <th></th>\n",
       "      <th></th>\n",
       "      <th></th>\n",
       "      <th></th>\n",
       "    </tr>\n",
       "  </thead>\n",
       "  <tbody>\n",
       "    <tr>\n",
       "      <th rowspan=\"5\" valign=\"top\">0</th>\n",
       "      <th rowspan=\"5\" valign=\"top\">0</th>\n",
       "      <th>0</th>\n",
       "      <td>teď</td>\n",
       "      <td>{\"born\": 1853, \"died\": 1912, \"name\": \"Vrchlick...</td>\n",
       "      <td>1886.0</td>\n",
       "      <td>D</td>\n",
       "      <td>teď</td>\n",
       "      <td>W</td>\n",
       "    </tr>\n",
       "    <tr>\n",
       "      <th>1</th>\n",
       "      <td>co</td>\n",
       "      <td>{\"born\": 1853, \"died\": 1912, \"name\": \"Vrchlick...</td>\n",
       "      <td>1886.0</td>\n",
       "      <td>P</td>\n",
       "      <td>co</td>\n",
       "      <td>S</td>\n",
       "    </tr>\n",
       "    <tr>\n",
       "      <th>2</th>\n",
       "      <td>se</td>\n",
       "      <td>{\"born\": 1853, \"died\": 1912, \"name\": \"Vrchlick...</td>\n",
       "      <td>1886.0</td>\n",
       "      <td>P</td>\n",
       "      <td>se</td>\n",
       "      <td>W</td>\n",
       "    </tr>\n",
       "    <tr>\n",
       "      <th>3</th>\n",
       "      <td>hrozny</td>\n",
       "      <td>{\"born\": 1853, \"died\": 1912, \"name\": \"Vrchlick...</td>\n",
       "      <td>1886.0</td>\n",
       "      <td>N</td>\n",
       "      <td>hrozen</td>\n",
       "      <td>SW</td>\n",
       "    </tr>\n",
       "    <tr>\n",
       "      <th>4</th>\n",
       "      <td>zlatem</td>\n",
       "      <td>{\"born\": 1853, \"died\": 1912, \"name\": \"Vrchlick...</td>\n",
       "      <td>1886.0</td>\n",
       "      <td>N</td>\n",
       "      <td>zlato</td>\n",
       "      <td>SW</td>\n",
       "    </tr>\n",
       "    <tr>\n",
       "      <th>...</th>\n",
       "      <th>...</th>\n",
       "      <th>...</th>\n",
       "      <td>...</td>\n",
       "      <td>...</td>\n",
       "      <td>...</td>\n",
       "      <td>...</td>\n",
       "      <td>...</td>\n",
       "      <td>...</td>\n",
       "    </tr>\n",
       "    <tr>\n",
       "      <th rowspan=\"5\" valign=\"top\">40136</th>\n",
       "      <th>70</th>\n",
       "      <th>5</th>\n",
       "      <td>přece</td>\n",
       "      <td>{\"born\": 1835, \"died\": 1923, \"name\": \"Heyduk, ...</td>\n",
       "      <td>1899.0</td>\n",
       "      <td>D</td>\n",
       "      <td>přece</td>\n",
       "      <td>SW</td>\n",
       "    </tr>\n",
       "    <tr>\n",
       "      <th rowspan=\"4\" valign=\"top\">71</th>\n",
       "      <th>0</th>\n",
       "      <td>chudákova</td>\n",
       "      <td>{\"born\": 1835, \"died\": 1923, \"name\": \"Heyduk, ...</td>\n",
       "      <td>1899.0</td>\n",
       "      <td>A</td>\n",
       "      <td>chudákův</td>\n",
       "      <td>SWSW</td>\n",
       "    </tr>\n",
       "    <tr>\n",
       "      <th>1</th>\n",
       "      <td>domku</td>\n",
       "      <td>{\"born\": 1835, \"died\": 1923, \"name\": \"Heyduk, ...</td>\n",
       "      <td>1899.0</td>\n",
       "      <td>N</td>\n",
       "      <td>domek</td>\n",
       "      <td>SW</td>\n",
       "    </tr>\n",
       "    <tr>\n",
       "      <th>2</th>\n",
       "      <td>na</td>\n",
       "      <td>{\"born\": 1835, \"died\": 1923, \"name\": \"Heyduk, ...</td>\n",
       "      <td>1899.0</td>\n",
       "      <td>R</td>\n",
       "      <td>na</td>\n",
       "      <td>S</td>\n",
       "    </tr>\n",
       "    <tr>\n",
       "      <th>3</th>\n",
       "      <td>údolí</td>\n",
       "      <td>{\"born\": 1835, \"died\": 1923, \"name\": \"Heyduk, ...</td>\n",
       "      <td>1899.0</td>\n",
       "      <td>N</td>\n",
       "      <td>údolí</td>\n",
       "      <td>WSW</td>\n",
       "    </tr>\n",
       "  </tbody>\n",
       "</table>\n",
       "<p>7240855 rows × 6 columns</p>\n",
       "</div>"
      ],
      "text/plain": [
       "                                 Token  \\\n",
       "Poem idx Line idx Token idx              \n",
       "0        0        0                teď   \n",
       "                  1                 co   \n",
       "                  2                 se   \n",
       "                  3             hrozny   \n",
       "                  4             zlatem   \n",
       "...                                ...   \n",
       "40136    70       5              přece   \n",
       "         71       0          chudákova   \n",
       "                  1              domku   \n",
       "                  2                 na   \n",
       "                  3              údolí   \n",
       "\n",
       "                                                                        Author  \\\n",
       "Poem idx Line idx Token idx                                                      \n",
       "0        0        0          {\"born\": 1853, \"died\": 1912, \"name\": \"Vrchlick...   \n",
       "                  1          {\"born\": 1853, \"died\": 1912, \"name\": \"Vrchlick...   \n",
       "                  2          {\"born\": 1853, \"died\": 1912, \"name\": \"Vrchlick...   \n",
       "                  3          {\"born\": 1853, \"died\": 1912, \"name\": \"Vrchlick...   \n",
       "                  4          {\"born\": 1853, \"died\": 1912, \"name\": \"Vrchlick...   \n",
       "...                                                                        ...   \n",
       "40136    70       5          {\"born\": 1835, \"died\": 1923, \"name\": \"Heyduk, ...   \n",
       "         71       0          {\"born\": 1835, \"died\": 1923, \"name\": \"Heyduk, ...   \n",
       "                  1          {\"born\": 1835, \"died\": 1923, \"name\": \"Heyduk, ...   \n",
       "                  2          {\"born\": 1835, \"died\": 1923, \"name\": \"Heyduk, ...   \n",
       "                  3          {\"born\": 1835, \"died\": 1923, \"name\": \"Heyduk, ...   \n",
       "\n",
       "                               Year POS     Lemma Metre pos  \n",
       "Poem idx Line idx Token idx                                  \n",
       "0        0        0          1886.0   D       teď         W  \n",
       "                  1          1886.0   P        co         S  \n",
       "                  2          1886.0   P        se         W  \n",
       "                  3          1886.0   N    hrozen        SW  \n",
       "                  4          1886.0   N     zlato        SW  \n",
       "...                             ...  ..       ...       ...  \n",
       "40136    70       5          1899.0   D     přece        SW  \n",
       "         71       0          1899.0   A  chudákův      SWSW  \n",
       "                  1          1899.0   N     domek        SW  \n",
       "                  2          1899.0   R        na         S  \n",
       "                  3          1899.0   N     údolí       WSW  \n",
       "\n",
       "[7240855 rows x 6 columns]"
      ]
     },
     "execution_count": 7,
     "metadata": {},
     "output_type": "execute_result"
    }
   ],
   "source": [
    "train_df = get_df(train_X, train_y)\n",
    "train_df"
   ]
  },
  {
   "cell_type": "code",
   "execution_count": 8,
   "metadata": {
    "pycharm": {
     "name": "#%%\n"
    }
   },
   "outputs": [
    {
     "data": {
      "text/plain": [
       "Token          0\n",
       "Author         0\n",
       "Year         191\n",
       "POS            0\n",
       "Lemma          0\n",
       "Metre pos      0\n",
       "dtype: int64"
      ]
     },
     "execution_count": 8,
     "metadata": {},
     "output_type": "execute_result"
    }
   ],
   "source": [
    "train_df.isna().sum()"
   ]
  },
  {
   "cell_type": "code",
   "execution_count": 9,
   "metadata": {
    "pycharm": {
     "name": "#%%\n"
    }
   },
   "outputs": [
    {
     "data": {
      "text/plain": [
       "11"
      ]
     },
     "execution_count": 9,
     "metadata": {},
     "output_type": "execute_result"
    }
   ],
   "source": [
    "train_df[\"POS\"].nunique()"
   ]
  },
  {
   "cell_type": "code",
   "execution_count": 10,
   "metadata": {
    "pycharm": {
     "name": "#%%\n"
    }
   },
   "outputs": [
    {
     "data": {
      "text/plain": [
       "array(['D', 'P', 'N', 'V', 'R', 'A', 'J', 'C', 'X', 'T', 'I'],\n",
       "      dtype=object)"
      ]
     },
     "execution_count": 10,
     "metadata": {},
     "output_type": "execute_result"
    }
   ],
   "source": [
    "train_df[\"POS\"].unique()"
   ]
  },
  {
   "cell_type": "code",
   "execution_count": 11,
   "metadata": {
    "pycharm": {
     "name": "#%%\n"
    }
   },
   "outputs": [
    {
     "data": {
      "text/plain": [
       "279"
      ]
     },
     "execution_count": 11,
     "metadata": {},
     "output_type": "execute_result"
    }
   ],
   "source": [
    "train_df[\"Author\"].nunique()"
   ]
  },
  {
   "cell_type": "code",
   "execution_count": 12,
   "metadata": {
    "pycharm": {
     "name": "#%%\n"
    }
   },
   "outputs": [
    {
     "data": {
      "text/plain": [
       "array([1886., 1880., 1899., 1884., 1892., 1908., 1823., 1821., 1965.,\n",
       "       1927., 1934., 1902., 1921., 1844., 1905., 1872., 1883., 1915.,\n",
       "       1935., 1891., 1827., 1906., 1834., 1936., 1881., 1858., 1926.,\n",
       "       1904., 1893., 1853., 1903., 1907., 1932., 1984., 1885., 1900.,\n",
       "       1897., 1962., 1882., 1896., 1888., 1901., 1933., 1938., 1930.,\n",
       "       1832., 1913., 1894., 1843., 1870., 1873., 1911., 1887., 1875.,\n",
       "       1944., 1865., 1857., 1928., 1898., 1912., 1874., 1859., 1918.,\n",
       "       1895., 1862., 1920., 1910., 1931., 1824., 1833., 1950., 1959.,\n",
       "       1914., 1863., 1919., 1890., 1812., 1889., 1868., 1957., 1946.,\n",
       "       1925., 1854., 1846., 1852., 1851., 1878., 1917., 1958., 1923.,\n",
       "       1864., 1922., 1956., 1909., 1822., 1939., 1951., 1948., 1937.,\n",
       "       1954., 1871., 1879., 1840., 1856., 1940., 1841., 1929., 1942.,\n",
       "       1916., 1830., 1876., 1941., 1820., 1924., 1836., 1963., 1869.,\n",
       "       1861., 1807., 1974., 1860., 1866., 1815., 1816., 1806., 1867.,\n",
       "       1847., 1850., 1845., 1842., 1945., 1877., 1829., 1809., 1805.,\n",
       "       1814., 1803., 1839., 1837., 1838., 1804., 1831., 1835., 1947.,\n",
       "         nan])"
      ]
     },
     "execution_count": 12,
     "metadata": {},
     "output_type": "execute_result"
    }
   ],
   "source": [
    "train_df[\"Year\"].unique()"
   ]
  },
  {
   "cell_type": "code",
   "execution_count": 13,
   "metadata": {
    "pycharm": {
     "name": "#%%\n"
    }
   },
   "outputs": [
    {
     "data": {
      "text/plain": [
       "count    7.240664e+06\n",
       "mean     1.897109e+03\n",
       "std      2.706662e+01\n",
       "min      1.803000e+03\n",
       "25%      1.884000e+03\n",
       "50%      1.897000e+03\n",
       "75%      1.914000e+03\n",
       "max      1.984000e+03\n",
       "Name: Year, dtype: float64"
      ]
     },
     "execution_count": 13,
     "metadata": {},
     "output_type": "execute_result"
    }
   ],
   "source": [
    "train_df[\"Year\"].describe()"
   ]
  },
  {
   "cell_type": "code",
   "execution_count": 14,
   "metadata": {
    "pycharm": {
     "name": "#%%\n"
    }
   },
   "outputs": [
    {
     "data": {
      "text/plain": [
       "279392"
      ]
     },
     "execution_count": 14,
     "metadata": {},
     "output_type": "execute_result"
    }
   ],
   "source": [
    "train_df[\"Token\"].nunique()"
   ]
  },
  {
   "cell_type": "code",
   "execution_count": 15,
   "metadata": {
    "pycharm": {
     "name": "#%%\n"
    }
   },
   "outputs": [
    {
     "data": {
      "text/plain": [
       "131925"
      ]
     },
     "execution_count": 15,
     "metadata": {},
     "output_type": "execute_result"
    }
   ],
   "source": [
    "train_df[\"Lemma\"].nunique()"
   ]
  },
  {
   "cell_type": "code",
   "execution_count": 16,
   "metadata": {
    "pycharm": {
     "name": "#%%\n"
    }
   },
   "outputs": [
    {
     "name": "stdout",
     "output_type": "stream",
     "text": [
      "Data saved to train_one_metre_all_metres_recognized.csv\n"
     ]
    }
   ],
   "source": [
    "csv_data_saver.save_data(train_df, f\"train{extension}\")"
   ]
  },
  {
   "cell_type": "code",
   "execution_count": 17,
   "metadata": {
    "pycharm": {
     "name": "#%%\n"
    }
   },
   "outputs": [
    {
     "name": "stdout",
     "output_type": "stream",
     "text": [
      "dev_X_one_metre_all_metres_recognized.json: loaded 8601 records.\n",
      "dev_y_one_metre_all_metres_recognized.json: loaded 8601 records.\n"
     ]
    }
   ],
   "source": [
    "dev_X = json_data_loader.load_data(f\"dev_X{extension}\")\n",
    "dev_y = json_data_loader.load_data(f\"dev_y{extension}\")"
   ]
  },
  {
   "cell_type": "code",
   "execution_count": 18,
   "metadata": {},
   "outputs": [
    {
     "data": {
      "text/html": [
       "<div>\n",
       "<style scoped>\n",
       "    .dataframe tbody tr th:only-of-type {\n",
       "        vertical-align: middle;\n",
       "    }\n",
       "\n",
       "    .dataframe tbody tr th {\n",
       "        vertical-align: top;\n",
       "    }\n",
       "\n",
       "    .dataframe thead th {\n",
       "        text-align: right;\n",
       "    }\n",
       "</style>\n",
       "<table border=\"1\" class=\"dataframe\">\n",
       "  <thead>\n",
       "    <tr style=\"text-align: right;\">\n",
       "      <th></th>\n",
       "      <th></th>\n",
       "      <th></th>\n",
       "      <th>Token</th>\n",
       "      <th>Author</th>\n",
       "      <th>Year</th>\n",
       "      <th>POS</th>\n",
       "      <th>Lemma</th>\n",
       "      <th>Metre pos</th>\n",
       "    </tr>\n",
       "    <tr>\n",
       "      <th>Poem idx</th>\n",
       "      <th>Line idx</th>\n",
       "      <th>Token idx</th>\n",
       "      <th></th>\n",
       "      <th></th>\n",
       "      <th></th>\n",
       "      <th></th>\n",
       "      <th></th>\n",
       "      <th></th>\n",
       "    </tr>\n",
       "  </thead>\n",
       "  <tbody>\n",
       "    <tr>\n",
       "      <th rowspan=\"5\" valign=\"top\">0</th>\n",
       "      <th rowspan=\"4\" valign=\"top\">0</th>\n",
       "      <th>0</th>\n",
       "      <td>ty</td>\n",
       "      <td>{\"born\": 1835, \"died\": 1923, \"name\": \"Heyduk, ...</td>\n",
       "      <td>1859</td>\n",
       "      <td>P</td>\n",
       "      <td>ten</td>\n",
       "      <td>S</td>\n",
       "    </tr>\n",
       "    <tr>\n",
       "      <th>1</th>\n",
       "      <td>má</td>\n",
       "      <td>{\"born\": 1835, \"died\": 1923, \"name\": \"Heyduk, ...</td>\n",
       "      <td>1859</td>\n",
       "      <td>V</td>\n",
       "      <td>mít</td>\n",
       "      <td>W</td>\n",
       "    </tr>\n",
       "    <tr>\n",
       "      <th>2</th>\n",
       "      <td>růže</td>\n",
       "      <td>{\"born\": 1835, \"died\": 1923, \"name\": \"Heyduk, ...</td>\n",
       "      <td>1859</td>\n",
       "      <td>N</td>\n",
       "      <td>růže</td>\n",
       "      <td>SW</td>\n",
       "    </tr>\n",
       "    <tr>\n",
       "      <th>3</th>\n",
       "      <td>tmavá</td>\n",
       "      <td>{\"born\": 1835, \"died\": 1923, \"name\": \"Heyduk, ...</td>\n",
       "      <td>1859</td>\n",
       "      <td>A</td>\n",
       "      <td>tmavý</td>\n",
       "      <td>SW</td>\n",
       "    </tr>\n",
       "    <tr>\n",
       "      <th>1</th>\n",
       "      <th>0</th>\n",
       "      <td>jak</td>\n",
       "      <td>{\"born\": 1835, \"died\": 1923, \"name\": \"Heyduk, ...</td>\n",
       "      <td>1859</td>\n",
       "      <td>D</td>\n",
       "      <td>jak</td>\n",
       "      <td>S</td>\n",
       "    </tr>\n",
       "    <tr>\n",
       "      <th>...</th>\n",
       "      <th>...</th>\n",
       "      <th>...</th>\n",
       "      <td>...</td>\n",
       "      <td>...</td>\n",
       "      <td>...</td>\n",
       "      <td>...</td>\n",
       "      <td>...</td>\n",
       "      <td>...</td>\n",
       "    </tr>\n",
       "    <tr>\n",
       "      <th rowspan=\"5\" valign=\"top\">8600</th>\n",
       "      <th rowspan=\"5\" valign=\"top\">31</th>\n",
       "      <th>0</th>\n",
       "      <td>já</td>\n",
       "      <td>{\"born\": 1853, \"died\": 1912, \"name\": \"Vrchlick...</td>\n",
       "      <td>1875</td>\n",
       "      <td>P</td>\n",
       "      <td>já</td>\n",
       "      <td>W</td>\n",
       "    </tr>\n",
       "    <tr>\n",
       "      <th>1</th>\n",
       "      <td>spokojím</td>\n",
       "      <td>{\"born\": 1853, \"died\": 1912, \"name\": \"Vrchlick...</td>\n",
       "      <td>1875</td>\n",
       "      <td>V</td>\n",
       "      <td>spokojit</td>\n",
       "      <td>SWS</td>\n",
       "    </tr>\n",
       "    <tr>\n",
       "      <th>2</th>\n",
       "      <td>se</td>\n",
       "      <td>{\"born\": 1853, \"died\": 1912, \"name\": \"Vrchlick...</td>\n",
       "      <td>1875</td>\n",
       "      <td>P</td>\n",
       "      <td>se</td>\n",
       "      <td>W</td>\n",
       "    </tr>\n",
       "    <tr>\n",
       "      <th>3</th>\n",
       "      <td>s</td>\n",
       "      <td>{\"born\": 1853, \"died\": 1912, \"name\": \"Vrchlick...</td>\n",
       "      <td>1875</td>\n",
       "      <td>R</td>\n",
       "      <td>s</td>\n",
       "      <td>_</td>\n",
       "    </tr>\n",
       "    <tr>\n",
       "      <th>4</th>\n",
       "      <td>immortelou</td>\n",
       "      <td>{\"born\": 1853, \"died\": 1912, \"name\": \"Vrchlick...</td>\n",
       "      <td>1875</td>\n",
       "      <td>X</td>\n",
       "      <td>immortelou</td>\n",
       "      <td>SWSW</td>\n",
       "    </tr>\n",
       "  </tbody>\n",
       "</table>\n",
       "<p>1554844 rows × 6 columns</p>\n",
       "</div>"
      ],
      "text/plain": [
       "                                  Token  \\\n",
       "Poem idx Line idx Token idx               \n",
       "0        0        0                  ty   \n",
       "                  1                  má   \n",
       "                  2                růže   \n",
       "                  3               tmavá   \n",
       "         1        0                 jak   \n",
       "...                                 ...   \n",
       "8600     31       0                  já   \n",
       "                  1            spokojím   \n",
       "                  2                  se   \n",
       "                  3                   s   \n",
       "                  4          immortelou   \n",
       "\n",
       "                                                                        Author  \\\n",
       "Poem idx Line idx Token idx                                                      \n",
       "0        0        0          {\"born\": 1835, \"died\": 1923, \"name\": \"Heyduk, ...   \n",
       "                  1          {\"born\": 1835, \"died\": 1923, \"name\": \"Heyduk, ...   \n",
       "                  2          {\"born\": 1835, \"died\": 1923, \"name\": \"Heyduk, ...   \n",
       "                  3          {\"born\": 1835, \"died\": 1923, \"name\": \"Heyduk, ...   \n",
       "         1        0          {\"born\": 1835, \"died\": 1923, \"name\": \"Heyduk, ...   \n",
       "...                                                                        ...   \n",
       "8600     31       0          {\"born\": 1853, \"died\": 1912, \"name\": \"Vrchlick...   \n",
       "                  1          {\"born\": 1853, \"died\": 1912, \"name\": \"Vrchlick...   \n",
       "                  2          {\"born\": 1853, \"died\": 1912, \"name\": \"Vrchlick...   \n",
       "                  3          {\"born\": 1853, \"died\": 1912, \"name\": \"Vrchlick...   \n",
       "                  4          {\"born\": 1853, \"died\": 1912, \"name\": \"Vrchlick...   \n",
       "\n",
       "                             Year POS       Lemma Metre pos  \n",
       "Poem idx Line idx Token idx                                  \n",
       "0        0        0          1859   P         ten         S  \n",
       "                  1          1859   V         mít         W  \n",
       "                  2          1859   N        růže        SW  \n",
       "                  3          1859   A       tmavý        SW  \n",
       "         1        0          1859   D         jak         S  \n",
       "...                           ...  ..         ...       ...  \n",
       "8600     31       0          1875   P          já         W  \n",
       "                  1          1875   V    spokojit       SWS  \n",
       "                  2          1875   P          se         W  \n",
       "                  3          1875   R           s         _  \n",
       "                  4          1875   X  immortelou      SWSW  \n",
       "\n",
       "[1554844 rows x 6 columns]"
      ]
     },
     "execution_count": 18,
     "metadata": {},
     "output_type": "execute_result"
    }
   ],
   "source": [
    "dev_df = get_df(dev_X, dev_y)\n",
    "dev_df"
   ]
  },
  {
   "cell_type": "code",
   "execution_count": 19,
   "metadata": {
    "pycharm": {
     "name": "#%%\n"
    }
   },
   "outputs": [
    {
     "name": "stdout",
     "output_type": "stream",
     "text": [
      "Data saved to dev_one_metre_all_metres_recognized.csv\n"
     ]
    }
   ],
   "source": [
    "csv_data_saver.save_data(dev_df, f\"dev{extension}\")"
   ]
  },
  {
   "cell_type": "code",
   "execution_count": 20,
   "metadata": {
    "pycharm": {
     "name": "#%%\n"
    }
   },
   "outputs": [
    {
     "name": "stdout",
     "output_type": "stream",
     "text": [
      "test_X_one_metre_all_metres_recognized.json: loaded 8601 records.\n",
      "test_y_one_metre_all_metres_recognized.json: loaded 8601 records.\n"
     ]
    }
   ],
   "source": [
    "test_X = json_data_loader.load_data(f\"test_X{extension}\")\n",
    "test_y = json_data_loader.load_data(f\"test_y{extension}\")"
   ]
  },
  {
   "cell_type": "code",
   "execution_count": 21,
   "metadata": {
    "pycharm": {
     "name": "#%%\n"
    }
   },
   "outputs": [
    {
     "data": {
      "text/html": [
       "<div>\n",
       "<style scoped>\n",
       "    .dataframe tbody tr th:only-of-type {\n",
       "        vertical-align: middle;\n",
       "    }\n",
       "\n",
       "    .dataframe tbody tr th {\n",
       "        vertical-align: top;\n",
       "    }\n",
       "\n",
       "    .dataframe thead th {\n",
       "        text-align: right;\n",
       "    }\n",
       "</style>\n",
       "<table border=\"1\" class=\"dataframe\">\n",
       "  <thead>\n",
       "    <tr style=\"text-align: right;\">\n",
       "      <th></th>\n",
       "      <th></th>\n",
       "      <th></th>\n",
       "      <th>Token</th>\n",
       "      <th>Author</th>\n",
       "      <th>Year</th>\n",
       "      <th>POS</th>\n",
       "      <th>Lemma</th>\n",
       "      <th>Metre pos</th>\n",
       "    </tr>\n",
       "    <tr>\n",
       "      <th>Poem idx</th>\n",
       "      <th>Line idx</th>\n",
       "      <th>Token idx</th>\n",
       "      <th></th>\n",
       "      <th></th>\n",
       "      <th></th>\n",
       "      <th></th>\n",
       "      <th></th>\n",
       "      <th></th>\n",
       "    </tr>\n",
       "  </thead>\n",
       "  <tbody>\n",
       "    <tr>\n",
       "      <th rowspan=\"5\" valign=\"top\">0</th>\n",
       "      <th rowspan=\"4\" valign=\"top\">0</th>\n",
       "      <th>0</th>\n",
       "      <td>z</td>\n",
       "      <td>{\"born\": 1881, \"died\": 1914, \"name\": \"Gellner,...</td>\n",
       "      <td>1901</td>\n",
       "      <td>R</td>\n",
       "      <td>z</td>\n",
       "      <td>_</td>\n",
       "    </tr>\n",
       "    <tr>\n",
       "      <th>1</th>\n",
       "      <td>kasematy</td>\n",
       "      <td>{\"born\": 1881, \"died\": 1914, \"name\": \"Gellner,...</td>\n",
       "      <td>1901</td>\n",
       "      <td>N</td>\n",
       "      <td>kasematy</td>\n",
       "      <td>WSWS</td>\n",
       "    </tr>\n",
       "    <tr>\n",
       "      <th>2</th>\n",
       "      <td>vás</td>\n",
       "      <td>{\"born\": 1881, \"died\": 1914, \"name\": \"Gellner,...</td>\n",
       "      <td>1901</td>\n",
       "      <td>P</td>\n",
       "      <td>vy</td>\n",
       "      <td>W</td>\n",
       "    </tr>\n",
       "    <tr>\n",
       "      <th>3</th>\n",
       "      <td>věznící</td>\n",
       "      <td>{\"born\": 1881, \"died\": 1914, \"name\": \"Gellner,...</td>\n",
       "      <td>1901</td>\n",
       "      <td>A</td>\n",
       "      <td>věznící</td>\n",
       "      <td>SWS</td>\n",
       "    </tr>\n",
       "    <tr>\n",
       "      <th>1</th>\n",
       "      <th>0</th>\n",
       "      <td>v</td>\n",
       "      <td>{\"born\": 1881, \"died\": 1914, \"name\": \"Gellner,...</td>\n",
       "      <td>1901</td>\n",
       "      <td>R</td>\n",
       "      <td>v</td>\n",
       "      <td>_</td>\n",
       "    </tr>\n",
       "    <tr>\n",
       "      <th>...</th>\n",
       "      <th>...</th>\n",
       "      <th>...</th>\n",
       "      <td>...</td>\n",
       "      <td>...</td>\n",
       "      <td>...</td>\n",
       "      <td>...</td>\n",
       "      <td>...</td>\n",
       "      <td>...</td>\n",
       "    </tr>\n",
       "    <tr>\n",
       "      <th rowspan=\"5\" valign=\"top\">8600</th>\n",
       "      <th>6</th>\n",
       "      <th>4</th>\n",
       "      <td>nenadání</td>\n",
       "      <td>{\"born\": 1835, \"died\": 1923, \"name\": \"Heyduk, ...</td>\n",
       "      <td>1885</td>\n",
       "      <td>N</td>\n",
       "      <td>nenadání</td>\n",
       "      <td>SWSW</td>\n",
       "    </tr>\n",
       "    <tr>\n",
       "      <th rowspan=\"4\" valign=\"top\">7</th>\n",
       "      <th>0</th>\n",
       "      <td>v</td>\n",
       "      <td>{\"born\": 1835, \"died\": 1923, \"name\": \"Heyduk, ...</td>\n",
       "      <td>1885</td>\n",
       "      <td>R</td>\n",
       "      <td>v</td>\n",
       "      <td>_</td>\n",
       "    </tr>\n",
       "    <tr>\n",
       "      <th>1</th>\n",
       "      <td>růži</td>\n",
       "      <td>{\"born\": 1835, \"died\": 1923, \"name\": \"Heyduk, ...</td>\n",
       "      <td>1885</td>\n",
       "      <td>N</td>\n",
       "      <td>růže</td>\n",
       "      <td>SW</td>\n",
       "    </tr>\n",
       "    <tr>\n",
       "      <th>2</th>\n",
       "      <td>rozvije</td>\n",
       "      <td>{\"born\": 1835, \"died\": 1923, \"name\": \"Heyduk, ...</td>\n",
       "      <td>1885</td>\n",
       "      <td>V</td>\n",
       "      <td>rozvít</td>\n",
       "      <td>SWS</td>\n",
       "    </tr>\n",
       "    <tr>\n",
       "      <th>3</th>\n",
       "      <td>se</td>\n",
       "      <td>{\"born\": 1835, \"died\": 1923, \"name\": \"Heyduk, ...</td>\n",
       "      <td>1885</td>\n",
       "      <td>P</td>\n",
       "      <td>se</td>\n",
       "      <td>W</td>\n",
       "    </tr>\n",
       "  </tbody>\n",
       "</table>\n",
       "<p>1606108 rows × 6 columns</p>\n",
       "</div>"
      ],
      "text/plain": [
       "                                Token  \\\n",
       "Poem idx Line idx Token idx             \n",
       "0        0        0                 z   \n",
       "                  1          kasematy   \n",
       "                  2               vás   \n",
       "                  3           věznící   \n",
       "         1        0                 v   \n",
       "...                               ...   \n",
       "8600     6        4          nenadání   \n",
       "         7        0                 v   \n",
       "                  1              růži   \n",
       "                  2           rozvije   \n",
       "                  3                se   \n",
       "\n",
       "                                                                        Author  \\\n",
       "Poem idx Line idx Token idx                                                      \n",
       "0        0        0          {\"born\": 1881, \"died\": 1914, \"name\": \"Gellner,...   \n",
       "                  1          {\"born\": 1881, \"died\": 1914, \"name\": \"Gellner,...   \n",
       "                  2          {\"born\": 1881, \"died\": 1914, \"name\": \"Gellner,...   \n",
       "                  3          {\"born\": 1881, \"died\": 1914, \"name\": \"Gellner,...   \n",
       "         1        0          {\"born\": 1881, \"died\": 1914, \"name\": \"Gellner,...   \n",
       "...                                                                        ...   \n",
       "8600     6        4          {\"born\": 1835, \"died\": 1923, \"name\": \"Heyduk, ...   \n",
       "         7        0          {\"born\": 1835, \"died\": 1923, \"name\": \"Heyduk, ...   \n",
       "                  1          {\"born\": 1835, \"died\": 1923, \"name\": \"Heyduk, ...   \n",
       "                  2          {\"born\": 1835, \"died\": 1923, \"name\": \"Heyduk, ...   \n",
       "                  3          {\"born\": 1835, \"died\": 1923, \"name\": \"Heyduk, ...   \n",
       "\n",
       "                             Year POS     Lemma Metre pos  \n",
       "Poem idx Line idx Token idx                                \n",
       "0        0        0          1901   R         z         _  \n",
       "                  1          1901   N  kasematy      WSWS  \n",
       "                  2          1901   P        vy         W  \n",
       "                  3          1901   A   věznící       SWS  \n",
       "         1        0          1901   R         v         _  \n",
       "...                           ...  ..       ...       ...  \n",
       "8600     6        4          1885   N  nenadání      SWSW  \n",
       "         7        0          1885   R         v         _  \n",
       "                  1          1885   N      růže        SW  \n",
       "                  2          1885   V    rozvít       SWS  \n",
       "                  3          1885   P        se         W  \n",
       "\n",
       "[1606108 rows x 6 columns]"
      ]
     },
     "execution_count": 21,
     "metadata": {},
     "output_type": "execute_result"
    }
   ],
   "source": [
    "test_df = get_df(test_X, test_y)\n",
    "test_df"
   ]
  },
  {
   "cell_type": "code",
   "execution_count": 22,
   "metadata": {
    "pycharm": {
     "name": "#%%\n"
    }
   },
   "outputs": [
    {
     "name": "stdout",
     "output_type": "stream",
     "text": [
      "Data saved to test_one_metre_all_metres_recognized.csv\n"
     ]
    }
   ],
   "source": [
    "csv_data_saver.save_data(test_df, f\"test{extension}\")"
   ]
  },
  {
   "cell_type": "markdown",
   "metadata": {
    "pycharm": {
     "name": "#%% md\n"
    }
   },
   "source": [
    "## All lines just 1 metre, no unknown metres"
   ]
  },
  {
   "cell_type": "code",
   "execution_count": 4,
   "metadata": {
    "pycharm": {
     "name": "#%%\n"
    }
   },
   "outputs": [],
   "source": [
    "extension = \"_one_metre_line_all_metres_recognized\""
   ]
  },
  {
   "cell_type": "code",
   "execution_count": 5,
   "metadata": {
    "pycharm": {
     "name": "#%%\n"
    }
   },
   "outputs": [
    {
     "name": "stdout",
     "output_type": "stream",
     "text": [
      "train_X_one_metre_line_all_metres_recognized.json: loaded 41762 records.\n",
      "train_y_one_metre_line_all_metres_recognized.json: loaded 41762 records.\n"
     ]
    }
   ],
   "source": [
    "train_X = json_data_loader.load_data(f\"train_X{extension}\")\n",
    "train_y = json_data_loader.load_data(f\"train_y{extension}\")"
   ]
  },
  {
   "cell_type": "code",
   "execution_count": 6,
   "metadata": {
    "pycharm": {
     "name": "#%%\n"
    }
   },
   "outputs": [
    {
     "data": {
      "text/html": [
       "<div>\n",
       "<style scoped>\n",
       "    .dataframe tbody tr th:only-of-type {\n",
       "        vertical-align: middle;\n",
       "    }\n",
       "\n",
       "    .dataframe tbody tr th {\n",
       "        vertical-align: top;\n",
       "    }\n",
       "\n",
       "    .dataframe thead th {\n",
       "        text-align: right;\n",
       "    }\n",
       "</style>\n",
       "<table border=\"1\" class=\"dataframe\">\n",
       "  <thead>\n",
       "    <tr style=\"text-align: right;\">\n",
       "      <th></th>\n",
       "      <th></th>\n",
       "      <th></th>\n",
       "      <th>Token</th>\n",
       "      <th>Author</th>\n",
       "      <th>Year</th>\n",
       "      <th>POS</th>\n",
       "      <th>Lemma</th>\n",
       "      <th>Metre pos</th>\n",
       "    </tr>\n",
       "    <tr>\n",
       "      <th>Poem idx</th>\n",
       "      <th>Line idx</th>\n",
       "      <th>Token idx</th>\n",
       "      <th></th>\n",
       "      <th></th>\n",
       "      <th></th>\n",
       "      <th></th>\n",
       "      <th></th>\n",
       "      <th></th>\n",
       "    </tr>\n",
       "  </thead>\n",
       "  <tbody>\n",
       "    <tr>\n",
       "      <th rowspan=\"5\" valign=\"top\">0</th>\n",
       "      <th rowspan=\"3\" valign=\"top\">0</th>\n",
       "      <th>0</th>\n",
       "      <td>můj</td>\n",
       "      <td>{\"born\": 1845, \"died\": 1912, \"name\": \"Sl\\u00e1...</td>\n",
       "      <td>1907</td>\n",
       "      <td>P</td>\n",
       "      <td>můj</td>\n",
       "      <td>S</td>\n",
       "    </tr>\n",
       "    <tr>\n",
       "      <th>1</th>\n",
       "      <td>koníček</td>\n",
       "      <td>{\"born\": 1845, \"died\": 1912, \"name\": \"Sl\\u00e1...</td>\n",
       "      <td>1907</td>\n",
       "      <td>N</td>\n",
       "      <td>koníček</td>\n",
       "      <td>WSW</td>\n",
       "    </tr>\n",
       "    <tr>\n",
       "      <th>2</th>\n",
       "      <td>vraný</td>\n",
       "      <td>{\"born\": 1845, \"died\": 1912, \"name\": \"Sl\\u00e1...</td>\n",
       "      <td>1907</td>\n",
       "      <td>A</td>\n",
       "      <td>vraný</td>\n",
       "      <td>SW</td>\n",
       "    </tr>\n",
       "    <tr>\n",
       "      <th rowspan=\"2\" valign=\"top\">1</th>\n",
       "      <th>0</th>\n",
       "      <td>jako</td>\n",
       "      <td>{\"born\": 1845, \"died\": 1912, \"name\": \"Sl\\u00e1...</td>\n",
       "      <td>1907</td>\n",
       "      <td>J</td>\n",
       "      <td>jako</td>\n",
       "      <td>SW</td>\n",
       "    </tr>\n",
       "    <tr>\n",
       "      <th>1</th>\n",
       "      <td>malovaný</td>\n",
       "      <td>{\"born\": 1845, \"died\": 1912, \"name\": \"Sl\\u00e1...</td>\n",
       "      <td>1907</td>\n",
       "      <td>A</td>\n",
       "      <td>malovaný</td>\n",
       "      <td>SWSW</td>\n",
       "    </tr>\n",
       "    <tr>\n",
       "      <th>...</th>\n",
       "      <th>...</th>\n",
       "      <th>...</th>\n",
       "      <td>...</td>\n",
       "      <td>...</td>\n",
       "      <td>...</td>\n",
       "      <td>...</td>\n",
       "      <td>...</td>\n",
       "      <td>...</td>\n",
       "    </tr>\n",
       "    <tr>\n",
       "      <th rowspan=\"5\" valign=\"top\">41761</th>\n",
       "      <th rowspan=\"5\" valign=\"top\">3</th>\n",
       "      <th>4</th>\n",
       "      <td>či</td>\n",
       "      <td>{\"born\": 1864, \"died\": 1942, \"name\": \"Machar, ...</td>\n",
       "      <td>1935</td>\n",
       "      <td>J</td>\n",
       "      <td>či</td>\n",
       "      <td>S</td>\n",
       "    </tr>\n",
       "    <tr>\n",
       "      <th>5</th>\n",
       "      <td>že</td>\n",
       "      <td>{\"born\": 1864, \"died\": 1942, \"name\": \"Machar, ...</td>\n",
       "      <td>1935</td>\n",
       "      <td>J</td>\n",
       "      <td>že</td>\n",
       "      <td>W</td>\n",
       "    </tr>\n",
       "    <tr>\n",
       "      <th>6</th>\n",
       "      <td>jsem</td>\n",
       "      <td>{\"born\": 1864, \"died\": 1942, \"name\": \"Machar, ...</td>\n",
       "      <td>1935</td>\n",
       "      <td>V</td>\n",
       "      <td>být</td>\n",
       "      <td>S</td>\n",
       "    </tr>\n",
       "    <tr>\n",
       "      <th>7</th>\n",
       "      <td>řek</td>\n",
       "      <td>{\"born\": 1864, \"died\": 1942, \"name\": \"Machar, ...</td>\n",
       "      <td>1935</td>\n",
       "      <td>V</td>\n",
       "      <td>říci</td>\n",
       "      <td>W</td>\n",
       "    </tr>\n",
       "    <tr>\n",
       "      <th>8</th>\n",
       "      <td>ne</td>\n",
       "      <td>{\"born\": 1864, \"died\": 1942, \"name\": \"Machar, ...</td>\n",
       "      <td>1935</td>\n",
       "      <td>T</td>\n",
       "      <td>ne</td>\n",
       "      <td>S</td>\n",
       "    </tr>\n",
       "  </tbody>\n",
       "</table>\n",
       "<p>7823727 rows × 6 columns</p>\n",
       "</div>"
      ],
      "text/plain": [
       "                                Token  \\\n",
       "Poem idx Line idx Token idx             \n",
       "0        0        0               můj   \n",
       "                  1           koníček   \n",
       "                  2             vraný   \n",
       "         1        0              jako   \n",
       "                  1          malovaný   \n",
       "...                               ...   \n",
       "41761    3        4                či   \n",
       "                  5                že   \n",
       "                  6              jsem   \n",
       "                  7               řek   \n",
       "                  8                ne   \n",
       "\n",
       "                                                                        Author  \\\n",
       "Poem idx Line idx Token idx                                                      \n",
       "0        0        0          {\"born\": 1845, \"died\": 1912, \"name\": \"Sl\\u00e1...   \n",
       "                  1          {\"born\": 1845, \"died\": 1912, \"name\": \"Sl\\u00e1...   \n",
       "                  2          {\"born\": 1845, \"died\": 1912, \"name\": \"Sl\\u00e1...   \n",
       "         1        0          {\"born\": 1845, \"died\": 1912, \"name\": \"Sl\\u00e1...   \n",
       "                  1          {\"born\": 1845, \"died\": 1912, \"name\": \"Sl\\u00e1...   \n",
       "...                                                                        ...   \n",
       "41761    3        4          {\"born\": 1864, \"died\": 1942, \"name\": \"Machar, ...   \n",
       "                  5          {\"born\": 1864, \"died\": 1942, \"name\": \"Machar, ...   \n",
       "                  6          {\"born\": 1864, \"died\": 1942, \"name\": \"Machar, ...   \n",
       "                  7          {\"born\": 1864, \"died\": 1942, \"name\": \"Machar, ...   \n",
       "                  8          {\"born\": 1864, \"died\": 1942, \"name\": \"Machar, ...   \n",
       "\n",
       "                             Year POS     Lemma Metre pos  \n",
       "Poem idx Line idx Token idx                                \n",
       "0        0        0          1907   P       můj         S  \n",
       "                  1          1907   N   koníček       WSW  \n",
       "                  2          1907   A     vraný        SW  \n",
       "         1        0          1907   J      jako        SW  \n",
       "                  1          1907   A  malovaný      SWSW  \n",
       "...                           ...  ..       ...       ...  \n",
       "41761    3        4          1935   J        či         S  \n",
       "                  5          1935   J        že         W  \n",
       "                  6          1935   V       být         S  \n",
       "                  7          1935   V      říci         W  \n",
       "                  8          1935   T        ne         S  \n",
       "\n",
       "[7823727 rows x 6 columns]"
      ]
     },
     "execution_count": 6,
     "metadata": {},
     "output_type": "execute_result"
    }
   ],
   "source": [
    "train_df = get_df(train_X, train_y)\n",
    "train_df"
   ]
  },
  {
   "cell_type": "code",
   "execution_count": 7,
   "metadata": {
    "pycharm": {
     "name": "#%%\n"
    }
   },
   "outputs": [
    {
     "name": "stdout",
     "output_type": "stream",
     "text": [
      "Data saved to train_one_metre_line_all_metres_recognized.csv\n"
     ]
    }
   ],
   "source": [
    "csv_data_saver.save_data(train_df, f\"train{extension}\")"
   ]
  },
  {
   "cell_type": "code",
   "execution_count": 8,
   "metadata": {
    "pycharm": {
     "name": "#%%\n"
    }
   },
   "outputs": [
    {
     "name": "stdout",
     "output_type": "stream",
     "text": [
      "dev_X_one_metre_line_all_metres_recognized.json: loaded 8949 records.\n",
      "dev_y_one_metre_line_all_metres_recognized.json: loaded 8949 records.\n"
     ]
    }
   ],
   "source": [
    "dev_X = json_data_loader.load_data(f\"dev_X{extension}\")\n",
    "dev_y = json_data_loader.load_data(f\"dev_y{extension}\")"
   ]
  },
  {
   "cell_type": "code",
   "execution_count": 9,
   "metadata": {
    "pycharm": {
     "name": "#%%\n"
    }
   },
   "outputs": [
    {
     "data": {
      "text/html": [
       "<div>\n",
       "<style scoped>\n",
       "    .dataframe tbody tr th:only-of-type {\n",
       "        vertical-align: middle;\n",
       "    }\n",
       "\n",
       "    .dataframe tbody tr th {\n",
       "        vertical-align: top;\n",
       "    }\n",
       "\n",
       "    .dataframe thead th {\n",
       "        text-align: right;\n",
       "    }\n",
       "</style>\n",
       "<table border=\"1\" class=\"dataframe\">\n",
       "  <thead>\n",
       "    <tr style=\"text-align: right;\">\n",
       "      <th></th>\n",
       "      <th></th>\n",
       "      <th></th>\n",
       "      <th>Token</th>\n",
       "      <th>Author</th>\n",
       "      <th>Year</th>\n",
       "      <th>POS</th>\n",
       "      <th>Lemma</th>\n",
       "      <th>Metre pos</th>\n",
       "    </tr>\n",
       "    <tr>\n",
       "      <th>Poem idx</th>\n",
       "      <th>Line idx</th>\n",
       "      <th>Token idx</th>\n",
       "      <th></th>\n",
       "      <th></th>\n",
       "      <th></th>\n",
       "      <th></th>\n",
       "      <th></th>\n",
       "      <th></th>\n",
       "    </tr>\n",
       "  </thead>\n",
       "  <tbody>\n",
       "    <tr>\n",
       "      <th rowspan=\"5\" valign=\"top\">0</th>\n",
       "      <th rowspan=\"5\" valign=\"top\">0</th>\n",
       "      <th>0</th>\n",
       "      <td>cos</td>\n",
       "      <td>{\"born\": 1860, \"died\": 1939, \"name\": \"Haasz, J...</td>\n",
       "      <td>1918.0</td>\n",
       "      <td>X</td>\n",
       "      <td>Co´s</td>\n",
       "      <td>W</td>\n",
       "    </tr>\n",
       "    <tr>\n",
       "      <th>1</th>\n",
       "      <td>bože</td>\n",
       "      <td>{\"born\": 1860, \"died\": 1939, \"name\": \"Haasz, J...</td>\n",
       "      <td>1918.0</td>\n",
       "      <td>N</td>\n",
       "      <td>bůh</td>\n",
       "      <td>SW</td>\n",
       "    </tr>\n",
       "    <tr>\n",
       "      <th>2</th>\n",
       "      <td>květů</td>\n",
       "      <td>{\"born\": 1860, \"died\": 1939, \"name\": \"Haasz, J...</td>\n",
       "      <td>1918.0</td>\n",
       "      <td>N</td>\n",
       "      <td>květ</td>\n",
       "      <td>SW</td>\n",
       "    </tr>\n",
       "    <tr>\n",
       "      <th>3</th>\n",
       "      <td>na</td>\n",
       "      <td>{\"born\": 1860, \"died\": 1939, \"name\": \"Haasz, J...</td>\n",
       "      <td>1918.0</td>\n",
       "      <td>R</td>\n",
       "      <td>na</td>\n",
       "      <td>S</td>\n",
       "    </tr>\n",
       "    <tr>\n",
       "      <th>4</th>\n",
       "      <td>té</td>\n",
       "      <td>{\"born\": 1860, \"died\": 1939, \"name\": \"Haasz, J...</td>\n",
       "      <td>1918.0</td>\n",
       "      <td>P</td>\n",
       "      <td>ten</td>\n",
       "      <td>W</td>\n",
       "    </tr>\n",
       "    <tr>\n",
       "      <th>...</th>\n",
       "      <th>...</th>\n",
       "      <th>...</th>\n",
       "      <td>...</td>\n",
       "      <td>...</td>\n",
       "      <td>...</td>\n",
       "      <td>...</td>\n",
       "      <td>...</td>\n",
       "      <td>...</td>\n",
       "    </tr>\n",
       "    <tr>\n",
       "      <th rowspan=\"5\" valign=\"top\">8948</th>\n",
       "      <th rowspan=\"5\" valign=\"top\">10</th>\n",
       "      <th>1</th>\n",
       "      <td>pod</td>\n",
       "      <td>{\"born\": 1833, \"died\": 1875, \"name\": \"Pfleger ...</td>\n",
       "      <td>1859.0</td>\n",
       "      <td>R</td>\n",
       "      <td>pod</td>\n",
       "      <td>S</td>\n",
       "    </tr>\n",
       "    <tr>\n",
       "      <th>2</th>\n",
       "      <td>praporec</td>\n",
       "      <td>{\"born\": 1833, \"died\": 1875, \"name\": \"Pfleger ...</td>\n",
       "      <td>1859.0</td>\n",
       "      <td>N</td>\n",
       "      <td>praporec</td>\n",
       "      <td>WSW</td>\n",
       "    </tr>\n",
       "    <tr>\n",
       "      <th>3</th>\n",
       "      <td>kultury</td>\n",
       "      <td>{\"born\": 1833, \"died\": 1875, \"name\": \"Pfleger ...</td>\n",
       "      <td>1859.0</td>\n",
       "      <td>N</td>\n",
       "      <td>kultura</td>\n",
       "      <td>SWS</td>\n",
       "    </tr>\n",
       "    <tr>\n",
       "      <th>4</th>\n",
       "      <td>zde</td>\n",
       "      <td>{\"born\": 1833, \"died\": 1875, \"name\": \"Pfleger ...</td>\n",
       "      <td>1859.0</td>\n",
       "      <td>D</td>\n",
       "      <td>zde</td>\n",
       "      <td>W</td>\n",
       "    </tr>\n",
       "    <tr>\n",
       "      <th>5</th>\n",
       "      <td>vstoupí</td>\n",
       "      <td>{\"born\": 1833, \"died\": 1875, \"name\": \"Pfleger ...</td>\n",
       "      <td>1859.0</td>\n",
       "      <td>V</td>\n",
       "      <td>vstoupit</td>\n",
       "      <td>SW</td>\n",
       "    </tr>\n",
       "  </tbody>\n",
       "</table>\n",
       "<p>1730053 rows × 6 columns</p>\n",
       "</div>"
      ],
      "text/plain": [
       "                                Token  \\\n",
       "Poem idx Line idx Token idx             \n",
       "0        0        0               cos   \n",
       "                  1              bože   \n",
       "                  2             květů   \n",
       "                  3                na   \n",
       "                  4                té   \n",
       "...                               ...   \n",
       "8948     10       1               pod   \n",
       "                  2          praporec   \n",
       "                  3           kultury   \n",
       "                  4               zde   \n",
       "                  5           vstoupí   \n",
       "\n",
       "                                                                        Author  \\\n",
       "Poem idx Line idx Token idx                                                      \n",
       "0        0        0          {\"born\": 1860, \"died\": 1939, \"name\": \"Haasz, J...   \n",
       "                  1          {\"born\": 1860, \"died\": 1939, \"name\": \"Haasz, J...   \n",
       "                  2          {\"born\": 1860, \"died\": 1939, \"name\": \"Haasz, J...   \n",
       "                  3          {\"born\": 1860, \"died\": 1939, \"name\": \"Haasz, J...   \n",
       "                  4          {\"born\": 1860, \"died\": 1939, \"name\": \"Haasz, J...   \n",
       "...                                                                        ...   \n",
       "8948     10       1          {\"born\": 1833, \"died\": 1875, \"name\": \"Pfleger ...   \n",
       "                  2          {\"born\": 1833, \"died\": 1875, \"name\": \"Pfleger ...   \n",
       "                  3          {\"born\": 1833, \"died\": 1875, \"name\": \"Pfleger ...   \n",
       "                  4          {\"born\": 1833, \"died\": 1875, \"name\": \"Pfleger ...   \n",
       "                  5          {\"born\": 1833, \"died\": 1875, \"name\": \"Pfleger ...   \n",
       "\n",
       "                               Year POS     Lemma Metre pos  \n",
       "Poem idx Line idx Token idx                                  \n",
       "0        0        0          1918.0   X      Co´s         W  \n",
       "                  1          1918.0   N       bůh        SW  \n",
       "                  2          1918.0   N      květ        SW  \n",
       "                  3          1918.0   R        na         S  \n",
       "                  4          1918.0   P       ten         W  \n",
       "...                             ...  ..       ...       ...  \n",
       "8948     10       1          1859.0   R       pod         S  \n",
       "                  2          1859.0   N  praporec       WSW  \n",
       "                  3          1859.0   N   kultura       SWS  \n",
       "                  4          1859.0   D       zde         W  \n",
       "                  5          1859.0   V  vstoupit        SW  \n",
       "\n",
       "[1730053 rows x 6 columns]"
      ]
     },
     "execution_count": 9,
     "metadata": {},
     "output_type": "execute_result"
    }
   ],
   "source": [
    "dev_df = get_df(dev_X, dev_y)\n",
    "dev_df"
   ]
  },
  {
   "cell_type": "code",
   "execution_count": 10,
   "metadata": {
    "pycharm": {
     "name": "#%%\n"
    }
   },
   "outputs": [
    {
     "name": "stdout",
     "output_type": "stream",
     "text": [
      "Data saved to dev_one_metre_line_all_metres_recognized.csv\n"
     ]
    }
   ],
   "source": [
    "csv_data_saver.save_data(dev_df, f\"dev{extension}\")"
   ]
  },
  {
   "cell_type": "code",
   "execution_count": 11,
   "metadata": {
    "pycharm": {
     "name": "#%%\n"
    }
   },
   "outputs": [
    {
     "name": "stdout",
     "output_type": "stream",
     "text": [
      "test_X_one_metre_line_all_metres_recognized.json: loaded 8950 records.\n",
      "test_y_one_metre_line_all_metres_recognized.json: loaded 8950 records.\n"
     ]
    }
   ],
   "source": [
    "test_X = json_data_loader.load_data(f\"test_X{extension}\")\n",
    "test_y = json_data_loader.load_data(f\"test_y{extension}\")"
   ]
  },
  {
   "cell_type": "code",
   "execution_count": 12,
   "metadata": {
    "pycharm": {
     "name": "#%%\n"
    }
   },
   "outputs": [
    {
     "data": {
      "text/html": [
       "<div>\n",
       "<style scoped>\n",
       "    .dataframe tbody tr th:only-of-type {\n",
       "        vertical-align: middle;\n",
       "    }\n",
       "\n",
       "    .dataframe tbody tr th {\n",
       "        vertical-align: top;\n",
       "    }\n",
       "\n",
       "    .dataframe thead th {\n",
       "        text-align: right;\n",
       "    }\n",
       "</style>\n",
       "<table border=\"1\" class=\"dataframe\">\n",
       "  <thead>\n",
       "    <tr style=\"text-align: right;\">\n",
       "      <th></th>\n",
       "      <th></th>\n",
       "      <th></th>\n",
       "      <th>Token</th>\n",
       "      <th>Author</th>\n",
       "      <th>Year</th>\n",
       "      <th>POS</th>\n",
       "      <th>Lemma</th>\n",
       "      <th>Metre pos</th>\n",
       "    </tr>\n",
       "    <tr>\n",
       "      <th>Poem idx</th>\n",
       "      <th>Line idx</th>\n",
       "      <th>Token idx</th>\n",
       "      <th></th>\n",
       "      <th></th>\n",
       "      <th></th>\n",
       "      <th></th>\n",
       "      <th></th>\n",
       "      <th></th>\n",
       "    </tr>\n",
       "  </thead>\n",
       "  <tbody>\n",
       "    <tr>\n",
       "      <th rowspan=\"5\" valign=\"top\">0</th>\n",
       "      <th rowspan=\"4\" valign=\"top\">0</th>\n",
       "      <th>0</th>\n",
       "      <td>co</td>\n",
       "      <td>{\"born\": 1855, \"died\": 1934, \"name\": \"Kalus, J...</td>\n",
       "      <td>1882</td>\n",
       "      <td>P</td>\n",
       "      <td>co</td>\n",
       "      <td>S</td>\n",
       "    </tr>\n",
       "    <tr>\n",
       "      <th>1</th>\n",
       "      <td>se</td>\n",
       "      <td>{\"born\": 1855, \"died\": 1934, \"name\": \"Kalus, J...</td>\n",
       "      <td>1882</td>\n",
       "      <td>P</td>\n",
       "      <td>se</td>\n",
       "      <td>W</td>\n",
       "    </tr>\n",
       "    <tr>\n",
       "      <th>2</th>\n",
       "      <td>matka</td>\n",
       "      <td>{\"born\": 1855, \"died\": 1934, \"name\": \"Kalus, J...</td>\n",
       "      <td>1882</td>\n",
       "      <td>N</td>\n",
       "      <td>matka</td>\n",
       "      <td>SW</td>\n",
       "    </tr>\n",
       "    <tr>\n",
       "      <th>3</th>\n",
       "      <td>nestarala</td>\n",
       "      <td>{\"born\": 1855, \"died\": 1934, \"name\": \"Kalus, J...</td>\n",
       "      <td>1882</td>\n",
       "      <td>V</td>\n",
       "      <td>starat</td>\n",
       "      <td>SWSW</td>\n",
       "    </tr>\n",
       "    <tr>\n",
       "      <th>1</th>\n",
       "      <th>0</th>\n",
       "      <td>dlouho</td>\n",
       "      <td>{\"born\": 1855, \"died\": 1934, \"name\": \"Kalus, J...</td>\n",
       "      <td>1882</td>\n",
       "      <td>D</td>\n",
       "      <td>dlouho</td>\n",
       "      <td>SW</td>\n",
       "    </tr>\n",
       "    <tr>\n",
       "      <th>...</th>\n",
       "      <th>...</th>\n",
       "      <th>...</th>\n",
       "      <td>...</td>\n",
       "      <td>...</td>\n",
       "      <td>...</td>\n",
       "      <td>...</td>\n",
       "      <td>...</td>\n",
       "      <td>...</td>\n",
       "    </tr>\n",
       "    <tr>\n",
       "      <th rowspan=\"5\" valign=\"top\">8949</th>\n",
       "      <th rowspan=\"5\" valign=\"top\">33</th>\n",
       "      <th>2</th>\n",
       "      <td>naň</td>\n",
       "      <td>{\"born\": 1857, \"died\": 1937, \"name\": \"Kysel\\u0...</td>\n",
       "      <td>1923</td>\n",
       "      <td>P</td>\n",
       "      <td>naň</td>\n",
       "      <td>W</td>\n",
       "    </tr>\n",
       "    <tr>\n",
       "      <th>3</th>\n",
       "      <td>mohl</td>\n",
       "      <td>{\"born\": 1857, \"died\": 1937, \"name\": \"Kysel\\u0...</td>\n",
       "      <td>1923</td>\n",
       "      <td>V</td>\n",
       "      <td>moci</td>\n",
       "      <td>SW</td>\n",
       "    </tr>\n",
       "    <tr>\n",
       "      <th>4</th>\n",
       "      <td>tváří</td>\n",
       "      <td>{\"born\": 1857, \"died\": 1937, \"name\": \"Kysel\\u0...</td>\n",
       "      <td>1923</td>\n",
       "      <td>N</td>\n",
       "      <td>tvář</td>\n",
       "      <td>SW</td>\n",
       "    </tr>\n",
       "    <tr>\n",
       "      <th>5</th>\n",
       "      <td>v</td>\n",
       "      <td>{\"born\": 1857, \"died\": 1937, \"name\": \"Kysel\\u0...</td>\n",
       "      <td>1923</td>\n",
       "      <td>R</td>\n",
       "      <td>v</td>\n",
       "      <td>_</td>\n",
       "    </tr>\n",
       "    <tr>\n",
       "      <th>6</th>\n",
       "      <td>tvář</td>\n",
       "      <td>{\"born\": 1857, \"died\": 1937, \"name\": \"Kysel\\u0...</td>\n",
       "      <td>1923</td>\n",
       "      <td>N</td>\n",
       "      <td>tvář</td>\n",
       "      <td>S</td>\n",
       "    </tr>\n",
       "  </tbody>\n",
       "</table>\n",
       "<p>1646197 rows × 6 columns</p>\n",
       "</div>"
      ],
      "text/plain": [
       "                                 Token  \\\n",
       "Poem idx Line idx Token idx              \n",
       "0        0        0                 co   \n",
       "                  1                 se   \n",
       "                  2              matka   \n",
       "                  3          nestarala   \n",
       "         1        0             dlouho   \n",
       "...                                ...   \n",
       "8949     33       2                naň   \n",
       "                  3               mohl   \n",
       "                  4              tváří   \n",
       "                  5                  v   \n",
       "                  6               tvář   \n",
       "\n",
       "                                                                        Author  \\\n",
       "Poem idx Line idx Token idx                                                      \n",
       "0        0        0          {\"born\": 1855, \"died\": 1934, \"name\": \"Kalus, J...   \n",
       "                  1          {\"born\": 1855, \"died\": 1934, \"name\": \"Kalus, J...   \n",
       "                  2          {\"born\": 1855, \"died\": 1934, \"name\": \"Kalus, J...   \n",
       "                  3          {\"born\": 1855, \"died\": 1934, \"name\": \"Kalus, J...   \n",
       "         1        0          {\"born\": 1855, \"died\": 1934, \"name\": \"Kalus, J...   \n",
       "...                                                                        ...   \n",
       "8949     33       2          {\"born\": 1857, \"died\": 1937, \"name\": \"Kysel\\u0...   \n",
       "                  3          {\"born\": 1857, \"died\": 1937, \"name\": \"Kysel\\u0...   \n",
       "                  4          {\"born\": 1857, \"died\": 1937, \"name\": \"Kysel\\u0...   \n",
       "                  5          {\"born\": 1857, \"died\": 1937, \"name\": \"Kysel\\u0...   \n",
       "                  6          {\"born\": 1857, \"died\": 1937, \"name\": \"Kysel\\u0...   \n",
       "\n",
       "                             Year POS   Lemma Metre pos  \n",
       "Poem idx Line idx Token idx                              \n",
       "0        0        0          1882   P      co         S  \n",
       "                  1          1882   P      se         W  \n",
       "                  2          1882   N   matka        SW  \n",
       "                  3          1882   V  starat      SWSW  \n",
       "         1        0          1882   D  dlouho        SW  \n",
       "...                           ...  ..     ...       ...  \n",
       "8949     33       2          1923   P     naň         W  \n",
       "                  3          1923   V    moci        SW  \n",
       "                  4          1923   N    tvář        SW  \n",
       "                  5          1923   R       v         _  \n",
       "                  6          1923   N    tvář         S  \n",
       "\n",
       "[1646197 rows x 6 columns]"
      ]
     },
     "execution_count": 12,
     "metadata": {},
     "output_type": "execute_result"
    }
   ],
   "source": [
    "test_df = get_df(test_X, test_y)\n",
    "test_df"
   ]
  },
  {
   "cell_type": "code",
   "execution_count": 13,
   "metadata": {
    "pycharm": {
     "name": "#%%\n"
    }
   },
   "outputs": [
    {
     "name": "stdout",
     "output_type": "stream",
     "text": [
      "Data saved to test_one_metre_line_all_metres_recognized.csv\n"
     ]
    }
   ],
   "source": [
    "csv_data_saver.save_data(test_df, f\"test{extension}\")"
   ]
  }
 ],
 "metadata": {
  "kernelspec": {
   "display_name": "Python 3 (ipykernel)",
   "language": "python",
   "name": "python3"
  },
  "language_info": {
   "codemirror_mode": {
    "name": "ipython",
    "version": 3
   },
   "file_extension": ".py",
   "mimetype": "text/x-python",
   "name": "python",
   "nbconvert_exporter": "python",
   "pygments_lexer": "ipython3",
   "version": "3.8.10"
  }
 },
 "nbformat": 4,
 "nbformat_minor": 1
}

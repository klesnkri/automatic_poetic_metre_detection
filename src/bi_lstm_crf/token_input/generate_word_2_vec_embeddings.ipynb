{
 "cells": [
  {
   "cell_type": "markdown",
   "source": [
    "# Generate Word2Vec embeddings for tokens"
   ],
   "metadata": {
    "collapsed": false,
    "pycharm": {
     "name": "#%% md\n"
    }
   }
  },
  {
   "cell_type": "code",
   "execution_count": 1,
   "outputs": [],
   "source": [
    "%load_ext dotenv\n",
    "%dotenv\n",
    "import os\n",
    "\n",
    "base_dir = os.getenv(\"WORKING_DIR\")\n",
    "os.chdir(base_dir)"
   ],
   "metadata": {
    "collapsed": false,
    "pycharm": {
     "name": "#%%\n"
    }
   }
  },
  {
   "cell_type": "code",
   "execution_count": 2,
   "metadata": {
    "pycharm": {
     "name": "#%%\n"
    }
   },
   "outputs": [],
   "source": [
    "from src.data_loader_and_saver import JSONDataLoaderAndSaver\n",
    "\n",
    "data_loader = JSONDataLoaderAndSaver(base_dir, input_data_dir=\"src/data\")"
   ]
  },
  {
   "cell_type": "code",
   "execution_count": 3,
   "metadata": {
    "pycharm": {
     "name": "#%%\n"
    }
   },
   "outputs": [],
   "source": [
    "from src.bi_lstm_crf.embeddings_saver import EmbeddingsSaver\n",
    "\n",
    "embeddings_saver = EmbeddingsSaver(\"tokens\", base_dir, \"src/bi_lstm_crf/embeddings\")"
   ]
  },
  {
   "cell_type": "code",
   "execution_count": 4,
   "metadata": {
    "pycharm": {
     "name": "#%%\n"
    }
   },
   "outputs": [],
   "source": [
    "from gensim.models import Word2Vec"
   ]
  },
  {
   "cell_type": "markdown",
   "metadata": {
    "pycharm": {
     "name": "#%% md\n"
    }
   },
   "source": [
    "## All poems just 1 metre, no unknown metres"
   ]
  },
  {
   "cell_type": "code",
   "execution_count": 5,
   "metadata": {
    "pycharm": {
     "name": "#%%\n"
    }
   },
   "outputs": [],
   "source": [
    "extension = \"_one_metre_all_metres_recognized\""
   ]
  },
  {
   "cell_type": "code",
   "execution_count": 6,
   "metadata": {
    "pycharm": {
     "name": "#%%\n"
    }
   },
   "outputs": [
    {
     "name": "stdout",
     "output_type": "stream",
     "text": [
      "train_tokens_one_metre_all_metres_recognized.json: loaded 40137 records.\n"
     ]
    },
    {
     "data": {
      "text/plain": "[['teď', 'co', 'se', 'hrozny', 'zlatem', 'zaskvívají'],\n ['na', 'záhonech', 'se', 'astry', 'usmívají'],\n ['při', 'plné', 'číši', 'v', 'dobrém', 'rozmaru'],\n ['si', 'do', 'kola', 'druh', 's', 'druhem', 'zazpívají'],\n ['o', 'krásných', 'dívkách', 'které', 'koketně'],\n ['vějířem', 'ňader', 'vlnu', 'ukrývají'],\n ['o', 'zlatých', 'sladkých', 'časech', 'mladosti'],\n ['jež', 'nelítostně', 's', 'láskou', 'uplývají'],\n ['o', 'polibcích', 'jichž', 'stále', 'míň', 'a', 'míň'],\n ['jež', 'jako', 'první', 'sladké', 'nebývají'],\n ['o', 'rukavičkách', 'stužkách', 'kadeřích'],\n ['jež', 'v', 'skřínkách', 's', 'listy', 'lásky', 'setlívají'],\n ['o', 'vlasech', 'prořídlých', 'kdys', 'tmavých', 'teď'],\n ['jež', 'stříbrnou', 'se', 'vlnou', 'zachvívají'],\n ['o', 'písních', 'které', 'v', 'sklonu', 'mladosti'],\n ['tak', 'veselé', 'juž', 'noty', 'nemívají'],\n ['o', 'všem', 'co', 'vadne', 'lidských', 'losů', 'hrou'],\n ['nad', 'čím', 'se', 'oči', 'slzou', 'zatmívají'],\n ['však', 'nad', 'troskami', 'sladkých', 'hříček', 'těch'],\n ['číš', 'plnou', 'teprv', 'prázdnit', 'umívají']]"
     },
     "execution_count": 6,
     "metadata": {},
     "output_type": "execute_result"
    }
   ],
   "source": [
    "tokens = data_loader.load_data(f\"train_tokens{extension}\")\n",
    "tokens[0]"
   ]
  },
  {
   "cell_type": "code",
   "execution_count": 7,
   "metadata": {
    "pycharm": {
     "name": "#%%\n"
    }
   },
   "outputs": [
    {
     "data": {
      "text/plain": "['teď', 'co', 'se', 'hrozny', 'zlatem', 'zaskvívají']"
     },
     "execution_count": 7,
     "metadata": {},
     "output_type": "execute_result"
    }
   ],
   "source": [
    "sentences = [line for poem in tokens for line in poem]\n",
    "sentences[0]"
   ]
  },
  {
   "cell_type": "code",
   "execution_count": 8,
   "metadata": {
    "pycharm": {
     "name": "#%%\n"
    }
   },
   "outputs": [
    {
     "data": {
      "text/plain": "1323119"
     },
     "execution_count": 8,
     "metadata": {},
     "output_type": "execute_result"
    }
   ],
   "source": [
    "len(sentences)"
   ]
  },
  {
   "cell_type": "code",
   "execution_count": 9,
   "metadata": {
    "pycharm": {
     "name": "#%%\n"
    }
   },
   "outputs": [],
   "source": [
    "model = Word2Vec(sentences=sentences, vector_size=100, window=5, min_count=1, workers=4)"
   ]
  },
  {
   "cell_type": "code",
   "execution_count": 10,
   "metadata": {},
   "outputs": [
    {
     "data": {
      "text/plain": "[('tajné', 0.8248113989830017),\n ('blahé', 0.8152564764022827),\n ('tklivé', 0.8093553185462952),\n ('tajemné', 0.8029077053070068),\n ('divné', 0.7993388772010803),\n ('jakés', 0.799054741859436),\n ('podivné', 0.7989625334739685),\n ('dětské', 0.7839382290840149),\n ('hořké', 0.7802180647850037),\n ('něžné', 0.7774688005447388)]"
     },
     "execution_count": 10,
     "metadata": {},
     "output_type": "execute_result"
    }
   ],
   "source": [
    "model.wv.most_similar(\"sladké\", topn=10)"
   ]
  },
  {
   "cell_type": "code",
   "execution_count": 11,
   "metadata": {
    "pycharm": {
     "name": "#%%\n"
    }
   },
   "outputs": [
    {
     "data": {
      "text/plain": "['a', 'v', 'se', 'na', 'jak', 'z', 'k', 's', 'to', 'je']"
     },
     "execution_count": 11,
     "metadata": {},
     "output_type": "execute_result"
    }
   ],
   "source": [
    "vocab = model.wv.index_to_key\n",
    "vocab[:10]"
   ]
  },
  {
   "cell_type": "code",
   "execution_count": 12,
   "metadata": {
    "pycharm": {
     "name": "#%%\n"
    }
   },
   "outputs": [
    {
     "data": {
      "text/plain": "279392"
     },
     "execution_count": 12,
     "metadata": {},
     "output_type": "execute_result"
    }
   ],
   "source": [
    "len(vocab)"
   ]
  },
  {
   "cell_type": "code",
   "execution_count": 13,
   "outputs": [
    {
     "name": "stdout",
     "output_type": "stream",
     "text": [
      "Embeddings saved to embeddings_tokens_one_metre_all_metres_recognized.gz\n"
     ]
    }
   ],
   "source": [
    "embeddings_saver.save_embeddings(model, vocab, extension)"
   ],
   "metadata": {
    "collapsed": false,
    "pycharm": {
     "name": "#%%\n"
    }
   }
  },
  {
   "cell_type": "markdown",
   "source": [
    "## All lines just 1 metre, no unknown metres"
   ],
   "metadata": {
    "collapsed": false
   }
  },
  {
   "cell_type": "code",
   "execution_count": 14,
   "outputs": [],
   "source": [
    "extension = \"_one_metre_line_all_metres_recognized\""
   ],
   "metadata": {
    "collapsed": false,
    "pycharm": {
     "name": "#%%\n"
    }
   }
  },
  {
   "cell_type": "code",
   "execution_count": 15,
   "outputs": [
    {
     "name": "stdout",
     "output_type": "stream",
     "text": [
      "train_tokens_one_metre_line_all_metres_recognized.json: loaded 41762 records.\n"
     ]
    },
    {
     "data": {
      "text/plain": "[['můj', 'koníček', 'vraný'],\n ['jako', 'malovaný'],\n ['hopsa', 'hejsa', 'hej'],\n ['nožky', 'pěkné', 'zdvíhá'],\n ['ušima', 'si', 'stříhá'],\n ['hopsa', 'hejsa', 'hej'],\n ['dlouhá', 'černá', 'hříva'],\n ['po', 'větru', 'mu', 'splývá'],\n ['hopsa', 'hejsa', 'hej'],\n ['podkovky', 'mu', 'zvoní'],\n ['jiskra', 'jiskru', 'honí'],\n ['hopsa', 'hejsa', 'hej'],\n ['můj', 'koníčku', 'vraný'],\n ['jako', 'malovaný'],\n ['hopsa', 'hejsa', 'hej'],\n ['až', 'tě', 'osedláme'],\n ['kam', 'se', 'podíváme'],\n ['hopsa', 'hejsa', 'hej'],\n ['rozjedem', 'se', 'v', 'poli'],\n ['přes', 'hory', 'a', 'doly'],\n ['hopsa', 'hejsa', 'hej'],\n ['rozjedem', 'se', 'letem'],\n ['široširým', 'světem'],\n ['hopsa', 'hejsa', 'hej'],\n ['žeť', 'se', 'rozjedeme'],\n ['kam', 'se', 'rozjet', 'chceme'],\n ['hopsa', 'hejsa', 'hej'],\n ['tak', 'můj', 'vraný', 'koni'],\n ['ať', 'si', 'nás', 'kdo', 'honí'],\n ['hopsa', 'hejsa', 'hej']]"
     },
     "execution_count": 15,
     "metadata": {},
     "output_type": "execute_result"
    }
   ],
   "source": [
    "tokens = data_loader.load_data(f\"train_tokens{extension}\")\n",
    "tokens[0]"
   ],
   "metadata": {
    "collapsed": false,
    "pycharm": {
     "name": "#%%\n"
    }
   }
  },
  {
   "cell_type": "code",
   "execution_count": 16,
   "outputs": [
    {
     "data": {
      "text/plain": "['můj', 'koníček', 'vraný']"
     },
     "execution_count": 16,
     "metadata": {},
     "output_type": "execute_result"
    }
   ],
   "source": [
    "sentences = [line for poem in tokens for line in poem]\n",
    "sentences[0]"
   ],
   "metadata": {
    "collapsed": false,
    "pycharm": {
     "name": "#%%\n"
    }
   }
  },
  {
   "cell_type": "code",
   "execution_count": 17,
   "outputs": [
    {
     "data": {
      "text/plain": "1434187"
     },
     "execution_count": 17,
     "metadata": {},
     "output_type": "execute_result"
    }
   ],
   "source": [
    "len(sentences)"
   ],
   "metadata": {
    "collapsed": false,
    "pycharm": {
     "name": "#%%\n"
    }
   }
  },
  {
   "cell_type": "code",
   "execution_count": 18,
   "outputs": [],
   "source": [
    "model = Word2Vec(sentences=sentences, vector_size=100, window=5, min_count=1, workers=4)"
   ],
   "metadata": {
    "collapsed": false,
    "pycharm": {
     "name": "#%%\n"
    }
   }
  },
  {
   "cell_type": "code",
   "execution_count": 19,
   "outputs": [
    {
     "data": {
      "text/plain": "[('vlásky', 0.9122986197471619),\n ('rtíky', 0.9043963551521301),\n ('prsty', 0.9016081094741821),\n ('čílko', 0.8914663195610046),\n ('tílko', 0.8904709219932556),\n ('ručky', 0.8901640176773071),\n ('zoubky', 0.8847008943557739),\n ('prsy', 0.8824279308319092),\n ('tvářičky', 0.8762239813804626),\n ('hlavičky', 0.8713076114654541)]"
     },
     "execution_count": 19,
     "metadata": {},
     "output_type": "execute_result"
    }
   ],
   "source": [
    "model.wv.most_similar(\"nožky\", topn=10)"
   ],
   "metadata": {
    "collapsed": false,
    "pycharm": {
     "name": "#%%\n"
    }
   }
  },
  {
   "cell_type": "code",
   "execution_count": 20,
   "outputs": [
    {
     "data": {
      "text/plain": "['a', 'v', 'se', 'na', 'jak', 'z', 's', 'k', 'to', 'je']"
     },
     "execution_count": 20,
     "metadata": {},
     "output_type": "execute_result"
    }
   ],
   "source": [
    "vocab = model.wv.index_to_key\n",
    "vocab[:10]"
   ],
   "metadata": {
    "collapsed": false,
    "pycharm": {
     "name": "#%%\n"
    }
   }
  },
  {
   "cell_type": "code",
   "execution_count": 21,
   "outputs": [
    {
     "data": {
      "text/plain": "292659"
     },
     "execution_count": 21,
     "metadata": {},
     "output_type": "execute_result"
    }
   ],
   "source": [
    "len(vocab)"
   ],
   "metadata": {
    "collapsed": false,
    "pycharm": {
     "name": "#%%\n"
    }
   }
  },
  {
   "cell_type": "code",
   "execution_count": 22,
   "metadata": {
    "pycharm": {
     "name": "#%%\n"
    }
   },
   "outputs": [
    {
     "name": "stdout",
     "output_type": "stream",
     "text": [
      "Embeddings saved to embeddings_tokens_one_metre_line_all_metres_recognized.gz\n"
     ]
    }
   ],
   "source": [
    "embeddings_saver.save_embeddings(model, vocab, extension)"
   ]
  }
 ],
 "metadata": {
  "kernelspec": {
   "display_name": "Python 3 (ipykernel)",
   "language": "python",
   "name": "python3"
  },
  "language_info": {
   "codemirror_mode": {
    "name": "ipython",
    "version": 3
   },
   "file_extension": ".py",
   "mimetype": "text/x-python",
   "name": "python",
   "nbconvert_exporter": "python",
   "pygments_lexer": "ipython3",
   "version": "3.8.10"
  }
 },
 "nbformat": 4,
 "nbformat_minor": 1
}
{
 "cells": [
  {
   "cell_type": "markdown",
   "id": "86d640a9",
   "metadata": {
    "pycharm": {
     "name": "#%% md\n"
    }
   },
   "source": [
    "# Create datasets"
   ]
  },
  {
   "cell_type": "code",
   "execution_count": 1,
   "id": "10682f21",
   "metadata": {},
   "outputs": [],
   "source": [
    "%load_ext dotenv\n",
    "%dotenv\n",
    "import os\n",
    "\n",
    "base_dir = os.getenv(\"WORKING_DIR\")\n",
    "os.chdir(base_dir)"
   ]
  },
  {
   "cell_type": "code",
   "execution_count": 2,
   "id": "0741dabc",
   "metadata": {},
   "outputs": [],
   "source": [
    "# Random seed\n",
    "SEED = 88\n",
    "\n",
    "# Splitting data ratios\n",
    "TRAIN_RATIO = 0.7\n",
    "DEV_RATIO = 0.15\n",
    "TEST_RATIO = 0.15\n",
    "\n",
    "# Corpus of Czech Verse directory path\n",
    "CCV_DATA_PATH = \"resources/corpusCzechVerse/ccv\""
   ]
  },
  {
   "cell_type": "code",
   "execution_count": 3,
   "id": "bd3f26bb",
   "metadata": {
    "pycharm": {
     "name": "#%%\n"
    }
   },
   "outputs": [],
   "source": [
    "import glob\n",
    "import json"
   ]
  },
  {
   "cell_type": "code",
   "execution_count": 4,
   "id": "45aa2072",
   "metadata": {
    "pycharm": {
     "name": "#%%\n"
    }
   },
   "outputs": [],
   "source": [
    "from src.data_loader_and_saver import JSONDataLoaderAndSaver\n",
    "\n",
    "data_loader_and_saver = JSONDataLoaderAndSaver(base_dir, input_data_dir=\"src/data\", output_data_dir=\"src/data\")"
   ]
  },
  {
   "cell_type": "code",
   "execution_count": 15,
   "id": "871f87c3",
   "metadata": {
    "pycharm": {
     "name": "#%%\n"
    }
   },
   "outputs": [],
   "source": [
    "from src.kveta.sampa_syllable_parser import SampaSyllableParser\n",
    "from src.util import Util\n",
    "\n",
    "\n",
    "def contains_err(poem_data: dict) -> bool:\n",
    "    \"\"\"\n",
    "    Test if annotated poem data contain annotation error.\n",
    "    Whether number of X-SAMPA syllables and number of positions in the metrical pattern is not equal.\n",
    "    :param poem_data: Data of one poem\n",
    "    :return: Poem data contain annotation error\n",
    "    \"\"\"\n",
    "    sampa_parser = SampaSyllableParser()\n",
    "\n",
    "    for stanza_data in poem_data[\"body\"]:\n",
    "        for line_data in stanza_data:\n",
    "            num_syllables = sum(sampa_parser.get_syllable_cnt(word[\"xsampa\"]) for word in line_data[\"words\"])\n",
    "\n",
    "            for metre in line_data[\"metre\"]:\n",
    "                if len(Util.normalize_metrical_pattern(metre[\"pattern\"])) != num_syllables:\n",
    "                    print(f\"Annotation error, Pattern {metre['pattern']}, Num syllables: {num_syllables}, Text: {line_data['text']}\")\n",
    "                    return True\n",
    "\n",
    "    return False"
   ]
  },
  {
   "cell_type": "code",
   "execution_count": 6,
   "id": "3f26a79d",
   "metadata": {
    "pycharm": {
     "name": "#%%\n"
    }
   },
   "outputs": [],
   "source": [
    "import random\n",
    "\n",
    "\n",
    "def shuffle_data(data: list, seed: int = SEED) -> list:\n",
    "    \"\"\"\n",
    "    Shuffle data.\n",
    "    :param data: Data to shuffle\n",
    "    :param seed: Random seed\n",
    "    :return: Shuffled data\n",
    "    \"\"\"\n",
    "    random.seed(seed)\n",
    "    random.shuffle(data)\n",
    "\n",
    "    return data"
   ]
  },
  {
   "cell_type": "code",
   "execution_count": 7,
   "id": "aa47c5d5",
   "metadata": {},
   "outputs": [],
   "source": [
    "from sklearn.model_selection import train_test_split\n",
    "from typing import Tuple\n",
    "\n",
    "\n",
    "def split_train_dev_test(data: list, train_ratio: float = TRAIN_RATIO, dev_ratio: float = DEV_RATIO, test_ratio: float = TEST_RATIO, seed: int = SEED) -> Tuple[\n",
    "    list]:\n",
    "    \"\"\"\n",
    "    Shuffle data and split it into train, dev and test.\n",
    "    :param data: Data to split\n",
    "    :param train_ratio: Ratio of train data\n",
    "    :param dev_ratio: Ratio of dev data\n",
    "    :param test_ratio: Ratio of test data\n",
    "    :param seed: Random seed\n",
    "    :return: Data splits\n",
    "    \"\"\"\n",
    "    train_data, dev_data = train_test_split(data, train_size=train_ratio, random_state=seed)\n",
    "    dev_data, test_data = train_test_split(dev_data, train_size=dev_ratio / (dev_ratio + test_ratio), random_state=seed)\n",
    "\n",
    "    print(f\"Train data cnt: {len(train_data)}, Dev data cnt: {len(dev_data)}, Test data cnt: {len(test_data)}\")\n",
    "\n",
    "    return train_data, dev_data, test_data"
   ]
  },
  {
   "cell_type": "code",
   "execution_count": 8,
   "id": "dba922a6",
   "metadata": {
    "pycharm": {
     "name": "#%%\n"
    }
   },
   "outputs": [],
   "source": [
    "def get_X(poems_data: list) -> list:\n",
    "    \"\"\"\n",
    "    Create X dataset from poems data.\n",
    "    :param poems_data: Poems data\n",
    "    :return: X dataset from poems data\n",
    "    \"\"\"\n",
    "    return [[[{\n",
    "        \"token_lc\": word[\"token_lc\"],\n",
    "        \"xsampa\": word[\"xsampa\"],\n",
    "        \"morph\": word[\"morph\"],\n",
    "        \"lemma\": word[\"lemma\"],\n",
    "        \"author\": poem[\"p_author\"],\n",
    "        \"year\": poem[\"biblio\"][\"year\"]\n",
    "    } for word in line[\"words\"]] for stanza in poem[\"body\"] for line in stanza] for poem in poems_data]"
   ]
  },
  {
   "cell_type": "code",
   "execution_count": 9,
   "id": "81fe2ec3",
   "metadata": {
    "pycharm": {
     "name": "#%%\n"
    }
   },
   "outputs": [],
   "source": [
    "def get_y(poems_data: list, one_metre: bool = False) -> list:\n",
    "    \"\"\"\n",
    "    Create y dataset from poems data.\n",
    "    :param poems_data: Poems data\n",
    "    :param one_metre: Whether to include all the metres or only the first\n",
    "    :return: y dataset from poems data\n",
    "    \"\"\"\n",
    "    if one_metre:\n",
    "        return [[line[\"metre\"][0] for stanza in poem[\"body\"] for line in stanza] for poem in poems_data]\n",
    "    else:\n",
    "        return [[line['metre'] for stanza in poem['body'] for line in stanza] for poem in poems_data]"
   ]
  },
  {
   "cell_type": "code",
   "execution_count": 10,
   "id": "8508b3f3",
   "metadata": {
    "pycharm": {
     "name": "#%%\n"
    }
   },
   "outputs": [],
   "source": [
    "def get_tokens(poems_data: list) -> list:\n",
    "    \"\"\"\n",
    "    Extract all lowercase tokens from poems data.\n",
    "    :param poems_data: Poems data\n",
    "    :return: Extracted lowercase tokens\n",
    "    \"\"\"\n",
    "    return [[[word[\"token_lc\"] for word in line[\"words\"]] for stanza in poem[\"body\"] for line in stanza] for poem in poems_data]"
   ]
  },
  {
   "cell_type": "code",
   "execution_count": 11,
   "id": "e675833b",
   "metadata": {
    "pycharm": {
     "name": "#%%\n"
    }
   },
   "outputs": [],
   "source": [
    "def get_sampa_tokens(poems_data: list) -> list:\n",
    "    \"\"\"\n",
    "    Extract all X-SAMPA tokens from poems data.\n",
    "    :param poems_data: Poems data\n",
    "    :return: Extracted X-SAMPA tokens\n",
    "    \"\"\"\n",
    "    return [[[word[\"xsampa\"] for word in line[\"words\"]] for stanza in poem[\"body\"] for line in stanza] for poem in poems_data]"
   ]
  },
  {
   "cell_type": "markdown",
   "id": "2823af84",
   "metadata": {},
   "source": [
    "## All poems"
   ]
  },
  {
   "cell_type": "code",
   "execution_count": 12,
   "id": "ec5a2aa5",
   "metadata": {},
   "outputs": [],
   "source": [
    "# Load all data from the Corpus of Czech Verse\n",
    "all_poems_data = []\n",
    "\n",
    "for file in glob.glob(os.path.join(CCV_DATA_PATH, \"*.json\")):\n",
    "    with open(file, \"r\") as f:\n",
    "        data = json.load(f)\n",
    "        all_poems_data += data"
   ]
  },
  {
   "cell_type": "code",
   "execution_count": 13,
   "id": "66757754",
   "metadata": {},
   "outputs": [
    {
     "data": {
      "text/plain": "66428"
     },
     "execution_count": 13,
     "metadata": {},
     "output_type": "execute_result"
    }
   ],
   "source": [
    "len(all_poems_data)"
   ]
  },
  {
   "cell_type": "code",
   "execution_count": 14,
   "id": "7f790055",
   "metadata": {
    "scrolled": false
   },
   "outputs": [
    {
     "data": {
      "text/plain": "{'p_author': {'born': 1875,\n  'died': 1947,\n  'name': 'Bogner, Adolf',\n  'identity': 'Bogner, Adolf'},\n 'biblio': {'motto_aut': None,\n  'b_subtitle': 'Verše',\n  'publisher': 'Bečvan, Jiří; Zapletal, Prokop',\n  'edition': '[1.]',\n  'motto': None,\n  'p_title': 'Nuže, bratří, zapějte mi píseň,',\n  'place': 'Hranice',\n  'dedication': None,\n  'b_title': 'Dělník zpívá...',\n  'pages': '47',\n  'year': '1898',\n  'signature': 'Národní knihovna ČR, Praha; 54 K 9170'},\n 'book_id': '0025',\n 'poem_id': '0001-0000-0000-0001-0000',\n 'b_author': {'born': 1875,\n  'died': 1947,\n  'name': 'Bogner, Adolf',\n  'identity': 'Bogner, Adolf'},\n 'body': [[{'text': 'Nuže, bratří, zapějte mi píseň, ',\n    'punct': {'5': ',', '2': ',', '1': ','},\n    'words': [{'token_lc': 'nuže',\n      'xsampa': 'nuZE',\n      'morph': 'TT--------------',\n      'phoebe': 'nuZe',\n      'token': 'Nuže',\n      'lemma': 'nuže'},\n     {'token_lc': 'bratří',\n      'xsampa': 'bratP\\\\i:',\n      'morph': 'NNMP1-----A---2-',\n      'phoebe': 'bratRI',\n      'token': 'bratří',\n      'lemma': 'bratr'},\n     {'token_lc': 'zapějte',\n      'xsampa': 'zapjEjtE',\n      'morph': 'Vi-P---2--A----P',\n      'phoebe': 'zapjejte',\n      'token': 'zapějte',\n      'lemma': 'zapět'},\n     {'token_lc': 'mi',\n      'xsampa': 'mI',\n      'morph': 'PH-S3--1--------',\n      'phoebe': 'mi',\n      'token': 'mi',\n      'lemma': 'já'},\n     {'token_lc': 'píseň',\n      'xsampa': 'pi:sEJ',\n      'morph': 'NNFS4-----A-----',\n      'phoebe': 'pIseN',\n      'token': 'píseň',\n      'lemma': 'píseň'}],\n    'rhyme': 1,\n    'metre': [{'foot': '5',\n      'clause': 'f',\n      'pattern': 'SWSWSWSWSW',\n      'type': 'T'}],\n    'stress': '1010100010'},\n   {'text': 'nežli vnořím péro v kalamář,',\n    'punct': {'5': ','},\n    'words': [{'token_lc': 'nežli',\n      'xsampa': 'nEZlI',\n      'morph': 'J,--------------',\n      'phoebe': 'neZli',\n      'token': 'nežli',\n      'lemma': 'nežli'},\n     {'token_lc': 'vnořím',\n      'xsampa': 'vnoP\\\\i:m',\n      'morph': 'VB-S---1P-AA---P',\n      'phoebe': 'vnoRIm',\n      'token': 'vnořím',\n      'lemma': 'vnořit'},\n     {'token_lc': 'péro',\n      'xsampa': 'pE:ro',\n      'morph': 'NNNS4-----A---1-',\n      'phoebe': 'pEro',\n      'token': 'péro',\n      'lemma': 'pero'},\n     {'token_lc': 'v',\n      'xsampa': 'f',\n      'morph': 'RR--4-----------',\n      'phoebe': 'f',\n      'token': 'v',\n      'lemma': 'v'},\n     {'token_lc': 'kalamář',\n      'xsampa': 'kalama:P\\\\',\n      'morph': 'NNIS4-----A-----',\n      'phoebe': 'kalamAR',\n      'token': 'kalamář',\n      'lemma': 'kalamář'}],\n    'rhyme': 2,\n    'metre': [{'foot': '5',\n      'clause': 'm',\n      'pattern': 'SWSWSWSWS',\n      'type': 'T'}],\n    'stress': '101010100'},\n   {'text': 'abych nepsal místo slasti tíseň,',\n    'punct': {'5': ','},\n    'words': [{'token_lc': 'abych',\n      'xsampa': 'abIx',\n      'morph': 'J,-S---1--------',\n      'phoebe': 'abix',\n      'token': 'abych',\n      'lemma': 'aby'},\n     {'token_lc': 'nepsal',\n      'xsampa': 'nEpsal',\n      'morph': 'VpMS---1R-NA---I',\n      'phoebe': 'nepsal',\n      'token': 'nepsal',\n      'lemma': 'psát'},\n     {'token_lc': 'místo',\n      'xsampa': 'mi:sto',\n      'morph': 'RR--2-----------',\n      'phoebe': 'mIsto',\n      'token': 'místo',\n      'lemma': 'místo'},\n     {'token_lc': 'slasti',\n      'xsampa': 'slascI',\n      'morph': 'NNFS2-----A-----',\n      'phoebe': 'slasTi',\n      'token': 'slasti',\n      'lemma': 'slast'},\n     {'token_lc': 'tíseň',\n      'xsampa': 'ci:sEJ',\n      'morph': 'NNFS4-----A-----',\n      'phoebe': 'TIseN',\n      'token': 'tíseň',\n      'lemma': 'tíseň'}],\n    'rhyme': 1,\n    'metre': [{'foot': '5',\n      'clause': 'f',\n      'pattern': 'SWSWSWSWSW',\n      'type': 'T'}],\n    'stress': '1010101010'},\n   {'text': 'abych nebyl přede světem lhář.',\n    'punct': {'5': '.'},\n    'words': [{'token_lc': 'abych',\n      'xsampa': 'abIx',\n      'morph': 'J,-S---1--------',\n      'phoebe': 'abix',\n      'token': 'abych',\n      'lemma': 'aby'},\n     {'token_lc': 'nebyl',\n      'xsampa': 'nEbIl',\n      'morph': 'VpMS---3R-NA---I',\n      'phoebe': 'nebil',\n      'token': 'nebyl',\n      'lemma': 'být'},\n     {'token_lc': 'přede',\n      'xsampa': 'pP\\\\EdE',\n      'morph': 'RV--7-----------',\n      'phoebe': 'pRede',\n      'token': 'přede',\n      'lemma': 'před'},\n     {'token_lc': 'světem',\n      'xsampa': 'svjEtEm',\n      'morph': 'NNIS7-----A-----',\n      'phoebe': 'svjetem',\n      'token': 'světem',\n      'lemma': 'svět'},\n     {'token_lc': 'lhář',\n      'xsampa': 'lh\\\\a:P\\\\',\n      'morph': 'NNMS1-----A-----',\n      'phoebe': 'lhAR',\n      'token': 'lhář',\n      'lemma': 'lhář'}],\n    'rhyme': 2,\n    'metre': [{'foot': '5',\n      'clause': 'm',\n      'pattern': 'SWSWSWSWS',\n      'type': 'T'}],\n    'stress': '101010101'}],\n  [{'text': 'Již zpívá jeden. Tak zní to v uši,',\n    'punct': {'3': '.', '8': ','},\n    'words': [{'token_lc': 'již',\n      'xsampa': 'jIS',\n      'morph': 'Db--------------',\n      'phoebe': 'jiS',\n      'token': 'Již',\n      'lemma': 'již'},\n     {'token_lc': 'zpívá',\n      'xsampa': 'spi:va:',\n      'morph': 'VB-S---3P-AA---I',\n      'phoebe': 'spIvA',\n      'token': 'zpívá',\n      'lemma': 'zpívat'},\n     {'token_lc': 'jeden',\n      'xsampa': 'jEdEn',\n      'morph': 'ClIS4-----------',\n      'phoebe': 'jeden',\n      'token': 'jeden',\n      'lemma': 'jeden'},\n     {'token_lc': 'tak',\n      'xsampa': 'tak',\n      'morph': 'Db--------------',\n      'phoebe': 'tak',\n      'token': 'Tak',\n      'lemma': 'tak'},\n     {'token_lc': 'zní',\n      'xsampa': 'zJi:',\n      'morph': 'VB-S---3P-AA---I',\n      'phoebe': 'zNI',\n      'token': 'zní',\n      'lemma': 'znít'},\n     {'token_lc': 'to',\n      'xsampa': 'to',\n      'morph': 'PDNS1-----------',\n      'phoebe': 'to',\n      'token': 'to',\n      'lemma': 'ten'},\n     {'token_lc': 'v',\n      'xsampa': 'f',\n      'morph': 'RR--4-----------',\n      'phoebe': 'f',\n      'token': 'v',\n      'lemma': 'v'},\n     {'token_lc': 'uši',\n      'xsampa': 'uSI',\n      'morph': 'NNFP4-----A-----',\n      'phoebe': 'uSi',\n      'token': 'uši',\n      'lemma': 'ucho'}],\n    'rhyme': 3,\n    'metre': [{'foot': '4',\n      'clause': 'f',\n      'pattern': 'SVWSWSVWSW',\n      'type': 'X'}],\n    'stress': '0101001010'},\n   {'text': 'jak kladivem když v železo buší,',\n    'punct': {'6': ','},\n    'words': [{'token_lc': 'jak',\n      'xsampa': 'jak',\n      'morph': 'Db--------------',\n      'phoebe': 'jak',\n      'token': 'jak',\n      'lemma': 'jak'},\n     {'token_lc': 'kladivem',\n      'xsampa': 'klaJ\\\\IvEm',\n      'morph': 'NNNS7-----A-----',\n      'phoebe': 'klaDivem',\n      'token': 'kladivem',\n      'lemma': 'kladivo'},\n     {'token_lc': 'když',\n      'xsampa': 'gdIS',\n      'morph': 'J,--------------',\n      'phoebe': 'gdiS',\n      'token': 'když',\n      'lemma': 'když'},\n     {'token_lc': 'v',\n      'xsampa': 'v',\n      'morph': 'RR--4-----------',\n      'phoebe': 'v',\n      'token': 'v',\n      'lemma': 'v'},\n     {'token_lc': 'železo',\n      'xsampa': 'ZElEzo',\n      'morph': 'NNNS4-----A-----',\n      'phoebe': 'Zelezo',\n      'token': 'železo',\n      'lemma': 'železo'},\n     {'token_lc': 'buší',\n      'xsampa': 'buSi:',\n      'morph': 'VB-S---3P-AA---I',\n      'phoebe': 'buSI',\n      'token': 'buší',\n      'lemma': 'bušit'}],\n    'rhyme': 3,\n    'metre': [{'foot': '4',\n      'clause': 'f',\n      'pattern': 'SVWSWSVWSW',\n      'type': 'X'}],\n    'stress': '0100010010'},\n   {'text': 'mnohý by řekl: Krásný to zpěv!',\n    'punct': {'3': ':', '6': '!'},\n    'words': [{'token_lc': 'mnohý',\n      'xsampa': 'mnoh\\\\i:',\n      'morph': 'AAIS1----1A-----',\n      'phoebe': 'mnohI',\n      'token': 'mnohý',\n      'lemma': 'mnohý'},\n     {'token_lc': 'by',\n      'xsampa': 'bI',\n      'morph': 'Vc-------------I',\n      'phoebe': 'bi',\n      'token': 'by',\n      'lemma': 'být'},\n     {'token_lc': 'řekl',\n      'xsampa': 'P\\\\Ekl=',\n      'morph': 'VpIS---3R-AA---P',\n      'phoebe': 'RekL',\n      'token': 'řekl',\n      'lemma': 'říci'},\n     {'token_lc': 'krásný',\n      'xsampa': 'kra:sni:',\n      'morph': 'AAIS1----1A-----',\n      'phoebe': 'krAsnI',\n      'token': 'Krásný',\n      'lemma': 'krásný'},\n     {'token_lc': 'to',\n      'xsampa': 'to',\n      'morph': 'PDNS1-----------',\n      'phoebe': 'to',\n      'token': 'to',\n      'lemma': 'ten'},\n     {'token_lc': 'zpěv',\n      'xsampa': 'spjEf',\n      'morph': 'NNIS1-----A-----',\n      'phoebe': 'spjef',\n      'token': 'zpěv',\n      'lemma': 'zpěv'}],\n    'rhyme': 4,\n    'metre': [{'foot': '4',\n      'clause': 'm',\n      'pattern': 'SVWSWSVWS',\n      'type': 'X'}],\n    'stress': '100101001'},\n   {'text': 'Však já v něm vidím dělníka krev.',\n    'punct': {'7': '.'},\n    'words': [{'token_lc': 'však',\n      'xsampa': 'fSak',\n      'morph': 'J^--------------',\n      'phoebe': 'fSak',\n      'token': 'Však',\n      'lemma': 'však'},\n     {'token_lc': 'já',\n      'xsampa': 'ja:',\n      'morph': 'PP-S1--1--------',\n      'phoebe': 'jA',\n      'token': 'já',\n      'lemma': 'já'},\n     {'token_lc': 'v',\n      'xsampa': 'v',\n      'morph': 'RR--6-----------',\n      'phoebe': 'v',\n      'token': 'v',\n      'lemma': 'v'},\n     {'token_lc': 'něm',\n      'xsampa': 'JEm',\n      'morph': 'P5NS6--3--------',\n      'phoebe': 'Nem',\n      'token': 'něm',\n      'lemma': 'on'},\n     {'token_lc': 'vidím',\n      'xsampa': 'vIJ\\\\i:m',\n      'morph': 'VB-S---1P-AA---I',\n      'phoebe': 'viDIm',\n      'token': 'vidím',\n      'lemma': 'vidět'},\n     {'token_lc': 'dělníka',\n      'xsampa': 'J\\\\ElJi:ka',\n      'morph': 'NNMS4-----A-----',\n      'phoebe': 'DelNIka',\n      'token': 'dělníka',\n      'lemma': 'dělník'},\n     {'token_lc': 'krev',\n      'xsampa': 'krEf',\n      'morph': 'NNFS4-----A-----',\n      'phoebe': 'kref',\n      'token': 'krev',\n      'lemma': 'krev'}],\n    'rhyme': 4,\n    'metre': [{'foot': '4',\n      'clause': 'm',\n      'pattern': 'SVWSWSVWS',\n      'type': 'X'}],\n    'stress': '000101001'}],\n  [{'text': 'A druhý zpívá. Chřtán se mu úží,',\n    'punct': {'3': '.', '7': ','},\n    'words': [{'token_lc': 'a',\n      'xsampa': 'a',\n      'morph': 'J^--------------',\n      'phoebe': 'a',\n      'token': 'A',\n      'lemma': 'a'},\n     {'token_lc': 'druhý',\n      'xsampa': 'druh\\\\i:',\n      'morph': 'AAIS1----1A-----',\n      'phoebe': 'druhI',\n      'token': 'druhý',\n      'lemma': 'druhý'},\n     {'token_lc': 'zpívá',\n      'xsampa': 'spi:va:',\n      'morph': 'VB-S---3P-AA---I',\n      'phoebe': 'spIvA',\n      'token': 'zpívá',\n      'lemma': 'zpívat'},\n     {'token_lc': 'chřtán',\n      'xsampa': 'xP\\\\ta:n',\n      'morph': 'NNIS1-----A-----',\n      'phoebe': 'xRtAn',\n      'token': 'Chřtán',\n      'lemma': 'chřtán'},\n     {'token_lc': 'se',\n      'xsampa': 'sE',\n      'morph': 'P7-X4-----------',\n      'phoebe': 'se',\n      'token': 'se',\n      'lemma': 'se'},\n     {'token_lc': 'mu',\n      'xsampa': 'mu',\n      'morph': 'PHIS3--3--------',\n      'phoebe': 'mu',\n      'token': 'mu',\n      'lemma': 'on'},\n     {'token_lc': 'úží',\n      'xsampa': 'u:Zi:',\n      'morph': 'VB-S---3P-AA---I',\n      'phoebe': 'UZI',\n      'token': 'úží',\n      'lemma': 'úžit'}],\n    'rhyme': 5,\n    'metre': [{'foot': '4',\n      'clause': 'f',\n      'pattern': 'SVWSWSVWSW',\n      'type': 'X'}],\n    'stress': '0101010010'},\n   {'text': 'na krku kosti zříš mu přes kůži.',\n    'punct': {'7': '.'},\n    'words': [{'token_lc': 'na',\n      'xsampa': 'na',\n      'morph': 'RR--6-----------',\n      'phoebe': 'na',\n      'token': 'na',\n      'lemma': 'na'},\n     {'token_lc': 'krku',\n      'xsampa': 'kr=ku',\n      'morph': 'NNIS6-----A-----',\n      'phoebe': 'kQku',\n      'token': 'krku',\n      'lemma': 'krk'},\n     {'token_lc': 'kosti',\n      'xsampa': 'koscI',\n      'morph': 'NNFS2-----A-----',\n      'phoebe': 'kosTi',\n      'token': 'kosti',\n      'lemma': 'kost'},\n     {'token_lc': 'zříš',\n      'xsampa': 'zP\\\\i:S',\n      'morph': 'VB-S---2P-AA---I',\n      'phoebe': 'zRIS',\n      'token': 'zříš',\n      'lemma': 'zřít'},\n     {'token_lc': 'mu',\n      'xsampa': 'mu',\n      'morph': 'PHMS3--3--------',\n      'phoebe': 'mu',\n      'token': 'mu',\n      'lemma': 'on'},\n     {'token_lc': 'přes',\n      'xsampa': 'pP\\\\Es',\n      'morph': 'RR--4-----------',\n      'phoebe': 'pRes',\n      'token': 'přes',\n      'lemma': 'přes'},\n     {'token_lc': 'kůži',\n      'xsampa': 'ku:ZI',\n      'morph': 'NNFS4-----A-----',\n      'phoebe': 'kUZi',\n      'token': 'kůži',\n      'lemma': 'kůže'}],\n    'rhyme': 5,\n    'metre': [{'foot': '4',\n      'clause': 'f',\n      'pattern': 'SVWSWSVWSW',\n      'type': 'X'}],\n    'stress': '1001010100'},\n   {'text': 'Zapěl by chuďas, zapěl by rád,',\n    'punct': {'3': ',', '6': ','},\n    'words': [{'token_lc': 'zapěl',\n      'xsampa': 'zapjEl',\n      'morph': 'VpMS---3R-AA---P',\n      'phoebe': 'zapjel',\n      'token': 'Zapěl',\n      'lemma': 'zapět'},\n     {'token_lc': 'by',\n      'xsampa': 'bI',\n      'morph': 'Vc-------------I',\n      'phoebe': 'bi',\n      'token': 'by',\n      'lemma': 'být'},\n     {'token_lc': 'chuďas',\n      'xsampa': 'xuJ\\\\as',\n      'morph': 'NNMS1-----A-----',\n      'phoebe': 'xuDas',\n      'token': 'chuďas',\n      'lemma': 'chuďas'},\n     {'token_lc': 'zapěl',\n      'xsampa': 'zapjEl',\n      'morph': 'VpMS---3R-AA---P',\n      'phoebe': 'zapjel',\n      'token': 'zapěl',\n      'lemma': 'zapět'},\n     {'token_lc': 'by',\n      'xsampa': 'bI',\n      'morph': 'Vc-------------I',\n      'phoebe': 'bi',\n      'token': 'by',\n      'lemma': 'být'},\n     {'token_lc': 'rád',\n      'xsampa': 'ra:t',\n      'morph': 'ACMS------A-----',\n      'phoebe': 'rAt',\n      'token': 'rád',\n      'lemma': 'rád'}],\n    'rhyme': 6,\n    'metre': [{'foot': '4',\n      'clause': 'm',\n      'pattern': 'SVWSWSVWS',\n      'type': 'X'}],\n    'stress': '100101001'},\n   {'text': 'však z jeho nitra ječí mu hlad.',\n    'punct': {'7': '.'},\n    'words': [{'token_lc': 'však',\n      'xsampa': 'fSak',\n      'morph': 'J^--------------',\n      'phoebe': 'fSak',\n      'token': 'však',\n      'lemma': 'však'},\n     {'token_lc': 'z',\n      'xsampa': 'z',\n      'morph': 'RR--2-----------',\n      'phoebe': 'z',\n      'token': 'z',\n      'lemma': 'z'},\n     {'token_lc': 'jeho',\n      'xsampa': 'jEh\\\\o',\n      'morph': 'PSNS2XS3--------',\n      'phoebe': 'jeho',\n      'token': 'jeho',\n      'lemma': 'jeho'},\n     {'token_lc': 'nitra',\n      'xsampa': 'JItra',\n      'morph': 'NNNS2-----A-----',\n      'phoebe': 'Nitra',\n      'token': 'nitra',\n      'lemma': 'nitro'},\n     {'token_lc': 'ječí',\n      'xsampa': 'jEt_Si:',\n      'morph': 'VB-S---3P-AA---I',\n      'phoebe': 'jeCI',\n      'token': 'ječí',\n      'lemma': 'ječet'},\n     {'token_lc': 'mu',\n      'xsampa': 'mu',\n      'morph': 'PHNS3--3--------',\n      'phoebe': 'mu',\n      'token': 'mu',\n      'lemma': 'on'},\n     {'token_lc': 'hlad',\n      'xsampa': 'h\\\\lat',\n      'morph': 'NNIS1-----A-----',\n      'phoebe': 'hlat',\n      'token': 'hlad',\n      'lemma': 'hlad'}],\n    'rhyme': 6,\n    'metre': [{'foot': '4',\n      'clause': 'm',\n      'pattern': 'SVWSWSVWS',\n      'type': 'X'}],\n    'stress': '010101001'}],\n  [{'text': 'A třetí zpívá, líce své šklebě,',\n    'punct': {'3': ',', '6': ','},\n    'words': [{'token_lc': 'a',\n      'xsampa': 'a',\n      'morph': 'J^--------------',\n      'phoebe': 'a',\n      'token': 'A',\n      'lemma': 'a'},\n     {'token_lc': 'třetí',\n      'xsampa': 'tP\\\\Eci:',\n      'morph': 'CrIS1-----------',\n      'phoebe': 'tReTI',\n      'token': 'třetí',\n      'lemma': 'třetí'},\n     {'token_lc': 'zpívá',\n      'xsampa': 'spi:va:',\n      'morph': 'VB-S---3P-AA---I',\n      'phoebe': 'spIvA',\n      'token': 'zpívá',\n      'lemma': 'zpívat'},\n     {'token_lc': 'líce',\n      'xsampa': 'li:t_sE',\n      'morph': 'NNFP4-----A-----',\n      'phoebe': 'lIce',\n      'token': 'líce',\n      'lemma': 'líce'},\n     {'token_lc': 'své',\n      'xsampa': 'svE:',\n      'morph': 'P8FS2---------1-',\n      'phoebe': 'svE',\n      'token': 'své',\n      'lemma': 'svůj'},\n     {'token_lc': 'šklebě',\n      'xsampa': 'SklEbjE',\n      'morph': 'VeMS------A----I',\n      'phoebe': 'Sklebje',\n      'token': 'šklebě',\n      'lemma': 'šklebit'}],\n    'rhyme': 7,\n    'metre': [{'foot': '4',\n      'clause': 'f',\n      'pattern': 'SVWSWSVWSW',\n      'type': 'X'}],\n    'stress': '0101010010'},\n   {'text': 'zpívá o vodě, soli a chlebě,',\n    'punct': {'3': ',', '6': ','},\n    'words': [{'token_lc': 'zpívá',\n      'xsampa': 'spi:va:',\n      'morph': 'VB-S---3P-AA---I',\n      'phoebe': 'spIvA',\n      'token': 'zpívá',\n      'lemma': 'zpívat'},\n     {'token_lc': 'o',\n      'xsampa': 'o',\n      'morph': 'RR--6-----------',\n      'phoebe': 'o',\n      'token': 'o',\n      'lemma': 'o'},\n     {'token_lc': 'vodě',\n      'xsampa': 'voJ\\\\E',\n      'morph': 'NNFS6-----A-----',\n      'phoebe': 'voDe',\n      'token': 'vodě',\n      'lemma': 'voda'},\n     {'token_lc': 'soli',\n      'xsampa': 'solI',\n      'morph': 'NNFS6-----A-----',\n      'phoebe': 'soli',\n      'token': 'soli',\n      'lemma': 'sůl'},\n     {'token_lc': 'a',\n      'xsampa': 'a',\n      'morph': 'J^--------------',\n      'phoebe': 'a',\n      'token': 'a',\n      'lemma': 'a'},\n     {'token_lc': 'chlebě',\n      'xsampa': 'xlEbjE',\n      'morph': 'NNIS6-----A---1-',\n      'phoebe': 'xlebje',\n      'token': 'chlebě',\n      'lemma': 'chléb'}],\n    'rhyme': 7,\n    'metre': [{'foot': '4',\n      'clause': 'f',\n      'pattern': 'SVWSWSVWSW',\n      'type': 'X'}],\n    'stress': '1010010010'},\n   {'text': 'tak pěje z temna v modravou dál',\n    'punct': {},\n    'words': [{'token_lc': 'tak',\n      'xsampa': 'tak',\n      'morph': 'Db--------------',\n      'phoebe': 'tak',\n      'token': 'tak',\n      'lemma': 'tak'},\n     {'token_lc': 'pěje',\n      'xsampa': 'pjEjE',\n      'morph': 'VB-S---3P-AA---I',\n      'phoebe': 'pjeje',\n      'token': 'pěje',\n      'lemma': 'pět'},\n     {'token_lc': 'z',\n      'xsampa': 's',\n      'morph': 'RR--2-----------',\n      'phoebe': 's',\n      'token': 'z',\n      'lemma': 'z'},\n     {'token_lc': 'temna',\n      'xsampa': 'tEmna',\n      'morph': 'NNNS2-----A-----',\n      'phoebe': 'temna',\n      'token': 'temna',\n      'lemma': 'temno'},\n     {'token_lc': 'v',\n      'xsampa': 'v',\n      'morph': 'RR--4-----------',\n      'phoebe': 'v',\n      'token': 'v',\n      'lemma': 'v'},\n     {'token_lc': 'modravou',\n      'xsampa': 'modravo_u',\n      'morph': 'AAFS4----1A-----',\n      'phoebe': 'modrav0',\n      'token': 'modravou',\n      'lemma': 'modravý'},\n     {'token_lc': 'dál',\n      'xsampa': 'da:l',\n      'morph': 'Db--------------',\n      'phoebe': 'dAl',\n      'token': 'dál',\n      'lemma': 'dále'}],\n    'rhyme': 8,\n    'metre': [{'foot': '4',\n      'clause': 'm',\n      'pattern': 'SVWSWSVWS',\n      'type': 'X'}],\n    'stress': '010101000'},\n   {'text': 'a v písni jeho ukryt je žal.',\n    'punct': {'7': '.'},\n    'words': [{'token_lc': 'a',\n      'xsampa': 'a',\n      'morph': 'J^--------------',\n      'phoebe': 'a',\n      'token': 'a',\n      'lemma': 'a'},\n     {'token_lc': 'v',\n      'xsampa': 'f',\n      'morph': 'RR--6-----------',\n      'phoebe': 'f',\n      'token': 'v',\n      'lemma': 'v'},\n     {'token_lc': 'písni',\n      'xsampa': 'pi:sJI',\n      'morph': 'NNFS6-----A-----',\n      'phoebe': 'pIsNi',\n      'token': 'písni',\n      'lemma': 'píseň'},\n     {'token_lc': 'jeho',\n      'xsampa': 'jEh\\\\o',\n      'morph': 'PPMS4--3--------',\n      'phoebe': 'jeho',\n      'token': 'jeho',\n      'lemma': 'on'},\n     {'token_lc': 'ukryt',\n      'xsampa': 'ukrIt',\n      'morph': 'VsIS---3P-AP---P',\n      'phoebe': 'ukrit',\n      'token': 'ukryt',\n      'lemma': 'ukrýt'},\n     {'token_lc': 'je',\n      'xsampa': 'jE',\n      'morph': 'VB-S---3P-AA---I',\n      'phoebe': 'je',\n      'token': 'je',\n      'lemma': 'být'},\n     {'token_lc': 'žal',\n      'xsampa': 'Zal',\n      'morph': 'NNIS1-----A-----',\n      'phoebe': 'Zal',\n      'token': 'žal',\n      'lemma': 'žal'}],\n    'rhyme': 8,\n    'metre': [{'foot': '4',\n      'clause': 'm',\n      'pattern': 'SVWSWSVWS',\n      'type': 'X'}],\n    'stress': '010101001'}],\n  [{'text': 'Dosti, bratři, dosti zpěvu toho,',\n    'punct': {'5': ',', '2': ',', '1': ','},\n    'words': [{'token_lc': 'dosti',\n      'xsampa': 'doscI',\n      'morph': 'Dg-------1A---3-',\n      'phoebe': 'dosTi',\n      'token': 'Dosti',\n      'lemma': 'dost'},\n     {'token_lc': 'bratři',\n      'xsampa': 'bratP\\\\I',\n      'morph': 'NNMP1-----A-----',\n      'phoebe': 'bratRi',\n      'token': 'bratři',\n      'lemma': 'bratr'},\n     {'token_lc': 'dosti',\n      'xsampa': 'doscI',\n      'morph': 'Dg-------1A---3-',\n      'phoebe': 'dosTi',\n      'token': 'dosti',\n      'lemma': 'dost'},\n     {'token_lc': 'zpěvu',\n      'xsampa': 'spjEvu',\n      'morph': 'NNIS2-----A-----',\n      'phoebe': 'spjevu',\n      'token': 'zpěvu',\n      'lemma': 'zpěv'},\n     {'token_lc': 'toho',\n      'xsampa': 'toh\\\\o',\n      'morph': 'PDIS2-----------',\n      'phoebe': 'toho',\n      'token': 'toho',\n      'lemma': 'ten'}],\n    'rhyme': 9,\n    'metre': [{'foot': '5',\n      'clause': 'f',\n      'pattern': 'SWSWSWSWSW',\n      'type': 'T'}],\n    'stress': '1010101010'},\n   {'text': 'již se ruka péra chopila,',\n    'punct': {'5': ','},\n    'words': [{'token_lc': 'již',\n      'xsampa': 'jIS',\n      'morph': 'Db--------------',\n      'phoebe': 'jiS',\n      'token': 'již',\n      'lemma': 'již'},\n     {'token_lc': 'se',\n      'xsampa': 'sE',\n      'morph': 'P7-X4-----------',\n      'phoebe': 'se',\n      'token': 'se',\n      'lemma': 'se'},\n     {'token_lc': 'ruka',\n      'xsampa': 'ruka',\n      'morph': 'NNFS1-----A-----',\n      'phoebe': 'ruka',\n      'token': 'ruka',\n      'lemma': 'ruka'},\n     {'token_lc': 'péra',\n      'xsampa': 'pE:ra',\n      'morph': 'NNNS2-----A---1-',\n      'phoebe': 'pEra',\n      'token': 'péra',\n      'lemma': 'pero'},\n     {'token_lc': 'chopila',\n      'xsampa': 'xopIla',\n      'morph': 'VpFS---3R-AA---P',\n      'phoebe': 'xopila',\n      'token': 'chopila',\n      'lemma': 'chopit'}],\n    'rhyme': 10,\n    'metre': [{'foot': '5',\n      'clause': 'm',\n      'pattern': 'SWSWSWSWS',\n      'type': 'T'}],\n    'stress': '001010100'},\n   {'text': 'píši již, vím písní mnoho, mnoho,',\n    'punct': {'5': ',', '2': ',', '6': ','},\n    'words': [{'token_lc': 'píši',\n      'xsampa': 'pi:SI',\n      'morph': 'VB-S---1P-AA--1I',\n      'phoebe': 'pISi',\n      'token': 'píši',\n      'lemma': 'psát'},\n     {'token_lc': 'již',\n      'xsampa': 'jIS',\n      'morph': 'Db--------------',\n      'phoebe': 'jiS',\n      'token': 'již',\n      'lemma': 'již'},\n     {'token_lc': 'vím',\n      'xsampa': 'vi:m',\n      'morph': 'VB-S---1P-AA---I',\n      'phoebe': 'vIm',\n      'token': 'vím',\n      'lemma': 'vědět'},\n     {'token_lc': 'písní',\n      'xsampa': 'pi:sJi:',\n      'morph': 'NNFP2-----A-----',\n      'phoebe': 'pIsNI',\n      'token': 'písní',\n      'lemma': 'píseň'},\n     {'token_lc': 'mnoho',\n      'xsampa': 'mnoh\\\\o',\n      'morph': 'Ca--4-----------',\n      'phoebe': 'mnoho',\n      'token': 'mnoho',\n      'lemma': 'mnoho'},\n     {'token_lc': 'mnoho',\n      'xsampa': 'mnoh\\\\o',\n      'morph': 'Ca--1-----------',\n      'phoebe': 'mnoho',\n      'token': 'mnoho',\n      'lemma': 'mnoho'}],\n    'rhyme': 9,\n    'metre': [{'foot': '5',\n      'clause': 'f',\n      'pattern': 'SWSWSWSWSW',\n      'type': 'T'}],\n    'stress': '1001101010'},\n   {'text': 'hlava moje je z nich opilá.',\n    'punct': {'6': '.'},\n    'words': [{'token_lc': 'hlava',\n      'xsampa': 'h\\\\lava',\n      'morph': 'NNFS1-----A-----',\n      'phoebe': 'hlava',\n      'token': 'hlava',\n      'lemma': 'hlava'},\n     {'token_lc': 'moje',\n      'xsampa': 'mojE',\n      'morph': 'PSFS1-S1--------',\n      'phoebe': 'moje',\n      'token': 'moje',\n      'lemma': 'můj'},\n     {'token_lc': 'je',\n      'xsampa': 'jE',\n      'morph': 'VB-S---3P-AA---I',\n      'phoebe': 'je',\n      'token': 'je',\n      'lemma': 'být'},\n     {'token_lc': 'z',\n      'xsampa': 'z',\n      'morph': 'RR--2-----------',\n      'phoebe': 'z',\n      'token': 'z',\n      'lemma': 'z'},\n     {'token_lc': 'nich',\n      'xsampa': 'JIx',\n      'morph': 'P5IP2--3--------',\n      'phoebe': 'Nix',\n      'token': 'nich',\n      'lemma': 'oni'},\n     {'token_lc': 'opilá',\n      'xsampa': 'opIla:',\n      'morph': 'AAFS1----1A-----',\n      'phoebe': 'opilA',\n      'token': 'opilá',\n      'lemma': 'opilý'}],\n    'rhyme': 10,\n    'metre': [{'foot': '5',\n      'clause': 'm',\n      'pattern': 'SWSWSWSWS',\n      'type': 'T'}],\n    'stress': '101000100'}]],\n 'results': {'poem': None}}"
     },
     "execution_count": 14,
     "metadata": {},
     "output_type": "execute_result"
    }
   ],
   "source": [
    "all_poems_data[0]"
   ]
  },
  {
   "cell_type": "code",
   "execution_count": 15,
   "id": "4a49be42",
   "metadata": {
    "pycharm": {
     "name": "#%%\n"
    }
   },
   "outputs": [],
   "source": [
    "all_poems_data = shuffle_data(all_poems_data)"
   ]
  },
  {
   "cell_type": "code",
   "execution_count": 16,
   "id": "4045a866",
   "metadata": {
    "pycharm": {
     "name": "#%%\n"
    }
   },
   "outputs": [
    {
     "data": {
      "text/plain": "{'p_author': {'born': 1853,\n  'died': 1912,\n  'name': 'Vrchlický, Jaroslav',\n  'identity': 'Vrchlický, Jaroslav'},\n 'biblio': {'motto_aut': None,\n  'b_subtitle': 'Padesát obrazů a kreseb Ferdinanda Engelmüllera',\n  'publisher': 'Vrchlický, Jaroslav; Leschinger, Edvard',\n  'edition': '[1.]',\n  'motto': None,\n  'p_title': 'PODZIM V PARKU',\n  'place': 'Praha',\n  'dedication': None,\n  'b_title': 'Nálady a pohádky',\n  'pages': '107',\n  'year': '1902',\n  'signature': 'Národní knihovna ČR, Praha; 54 A 683'},\n 'book_id': '1048',\n 'poem_id': '0001-0001-0001-0003-0000',\n 'b_author': {'born': 1853,\n  'died': 1912,\n  'name': 'Vrchlický, Jaroslav',\n  'identity': 'Vrchlický, Jaroslav'},\n 'body': [[{'text': 'Chmurná jeseň šerým stínem v starý park se vkrádá,',\n    'punct': {'9': ','},\n    'words': [{'token_lc': 'chmurná',\n      'xsampa': 'xmurna:',\n      'morph': 'AAFS1----1A-----',\n      'phoebe': 'xmurnA',\n      'token': 'Chmurná',\n      'lemma': 'chmurný'},\n     {'token_lc': 'jeseň',\n      'xsampa': 'jEsEJ',\n      'morph': 'NNFS1-----A-----',\n      'phoebe': 'jeseN',\n      'token': 'jeseň',\n      'lemma': 'jeseň'},\n     {'token_lc': 'šerým',\n      'xsampa': 'SEri:m',\n      'morph': 'AAIS7----1A-----',\n      'phoebe': 'SerIm',\n      'token': 'šerým',\n      'lemma': 'šerý'},\n     {'token_lc': 'stínem',\n      'xsampa': 'sci:nEm',\n      'morph': 'NNIS7-----A-----',\n      'phoebe': 'sTInem',\n      'token': 'stínem',\n      'lemma': 'stín'},\n     {'token_lc': 'v',\n      'xsampa': 'f',\n      'morph': 'RR--4-----------',\n      'phoebe': 'f',\n      'token': 'v',\n      'lemma': 'v'},\n     {'token_lc': 'starý',\n      'xsampa': 'stari:',\n      'morph': 'AAIS4----1A-----',\n      'phoebe': 'starI',\n      'token': 'starý',\n      'lemma': 'starý'},\n     {'token_lc': 'park',\n      'xsampa': 'park',\n      'morph': 'NNIS4-----A-----',\n      'phoebe': 'park',\n      'token': 'park',\n      'lemma': 'park'},\n     {'token_lc': 'se',\n      'xsampa': 'sE',\n      'morph': 'P7-X4-----------',\n      'phoebe': 'se',\n      'token': 'se',\n      'lemma': 'se'},\n     {'token_lc': 'vkrádá',\n      'xsampa': 'fkra:da:',\n      'morph': 'VB-S---3P-AA---I',\n      'phoebe': 'fkrAdA',\n      'token': 'vkrádá',\n      'lemma': 'vkrádat'}],\n    'rhyme': 1,\n    'metre': [{'foot': '7',\n      'clause': 'f',\n      'pattern': 'SWSWSWSWSWSWSW',\n      'type': 'T'}],\n    'stress': '10101010101010'},\n   {'text': 'na Flory a na Pomony žluté listí padá.',\n    'punct': {'8': '.'},\n    'words': [{'token_lc': 'na',\n      'xsampa': 'na',\n      'morph': 'RR--4-----------',\n      'phoebe': 'na',\n      'token': 'na',\n      'lemma': 'na'},\n     {'token_lc': 'flory',\n      'xsampa': 'florI',\n      'morph': 'NNMP4-----A-----',\n      'phoebe': 'flori',\n      'token': 'Flory',\n      'lemma': 'Flor'},\n     {'token_lc': 'a',\n      'xsampa': 'a',\n      'morph': 'J^--------------',\n      'phoebe': 'a',\n      'token': 'a',\n      'lemma': 'a'},\n     {'token_lc': 'na',\n      'xsampa': 'na',\n      'morph': 'RR--4-----------',\n      'phoebe': 'na',\n      'token': 'na',\n      'lemma': 'na'},\n     {'token_lc': 'pomony',\n      'xsampa': 'pomonI',\n      'morph': 'NNFP4-----A-----',\n      'phoebe': 'pomoni',\n      'token': 'Pomony',\n      'lemma': 'Pomona'},\n     {'token_lc': 'žluté',\n      'xsampa': 'ZlutE:',\n      'morph': 'AANS1----1A-----',\n      'phoebe': 'ZlutE',\n      'token': 'žluté',\n      'lemma': 'žlutý'},\n     {'token_lc': 'listí',\n      'xsampa': 'lIsci:',\n      'morph': 'NNNS1-----A-----',\n      'phoebe': 'lisTI',\n      'token': 'listí',\n      'lemma': 'listí'},\n     {'token_lc': 'padá',\n      'xsampa': 'pada:',\n      'morph': 'VB-S---3P-AA---I',\n      'phoebe': 'padA',\n      'token': 'padá',\n      'lemma': 'padat'}],\n    'rhyme': 1,\n    'metre': [{'foot': '7',\n      'clause': 'f',\n      'pattern': 'SWSWSWSWSWSWSW',\n      'type': 'T'}],\n    'stress': '10001000101010'}],\n  [{'text': 'Pod severu chladným větrem rybník zimomřivý',\n    'punct': {},\n    'words': [{'token_lc': 'pod',\n      'xsampa': 'pot',\n      'morph': 'RR--7-----------',\n      'phoebe': 'pot',\n      'token': 'Pod',\n      'lemma': 'pod'},\n     {'token_lc': 'severu',\n      'xsampa': 'sEvEru',\n      'morph': 'NNIS3-----A-----',\n      'phoebe': 'severu',\n      'token': 'severu',\n      'lemma': 'sever'},\n     {'token_lc': 'chladným',\n      'xsampa': 'xladni:m',\n      'morph': 'AAIS7----1A-----',\n      'phoebe': 'xladnIm',\n      'token': 'chladným',\n      'lemma': 'chladný'},\n     {'token_lc': 'větrem',\n      'xsampa': 'vjEtrEm',\n      'morph': 'NNIS7-----A-----',\n      'phoebe': 'vjetrem',\n      'token': 'větrem',\n      'lemma': 'vítr'},\n     {'token_lc': 'rybník',\n      'xsampa': 'rIbJi:k',\n      'morph': 'NNIS1-----A-----',\n      'phoebe': 'ribNIk',\n      'token': 'rybník',\n      'lemma': 'rybník'},\n     {'token_lc': 'zimomřivý',\n      'xsampa': 'zImomP\\\\Ivi:',\n      'morph': 'AAIS1----1A-----',\n      'phoebe': 'zimomRivI',\n      'token': 'zimomřivý',\n      'lemma': 'zimomřivý'}],\n    'rhyme': 2,\n    'metre': [{'foot': '7',\n      'clause': 'f',\n      'pattern': 'SWSWSWSWSWSWSW',\n      'type': 'T'}],\n    'stress': '10001010101000'},\n   {'text': 'chvěje se a čeří, zdouvá – vzdychnou staré jívy.',\n    'punct': {'5': '–', '4': ',', '8': '.'},\n    'words': [{'token_lc': 'chvěje',\n      'xsampa': 'xvjEjE',\n      'morph': 'VB-S---3P-AA---I',\n      'phoebe': 'xvjeje',\n      'token': 'chvěje',\n      'lemma': 'chvět'},\n     {'token_lc': 'se',\n      'xsampa': 'sE',\n      'morph': 'P7-X4-----------',\n      'phoebe': 'se',\n      'token': 'se',\n      'lemma': 'se'},\n     {'token_lc': 'a',\n      'xsampa': 'a',\n      'morph': 'J^--------------',\n      'phoebe': 'a',\n      'token': 'a',\n      'lemma': 'a'},\n     {'token_lc': 'čeří',\n      'xsampa': 't_SEP\\\\i:',\n      'morph': 'VB-S---3P-AA---I',\n      'phoebe': 'CeRI',\n      'token': 'čeří',\n      'lemma': 'čeřit'},\n     {'token_lc': 'zdouvá',\n      'xsampa': 'zdo_uva:',\n      'morph': 'VB-S---3P-AA---I',\n      'phoebe': 'zd0vA',\n      'token': 'zdouvá',\n      'lemma': 'zdouvat'},\n     {'token_lc': 'vzdychnou',\n      'xsampa': 'vzdIxno_u',\n      'morph': 'VB-P---3P-AA---P',\n      'phoebe': 'vzdixn0',\n      'token': 'vzdychnou',\n      'lemma': 'vzdychnout'},\n     {'token_lc': 'staré',\n      'xsampa': 'starE:',\n      'morph': 'AAFP4----1A-----',\n      'phoebe': 'starE',\n      'token': 'staré',\n      'lemma': 'starý'},\n     {'token_lc': 'jívy',\n      'xsampa': 'ji:vI',\n      'morph': 'NNFP4-----A-----',\n      'phoebe': 'jIvi',\n      'token': 'jívy',\n      'lemma': 'jíva'}],\n    'rhyme': 2,\n    'metre': [{'foot': '7',\n      'clause': 'f',\n      'pattern': 'SWSWSWSWSWSWSW',\n      'type': 'T'}],\n    'stress': '10001010101010'}],\n  [{'text': 'Celá vesna, celé léto loučí se v tom vzdechu,',\n    'punct': {'9': ',', '2': ','},\n    'words': [{'token_lc': 'celá',\n      'xsampa': 't_sEla:',\n      'morph': 'AAFS1----1A-----',\n      'phoebe': 'celA',\n      'token': 'Celá',\n      'lemma': 'celý'},\n     {'token_lc': 'vesna',\n      'xsampa': 'vEsna',\n      'morph': 'NNFS1-----A-----',\n      'phoebe': 'vesna',\n      'token': 'vesna',\n      'lemma': 'vesna'},\n     {'token_lc': 'celé',\n      'xsampa': 't_sElE:',\n      'morph': 'AANS1----1A-----',\n      'phoebe': 'celE',\n      'token': 'celé',\n      'lemma': 'celý'},\n     {'token_lc': 'léto',\n      'xsampa': 'lE:to',\n      'morph': 'NNNS1-----A-----',\n      'phoebe': 'lEto',\n      'token': 'léto',\n      'lemma': 'léto'},\n     {'token_lc': 'loučí',\n      'xsampa': 'lo_ut_Si:',\n      'morph': 'VB-S---3P-AA---I',\n      'phoebe': 'l0CI',\n      'token': 'loučí',\n      'lemma': 'loučit'},\n     {'token_lc': 'se',\n      'xsampa': 'sE',\n      'morph': 'P7-X4-----------',\n      'phoebe': 'se',\n      'token': 'se',\n      'lemma': 'se'},\n     {'token_lc': 'v',\n      'xsampa': 'f',\n      'morph': 'RR--6-----------',\n      'phoebe': 'f',\n      'token': 'v',\n      'lemma': 'v'},\n     {'token_lc': 'tom',\n      'xsampa': 'tom',\n      'morph': 'PDIS6-----------',\n      'phoebe': 'tom',\n      'token': 'tom',\n      'lemma': 'ten'},\n     {'token_lc': 'vzdechu',\n      'xsampa': 'vzdExu',\n      'morph': 'NNIS6-----A-----',\n      'phoebe': 'vzdexu',\n      'token': 'vzdechu',\n      'lemma': 'vzdech'}],\n    'rhyme': 3,\n    'metre': [{'foot': '7',\n      'clause': 'f',\n      'pattern': 'SWSWSWSWSWSWSW',\n      'type': 'T'}],\n    'stress': '10101010100010'},\n   {'text': 'než vše dozní v chvíli pozdní ve posledním echu.',\n    'punct': {'9': '.'},\n    'words': [{'token_lc': 'než',\n      'xsampa': 'nES',\n      'morph': 'J,--------------',\n      'phoebe': 'neS',\n      'token': 'než',\n      'lemma': 'než'},\n     {'token_lc': 'vše',\n      'xsampa': 'fSE',\n      'morph': 'PLNS1---------1-',\n      'phoebe': 'fSe',\n      'token': 'vše',\n      'lemma': 'všechen'},\n     {'token_lc': 'dozní',\n      'xsampa': 'dozJi:',\n      'morph': 'VB-S---3P-AA---P',\n      'phoebe': 'dozNI',\n      'token': 'dozní',\n      'lemma': 'doznít'},\n     {'token_lc': 'v',\n      'xsampa': 'f',\n      'morph': 'RR--6-----------',\n      'phoebe': 'f',\n      'token': 'v',\n      'lemma': 'v'},\n     {'token_lc': 'chvíli',\n      'xsampa': 'xvi:lI',\n      'morph': 'NNFS6-----A-----',\n      'phoebe': 'xvIli',\n      'token': 'chvíli',\n      'lemma': 'chvíle'},\n     {'token_lc': 'pozdní',\n      'xsampa': 'pozdJi:',\n      'morph': 'AAFS6----1A-----',\n      'phoebe': 'pozdNI',\n      'token': 'pozdní',\n      'lemma': 'pozdní'},\n     {'token_lc': 've',\n      'xsampa': 'vE',\n      'morph': 'RV--6-----------',\n      'phoebe': 've',\n      'token': 've',\n      'lemma': 'v'},\n     {'token_lc': 'posledním',\n      'xsampa': 'poslEdJi:m',\n      'morph': 'AANS6----1A-----',\n      'phoebe': 'posledNIm',\n      'token': 'posledním',\n      'lemma': 'poslední'},\n     {'token_lc': 'echu',\n      'xsampa': 'Exu',\n      'morph': 'NNNS6-----A-----',\n      'phoebe': 'exu',\n      'token': 'echu',\n      'lemma': 'echo'}],\n    'rhyme': 3,\n    'metre': [{'foot': '7',\n      'clause': 'f',\n      'pattern': 'SWSWSWSWSWSWSW',\n      'type': 'T'}],\n    'stress': '00101010100010'}]],\n 'results': {'poem': None}}"
     },
     "execution_count": 16,
     "metadata": {},
     "output_type": "execute_result"
    }
   ],
   "source": [
    "all_poems_data[0]"
   ]
  },
  {
   "cell_type": "code",
   "execution_count": 17,
   "id": "bab64f68",
   "metadata": {},
   "outputs": [
    {
     "name": "stdout",
     "output_type": "stream",
     "text": [
      "Data saved to all_poems_data.json\n"
     ]
    }
   ],
   "source": [
    "data_loader_and_saver.save_data(all_poems_data, \"all_poems_data\")"
   ]
  },
  {
   "cell_type": "code",
   "execution_count": 18,
   "id": "cedcebfc",
   "metadata": {
    "pycharm": {
     "name": "#%%\n"
    }
   },
   "outputs": [],
   "source": [
    "all_poems_data_X = get_X(all_poems_data)"
   ]
  },
  {
   "cell_type": "code",
   "execution_count": 19,
   "id": "37416bc6",
   "metadata": {
    "pycharm": {
     "name": "#%%\n"
    }
   },
   "outputs": [
    {
     "name": "stdout",
     "output_type": "stream",
     "text": [
      "Data saved to all_poems_data_X.json\n"
     ]
    }
   ],
   "source": [
    "data_loader_and_saver.save_data(all_poems_data_X, \"all_poems_data_X\")"
   ]
  },
  {
   "cell_type": "code",
   "execution_count": 20,
   "id": "8898c1e3",
   "metadata": {
    "pycharm": {
     "name": "#%%\n"
    }
   },
   "outputs": [],
   "source": [
    "all_poems_data_y = get_y(all_poems_data)"
   ]
  },
  {
   "cell_type": "code",
   "execution_count": 21,
   "id": "14e62710",
   "metadata": {
    "pycharm": {
     "name": "#%%\n"
    }
   },
   "outputs": [
    {
     "name": "stdout",
     "output_type": "stream",
     "text": [
      "Data saved to all_poems_data_y.json\n"
     ]
    }
   ],
   "source": [
    "data_loader_and_saver.save_data(all_poems_data_y, \"all_poems_data_y\")"
   ]
  },
  {
   "cell_type": "markdown",
   "id": "879c1d00",
   "metadata": {},
   "source": [
    "## Poems with all metres recognized and without annotation errors"
   ]
  },
  {
   "cell_type": "code",
   "execution_count": 16,
   "id": "f8abaa23",
   "metadata": {},
   "outputs": [
    {
     "name": "stdout",
     "output_type": "stream",
     "text": [
      "Annotation error, Pattern WSWSWSWSWSW, Num syllables: 10, Text: Tak jako vždy. Lui, Monsieur et Madame.\n",
      "Annotation error, Pattern WSWSWSWSWSW, Num syllables: 10, Text: Tak jako vždy. Lui, Monsieur et Madame.\n",
      "Annotation error, Pattern WSWSWSWSWS, Num syllables: 9, Text: A teď ztich’ její šum, už nelze pít,\n"
     ]
    }
   ],
   "source": [
    "all_poems_data_all_metres_recognized_without_err = []\n",
    "\n",
    "# For all data from the Corpus of Czech Verse\n",
    "for file in glob.glob(os.path.join(CCV_DATA_PATH, \"*.json\")):\n",
    "    with open(file, \"r\") as f:\n",
    "        data = json.load(f)\n",
    "\n",
    "        for poem in data:\n",
    "            # Include only poems without annotation errors and with no unknown metres\n",
    "            if not contains_err(poem) and not any(metre[\"type\"] == \"N\" for stanza in poem[\"body\"] for line in stanza for metre in line[\"metre\"]):\n",
    "                all_poems_data_all_metres_recognized_without_err.append(poem)"
   ]
  },
  {
   "cell_type": "code",
   "execution_count": 13,
   "id": "4bb516d0",
   "metadata": {},
   "outputs": [
    {
     "data": {
      "text/plain": [
       "60455"
      ]
     },
     "execution_count": 13,
     "metadata": {},
     "output_type": "execute_result"
    }
   ],
   "source": [
    "len(all_poems_data_all_metres_recognized_without_err)"
   ]
  },
  {
   "cell_type": "markdown",
   "id": "b6954261",
   "metadata": {
    "pycharm": {
     "name": "#%% md\n"
    }
   },
   "source": [
    "### Compare metrical positions\n",
    "- '-': radif position\n",
    "- 'X': unknown position"
   ]
  },
  {
   "cell_type": "code",
   "execution_count": 14,
   "id": "19cdbfe3",
   "metadata": {
    "pycharm": {
     "name": "#%%\n"
    }
   },
   "outputs": [],
   "source": [
    "from collections import Counter\n",
    "\n",
    "\n",
    "def get_all_metrical_positions(poems_data: list) -> Counter:\n",
    "    \"\"\"\n",
    "    Return counter of all metrical positions inside poems data.\n",
    "    :param poems_data: Poems data\n",
    "    :return: Counter of all metrical positions\n",
    "    \"\"\"\n",
    "    return Counter((c for poem in poems_data for stanza in poem['body'] for line in stanza for metre in line['metre'] for c in metre['pattern']))"
   ]
  },
  {
   "cell_type": "code",
   "execution_count": 24,
   "id": "89f07096",
   "metadata": {},
   "outputs": [
    {
     "data": {
      "text/plain": [
       "Counter({'S': 9417830, 'W': 9796919, 'V': 353176, 'X': 2340974, '-': 653})"
      ]
     },
     "execution_count": 24,
     "metadata": {},
     "output_type": "execute_result"
    }
   ],
   "source": [
    "metrical_positions_all_poems = get_all_metrical_positions(all_poems_data)\n",
    "metrical_positions_all_poems"
   ]
  },
  {
   "cell_type": "code",
   "execution_count": 16,
   "id": "fac2f8b9",
   "metadata": {},
   "outputs": [
    {
     "data": {
      "text/plain": [
       "Counter({'S': 9320946, 'W': 9700539, 'V': 351895, '-': 615})"
      ]
     },
     "execution_count": 16,
     "metadata": {},
     "output_type": "execute_result"
    }
   ],
   "source": [
    "metrical_positions_all_metres_recognized_without_err = get_all_metrical_positions(all_poems_data_all_metres_recognized_without_err)\n",
    "metrical_positions_all_metres_recognized_without_err"
   ]
  },
  {
   "cell_type": "markdown",
   "id": "b904828e",
   "metadata": {},
   "source": [
    "## All poems just 1 metre, no unknown metres"
   ]
  },
  {
   "cell_type": "code",
   "execution_count": 17,
   "id": "6b18421f",
   "metadata": {},
   "outputs": [],
   "source": [
    "extension = \"_one_metre_all_metres_recognized\""
   ]
  },
  {
   "cell_type": "code",
   "execution_count": 18,
   "id": "01fe8977",
   "metadata": {},
   "outputs": [],
   "source": [
    "poems_data_one_metre_all_metres_recognized = []\n",
    "\n",
    "for poem in all_poems_data_all_metres_recognized_without_err:\n",
    "    poem_metres = {metre['type'] for stanza in poem['body'] for line in stanza for metre in line['metre']}\n",
    "\n",
    "    # Only add poems with just one metre assigned to all its lines\n",
    "    if len(poem_metres) == 1:\n",
    "        poems_data_one_metre_all_metres_recognized.append(poem)"
   ]
  },
  {
   "cell_type": "code",
   "execution_count": 19,
   "id": "458cda01",
   "metadata": {},
   "outputs": [
    {
     "data": {
      "text/plain": [
       "57339"
      ]
     },
     "execution_count": 19,
     "metadata": {},
     "output_type": "execute_result"
    }
   ],
   "source": [
    "len(poems_data_one_metre_all_metres_recognized)"
   ]
  },
  {
   "cell_type": "code",
   "execution_count": 20,
   "id": "1f09d150",
   "metadata": {
    "pycharm": {
     "name": "#%%\n"
    }
   },
   "outputs": [
    {
     "data": {
      "text/plain": [
       "{'p_author': {'born': 1875,\n",
       "  'died': 1947,\n",
       "  'name': 'Bogner, Adolf',\n",
       "  'identity': 'Bogner, Adolf'},\n",
       " 'biblio': {'motto_aut': None,\n",
       "  'b_subtitle': 'Verše',\n",
       "  'publisher': 'Bečvan, Jiří; Zapletal, Prokop',\n",
       "  'edition': '[1.]',\n",
       "  'motto': None,\n",
       "  'p_title': 'TUŽBA.',\n",
       "  'place': 'Hranice',\n",
       "  'dedication': None,\n",
       "  'b_title': 'Dělník zpívá...',\n",
       "  'pages': '47',\n",
       "  'year': '1898',\n",
       "  'signature': 'Národní knihovna ČR, Praha; 54 K 9170'},\n",
       " 'book_id': '0025',\n",
       " 'poem_id': '0001-0000-0000-0002-0000',\n",
       " 'b_author': {'born': 1875,\n",
       "  'died': 1947,\n",
       "  'name': 'Bogner, Adolf',\n",
       "  'identity': 'Bogner, Adolf'},\n",
       " 'body': [[{'text': 'Když k práci chvátám z rána,',\n",
       "    'punct': {'6': ','},\n",
       "    'words': [{'token_lc': 'když',\n",
       "      'xsampa': 'gdIS',\n",
       "      'morph': 'J,--------------',\n",
       "      'phoebe': 'gdiS',\n",
       "      'token': 'Když',\n",
       "      'lemma': 'když'},\n",
       "     {'token_lc': 'k',\n",
       "      'xsampa': 'k',\n",
       "      'morph': 'RR--3-----------',\n",
       "      'phoebe': 'k',\n",
       "      'token': 'k',\n",
       "      'lemma': 'k'},\n",
       "     {'token_lc': 'práci',\n",
       "      'xsampa': 'pra:t_sI',\n",
       "      'morph': 'NNFS3-----A-----',\n",
       "      'phoebe': 'prAci',\n",
       "      'token': 'práci',\n",
       "      'lemma': 'práce'},\n",
       "     {'token_lc': 'chvátám',\n",
       "      'xsampa': 'xva:ta:m',\n",
       "      'morph': 'VB-S---1P-AA---I',\n",
       "      'phoebe': 'xvAtAm',\n",
       "      'token': 'chvátám',\n",
       "      'lemma': 'chvátat'},\n",
       "     {'token_lc': 'z',\n",
       "      'xsampa': 'z',\n",
       "      'morph': 'RR--2-----------',\n",
       "      'phoebe': 'z',\n",
       "      'token': 'z',\n",
       "      'lemma': 'z'},\n",
       "     {'token_lc': 'rána',\n",
       "      'xsampa': 'ra:na',\n",
       "      'morph': 'NNNS2-----A-----',\n",
       "      'phoebe': 'rAna',\n",
       "      'token': 'rána',\n",
       "      'lemma': 'ráno'}],\n",
       "    'rhyme': None,\n",
       "    'metre': [{'foot': '3', 'clause': 'f', 'pattern': 'WSWSWSW', 'type': 'J'}],\n",
       "    'stress': '0101010'},\n",
       "   {'text': 'noc ještě vlahá dýchá,',\n",
       "    'punct': {'4': ','},\n",
       "    'words': [{'token_lc': 'noc',\n",
       "      'xsampa': 'not_s',\n",
       "      'morph': 'NNFS4-----A-----',\n",
       "      'phoebe': 'noc',\n",
       "      'token': 'noc',\n",
       "      'lemma': 'noc'},\n",
       "     {'token_lc': 'ještě',\n",
       "      'xsampa': 'jEScE',\n",
       "      'morph': 'Db--------------',\n",
       "      'phoebe': 'jeSTe',\n",
       "      'token': 'ještě',\n",
       "      'lemma': 'ještě'},\n",
       "     {'token_lc': 'vlahá',\n",
       "      'xsampa': 'vlah\\\\a:',\n",
       "      'morph': 'AAFS1----1A-----',\n",
       "      'phoebe': 'vlahA',\n",
       "      'token': 'vlahá',\n",
       "      'lemma': 'vlahý'},\n",
       "     {'token_lc': 'dýchá',\n",
       "      'xsampa': 'di:xa:',\n",
       "      'morph': 'VB-S---3P-AA---I',\n",
       "      'phoebe': 'dIxA',\n",
       "      'token': 'dýchá',\n",
       "      'lemma': 'dýchat'}],\n",
       "    'rhyme': 1,\n",
       "    'metre': [{'foot': '3', 'clause': 'f', 'pattern': 'WSWSWSW', 'type': 'J'}],\n",
       "    'stress': '1101010'},\n",
       "   {'text': 'a na nebi tisíce',\n",
       "    'punct': {},\n",
       "    'words': [{'token_lc': 'a',\n",
       "      'xsampa': 'a',\n",
       "      'morph': 'J^--------------',\n",
       "      'phoebe': 'a',\n",
       "      'token': 'a',\n",
       "      'lemma': 'a'},\n",
       "     {'token_lc': 'na',\n",
       "      'xsampa': 'na',\n",
       "      'morph': 'RR--6-----------',\n",
       "      'phoebe': 'na',\n",
       "      'token': 'na',\n",
       "      'lemma': 'na'},\n",
       "     {'token_lc': 'nebi',\n",
       "      'xsampa': 'nEbI',\n",
       "      'morph': 'NNNS6-----A-----',\n",
       "      'phoebe': 'nebi',\n",
       "      'token': 'nebi',\n",
       "      'lemma': 'nebe'},\n",
       "     {'token_lc': 'tisíce',\n",
       "      'xsampa': 'cIsi:t_sE',\n",
       "      'morph': 'ClIS2-----------',\n",
       "      'phoebe': 'TisIce',\n",
       "      'token': 'tisíce',\n",
       "      'lemma': 'tisíc'}],\n",
       "    'rhyme': None,\n",
       "    'metre': [{'foot': '3', 'clause': 'f', 'pattern': 'WSWSWSW', 'type': 'J'}],\n",
       "    'stress': '0100100'},\n",
       "   {'text': 'hvězd spřádá kouzlo ticha.',\n",
       "    'punct': {'4': '.'},\n",
       "    'words': [{'token_lc': 'hvězd',\n",
       "      'xsampa': 'h\\\\vjEst',\n",
       "      'morph': 'NNFP2-----A-----',\n",
       "      'phoebe': 'hvjest',\n",
       "      'token': 'hvězd',\n",
       "      'lemma': 'hvězda'},\n",
       "     {'token_lc': 'spřádá',\n",
       "      'xsampa': 'spP\\\\a:da:',\n",
       "      'morph': 'VB-S---3P-AA---I',\n",
       "      'phoebe': 'spRAdA',\n",
       "      'token': 'spřádá',\n",
       "      'lemma': 'spřádat'},\n",
       "     {'token_lc': 'kouzlo',\n",
       "      'xsampa': 'ko_uzlo',\n",
       "      'morph': 'NNNS1-----A-----',\n",
       "      'phoebe': 'k0zlo',\n",
       "      'token': 'kouzlo',\n",
       "      'lemma': 'kouzlo'},\n",
       "     {'token_lc': 'ticha',\n",
       "      'xsampa': 'cIxa',\n",
       "      'morph': 'NNNS2-----A-----',\n",
       "      'phoebe': 'Tixa',\n",
       "      'token': 'ticha',\n",
       "      'lemma': 'ticho'}],\n",
       "    'rhyme': 1,\n",
       "    'metre': [{'foot': '3', 'clause': 'f', 'pattern': 'WSWSWSW', 'type': 'J'}],\n",
       "    'stress': '1101010'}],\n",
       "  [{'text': 'Mé oko zírá s úžasem',\n",
       "    'punct': {},\n",
       "    'words': [{'token_lc': 'mé',\n",
       "      'xsampa': 'mE:',\n",
       "      'morph': 'PSNS1-S1------1-',\n",
       "      'phoebe': 'mE',\n",
       "      'token': 'Mé',\n",
       "      'lemma': 'můj'},\n",
       "     {'token_lc': 'oko',\n",
       "      'xsampa': 'oko',\n",
       "      'morph': 'NNNS1-----A-----',\n",
       "      'phoebe': 'oko',\n",
       "      'token': 'oko',\n",
       "      'lemma': 'oko'},\n",
       "     {'token_lc': 'zírá',\n",
       "      'xsampa': 'zi:ra:',\n",
       "      'morph': 'VB-S---3P-AA---I',\n",
       "      'phoebe': 'zIrA',\n",
       "      'token': 'zírá',\n",
       "      'lemma': 'zírat'},\n",
       "     {'token_lc': 's',\n",
       "      'xsampa': 's',\n",
       "      'morph': 'RR--7-----------',\n",
       "      'phoebe': 's',\n",
       "      'token': 's',\n",
       "      'lemma': 's'},\n",
       "     {'token_lc': 'úžasem',\n",
       "      'xsampa': 'u:ZasEm',\n",
       "      'morph': 'NNIS7-----A-----',\n",
       "      'phoebe': 'UZasem',\n",
       "      'token': 'úžasem',\n",
       "      'lemma': 'úžas'}],\n",
       "    'rhyme': None,\n",
       "    'metre': [{'foot': '4',\n",
       "      'clause': 'm',\n",
       "      'pattern': 'WSWSWSWS',\n",
       "      'type': 'J'}],\n",
       "    'stress': '01010100'},\n",
       "   {'text': 'na operlenou báň,',\n",
       "    'punct': {'3': ','},\n",
       "    'words': [{'token_lc': 'na',\n",
       "      'xsampa': 'na',\n",
       "      'morph': 'RR--4-----------',\n",
       "      'phoebe': 'na',\n",
       "      'token': 'na',\n",
       "      'lemma': 'na'},\n",
       "     {'token_lc': 'operlenou',\n",
       "      'xsampa': 'opErlEno_u',\n",
       "      'morph': 'X24-------------',\n",
       "      'phoebe': 'operlen0',\n",
       "      'token': 'operlenou',\n",
       "      'lemma': 'operlenou'},\n",
       "     {'token_lc': 'báň',\n",
       "      'xsampa': 'ba:J',\n",
       "      'morph': 'NNFS4-----A-----',\n",
       "      'phoebe': 'bAN',\n",
       "      'token': 'báň',\n",
       "      'lemma': 'báň'}],\n",
       "    'rhyme': 2,\n",
       "    'metre': [{'foot': '3', 'clause': 'm', 'pattern': 'WSWSWS', 'type': 'J'}],\n",
       "    'stress': '100001'},\n",
       "   {'text': 'a v mžiku slza horká',\n",
       "    'punct': {},\n",
       "    'words': [{'token_lc': 'a',\n",
       "      'xsampa': 'a',\n",
       "      'morph': 'J^--------------',\n",
       "      'phoebe': 'a',\n",
       "      'token': 'a',\n",
       "      'lemma': 'a'},\n",
       "     {'token_lc': 'v',\n",
       "      'xsampa': 'v',\n",
       "      'morph': 'RR--6-----------',\n",
       "      'phoebe': 'v',\n",
       "      'token': 'v',\n",
       "      'lemma': 'v'},\n",
       "     {'token_lc': 'mžiku',\n",
       "      'xsampa': 'mZIku',\n",
       "      'morph': 'NNIS6-----A-----',\n",
       "      'phoebe': 'mZiku',\n",
       "      'token': 'mžiku',\n",
       "      'lemma': 'mžik'},\n",
       "     {'token_lc': 'slza',\n",
       "      'xsampa': 'sl=za',\n",
       "      'morph': 'NNFS1-----A-----',\n",
       "      'phoebe': 'sLza',\n",
       "      'token': 'slza',\n",
       "      'lemma': 'slza'},\n",
       "     {'token_lc': 'horká',\n",
       "      'xsampa': 'h\\\\orka:',\n",
       "      'morph': 'AAFS1----1A-----',\n",
       "      'phoebe': 'horkA',\n",
       "      'token': 'horká',\n",
       "      'lemma': 'horký'}],\n",
       "    'rhyme': None,\n",
       "    'metre': [{'foot': '3', 'clause': 'f', 'pattern': 'WSWSWSW', 'type': 'J'}],\n",
       "    'stress': '0101010'},\n",
       "   {'text': 'mi skane na mou skráň.',\n",
       "    'punct': {'5': '.'},\n",
       "    'words': [{'token_lc': 'mi',\n",
       "      'xsampa': 'mI',\n",
       "      'morph': 'PH-S3--1--------',\n",
       "      'phoebe': 'mi',\n",
       "      'token': 'mi',\n",
       "      'lemma': 'já'},\n",
       "     {'token_lc': 'skane',\n",
       "      'xsampa': 'skanE',\n",
       "      'morph': 'VB-S---3P-AA---P',\n",
       "      'phoebe': 'skane',\n",
       "      'token': 'skane',\n",
       "      'lemma': 'skanout'},\n",
       "     {'token_lc': 'na',\n",
       "      'xsampa': 'na',\n",
       "      'morph': 'RR--4-----------',\n",
       "      'phoebe': 'na',\n",
       "      'token': 'na',\n",
       "      'lemma': 'na'},\n",
       "     {'token_lc': 'mou',\n",
       "      'xsampa': 'mo_u',\n",
       "      'morph': 'PSFS4-S1------1-',\n",
       "      'phoebe': 'm0',\n",
       "      'token': 'mou',\n",
       "      'lemma': 'můj'},\n",
       "     {'token_lc': 'skráň',\n",
       "      'xsampa': 'skra:J',\n",
       "      'morph': 'NNFS4-----A-----',\n",
       "      'phoebe': 'skrAN',\n",
       "      'token': 'skráň',\n",
       "      'lemma': 'skráň'}],\n",
       "    'rhyme': 2,\n",
       "    'metre': [{'foot': '3', 'clause': 'm', 'pattern': 'WSWSWS', 'type': 'J'}],\n",
       "    'stress': '010101'}],\n",
       "  [{'text': 'Pak šeptne toužná slova',\n",
       "    'punct': {},\n",
       "    'words': [{'token_lc': 'pak',\n",
       "      'xsampa': 'pak',\n",
       "      'morph': 'Db--------------',\n",
       "      'phoebe': 'pak',\n",
       "      'token': 'Pak',\n",
       "      'lemma': 'pak'},\n",
       "     {'token_lc': 'šeptne',\n",
       "      'xsampa': 'SEptnE',\n",
       "      'morph': 'VB-S---3P-AA---P',\n",
       "      'phoebe': 'Septne',\n",
       "      'token': 'šeptne',\n",
       "      'lemma': 'šeptnout'},\n",
       "     {'token_lc': 'toužná',\n",
       "      'xsampa': 'to_uZna:',\n",
       "      'morph': 'X24-------------',\n",
       "      'phoebe': 't0ZnA',\n",
       "      'token': 'toužná',\n",
       "      'lemma': 'toužná'},\n",
       "     {'token_lc': 'slova',\n",
       "      'xsampa': 'slova',\n",
       "      'morph': 'NNNP4-----A-----',\n",
       "      'phoebe': 'slova',\n",
       "      'token': 'slova',\n",
       "      'lemma': 'slovo'}],\n",
       "    'rhyme': None,\n",
       "    'metre': [{'foot': '3', 'clause': 'f', 'pattern': 'WSWSWSW', 'type': 'J'}],\n",
       "    'stress': '0101010'},\n",
       "   {'text': 'můj rozechvělý ret:',\n",
       "    'punct': {'3': ':'},\n",
       "    'words': [{'token_lc': 'můj',\n",
       "      'xsampa': 'mu:j',\n",
       "      'morph': 'PSIS1-S1--------',\n",
       "      'phoebe': 'mUj',\n",
       "      'token': 'můj',\n",
       "      'lemma': 'můj'},\n",
       "     {'token_lc': 'rozechvělý',\n",
       "      'xsampa': 'rozExvjEli:',\n",
       "      'morph': 'AAIS1----1A-----',\n",
       "      'phoebe': 'rozexvjelI',\n",
       "      'token': 'rozechvělý',\n",
       "      'lemma': 'rozechvělý'},\n",
       "     {'token_lc': 'ret',\n",
       "      'xsampa': 'rEt',\n",
       "      'morph': 'NNIS1-----A-----',\n",
       "      'phoebe': 'ret',\n",
       "      'token': 'ret',\n",
       "      'lemma': 'ret'}],\n",
       "    'rhyme': 3,\n",
       "    'metre': [{'foot': '3', 'clause': 'm', 'pattern': 'WSWSWS', 'type': 'J'}],\n",
       "    'stress': '010001'},\n",
       "   {'text': '„O kéž bych mohl jednou',\n",
       "    'punct': {'0': '„'},\n",
       "    'words': [{'token_lc': 'o',\n",
       "      'xsampa': 'o',\n",
       "      'morph': 'RR--4-----------',\n",
       "      'phoebe': 'o',\n",
       "      'token': 'O',\n",
       "      'lemma': 'o'},\n",
       "     {'token_lc': 'kéž',\n",
       "      'xsampa': 'kE:S',\n",
       "      'morph': 'TT--------------',\n",
       "      'phoebe': 'kES',\n",
       "      'token': 'kéž',\n",
       "      'lemma': 'kéž'},\n",
       "     {'token_lc': 'bych',\n",
       "      'xsampa': 'bIx',\n",
       "      'morph': 'Vc-S---1-------I',\n",
       "      'phoebe': 'bix',\n",
       "      'token': 'bych',\n",
       "      'lemma': 'být'},\n",
       "     {'token_lc': 'mohl',\n",
       "      'xsampa': 'moh\\\\l=',\n",
       "      'morph': 'VpMS---1R-AA---I',\n",
       "      'phoebe': 'mohL',\n",
       "      'token': 'mohl',\n",
       "      'lemma': 'moci'},\n",
       "     {'token_lc': 'jednou',\n",
       "      'xsampa': 'jEdno_u',\n",
       "      'morph': 'Db--------------',\n",
       "      'phoebe': 'jedn0',\n",
       "      'token': 'jednou',\n",
       "      'lemma': 'jednou'}],\n",
       "    'rhyme': None,\n",
       "    'metre': [{'foot': '3', 'clause': 'f', 'pattern': 'WSWSWSW', 'type': 'J'}],\n",
       "    'stress': '1001010'},\n",
       "   {'text': 'k vám, hvězdy, zaletět!“',\n",
       "    'punct': {'3': ',', '4': '!“', '2': ','},\n",
       "    'words': [{'token_lc': 'k',\n",
       "      'xsampa': 'k',\n",
       "      'morph': 'RR--3-----------',\n",
       "      'phoebe': 'k',\n",
       "      'token': 'k',\n",
       "      'lemma': 'k'},\n",
       "     {'token_lc': 'vám',\n",
       "      'xsampa': 'va:m',\n",
       "      'morph': 'PP-P3--2--------',\n",
       "      'phoebe': 'vAm',\n",
       "      'token': 'vám',\n",
       "      'lemma': 'vy'},\n",
       "     {'token_lc': 'hvězdy',\n",
       "      'xsampa': 'h\\\\vjEzdI',\n",
       "      'morph': 'NNFP1-----A-----',\n",
       "      'phoebe': 'hvjezdi',\n",
       "      'token': 'hvězdy',\n",
       "      'lemma': 'hvězda'},\n",
       "     {'token_lc': 'zaletět',\n",
       "      'xsampa': 'zalEcEt',\n",
       "      'morph': 'Vf--------A----P',\n",
       "      'phoebe': 'zaleTet',\n",
       "      'token': 'zaletět',\n",
       "      'lemma': 'zaletět'}],\n",
       "    'rhyme': 3,\n",
       "    'metre': [{'foot': '3', 'clause': 'm', 'pattern': 'WSWSWS', 'type': 'J'}],\n",
       "    'stress': '010100'}]],\n",
       " 'results': {'poem': None}}"
      ]
     },
     "execution_count": 20,
     "metadata": {},
     "output_type": "execute_result"
    }
   ],
   "source": [
    "poems_data_one_metre_all_metres_recognized[0]"
   ]
  },
  {
   "cell_type": "code",
   "execution_count": 21,
   "id": "6a956223",
   "metadata": {},
   "outputs": [
    {
     "name": "stdout",
     "output_type": "stream",
     "text": [
      "Train data cnt: 40137, Dev data cnt: 8601, Test data cnt: 8601\n"
     ]
    }
   ],
   "source": [
    "train_data, dev_data, test_data = split_train_dev_test(poems_data_one_metre_all_metres_recognized)"
   ]
  },
  {
   "cell_type": "code",
   "execution_count": 24,
   "id": "98c1e8c8",
   "metadata": {},
   "outputs": [
    {
     "name": "stdout",
     "output_type": "stream",
     "text": [
      "Data saved to train_one_metre_all_metres_recognized.json\n",
      "Data saved to dev_one_metre_all_metres_recognized.json\n",
      "Data saved to test_one_metre_all_metres_recognized.json\n"
     ]
    }
   ],
   "source": [
    "data_loader_and_saver.save_all_data(train_data, dev_data, test_data, extension)"
   ]
  },
  {
   "cell_type": "code",
   "execution_count": 25,
   "id": "cd404ef2",
   "metadata": {
    "pycharm": {
     "name": "#%%\n"
    }
   },
   "outputs": [],
   "source": [
    "train_X = get_X(train_data)\n",
    "dev_X = get_X(dev_data)\n",
    "test_X = get_X(test_data)"
   ]
  },
  {
   "cell_type": "code",
   "execution_count": 26,
   "id": "a56cc150",
   "metadata": {
    "pycharm": {
     "name": "#%%\n"
    }
   },
   "outputs": [
    {
     "name": "stdout",
     "output_type": "stream",
     "text": [
      "Data saved to train_X_one_metre_all_metres_recognized.json\n",
      "Data saved to dev_X_one_metre_all_metres_recognized.json\n",
      "Data saved to test_X_one_metre_all_metres_recognized.json\n"
     ]
    }
   ],
   "source": [
    "data_loader_and_saver.save_all_data(train_X, dev_X, test_X, f\"_X{extension}\")"
   ]
  },
  {
   "cell_type": "code",
   "execution_count": 27,
   "id": "fc05eb8e",
   "metadata": {
    "pycharm": {
     "name": "#%%\n"
    }
   },
   "outputs": [],
   "source": [
    "train_y = get_y(train_data, one_metre=True)\n",
    "dev_y = get_y(dev_data, one_metre=True)\n",
    "test_y = get_y(test_data, one_metre=True)"
   ]
  },
  {
   "cell_type": "code",
   "execution_count": 28,
   "id": "f7e88fbf",
   "metadata": {
    "pycharm": {
     "name": "#%%\n"
    }
   },
   "outputs": [
    {
     "name": "stdout",
     "output_type": "stream",
     "text": [
      "Data saved to train_y_one_metre_all_metres_recognized.json\n",
      "Data saved to dev_y_one_metre_all_metres_recognized.json\n",
      "Data saved to test_y_one_metre_all_metres_recognized.json\n"
     ]
    }
   ],
   "source": [
    "data_loader_and_saver.save_all_data(train_y, dev_y, test_y, f\"_y{extension}\")"
   ]
  },
  {
   "cell_type": "code",
   "execution_count": 29,
   "id": "18c02cd4",
   "metadata": {
    "pycharm": {
     "name": "#%%\n"
    }
   },
   "outputs": [],
   "source": [
    "train_tokens = get_tokens(train_data)"
   ]
  },
  {
   "cell_type": "code",
   "execution_count": 30,
   "id": "77d13bbf",
   "metadata": {
    "pycharm": {
     "name": "#%%\n"
    }
   },
   "outputs": [
    {
     "name": "stdout",
     "output_type": "stream",
     "text": [
      "Data saved to train_tokens_one_metre_all_metres_recognized.json\n"
     ]
    }
   ],
   "source": [
    "data_loader_and_saver.save_data(train_tokens, f\"train_tokens{extension}\")"
   ]
  },
  {
   "cell_type": "code",
   "execution_count": 31,
   "id": "cbce0ea9",
   "metadata": {
    "pycharm": {
     "name": "#%%\n"
    }
   },
   "outputs": [],
   "source": [
    "train_sampa_tokens = get_sampa_tokens(train_data)"
   ]
  },
  {
   "cell_type": "code",
   "execution_count": 32,
   "id": "b2d7ed44",
   "metadata": {
    "pycharm": {
     "name": "#%%\n"
    }
   },
   "outputs": [
    {
     "name": "stdout",
     "output_type": "stream",
     "text": [
      "Data saved to train_sampa_tokens_one_metre_all_metres_recognized.json\n"
     ]
    }
   ],
   "source": [
    "data_loader_and_saver.save_data(train_sampa_tokens, f\"train_sampa_tokens{extension}\")"
   ]
  },
  {
   "cell_type": "markdown",
   "id": "5dc2df44",
   "metadata": {},
   "source": [
    "## All lines just 1 metre, no unknown metres"
   ]
  },
  {
   "cell_type": "code",
   "execution_count": 14,
   "id": "18fb9ebe",
   "metadata": {},
   "outputs": [],
   "source": [
    "extension = \"_one_metre_line_all_metres_recognized\""
   ]
  },
  {
   "cell_type": "code",
   "execution_count": 15,
   "id": "0cd3d236",
   "metadata": {},
   "outputs": [],
   "source": [
    "poems_data_one_metre_line_all_metres_recognized = []\n",
    "\n",
    "for poem in all_poems_data_all_metres_recognized_without_err:\n",
    "    # Only add poems that contain no lines with more metres assigned\n",
    "    if all(len({metre['type'] for metre in line['metre']}) == 1 for stanza in poem['body'] for line in stanza):\n",
    "        poems_data_one_metre_line_all_metres_recognized.append(poem)"
   ]
  },
  {
   "cell_type": "code",
   "execution_count": 16,
   "id": "c443f13d",
   "metadata": {},
   "outputs": [
    {
     "data": {
      "text/plain": [
       "59661"
      ]
     },
     "execution_count": 16,
     "metadata": {},
     "output_type": "execute_result"
    }
   ],
   "source": [
    "len(poems_data_one_metre_line_all_metres_recognized)"
   ]
  },
  {
   "cell_type": "code",
   "execution_count": 17,
   "id": "04fa7bc7",
   "metadata": {
    "pycharm": {
     "name": "#%%\n"
    }
   },
   "outputs": [
    {
     "data": {
      "text/plain": [
       "{'p_author': {'born': 1875,\n",
       "  'died': 1947,\n",
       "  'name': 'Bogner, Adolf',\n",
       "  'identity': 'Bogner, Adolf'},\n",
       " 'biblio': {'motto_aut': None,\n",
       "  'b_subtitle': 'Verše',\n",
       "  'publisher': 'Bečvan, Jiří; Zapletal, Prokop',\n",
       "  'edition': '[1.]',\n",
       "  'motto': None,\n",
       "  'p_title': 'Nuže, bratří, zapějte mi píseň,',\n",
       "  'place': 'Hranice',\n",
       "  'dedication': None,\n",
       "  'b_title': 'Dělník zpívá...',\n",
       "  'pages': '47',\n",
       "  'year': '1898',\n",
       "  'signature': 'Národní knihovna ČR, Praha; 54 K 9170'},\n",
       " 'book_id': '0025',\n",
       " 'poem_id': '0001-0000-0000-0001-0000',\n",
       " 'b_author': {'born': 1875,\n",
       "  'died': 1947,\n",
       "  'name': 'Bogner, Adolf',\n",
       "  'identity': 'Bogner, Adolf'},\n",
       " 'body': [[{'text': 'Nuže, bratří, zapějte mi píseň, ',\n",
       "    'punct': {'5': ',', '2': ',', '1': ','},\n",
       "    'words': [{'token_lc': 'nuže',\n",
       "      'xsampa': 'nuZE',\n",
       "      'morph': 'TT--------------',\n",
       "      'phoebe': 'nuZe',\n",
       "      'token': 'Nuže',\n",
       "      'lemma': 'nuže'},\n",
       "     {'token_lc': 'bratří',\n",
       "      'xsampa': 'bratP\\\\i:',\n",
       "      'morph': 'NNMP1-----A---2-',\n",
       "      'phoebe': 'bratRI',\n",
       "      'token': 'bratří',\n",
       "      'lemma': 'bratr'},\n",
       "     {'token_lc': 'zapějte',\n",
       "      'xsampa': 'zapjEjtE',\n",
       "      'morph': 'Vi-P---2--A----P',\n",
       "      'phoebe': 'zapjejte',\n",
       "      'token': 'zapějte',\n",
       "      'lemma': 'zapět'},\n",
       "     {'token_lc': 'mi',\n",
       "      'xsampa': 'mI',\n",
       "      'morph': 'PH-S3--1--------',\n",
       "      'phoebe': 'mi',\n",
       "      'token': 'mi',\n",
       "      'lemma': 'já'},\n",
       "     {'token_lc': 'píseň',\n",
       "      'xsampa': 'pi:sEJ',\n",
       "      'morph': 'NNFS4-----A-----',\n",
       "      'phoebe': 'pIseN',\n",
       "      'token': 'píseň',\n",
       "      'lemma': 'píseň'}],\n",
       "    'rhyme': 1,\n",
       "    'metre': [{'foot': '5',\n",
       "      'clause': 'f',\n",
       "      'pattern': 'SWSWSWSWSW',\n",
       "      'type': 'T'}],\n",
       "    'stress': '1010100010'},\n",
       "   {'text': 'nežli vnořím péro v kalamář,',\n",
       "    'punct': {'5': ','},\n",
       "    'words': [{'token_lc': 'nežli',\n",
       "      'xsampa': 'nEZlI',\n",
       "      'morph': 'J,--------------',\n",
       "      'phoebe': 'neZli',\n",
       "      'token': 'nežli',\n",
       "      'lemma': 'nežli'},\n",
       "     {'token_lc': 'vnořím',\n",
       "      'xsampa': 'vnoP\\\\i:m',\n",
       "      'morph': 'VB-S---1P-AA---P',\n",
       "      'phoebe': 'vnoRIm',\n",
       "      'token': 'vnořím',\n",
       "      'lemma': 'vnořit'},\n",
       "     {'token_lc': 'péro',\n",
       "      'xsampa': 'pE:ro',\n",
       "      'morph': 'NNNS4-----A---1-',\n",
       "      'phoebe': 'pEro',\n",
       "      'token': 'péro',\n",
       "      'lemma': 'pero'},\n",
       "     {'token_lc': 'v',\n",
       "      'xsampa': 'f',\n",
       "      'morph': 'RR--4-----------',\n",
       "      'phoebe': 'f',\n",
       "      'token': 'v',\n",
       "      'lemma': 'v'},\n",
       "     {'token_lc': 'kalamář',\n",
       "      'xsampa': 'kalama:P\\\\',\n",
       "      'morph': 'NNIS4-----A-----',\n",
       "      'phoebe': 'kalamAR',\n",
       "      'token': 'kalamář',\n",
       "      'lemma': 'kalamář'}],\n",
       "    'rhyme': 2,\n",
       "    'metre': [{'foot': '5',\n",
       "      'clause': 'm',\n",
       "      'pattern': 'SWSWSWSWS',\n",
       "      'type': 'T'}],\n",
       "    'stress': '101010100'},\n",
       "   {'text': 'abych nepsal místo slasti tíseň,',\n",
       "    'punct': {'5': ','},\n",
       "    'words': [{'token_lc': 'abych',\n",
       "      'xsampa': 'abIx',\n",
       "      'morph': 'J,-S---1--------',\n",
       "      'phoebe': 'abix',\n",
       "      'token': 'abych',\n",
       "      'lemma': 'aby'},\n",
       "     {'token_lc': 'nepsal',\n",
       "      'xsampa': 'nEpsal',\n",
       "      'morph': 'VpMS---1R-NA---I',\n",
       "      'phoebe': 'nepsal',\n",
       "      'token': 'nepsal',\n",
       "      'lemma': 'psát'},\n",
       "     {'token_lc': 'místo',\n",
       "      'xsampa': 'mi:sto',\n",
       "      'morph': 'RR--2-----------',\n",
       "      'phoebe': 'mIsto',\n",
       "      'token': 'místo',\n",
       "      'lemma': 'místo'},\n",
       "     {'token_lc': 'slasti',\n",
       "      'xsampa': 'slascI',\n",
       "      'morph': 'NNFS2-----A-----',\n",
       "      'phoebe': 'slasTi',\n",
       "      'token': 'slasti',\n",
       "      'lemma': 'slast'},\n",
       "     {'token_lc': 'tíseň',\n",
       "      'xsampa': 'ci:sEJ',\n",
       "      'morph': 'NNFS4-----A-----',\n",
       "      'phoebe': 'TIseN',\n",
       "      'token': 'tíseň',\n",
       "      'lemma': 'tíseň'}],\n",
       "    'rhyme': 1,\n",
       "    'metre': [{'foot': '5',\n",
       "      'clause': 'f',\n",
       "      'pattern': 'SWSWSWSWSW',\n",
       "      'type': 'T'}],\n",
       "    'stress': '1010101010'},\n",
       "   {'text': 'abych nebyl přede světem lhář.',\n",
       "    'punct': {'5': '.'},\n",
       "    'words': [{'token_lc': 'abych',\n",
       "      'xsampa': 'abIx',\n",
       "      'morph': 'J,-S---1--------',\n",
       "      'phoebe': 'abix',\n",
       "      'token': 'abych',\n",
       "      'lemma': 'aby'},\n",
       "     {'token_lc': 'nebyl',\n",
       "      'xsampa': 'nEbIl',\n",
       "      'morph': 'VpMS---3R-NA---I',\n",
       "      'phoebe': 'nebil',\n",
       "      'token': 'nebyl',\n",
       "      'lemma': 'být'},\n",
       "     {'token_lc': 'přede',\n",
       "      'xsampa': 'pP\\\\EdE',\n",
       "      'morph': 'RV--7-----------',\n",
       "      'phoebe': 'pRede',\n",
       "      'token': 'přede',\n",
       "      'lemma': 'před'},\n",
       "     {'token_lc': 'světem',\n",
       "      'xsampa': 'svjEtEm',\n",
       "      'morph': 'NNIS7-----A-----',\n",
       "      'phoebe': 'svjetem',\n",
       "      'token': 'světem',\n",
       "      'lemma': 'svět'},\n",
       "     {'token_lc': 'lhář',\n",
       "      'xsampa': 'lh\\\\a:P\\\\',\n",
       "      'morph': 'NNMS1-----A-----',\n",
       "      'phoebe': 'lhAR',\n",
       "      'token': 'lhář',\n",
       "      'lemma': 'lhář'}],\n",
       "    'rhyme': 2,\n",
       "    'metre': [{'foot': '5',\n",
       "      'clause': 'm',\n",
       "      'pattern': 'SWSWSWSWS',\n",
       "      'type': 'T'}],\n",
       "    'stress': '101010101'}],\n",
       "  [{'text': 'Již zpívá jeden. Tak zní to v uši,',\n",
       "    'punct': {'3': '.', '8': ','},\n",
       "    'words': [{'token_lc': 'již',\n",
       "      'xsampa': 'jIS',\n",
       "      'morph': 'Db--------------',\n",
       "      'phoebe': 'jiS',\n",
       "      'token': 'Již',\n",
       "      'lemma': 'již'},\n",
       "     {'token_lc': 'zpívá',\n",
       "      'xsampa': 'spi:va:',\n",
       "      'morph': 'VB-S---3P-AA---I',\n",
       "      'phoebe': 'spIvA',\n",
       "      'token': 'zpívá',\n",
       "      'lemma': 'zpívat'},\n",
       "     {'token_lc': 'jeden',\n",
       "      'xsampa': 'jEdEn',\n",
       "      'morph': 'ClIS4-----------',\n",
       "      'phoebe': 'jeden',\n",
       "      'token': 'jeden',\n",
       "      'lemma': 'jeden'},\n",
       "     {'token_lc': 'tak',\n",
       "      'xsampa': 'tak',\n",
       "      'morph': 'Db--------------',\n",
       "      'phoebe': 'tak',\n",
       "      'token': 'Tak',\n",
       "      'lemma': 'tak'},\n",
       "     {'token_lc': 'zní',\n",
       "      'xsampa': 'zJi:',\n",
       "      'morph': 'VB-S---3P-AA---I',\n",
       "      'phoebe': 'zNI',\n",
       "      'token': 'zní',\n",
       "      'lemma': 'znít'},\n",
       "     {'token_lc': 'to',\n",
       "      'xsampa': 'to',\n",
       "      'morph': 'PDNS1-----------',\n",
       "      'phoebe': 'to',\n",
       "      'token': 'to',\n",
       "      'lemma': 'ten'},\n",
       "     {'token_lc': 'v',\n",
       "      'xsampa': 'f',\n",
       "      'morph': 'RR--4-----------',\n",
       "      'phoebe': 'f',\n",
       "      'token': 'v',\n",
       "      'lemma': 'v'},\n",
       "     {'token_lc': 'uši',\n",
       "      'xsampa': 'uSI',\n",
       "      'morph': 'NNFP4-----A-----',\n",
       "      'phoebe': 'uSi',\n",
       "      'token': 'uši',\n",
       "      'lemma': 'ucho'}],\n",
       "    'rhyme': 3,\n",
       "    'metre': [{'foot': '4',\n",
       "      'clause': 'f',\n",
       "      'pattern': 'SVWSWSVWSW',\n",
       "      'type': 'X'}],\n",
       "    'stress': '0101001010'},\n",
       "   {'text': 'jak kladivem když v železo buší,',\n",
       "    'punct': {'6': ','},\n",
       "    'words': [{'token_lc': 'jak',\n",
       "      'xsampa': 'jak',\n",
       "      'morph': 'Db--------------',\n",
       "      'phoebe': 'jak',\n",
       "      'token': 'jak',\n",
       "      'lemma': 'jak'},\n",
       "     {'token_lc': 'kladivem',\n",
       "      'xsampa': 'klaJ\\\\IvEm',\n",
       "      'morph': 'NNNS7-----A-----',\n",
       "      'phoebe': 'klaDivem',\n",
       "      'token': 'kladivem',\n",
       "      'lemma': 'kladivo'},\n",
       "     {'token_lc': 'když',\n",
       "      'xsampa': 'gdIS',\n",
       "      'morph': 'J,--------------',\n",
       "      'phoebe': 'gdiS',\n",
       "      'token': 'když',\n",
       "      'lemma': 'když'},\n",
       "     {'token_lc': 'v',\n",
       "      'xsampa': 'v',\n",
       "      'morph': 'RR--4-----------',\n",
       "      'phoebe': 'v',\n",
       "      'token': 'v',\n",
       "      'lemma': 'v'},\n",
       "     {'token_lc': 'železo',\n",
       "      'xsampa': 'ZElEzo',\n",
       "      'morph': 'NNNS4-----A-----',\n",
       "      'phoebe': 'Zelezo',\n",
       "      'token': 'železo',\n",
       "      'lemma': 'železo'},\n",
       "     {'token_lc': 'buší',\n",
       "      'xsampa': 'buSi:',\n",
       "      'morph': 'VB-S---3P-AA---I',\n",
       "      'phoebe': 'buSI',\n",
       "      'token': 'buší',\n",
       "      'lemma': 'bušit'}],\n",
       "    'rhyme': 3,\n",
       "    'metre': [{'foot': '4',\n",
       "      'clause': 'f',\n",
       "      'pattern': 'SVWSWSVWSW',\n",
       "      'type': 'X'}],\n",
       "    'stress': '0100010010'},\n",
       "   {'text': 'mnohý by řekl: Krásný to zpěv!',\n",
       "    'punct': {'3': ':', '6': '!'},\n",
       "    'words': [{'token_lc': 'mnohý',\n",
       "      'xsampa': 'mnoh\\\\i:',\n",
       "      'morph': 'AAIS1----1A-----',\n",
       "      'phoebe': 'mnohI',\n",
       "      'token': 'mnohý',\n",
       "      'lemma': 'mnohý'},\n",
       "     {'token_lc': 'by',\n",
       "      'xsampa': 'bI',\n",
       "      'morph': 'Vc-------------I',\n",
       "      'phoebe': 'bi',\n",
       "      'token': 'by',\n",
       "      'lemma': 'být'},\n",
       "     {'token_lc': 'řekl',\n",
       "      'xsampa': 'P\\\\Ekl=',\n",
       "      'morph': 'VpIS---3R-AA---P',\n",
       "      'phoebe': 'RekL',\n",
       "      'token': 'řekl',\n",
       "      'lemma': 'říci'},\n",
       "     {'token_lc': 'krásný',\n",
       "      'xsampa': 'kra:sni:',\n",
       "      'morph': 'AAIS1----1A-----',\n",
       "      'phoebe': 'krAsnI',\n",
       "      'token': 'Krásný',\n",
       "      'lemma': 'krásný'},\n",
       "     {'token_lc': 'to',\n",
       "      'xsampa': 'to',\n",
       "      'morph': 'PDNS1-----------',\n",
       "      'phoebe': 'to',\n",
       "      'token': 'to',\n",
       "      'lemma': 'ten'},\n",
       "     {'token_lc': 'zpěv',\n",
       "      'xsampa': 'spjEf',\n",
       "      'morph': 'NNIS1-----A-----',\n",
       "      'phoebe': 'spjef',\n",
       "      'token': 'zpěv',\n",
       "      'lemma': 'zpěv'}],\n",
       "    'rhyme': 4,\n",
       "    'metre': [{'foot': '4',\n",
       "      'clause': 'm',\n",
       "      'pattern': 'SVWSWSVWS',\n",
       "      'type': 'X'}],\n",
       "    'stress': '100101001'},\n",
       "   {'text': 'Však já v něm vidím dělníka krev.',\n",
       "    'punct': {'7': '.'},\n",
       "    'words': [{'token_lc': 'však',\n",
       "      'xsampa': 'fSak',\n",
       "      'morph': 'J^--------------',\n",
       "      'phoebe': 'fSak',\n",
       "      'token': 'Však',\n",
       "      'lemma': 'však'},\n",
       "     {'token_lc': 'já',\n",
       "      'xsampa': 'ja:',\n",
       "      'morph': 'PP-S1--1--------',\n",
       "      'phoebe': 'jA',\n",
       "      'token': 'já',\n",
       "      'lemma': 'já'},\n",
       "     {'token_lc': 'v',\n",
       "      'xsampa': 'v',\n",
       "      'morph': 'RR--6-----------',\n",
       "      'phoebe': 'v',\n",
       "      'token': 'v',\n",
       "      'lemma': 'v'},\n",
       "     {'token_lc': 'něm',\n",
       "      'xsampa': 'JEm',\n",
       "      'morph': 'P5NS6--3--------',\n",
       "      'phoebe': 'Nem',\n",
       "      'token': 'něm',\n",
       "      'lemma': 'on'},\n",
       "     {'token_lc': 'vidím',\n",
       "      'xsampa': 'vIJ\\\\i:m',\n",
       "      'morph': 'VB-S---1P-AA---I',\n",
       "      'phoebe': 'viDIm',\n",
       "      'token': 'vidím',\n",
       "      'lemma': 'vidět'},\n",
       "     {'token_lc': 'dělníka',\n",
       "      'xsampa': 'J\\\\ElJi:ka',\n",
       "      'morph': 'NNMS4-----A-----',\n",
       "      'phoebe': 'DelNIka',\n",
       "      'token': 'dělníka',\n",
       "      'lemma': 'dělník'},\n",
       "     {'token_lc': 'krev',\n",
       "      'xsampa': 'krEf',\n",
       "      'morph': 'NNFS4-----A-----',\n",
       "      'phoebe': 'kref',\n",
       "      'token': 'krev',\n",
       "      'lemma': 'krev'}],\n",
       "    'rhyme': 4,\n",
       "    'metre': [{'foot': '4',\n",
       "      'clause': 'm',\n",
       "      'pattern': 'SVWSWSVWS',\n",
       "      'type': 'X'}],\n",
       "    'stress': '000101001'}],\n",
       "  [{'text': 'A druhý zpívá. Chřtán se mu úží,',\n",
       "    'punct': {'3': '.', '7': ','},\n",
       "    'words': [{'token_lc': 'a',\n",
       "      'xsampa': 'a',\n",
       "      'morph': 'J^--------------',\n",
       "      'phoebe': 'a',\n",
       "      'token': 'A',\n",
       "      'lemma': 'a'},\n",
       "     {'token_lc': 'druhý',\n",
       "      'xsampa': 'druh\\\\i:',\n",
       "      'morph': 'AAIS1----1A-----',\n",
       "      'phoebe': 'druhI',\n",
       "      'token': 'druhý',\n",
       "      'lemma': 'druhý'},\n",
       "     {'token_lc': 'zpívá',\n",
       "      'xsampa': 'spi:va:',\n",
       "      'morph': 'VB-S---3P-AA---I',\n",
       "      'phoebe': 'spIvA',\n",
       "      'token': 'zpívá',\n",
       "      'lemma': 'zpívat'},\n",
       "     {'token_lc': 'chřtán',\n",
       "      'xsampa': 'xP\\\\ta:n',\n",
       "      'morph': 'NNIS1-----A-----',\n",
       "      'phoebe': 'xRtAn',\n",
       "      'token': 'Chřtán',\n",
       "      'lemma': 'chřtán'},\n",
       "     {'token_lc': 'se',\n",
       "      'xsampa': 'sE',\n",
       "      'morph': 'P7-X4-----------',\n",
       "      'phoebe': 'se',\n",
       "      'token': 'se',\n",
       "      'lemma': 'se'},\n",
       "     {'token_lc': 'mu',\n",
       "      'xsampa': 'mu',\n",
       "      'morph': 'PHIS3--3--------',\n",
       "      'phoebe': 'mu',\n",
       "      'token': 'mu',\n",
       "      'lemma': 'on'},\n",
       "     {'token_lc': 'úží',\n",
       "      'xsampa': 'u:Zi:',\n",
       "      'morph': 'VB-S---3P-AA---I',\n",
       "      'phoebe': 'UZI',\n",
       "      'token': 'úží',\n",
       "      'lemma': 'úžit'}],\n",
       "    'rhyme': 5,\n",
       "    'metre': [{'foot': '4',\n",
       "      'clause': 'f',\n",
       "      'pattern': 'SVWSWSVWSW',\n",
       "      'type': 'X'}],\n",
       "    'stress': '0101010010'},\n",
       "   {'text': 'na krku kosti zříš mu přes kůži.',\n",
       "    'punct': {'7': '.'},\n",
       "    'words': [{'token_lc': 'na',\n",
       "      'xsampa': 'na',\n",
       "      'morph': 'RR--6-----------',\n",
       "      'phoebe': 'na',\n",
       "      'token': 'na',\n",
       "      'lemma': 'na'},\n",
       "     {'token_lc': 'krku',\n",
       "      'xsampa': 'kr=ku',\n",
       "      'morph': 'NNIS6-----A-----',\n",
       "      'phoebe': 'kQku',\n",
       "      'token': 'krku',\n",
       "      'lemma': 'krk'},\n",
       "     {'token_lc': 'kosti',\n",
       "      'xsampa': 'koscI',\n",
       "      'morph': 'NNFS2-----A-----',\n",
       "      'phoebe': 'kosTi',\n",
       "      'token': 'kosti',\n",
       "      'lemma': 'kost'},\n",
       "     {'token_lc': 'zříš',\n",
       "      'xsampa': 'zP\\\\i:S',\n",
       "      'morph': 'VB-S---2P-AA---I',\n",
       "      'phoebe': 'zRIS',\n",
       "      'token': 'zříš',\n",
       "      'lemma': 'zřít'},\n",
       "     {'token_lc': 'mu',\n",
       "      'xsampa': 'mu',\n",
       "      'morph': 'PHMS3--3--------',\n",
       "      'phoebe': 'mu',\n",
       "      'token': 'mu',\n",
       "      'lemma': 'on'},\n",
       "     {'token_lc': 'přes',\n",
       "      'xsampa': 'pP\\\\Es',\n",
       "      'morph': 'RR--4-----------',\n",
       "      'phoebe': 'pRes',\n",
       "      'token': 'přes',\n",
       "      'lemma': 'přes'},\n",
       "     {'token_lc': 'kůži',\n",
       "      'xsampa': 'ku:ZI',\n",
       "      'morph': 'NNFS4-----A-----',\n",
       "      'phoebe': 'kUZi',\n",
       "      'token': 'kůži',\n",
       "      'lemma': 'kůže'}],\n",
       "    'rhyme': 5,\n",
       "    'metre': [{'foot': '4',\n",
       "      'clause': 'f',\n",
       "      'pattern': 'SVWSWSVWSW',\n",
       "      'type': 'X'}],\n",
       "    'stress': '1001010100'},\n",
       "   {'text': 'Zapěl by chuďas, zapěl by rád,',\n",
       "    'punct': {'3': ',', '6': ','},\n",
       "    'words': [{'token_lc': 'zapěl',\n",
       "      'xsampa': 'zapjEl',\n",
       "      'morph': 'VpMS---3R-AA---P',\n",
       "      'phoebe': 'zapjel',\n",
       "      'token': 'Zapěl',\n",
       "      'lemma': 'zapět'},\n",
       "     {'token_lc': 'by',\n",
       "      'xsampa': 'bI',\n",
       "      'morph': 'Vc-------------I',\n",
       "      'phoebe': 'bi',\n",
       "      'token': 'by',\n",
       "      'lemma': 'být'},\n",
       "     {'token_lc': 'chuďas',\n",
       "      'xsampa': 'xuJ\\\\as',\n",
       "      'morph': 'NNMS1-----A-----',\n",
       "      'phoebe': 'xuDas',\n",
       "      'token': 'chuďas',\n",
       "      'lemma': 'chuďas'},\n",
       "     {'token_lc': 'zapěl',\n",
       "      'xsampa': 'zapjEl',\n",
       "      'morph': 'VpMS---3R-AA---P',\n",
       "      'phoebe': 'zapjel',\n",
       "      'token': 'zapěl',\n",
       "      'lemma': 'zapět'},\n",
       "     {'token_lc': 'by',\n",
       "      'xsampa': 'bI',\n",
       "      'morph': 'Vc-------------I',\n",
       "      'phoebe': 'bi',\n",
       "      'token': 'by',\n",
       "      'lemma': 'být'},\n",
       "     {'token_lc': 'rád',\n",
       "      'xsampa': 'ra:t',\n",
       "      'morph': 'ACMS------A-----',\n",
       "      'phoebe': 'rAt',\n",
       "      'token': 'rád',\n",
       "      'lemma': 'rád'}],\n",
       "    'rhyme': 6,\n",
       "    'metre': [{'foot': '4',\n",
       "      'clause': 'm',\n",
       "      'pattern': 'SVWSWSVWS',\n",
       "      'type': 'X'}],\n",
       "    'stress': '100101001'},\n",
       "   {'text': 'však z jeho nitra ječí mu hlad.',\n",
       "    'punct': {'7': '.'},\n",
       "    'words': [{'token_lc': 'však',\n",
       "      'xsampa': 'fSak',\n",
       "      'morph': 'J^--------------',\n",
       "      'phoebe': 'fSak',\n",
       "      'token': 'však',\n",
       "      'lemma': 'však'},\n",
       "     {'token_lc': 'z',\n",
       "      'xsampa': 'z',\n",
       "      'morph': 'RR--2-----------',\n",
       "      'phoebe': 'z',\n",
       "      'token': 'z',\n",
       "      'lemma': 'z'},\n",
       "     {'token_lc': 'jeho',\n",
       "      'xsampa': 'jEh\\\\o',\n",
       "      'morph': 'PSNS2XS3--------',\n",
       "      'phoebe': 'jeho',\n",
       "      'token': 'jeho',\n",
       "      'lemma': 'jeho'},\n",
       "     {'token_lc': 'nitra',\n",
       "      'xsampa': 'JItra',\n",
       "      'morph': 'NNNS2-----A-----',\n",
       "      'phoebe': 'Nitra',\n",
       "      'token': 'nitra',\n",
       "      'lemma': 'nitro'},\n",
       "     {'token_lc': 'ječí',\n",
       "      'xsampa': 'jEt_Si:',\n",
       "      'morph': 'VB-S---3P-AA---I',\n",
       "      'phoebe': 'jeCI',\n",
       "      'token': 'ječí',\n",
       "      'lemma': 'ječet'},\n",
       "     {'token_lc': 'mu',\n",
       "      'xsampa': 'mu',\n",
       "      'morph': 'PHNS3--3--------',\n",
       "      'phoebe': 'mu',\n",
       "      'token': 'mu',\n",
       "      'lemma': 'on'},\n",
       "     {'token_lc': 'hlad',\n",
       "      'xsampa': 'h\\\\lat',\n",
       "      'morph': 'NNIS1-----A-----',\n",
       "      'phoebe': 'hlat',\n",
       "      'token': 'hlad',\n",
       "      'lemma': 'hlad'}],\n",
       "    'rhyme': 6,\n",
       "    'metre': [{'foot': '4',\n",
       "      'clause': 'm',\n",
       "      'pattern': 'SVWSWSVWS',\n",
       "      'type': 'X'}],\n",
       "    'stress': '010101001'}],\n",
       "  [{'text': 'A třetí zpívá, líce své šklebě,',\n",
       "    'punct': {'3': ',', '6': ','},\n",
       "    'words': [{'token_lc': 'a',\n",
       "      'xsampa': 'a',\n",
       "      'morph': 'J^--------------',\n",
       "      'phoebe': 'a',\n",
       "      'token': 'A',\n",
       "      'lemma': 'a'},\n",
       "     {'token_lc': 'třetí',\n",
       "      'xsampa': 'tP\\\\Eci:',\n",
       "      'morph': 'CrIS1-----------',\n",
       "      'phoebe': 'tReTI',\n",
       "      'token': 'třetí',\n",
       "      'lemma': 'třetí'},\n",
       "     {'token_lc': 'zpívá',\n",
       "      'xsampa': 'spi:va:',\n",
       "      'morph': 'VB-S---3P-AA---I',\n",
       "      'phoebe': 'spIvA',\n",
       "      'token': 'zpívá',\n",
       "      'lemma': 'zpívat'},\n",
       "     {'token_lc': 'líce',\n",
       "      'xsampa': 'li:t_sE',\n",
       "      'morph': 'NNFP4-----A-----',\n",
       "      'phoebe': 'lIce',\n",
       "      'token': 'líce',\n",
       "      'lemma': 'líce'},\n",
       "     {'token_lc': 'své',\n",
       "      'xsampa': 'svE:',\n",
       "      'morph': 'P8FS2---------1-',\n",
       "      'phoebe': 'svE',\n",
       "      'token': 'své',\n",
       "      'lemma': 'svůj'},\n",
       "     {'token_lc': 'šklebě',\n",
       "      'xsampa': 'SklEbjE',\n",
       "      'morph': 'VeMS------A----I',\n",
       "      'phoebe': 'Sklebje',\n",
       "      'token': 'šklebě',\n",
       "      'lemma': 'šklebit'}],\n",
       "    'rhyme': 7,\n",
       "    'metre': [{'foot': '4',\n",
       "      'clause': 'f',\n",
       "      'pattern': 'SVWSWSVWSW',\n",
       "      'type': 'X'}],\n",
       "    'stress': '0101010010'},\n",
       "   {'text': 'zpívá o vodě, soli a chlebě,',\n",
       "    'punct': {'3': ',', '6': ','},\n",
       "    'words': [{'token_lc': 'zpívá',\n",
       "      'xsampa': 'spi:va:',\n",
       "      'morph': 'VB-S---3P-AA---I',\n",
       "      'phoebe': 'spIvA',\n",
       "      'token': 'zpívá',\n",
       "      'lemma': 'zpívat'},\n",
       "     {'token_lc': 'o',\n",
       "      'xsampa': 'o',\n",
       "      'morph': 'RR--6-----------',\n",
       "      'phoebe': 'o',\n",
       "      'token': 'o',\n",
       "      'lemma': 'o'},\n",
       "     {'token_lc': 'vodě',\n",
       "      'xsampa': 'voJ\\\\E',\n",
       "      'morph': 'NNFS6-----A-----',\n",
       "      'phoebe': 'voDe',\n",
       "      'token': 'vodě',\n",
       "      'lemma': 'voda'},\n",
       "     {'token_lc': 'soli',\n",
       "      'xsampa': 'solI',\n",
       "      'morph': 'NNFS6-----A-----',\n",
       "      'phoebe': 'soli',\n",
       "      'token': 'soli',\n",
       "      'lemma': 'sůl'},\n",
       "     {'token_lc': 'a',\n",
       "      'xsampa': 'a',\n",
       "      'morph': 'J^--------------',\n",
       "      'phoebe': 'a',\n",
       "      'token': 'a',\n",
       "      'lemma': 'a'},\n",
       "     {'token_lc': 'chlebě',\n",
       "      'xsampa': 'xlEbjE',\n",
       "      'morph': 'NNIS6-----A---1-',\n",
       "      'phoebe': 'xlebje',\n",
       "      'token': 'chlebě',\n",
       "      'lemma': 'chléb'}],\n",
       "    'rhyme': 7,\n",
       "    'metre': [{'foot': '4',\n",
       "      'clause': 'f',\n",
       "      'pattern': 'SVWSWSVWSW',\n",
       "      'type': 'X'}],\n",
       "    'stress': '1010010010'},\n",
       "   {'text': 'tak pěje z temna v modravou dál',\n",
       "    'punct': {},\n",
       "    'words': [{'token_lc': 'tak',\n",
       "      'xsampa': 'tak',\n",
       "      'morph': 'Db--------------',\n",
       "      'phoebe': 'tak',\n",
       "      'token': 'tak',\n",
       "      'lemma': 'tak'},\n",
       "     {'token_lc': 'pěje',\n",
       "      'xsampa': 'pjEjE',\n",
       "      'morph': 'VB-S---3P-AA---I',\n",
       "      'phoebe': 'pjeje',\n",
       "      'token': 'pěje',\n",
       "      'lemma': 'pět'},\n",
       "     {'token_lc': 'z',\n",
       "      'xsampa': 's',\n",
       "      'morph': 'RR--2-----------',\n",
       "      'phoebe': 's',\n",
       "      'token': 'z',\n",
       "      'lemma': 'z'},\n",
       "     {'token_lc': 'temna',\n",
       "      'xsampa': 'tEmna',\n",
       "      'morph': 'NNNS2-----A-----',\n",
       "      'phoebe': 'temna',\n",
       "      'token': 'temna',\n",
       "      'lemma': 'temno'},\n",
       "     {'token_lc': 'v',\n",
       "      'xsampa': 'v',\n",
       "      'morph': 'RR--4-----------',\n",
       "      'phoebe': 'v',\n",
       "      'token': 'v',\n",
       "      'lemma': 'v'},\n",
       "     {'token_lc': 'modravou',\n",
       "      'xsampa': 'modravo_u',\n",
       "      'morph': 'AAFS4----1A-----',\n",
       "      'phoebe': 'modrav0',\n",
       "      'token': 'modravou',\n",
       "      'lemma': 'modravý'},\n",
       "     {'token_lc': 'dál',\n",
       "      'xsampa': 'da:l',\n",
       "      'morph': 'Db--------------',\n",
       "      'phoebe': 'dAl',\n",
       "      'token': 'dál',\n",
       "      'lemma': 'dále'}],\n",
       "    'rhyme': 8,\n",
       "    'metre': [{'foot': '4',\n",
       "      'clause': 'm',\n",
       "      'pattern': 'SVWSWSVWS',\n",
       "      'type': 'X'}],\n",
       "    'stress': '010101000'},\n",
       "   {'text': 'a v písni jeho ukryt je žal.',\n",
       "    'punct': {'7': '.'},\n",
       "    'words': [{'token_lc': 'a',\n",
       "      'xsampa': 'a',\n",
       "      'morph': 'J^--------------',\n",
       "      'phoebe': 'a',\n",
       "      'token': 'a',\n",
       "      'lemma': 'a'},\n",
       "     {'token_lc': 'v',\n",
       "      'xsampa': 'f',\n",
       "      'morph': 'RR--6-----------',\n",
       "      'phoebe': 'f',\n",
       "      'token': 'v',\n",
       "      'lemma': 'v'},\n",
       "     {'token_lc': 'písni',\n",
       "      'xsampa': 'pi:sJI',\n",
       "      'morph': 'NNFS6-----A-----',\n",
       "      'phoebe': 'pIsNi',\n",
       "      'token': 'písni',\n",
       "      'lemma': 'píseň'},\n",
       "     {'token_lc': 'jeho',\n",
       "      'xsampa': 'jEh\\\\o',\n",
       "      'morph': 'PPMS4--3--------',\n",
       "      'phoebe': 'jeho',\n",
       "      'token': 'jeho',\n",
       "      'lemma': 'on'},\n",
       "     {'token_lc': 'ukryt',\n",
       "      'xsampa': 'ukrIt',\n",
       "      'morph': 'VsIS---3P-AP---P',\n",
       "      'phoebe': 'ukrit',\n",
       "      'token': 'ukryt',\n",
       "      'lemma': 'ukrýt'},\n",
       "     {'token_lc': 'je',\n",
       "      'xsampa': 'jE',\n",
       "      'morph': 'VB-S---3P-AA---I',\n",
       "      'phoebe': 'je',\n",
       "      'token': 'je',\n",
       "      'lemma': 'být'},\n",
       "     {'token_lc': 'žal',\n",
       "      'xsampa': 'Zal',\n",
       "      'morph': 'NNIS1-----A-----',\n",
       "      'phoebe': 'Zal',\n",
       "      'token': 'žal',\n",
       "      'lemma': 'žal'}],\n",
       "    'rhyme': 8,\n",
       "    'metre': [{'foot': '4',\n",
       "      'clause': 'm',\n",
       "      'pattern': 'SVWSWSVWS',\n",
       "      'type': 'X'}],\n",
       "    'stress': '010101001'}],\n",
       "  [{'text': 'Dosti, bratři, dosti zpěvu toho,',\n",
       "    'punct': {'5': ',', '2': ',', '1': ','},\n",
       "    'words': [{'token_lc': 'dosti',\n",
       "      'xsampa': 'doscI',\n",
       "      'morph': 'Dg-------1A---3-',\n",
       "      'phoebe': 'dosTi',\n",
       "      'token': 'Dosti',\n",
       "      'lemma': 'dost'},\n",
       "     {'token_lc': 'bratři',\n",
       "      'xsampa': 'bratP\\\\I',\n",
       "      'morph': 'NNMP1-----A-----',\n",
       "      'phoebe': 'bratRi',\n",
       "      'token': 'bratři',\n",
       "      'lemma': 'bratr'},\n",
       "     {'token_lc': 'dosti',\n",
       "      'xsampa': 'doscI',\n",
       "      'morph': 'Dg-------1A---3-',\n",
       "      'phoebe': 'dosTi',\n",
       "      'token': 'dosti',\n",
       "      'lemma': 'dost'},\n",
       "     {'token_lc': 'zpěvu',\n",
       "      'xsampa': 'spjEvu',\n",
       "      'morph': 'NNIS2-----A-----',\n",
       "      'phoebe': 'spjevu',\n",
       "      'token': 'zpěvu',\n",
       "      'lemma': 'zpěv'},\n",
       "     {'token_lc': 'toho',\n",
       "      'xsampa': 'toh\\\\o',\n",
       "      'morph': 'PDIS2-----------',\n",
       "      'phoebe': 'toho',\n",
       "      'token': 'toho',\n",
       "      'lemma': 'ten'}],\n",
       "    'rhyme': 9,\n",
       "    'metre': [{'foot': '5',\n",
       "      'clause': 'f',\n",
       "      'pattern': 'SWSWSWSWSW',\n",
       "      'type': 'T'}],\n",
       "    'stress': '1010101010'},\n",
       "   {'text': 'již se ruka péra chopila,',\n",
       "    'punct': {'5': ','},\n",
       "    'words': [{'token_lc': 'již',\n",
       "      'xsampa': 'jIS',\n",
       "      'morph': 'Db--------------',\n",
       "      'phoebe': 'jiS',\n",
       "      'token': 'již',\n",
       "      'lemma': 'již'},\n",
       "     {'token_lc': 'se',\n",
       "      'xsampa': 'sE',\n",
       "      'morph': 'P7-X4-----------',\n",
       "      'phoebe': 'se',\n",
       "      'token': 'se',\n",
       "      'lemma': 'se'},\n",
       "     {'token_lc': 'ruka',\n",
       "      'xsampa': 'ruka',\n",
       "      'morph': 'NNFS1-----A-----',\n",
       "      'phoebe': 'ruka',\n",
       "      'token': 'ruka',\n",
       "      'lemma': 'ruka'},\n",
       "     {'token_lc': 'péra',\n",
       "      'xsampa': 'pE:ra',\n",
       "      'morph': 'NNNS2-----A---1-',\n",
       "      'phoebe': 'pEra',\n",
       "      'token': 'péra',\n",
       "      'lemma': 'pero'},\n",
       "     {'token_lc': 'chopila',\n",
       "      'xsampa': 'xopIla',\n",
       "      'morph': 'VpFS---3R-AA---P',\n",
       "      'phoebe': 'xopila',\n",
       "      'token': 'chopila',\n",
       "      'lemma': 'chopit'}],\n",
       "    'rhyme': 10,\n",
       "    'metre': [{'foot': '5',\n",
       "      'clause': 'm',\n",
       "      'pattern': 'SWSWSWSWS',\n",
       "      'type': 'T'}],\n",
       "    'stress': '001010100'},\n",
       "   {'text': 'píši již, vím písní mnoho, mnoho,',\n",
       "    'punct': {'5': ',', '2': ',', '6': ','},\n",
       "    'words': [{'token_lc': 'píši',\n",
       "      'xsampa': 'pi:SI',\n",
       "      'morph': 'VB-S---1P-AA--1I',\n",
       "      'phoebe': 'pISi',\n",
       "      'token': 'píši',\n",
       "      'lemma': 'psát'},\n",
       "     {'token_lc': 'již',\n",
       "      'xsampa': 'jIS',\n",
       "      'morph': 'Db--------------',\n",
       "      'phoebe': 'jiS',\n",
       "      'token': 'již',\n",
       "      'lemma': 'již'},\n",
       "     {'token_lc': 'vím',\n",
       "      'xsampa': 'vi:m',\n",
       "      'morph': 'VB-S---1P-AA---I',\n",
       "      'phoebe': 'vIm',\n",
       "      'token': 'vím',\n",
       "      'lemma': 'vědět'},\n",
       "     {'token_lc': 'písní',\n",
       "      'xsampa': 'pi:sJi:',\n",
       "      'morph': 'NNFP2-----A-----',\n",
       "      'phoebe': 'pIsNI',\n",
       "      'token': 'písní',\n",
       "      'lemma': 'píseň'},\n",
       "     {'token_lc': 'mnoho',\n",
       "      'xsampa': 'mnoh\\\\o',\n",
       "      'morph': 'Ca--4-----------',\n",
       "      'phoebe': 'mnoho',\n",
       "      'token': 'mnoho',\n",
       "      'lemma': 'mnoho'},\n",
       "     {'token_lc': 'mnoho',\n",
       "      'xsampa': 'mnoh\\\\o',\n",
       "      'morph': 'Ca--1-----------',\n",
       "      'phoebe': 'mnoho',\n",
       "      'token': 'mnoho',\n",
       "      'lemma': 'mnoho'}],\n",
       "    'rhyme': 9,\n",
       "    'metre': [{'foot': '5',\n",
       "      'clause': 'f',\n",
       "      'pattern': 'SWSWSWSWSW',\n",
       "      'type': 'T'}],\n",
       "    'stress': '1001101010'},\n",
       "   {'text': 'hlava moje je z nich opilá.',\n",
       "    'punct': {'6': '.'},\n",
       "    'words': [{'token_lc': 'hlava',\n",
       "      'xsampa': 'h\\\\lava',\n",
       "      'morph': 'NNFS1-----A-----',\n",
       "      'phoebe': 'hlava',\n",
       "      'token': 'hlava',\n",
       "      'lemma': 'hlava'},\n",
       "     {'token_lc': 'moje',\n",
       "      'xsampa': 'mojE',\n",
       "      'morph': 'PSFS1-S1--------',\n",
       "      'phoebe': 'moje',\n",
       "      'token': 'moje',\n",
       "      'lemma': 'můj'},\n",
       "     {'token_lc': 'je',\n",
       "      'xsampa': 'jE',\n",
       "      'morph': 'VB-S---3P-AA---I',\n",
       "      'phoebe': 'je',\n",
       "      'token': 'je',\n",
       "      'lemma': 'být'},\n",
       "     {'token_lc': 'z',\n",
       "      'xsampa': 'z',\n",
       "      'morph': 'RR--2-----------',\n",
       "      'phoebe': 'z',\n",
       "      'token': 'z',\n",
       "      'lemma': 'z'},\n",
       "     {'token_lc': 'nich',\n",
       "      'xsampa': 'JIx',\n",
       "      'morph': 'P5IP2--3--------',\n",
       "      'phoebe': 'Nix',\n",
       "      'token': 'nich',\n",
       "      'lemma': 'oni'},\n",
       "     {'token_lc': 'opilá',\n",
       "      'xsampa': 'opIla:',\n",
       "      'morph': 'AAFS1----1A-----',\n",
       "      'phoebe': 'opilA',\n",
       "      'token': 'opilá',\n",
       "      'lemma': 'opilý'}],\n",
       "    'rhyme': 10,\n",
       "    'metre': [{'foot': '5',\n",
       "      'clause': 'm',\n",
       "      'pattern': 'SWSWSWSWS',\n",
       "      'type': 'T'}],\n",
       "    'stress': '101000100'}]],\n",
       " 'results': {'poem': None}}"
      ]
     },
     "execution_count": 17,
     "metadata": {},
     "output_type": "execute_result"
    }
   ],
   "source": [
    "poems_data_one_metre_line_all_metres_recognized[0]"
   ]
  },
  {
   "cell_type": "code",
   "execution_count": 18,
   "id": "7f8bef9b",
   "metadata": {},
   "outputs": [
    {
     "name": "stdout",
     "output_type": "stream",
     "text": [
      "Train data cnt: 41762, Dev data cnt: 8949, Test data cnt: 8950\n"
     ]
    }
   ],
   "source": [
    "train_data, dev_data, test_data = split_train_dev_test(poems_data_one_metre_line_all_metres_recognized)"
   ]
  },
  {
   "cell_type": "code",
   "execution_count": 19,
   "id": "e62ec3a0",
   "metadata": {
    "pycharm": {
     "name": "#%%\n"
    }
   },
   "outputs": [
    {
     "name": "stdout",
     "output_type": "stream",
     "text": [
      "Data saved to train_one_metre_line_all_metres_recognized.json\n",
      "Data saved to dev_one_metre_line_all_metres_recognized.json\n",
      "Data saved to test_one_metre_line_all_metres_recognized.json\n"
     ]
    }
   ],
   "source": [
    "data_loader_and_saver.save_all_data(train_data, dev_data, test_data, extension)"
   ]
  },
  {
   "cell_type": "code",
   "execution_count": 20,
   "id": "9dd815dd",
   "metadata": {
    "pycharm": {
     "name": "#%%\n"
    }
   },
   "outputs": [],
   "source": [
    "train_X = get_X(train_data)\n",
    "dev_X = get_X(dev_data)\n",
    "test_X = get_X(test_data)"
   ]
  },
  {
   "cell_type": "code",
   "execution_count": 21,
   "id": "1d46277e",
   "metadata": {
    "pycharm": {
     "name": "#%%\n"
    }
   },
   "outputs": [
    {
     "name": "stdout",
     "output_type": "stream",
     "text": [
      "Data saved to train_X_one_metre_line_all_metres_recognized.json\n",
      "Data saved to dev_X_one_metre_line_all_metres_recognized.json\n",
      "Data saved to test_X_one_metre_line_all_metres_recognized.json\n"
     ]
    }
   ],
   "source": [
    "data_loader_and_saver.save_all_data(train_X, dev_X, test_X, f\"_X{extension}\")"
   ]
  },
  {
   "cell_type": "code",
   "execution_count": 22,
   "id": "b998468b",
   "metadata": {
    "pycharm": {
     "name": "#%%\n"
    }
   },
   "outputs": [],
   "source": [
    "train_y = get_y(train_data, one_metre=True)\n",
    "dev_y = get_y(dev_data, one_metre=True)\n",
    "test_y = get_y(test_data, one_metre=True)"
   ]
  },
  {
   "cell_type": "code",
   "execution_count": 23,
   "id": "00823947",
   "metadata": {
    "pycharm": {
     "name": "#%%\n"
    }
   },
   "outputs": [
    {
     "name": "stdout",
     "output_type": "stream",
     "text": [
      "Data saved to train_y_one_metre_line_all_metres_recognized.json\n",
      "Data saved to dev_y_one_metre_line_all_metres_recognized.json\n",
      "Data saved to test_y_one_metre_line_all_metres_recognized.json\n"
     ]
    }
   ],
   "source": [
    "data_loader_and_saver.save_all_data(train_y, dev_y, test_y, f\"_y{extension}\")"
   ]
  },
  {
   "cell_type": "code",
   "execution_count": 24,
   "id": "fbbdaa94",
   "metadata": {
    "pycharm": {
     "name": "#%%\n"
    }
   },
   "outputs": [],
   "source": [
    "train_tokens = get_tokens(train_data)"
   ]
  },
  {
   "cell_type": "code",
   "execution_count": 25,
   "id": "77f3e706",
   "metadata": {
    "pycharm": {
     "name": "#%%\n"
    }
   },
   "outputs": [
    {
     "name": "stdout",
     "output_type": "stream",
     "text": [
      "Data saved to train_tokens_one_metre_line_all_metres_recognized.json\n"
     ]
    }
   ],
   "source": [
    "data_loader_and_saver.save_data(train_tokens, f\"train_tokens{extension}\")"
   ]
  },
  {
   "cell_type": "code",
   "execution_count": 26,
   "id": "b1aa7e83",
   "metadata": {
    "pycharm": {
     "name": "#%%\n"
    }
   },
   "outputs": [],
   "source": [
    "train_sampa_tokens = get_sampa_tokens(train_data)"
   ]
  },
  {
   "cell_type": "code",
   "execution_count": 27,
   "id": "0082f1cf",
   "metadata": {
    "pycharm": {
     "name": "#%%\n"
    }
   },
   "outputs": [
    {
     "name": "stdout",
     "output_type": "stream",
     "text": [
      "Data saved to train_sampa_tokens_one_metre_line_all_metres_recognized.json\n"
     ]
    }
   ],
   "source": [
    "data_loader_and_saver.save_data(train_sampa_tokens, f\"train_sampa_tokens{extension}\")"
   ]
  }
 ],
 "metadata": {
  "kernelspec": {
   "display_name": "Python 3 (ipykernel)",
   "language": "python",
   "name": "python3"
  },
  "language_info": {
   "codemirror_mode": {
    "name": "ipython",
    "version": 3
   },
   "file_extension": ".py",
   "mimetype": "text/x-python",
   "name": "python",
   "nbconvert_exporter": "python",
   "pygments_lexer": "ipython3",
   "version": "3.8.10"
  }
 },
 "nbformat": 4,
 "nbformat_minor": 5
}
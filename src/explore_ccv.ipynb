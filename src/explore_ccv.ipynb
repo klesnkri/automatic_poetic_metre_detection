{
 "cells": [
  {
   "cell_type": "markdown",
   "source": [
    "# Explore Corpus of Czech Verse"
   ],
   "metadata": {
    "collapsed": false,
    "pycharm": {
     "name": "#%% md\n"
    }
   }
  },
  {
   "cell_type": "code",
   "execution_count": 1,
   "outputs": [],
   "source": [
    "%load_ext dotenv\n",
    "%dotenv\n",
    "import os\n",
    "\n",
    "base_dir = os.getenv(\"WORKING_DIR\")\n",
    "os.chdir(base_dir)"
   ],
   "metadata": {
    "collapsed": false,
    "pycharm": {
     "name": "#%%\n"
    }
   }
  },
  {
   "cell_type": "code",
   "execution_count": 2,
   "outputs": [],
   "source": [
    "from collections import defaultdict, Counter"
   ],
   "metadata": {
    "collapsed": false,
    "pycharm": {
     "name": "#%%\n"
    }
   }
  },
  {
   "cell_type": "code",
   "execution_count": 3,
   "id": "752af51e",
   "metadata": {
    "pycharm": {
     "name": "#%%\n"
    }
   },
   "outputs": [],
   "source": [
    "from src.data_loader_and_saver import JSONDataLoaderAndSaver\n",
    "\n",
    "data_loader = JSONDataLoaderAndSaver(base_dir, input_data_dir=\"src/data\")"
   ]
  },
  {
   "cell_type": "code",
   "execution_count": 4,
   "id": "f9417219",
   "metadata": {},
   "outputs": [
    {
     "name": "stdout",
     "output_type": "stream",
     "text": [
      "all_poems_data.json: loaded 66428 records.\n"
     ]
    }
   ],
   "source": [
    "all_poems_data = data_loader.load_data(\"all_poems_data\")"
   ]
  },
  {
   "cell_type": "code",
   "execution_count": 5,
   "id": "e488e35e",
   "metadata": {
    "pycharm": {
     "name": "#%%\n"
    }
   },
   "outputs": [
    {
     "data": {
      "text/plain": "{'p_author': {'born': 1821,\n  'died': 1856,\n  'name': 'Havlíček Borovský, Karel',\n  'identity': 'Havlíček Borovský, Karel'},\n 'biblio': {'motto_aut': None,\n  'b_subtitle': 'Jehly, špičky, sochory a kůly  stesal, zkoval, zostřil, sebral  k vůli  vojně s hloupostí a zlobou místo šavel  Borovský Havel.',\n  'publisher': 'Dolenský, Antonín; Unie',\n  'edition': '[1.]',\n  'motto': None,\n  'p_title': 'Pražské Vysoké Školy.',\n  'place': 'Praha',\n  'dedication': None,\n  'b_title': 'Epigramy',\n  'pages': '[80]',\n  'year': '1921',\n  'signature': 'ÚČL AV ČR; 52 VIII 2'},\n 'book_id': '0176',\n 'poem_id': '0001-0004-0000-0001-0000',\n 'b_author': {'born': 1821,\n  'died': 1856,\n  'name': 'Havlíček Borovský, Karel',\n  'identity': 'Havlíček Borovský, Karel'},\n 'body': [[{'text': 'Dvě fakulty v Klementině,',\n    'punct': {'4': ','},\n    'words': [{'token_lc': 'dvě',\n      'xsampa': 'dvjE',\n      'morph': 'ClFP1-----------',\n      'phoebe': 'dvje',\n      'token': 'Dvě',\n      'lemma': 'dva'},\n     {'token_lc': 'fakulty',\n      'xsampa': 'fakultI',\n      'morph': 'NNFP1-----A-----',\n      'phoebe': 'fakulti',\n      'token': 'fakulty',\n      'lemma': 'fakulta'},\n     {'token_lc': 'v',\n      'xsampa': 'f',\n      'morph': 'RR--6-----------',\n      'phoebe': 'f',\n      'token': 'v',\n      'lemma': 'v'},\n     {'token_lc': 'klementině',\n      'xsampa': 'klEmEncIJE',\n      'morph': 'NNFS6-----A-----',\n      'phoebe': 'klemenTiNe',\n      'token': 'Klementině',\n      'lemma': 'Klementina'}],\n    'rhyme': 1,\n    'metre': [{'foot': '4',\n      'clause': 'f',\n      'pattern': 'SWSWSWSW',\n      'type': 'T'}],\n    'stress': '11001000'},\n   {'text': 'Dvě fakulty v Karolině!',\n    'punct': {'4': '!'},\n    'words': [{'token_lc': 'dvě',\n      'xsampa': 'dvjE',\n      'morph': 'ClFP1-----------',\n      'phoebe': 'dvje',\n      'token': 'Dvě',\n      'lemma': 'dva'},\n     {'token_lc': 'fakulty',\n      'xsampa': 'fakultI',\n      'morph': 'NNFP1-----A-----',\n      'phoebe': 'fakulti',\n      'token': 'fakulty',\n      'lemma': 'fakulta'},\n     {'token_lc': 'v',\n      'xsampa': 'f',\n      'morph': 'RR--6-----------',\n      'phoebe': 'f',\n      'token': 'v',\n      'lemma': 'v'},\n     {'token_lc': 'karolině',\n      'xsampa': 'karolIJE',\n      'morph': 'NNFS6-----A-----',\n      'phoebe': 'karoliNe',\n      'token': 'Karolině',\n      'lemma': 'Karolina'}],\n    'rhyme': 1,\n    'metre': [{'foot': '4',\n      'clause': 'f',\n      'pattern': 'SWSWSWSW',\n      'type': 'T'}],\n    'stress': '11001000'},\n   {'text': 'Nač ten rozdíl? Nevím na mou kuši,',\n    'punct': {'3': '?', '7': ','},\n    'words': [{'token_lc': 'nač',\n      'xsampa': 'nat_S',\n      'morph': 'PY--------------',\n      'phoebe': 'naC',\n      'token': 'Nač',\n      'lemma': 'nač'},\n     {'token_lc': 'ten',\n      'xsampa': 'tEn',\n      'morph': 'PDIS1-----------',\n      'phoebe': 'ten',\n      'token': 'ten',\n      'lemma': 'ten'},\n     {'token_lc': 'rozdíl',\n      'xsampa': 'rozJ\\\\i:l',\n      'morph': 'NNIS1-----A-----',\n      'phoebe': 'rozDIl',\n      'token': 'rozdíl',\n      'lemma': 'rozdíl'},\n     {'token_lc': 'nevím',\n      'xsampa': 'nEvi:m',\n      'morph': 'VB-S---1P-NA---I',\n      'phoebe': 'nevIm',\n      'token': 'Nevím',\n      'lemma': 'vědět'},\n     {'token_lc': 'na',\n      'xsampa': 'na',\n      'morph': 'RR--4-----------',\n      'phoebe': 'na',\n      'token': 'na',\n      'lemma': 'na'},\n     {'token_lc': 'mou',\n      'xsampa': 'mo_u',\n      'morph': 'PSFS4-S1------1-',\n      'phoebe': 'm0',\n      'token': 'mou',\n      'lemma': 'můj'},\n     {'token_lc': 'kuši',\n      'xsampa': 'kuSI',\n      'morph': 'NNFS4-----A-----',\n      'phoebe': 'kuSi',\n      'token': 'kuši',\n      'lemma': 'kuše'}],\n    'rhyme': 2,\n    'metre': [{'foot': '5',\n      'clause': 'f',\n      'pattern': 'SWSWSWSWSW',\n      'type': 'T'}],\n    'stress': '0010101010'},\n   {'text': 'Jak by se to vyložiti mělo?',\n    'punct': {'6': '?'},\n    'words': [{'token_lc': 'jak',\n      'xsampa': 'jak',\n      'morph': 'Db--------------',\n      'phoebe': 'jak',\n      'token': 'Jak',\n      'lemma': 'jak'},\n     {'token_lc': 'by',\n      'xsampa': 'bI',\n      'morph': 'Vc-------------I',\n      'phoebe': 'bi',\n      'token': 'by',\n      'lemma': 'být'},\n     {'token_lc': 'se',\n      'xsampa': 'sE',\n      'morph': 'P7-X4-----------',\n      'phoebe': 'se',\n      'token': 'se',\n      'lemma': 'se'},\n     {'token_lc': 'to',\n      'xsampa': 'to',\n      'morph': 'PDNS1-----------',\n      'phoebe': 'to',\n      'token': 'to',\n      'lemma': 'ten'},\n     {'token_lc': 'vyložiti',\n      'xsampa': 'vIloZIcI',\n      'morph': 'Vf--------A---2P',\n      'phoebe': 'viloZiTi',\n      'token': 'vyložiti',\n      'lemma': 'vyložit'},\n     {'token_lc': 'mělo',\n      'xsampa': 'mJElo',\n      'morph': 'VpNS---3R-AA---I',\n      'phoebe': 'mNelo',\n      'token': 'mělo',\n      'lemma': 'mít'}],\n    'rhyme': 3,\n    'metre': [{'foot': '5',\n      'clause': 'f',\n      'pattern': 'SWSWSWSWSW',\n      'type': 'T'}],\n    'stress': '0000100010'}],\n  [{'text': 'Klementínské zabijejí duši,',\n    'punct': {'3': ','},\n    'words': [{'token_lc': 'klementínské',\n      'xsampa': 'klEmEnci:nskE:',\n      'morph': 'X24-------------',\n      'phoebe': 'klemenTInskE',\n      'token': 'Klementínské',\n      'lemma': 'Klementínské'},\n     {'token_lc': 'zabijejí',\n      'xsampa': 'zabIjEji:',\n      'morph': 'X24-------------',\n      'phoebe': 'zabijejI',\n      'token': 'zabijejí',\n      'lemma': 'zabijejí'},\n     {'token_lc': 'duši',\n      'xsampa': 'duSI',\n      'morph': 'NNFS4-----A-----',\n      'phoebe': 'duSi',\n      'token': 'duši',\n      'lemma': 'duše'}],\n    'rhyme': 2,\n    'metre': [{'foot': '5',\n      'clause': 'f',\n      'pattern': 'SWSWSWSWSW',\n      'type': 'T'}],\n    'stress': '1000100010'},\n   {'text': 'Karolínské tělo.',\n    'punct': {'2': '.'},\n    'words': [{'token_lc': 'karolínské',\n      'xsampa': 'karoli:nskE:',\n      'morph': 'AANS1----1A-----',\n      'phoebe': 'karolInskE',\n      'token': 'Karolínské',\n      'lemma': 'karolínský'},\n     {'token_lc': 'tělo',\n      'xsampa': 'cElo',\n      'morph': 'NNNS1-----A-----',\n      'phoebe': 'Telo',\n      'token': 'tělo',\n      'lemma': 'tělo'}],\n    'rhyme': 3,\n    'metre': [{'foot': '3', 'clause': 'f', 'pattern': 'SWSWSW', 'type': 'T'}],\n    'stress': '100010'}]],\n 'results': {'poem': None}}"
     },
     "execution_count": 5,
     "metadata": {},
     "output_type": "execute_result"
    }
   ],
   "source": [
    "all_poems_data[10512]"
   ]
  },
  {
   "cell_type": "markdown",
   "id": "8a3a0943",
   "metadata": {},
   "source": [
    "## General statistics"
   ]
  },
  {
   "cell_type": "code",
   "execution_count": 6,
   "id": "7dc4c947",
   "metadata": {},
   "outputs": [
    {
     "name": "stdout",
     "output_type": "stream",
     "text": [
      "Poem cnt: 66428\n",
      "Line cnt: 2310917\n",
      "Word cnt: 12636867\n"
     ]
    }
   ],
   "source": [
    "line_cnt = 0\n",
    "word_cnt = 0\n",
    "\n",
    "for poem in all_poems_data:\n",
    "    for stanza in poem[\"body\"]:\n",
    "        for line in stanza:\n",
    "            line_cnt += 1\n",
    "            word_cnt += len(line[\"words\"])\n",
    "\n",
    "print(f\"Poem cnt: {len(all_poems_data)}\")\n",
    "print(f\"Line cnt: {line_cnt}\")\n",
    "print(f\"Word cnt: {word_cnt}\")"
   ]
  },
  {
   "cell_type": "markdown",
   "id": "6bedffd1",
   "metadata": {
    "pycharm": {
     "name": "#%% md\n"
    }
   },
   "source": [
    "## Poems and lines with recognized metres"
   ]
  },
  {
   "cell_type": "code",
   "execution_count": 7,
   "id": "c3494023",
   "metadata": {},
   "outputs": [
    {
     "name": "stdout",
     "output_type": "stream",
     "text": [
      "Poems with recognized metres cnt: 60458 (91.01282591678208 %)\n",
      "Lines with recognized metres cnt: 2088508 (90.37572530731308 %)\n"
     ]
    }
   ],
   "source": [
    "recognized_poem_cnt = 0\n",
    "recognized_line_cnt = 0\n",
    "\n",
    "for poem in all_poems_data:\n",
    "    poem_metres = set()\n",
    "    poem_pos = set()\n",
    "\n",
    "    for stanza in poem[\"body\"]:\n",
    "        for line in stanza:\n",
    "            line_metres = {metre[\"type\"] for metre in line[\"metre\"]}\n",
    "            line_pos = {pos for metre in line[\"metre\"] for pos in metre[\"pattern\"]}\n",
    "\n",
    "            poem_metres.update(line_metres)\n",
    "            poem_pos.update(line_pos)\n",
    "\n",
    "            if \"N\" not in line_metres:\n",
    "                assert (\"X\" not in line_pos)\n",
    "                recognized_line_cnt += 1\n",
    "\n",
    "    if \"N\" not in poem_metres:\n",
    "        assert (\"X\" not in poem_pos)\n",
    "        recognized_poem_cnt += 1\n",
    "\n",
    "print(f\"Poems with recognized metres cnt: {recognized_poem_cnt} ({recognized_poem_cnt / len(all_poems_data) * 100} %)\")\n",
    "print(f\"Lines with recognized metres cnt: {recognized_line_cnt} ({recognized_line_cnt / line_cnt * 100} %)\")"
   ]
  },
  {
   "cell_type": "markdown",
   "id": "0b7ebe79",
   "metadata": {},
   "source": [
    "## Multimetric lines"
   ]
  },
  {
   "cell_type": "code",
   "execution_count": 8,
   "id": "fbff05c0",
   "metadata": {
    "pycharm": {
     "name": "#%%\n"
    }
   },
   "outputs": [
    {
     "name": "stdout",
     "output_type": "stream",
     "text": [
      "Multimetric lines cnt: 12182 (0.5271500447657791 %)\n"
     ]
    }
   ],
   "source": [
    "multimetric_lines = []\n",
    "\n",
    "for poem in all_poems_data:\n",
    "    for stanza in poem[\"body\"]:\n",
    "        for line in stanza:\n",
    "            if len(line[\"metre\"]) > 1:\n",
    "                multimetric_lines.append((line[\"text\"], line[\"metre\"]))\n",
    "\n",
    "print(f\"Multimetric lines cnt: {len(multimetric_lines)} ({len(multimetric_lines) / line_cnt * 100} %)\")"
   ]
  },
  {
   "cell_type": "code",
   "execution_count": 9,
   "outputs": [
    {
     "data": {
      "text/plain": "[('rozum mi nutí vždycky stát',\n  [{'foot': '4', 'clause': 'm', 'pattern': 'WSWSWSWS', 'type': 'J'},\n   {'foot': '3', 'clause': 'a', 'pattern': 'SVWSWSVW', 'type': 'X'}]),\n ('šílený cit.',\n  [{'foot': '2', 'clause': 'm', 'pattern': 'SVWS', 'type': 'X'},\n   {'foot': '2', 'clause': 'm', 'pattern': 'WSWS', 'type': 'J'}]),\n ('Chmury se honí po nebi,',\n  [{'foot': '3', 'clause': 'a', 'pattern': 'SVWSWSVW', 'type': 'X'},\n   {'foot': '4', 'clause': 'm', 'pattern': 'WSWSWSWS', 'type': 'J'}]),\n ('do mlhy kraj se halí – – –',\n  [{'foot': '3', 'clause': 'f', 'pattern': 'WSWSWSW', 'type': 'J'},\n   {'foot': '3', 'clause': 'a', 'pattern': 'SVWSWSV', 'type': 'X'}]),\n ('Proč jen ty sny se vzbouzejí,',\n  [{'foot': '4', 'clause': 'm', 'pattern': 'WSWSWSWS', 'type': 'J'},\n   {'foot': '3', 'clause': 'a', 'pattern': 'SVWSWSVW', 'type': 'X'}])]"
     },
     "execution_count": 9,
     "metadata": {},
     "output_type": "execute_result"
    }
   ],
   "source": [
    "multimetric_lines[10:15]"
   ],
   "metadata": {
    "collapsed": false,
    "pycharm": {
     "name": "#%%\n"
    }
   }
  },
  {
   "cell_type": "code",
   "execution_count": 10,
   "id": "7576a175",
   "metadata": {
    "pycharm": {
     "name": "#%%\n"
    }
   },
   "outputs": [
    {
     "name": "stdout",
     "output_type": "stream",
     "text": [
      "Metre counts in multimetric lines:\n"
     ]
    },
    {
     "data": {
      "text/plain": "Counter({2: 11011, 3: 1171})"
     },
     "execution_count": 10,
     "metadata": {},
     "output_type": "execute_result"
    }
   ],
   "source": [
    "print(f\"Metre counts in multimetric lines:\")\n",
    "Counter(len(line[1]) for line in multimetric_lines)"
   ]
  },
  {
   "cell_type": "code",
   "execution_count": 11,
   "id": "98ab3206",
   "metadata": {},
   "outputs": [
    {
     "name": "stdout",
     "output_type": "stream",
     "text": [
      "Metre combinations in multimetric lines:\n"
     ]
    },
    {
     "data": {
      "text/plain": "Counter({frozenset({'J', 'X'}): 4801,\n         frozenset({'D', 'J'}): 4940,\n         frozenset({'T', 'X'}): 617,\n         frozenset({'D', 'J', 'X'}): 1167,\n         frozenset({'D', 'X'}): 552,\n         frozenset({'X', 'hexameter'}): 44,\n         frozenset({'D', 'T'}): 11,\n         frozenset({'A', 'J'}): 26,\n         frozenset({'Y'}): 20,\n         frozenset({'D', 'J', 'T'}): 4})"
     },
     "execution_count": 11,
     "metadata": {},
     "output_type": "execute_result"
    }
   ],
   "source": [
    "print(f\"Metre combinations in multimetric lines:\")\n",
    "Counter(frozenset(metres[\"type\"] for metres in line[1]) for line in multimetric_lines)"
   ]
  },
  {
   "cell_type": "code",
   "execution_count": 12,
   "id": "ec9167f1",
   "metadata": {
    "pycharm": {
     "name": "#%%\n"
    }
   },
   "outputs": [
    {
     "name": "stdout",
     "output_type": "stream",
     "text": [
      "('NA poli, na roli,',\n",
      " [{'clause': 'm', 'foot': '3', 'pattern': 'WSWSWS', 'type': 'Y'},\n",
      "  {'clause': 'm', 'foot': '3', 'pattern': 'WSWSWS', 'type': 'Y'}])\n",
      "\n",
      "('na louce zelené,',\n",
      " [{'clause': 'm', 'foot': '3', 'pattern': 'WSWSWS', 'type': 'Y'},\n",
      "  {'clause': 'm', 'foot': '3', 'pattern': 'WSWSWS', 'type': 'Y'}])\n",
      "\n",
      "('co je tu klopoty,',\n",
      " [{'clause': 'm', 'foot': '3', 'pattern': 'WSWSWS', 'type': 'Y'},\n",
      "  {'clause': 'm', 'foot': '3', 'pattern': 'WSWSWS', 'type': 'Y'}])\n",
      "\n",
      "('srdéčko milené!',\n",
      " [{'clause': 'm', 'foot': '3', 'pattern': 'WSWSWS', 'type': 'Y'},\n",
      "  {'clause': 'm', 'foot': '3', 'pattern': 'WSWSWS', 'type': 'Y'}])\n",
      "\n",
      "('Od rána do noci,',\n",
      " [{'clause': 'm', 'foot': '3', 'pattern': 'WSWSWS', 'type': 'Y'},\n",
      "  {'clause': 'm', 'foot': '3', 'pattern': 'WSWSWS', 'type': 'Y'}])\n",
      "\n",
      "('od jara v závěje,',\n",
      " [{'clause': 'm', 'foot': '3', 'pattern': 'WSWSWS', 'type': 'Y'},\n",
      "  {'clause': 'm', 'foot': '3', 'pattern': 'WSWSWS', 'type': 'Y'}])\n",
      "\n",
      "('patří mi na čele',\n",
      " [{'clause': 'm', 'foot': '3', 'pattern': 'WSWSWS', 'type': 'Y'},\n",
      "  {'clause': 'm', 'foot': '3', 'pattern': 'WSWSWS', 'type': 'Y'}])\n",
      "\n",
      "('jenom ty krůpěje.',\n",
      " [{'clause': 'm', 'foot': '3', 'pattern': 'WSWSWS', 'type': 'Y'},\n",
      "  {'clause': 'm', 'foot': '3', 'pattern': 'WSWSWS', 'type': 'Y'}])\n",
      "\n",
      "('Já orám na cizím,',\n",
      " [{'clause': 'm', 'foot': '3', 'pattern': 'WSWSWS', 'type': 'Y'},\n",
      "  {'clause': 'm', 'foot': '3', 'pattern': 'WSWSWS', 'type': 'Y'}])\n",
      "\n",
      "('ty sloužíš u lidí,',\n",
      " [{'clause': 'm', 'foot': '3', 'pattern': 'WSWSWS', 'type': 'Y'},\n",
      "  {'clause': 'm', 'foot': '3', 'pattern': 'WSWSWS', 'type': 'Y'}])\n",
      "\n",
      "('jednoho našeho',\n",
      " [{'clause': 'm', 'foot': '3', 'pattern': 'WSWSWS', 'type': 'Y'},\n",
      "  {'clause': 'm', 'foot': '3', 'pattern': 'WSWSWS', 'type': 'Y'}])\n",
      "\n",
      "('stébla se nesklidí.',\n",
      " [{'clause': 'm', 'foot': '3', 'pattern': 'WSWSWS', 'type': 'Y'},\n",
      "  {'clause': 'm', 'foot': '3', 'pattern': 'WSWSWS', 'type': 'Y'}])\n",
      "\n",
      "('Na poli, na roli',\n",
      " [{'clause': 'm', 'foot': '3', 'pattern': 'WSWSWS', 'type': 'Y'},\n",
      "  {'clause': 'm', 'foot': '3', 'pattern': 'WSWSWS', 'type': 'Y'}])\n",
      "\n",
      "('když ty se usměješ,',\n",
      " [{'clause': 'm', 'foot': '3', 'pattern': 'WSWSWS', 'type': 'Y'},\n",
      "  {'clause': 'm', 'foot': '3', 'pattern': 'WSWSWS', 'type': 'Y'}])\n",
      "\n",
      "('zoře se, požne se,',\n",
      " [{'clause': 'm', 'foot': '3', 'pattern': 'WSWSWS', 'type': 'Y'},\n",
      "  {'clause': 'm', 'foot': '3', 'pattern': 'WSWSWS', 'type': 'Y'}])\n",
      "\n",
      "('nežli se naděješ.',\n",
      " [{'clause': 'm', 'foot': '3', 'pattern': 'WSWSWS', 'type': 'Y'},\n",
      "  {'clause': 'm', 'foot': '3', 'pattern': 'WSWSWS', 'type': 'Y'}])\n",
      "\n",
      "('A i ty krůpěje',\n",
      " [{'clause': 'm', 'foot': '3', 'pattern': 'WSWSWS', 'type': 'Y'},\n",
      "  {'clause': 'm', 'foot': '3', 'pattern': 'WSWSWS', 'type': 'Y'}])\n",
      "\n",
      "('setřeš mi se tváře',\n",
      " [{'clause': 'a', 'foot': '3', 'pattern': 'SWSWSV', 'type': 'Y'},\n",
      "  {'clause': 'f', 'foot': '3', 'pattern': 'SWSWSW', 'type': 'Y'}])\n",
      "\n",
      "('jako to slunéčko',\n",
      " [{'clause': 'm', 'foot': '3', 'pattern': 'WSWSWS', 'type': 'Y'},\n",
      "  {'clause': 'm', 'foot': '3', 'pattern': 'WSWSWS', 'type': 'Y'}])\n",
      "\n",
      "('rosičku na jaře.',\n",
      " [{'clause': 'm', 'foot': '3', 'pattern': 'WSWSWS', 'type': 'Y'},\n",
      "  {'clause': 'm', 'foot': '3', 'pattern': 'WSWSWS', 'type': 'Y'}])\n",
      "\n"
     ]
    }
   ],
   "source": [
    "# Annotation error\n",
    "\n",
    "from pprint import pprint\n",
    "\n",
    "for line in multimetric_lines:\n",
    "    found = True\n",
    "\n",
    "    for metre in line[1]:\n",
    "        if metre[\"type\"] != \"Y\":\n",
    "            found = False\n",
    "            break\n",
    "\n",
    "    if found:\n",
    "        pprint(line)\n",
    "        print()"
   ]
  },
  {
   "cell_type": "markdown",
   "source": [
    "## Polymetric poems"
   ],
   "metadata": {
    "collapsed": false,
    "pycharm": {
     "name": "#%% md\n"
    }
   }
  },
  {
   "cell_type": "code",
   "execution_count": 13,
   "outputs": [
    {
     "name": "stdout",
     "output_type": "stream",
     "text": [
      "Polymetric poems cnt: 2619 (3.9426145601252482 %)\n"
     ]
    }
   ],
   "source": [
    "polymetric_poems_cnt = 0\n",
    "\n",
    "for poem_idx, poem in enumerate(all_poems_data):\n",
    "    poem_metres = []\n",
    "\n",
    "    for stanza in poem[\"body\"]:\n",
    "        for line in stanza:\n",
    "            line_metres = frozenset(metre[\"type\"] for metre in line[\"metre\"])\n",
    "            poem_metres.append(line_metres)\n",
    "\n",
    "    if len(frozenset(poem_metres)) > 1:\n",
    "        polymetric_poems_cnt += 1\n",
    "\n",
    "print(f\"Polymetric poems cnt: {polymetric_poems_cnt} ({polymetric_poems_cnt / len(all_poems_data) * 100} %)\")"
   ],
   "metadata": {
    "collapsed": false,
    "pycharm": {
     "name": "#%%\n"
    }
   }
  },
  {
   "cell_type": "markdown",
   "id": "9c9b71b7",
   "metadata": {},
   "source": [
    "## Poems metres"
   ]
  },
  {
   "cell_type": "code",
   "execution_count": 14,
   "id": "b9f91a6f",
   "metadata": {
    "pycharm": {
     "name": "#%%\n"
    }
   },
   "outputs": [],
   "source": [
    "poems_metres = []\n",
    "poem_idx_by_metres = defaultdict(list)\n",
    "\n",
    "for poem_idx, poem in enumerate(all_poems_data):\n",
    "    poem_metres = []\n",
    "\n",
    "    for stanza in poem[\"body\"]:\n",
    "        for line in stanza:\n",
    "            line_metres = \"\".join(sorted(list({metre[\"type\"] for metre in line[\"metre\"]})))\n",
    "            poem_metres.append(line_metres)\n",
    "\n",
    "    poems_metres.append(frozenset(poem_metres))\n",
    "    poem_idx_by_metres[frozenset(poem_metres)].append(poem_idx)\n",
    "\n",
    "poems_metres = Counter(poems_metres)"
   ]
  },
  {
   "cell_type": "code",
   "execution_count": 15,
   "id": "11305e6a",
   "metadata": {},
   "outputs": [
    {
     "data": {
      "text/plain": "109"
     },
     "execution_count": 15,
     "metadata": {},
     "output_type": "execute_result"
    }
   ],
   "source": [
    "len(poems_metres)"
   ]
  },
  {
   "cell_type": "code",
   "execution_count": 16,
   "id": "bf73f04c",
   "metadata": {},
   "outputs": [
    {
     "data": {
      "text/plain": "[(frozenset({'J'}), 31598),\n (frozenset({'T'}), 22136),\n (frozenset({'N'}), 5857),\n (frozenset({'D'}), 2076),\n (frozenset({'J', 'T'}), 936),\n (frozenset({'X'}), 895),\n (frozenset({'A'}), 425),\n (frozenset({'D', 'J'}), 366),\n (frozenset({'JX'}), 288),\n (frozenset({'DJ'}), 233),\n (frozenset({'D', 'X'}), 185),\n (frozenset({'D', 'T'}), 151),\n (frozenset({'hexameter', 'pentameter'}), 110),\n (frozenset({'hexameter'}), 106),\n (frozenset({'Y'}), 97),\n (frozenset({'A', 'J'}), 96),\n (frozenset({'D', 'JX'}), 81),\n (frozenset({'J', 'X'}), 67),\n (frozenset({'T', 'X'}), 48),\n (frozenset({'A', 'D'}), 48),\n (frozenset({'DJ', 'T'}), 46),\n (frozenset({'J', 'N'}), 44),\n (frozenset({'D', 'J', 'T'}), 42),\n (frozenset({'DJX'}), 42),\n (frozenset({'J', 'Y'}), 41),\n (frozenset({'N', 'T'}), 32),\n (frozenset({'A', 'Y'}), 28),\n (frozenset({'J', 'T', 'X'}), 26),\n (frozenset({'TX'}), 25),\n (frozenset({'J', 'N', 'T'}), 18),\n (frozenset({'D', 'J', 'X'}), 17),\n (frozenset({'D', 'T', 'X'}), 17),\n (frozenset({'DX'}), 16),\n (frozenset({'X', 'Y'}), 16),\n (frozenset({'DJX', 'T'}), 15),\n (frozenset({'A', 'D', 'J'}), 14),\n (frozenset({'A', 'T'}), 13),\n (frozenset({'pentameter'}), 9),\n (frozenset({'A', 'X'}), 8),\n (frozenset({'D', 'Y'}), 8),\n (frozenset({'A', 'D', 'X'}), 7),\n (frozenset({'D', 'J', 'T', 'X'}), 6),\n (frozenset({'A', 'J', 'T'}), 6),\n (frozenset({'Xhexameter'}), 6),\n (frozenset({'A', 'D', 'Y'}), 6),\n (frozenset({'AJ', 'T'}), 5),\n (frozenset({'A', 'JX'}), 4),\n (frozenset({'D', 'hexameter'}), 4),\n (frozenset({'D', 'N'}), 4),\n (frozenset({'A', 'J', 'X'}), 3),\n (frozenset({'X', 'pentameter'}), 3),\n (frozenset({'JX', 'T'}), 3),\n (frozenset({'J', 'X', 'Y'}), 3),\n (frozenset({'DT', 'J'}), 3),\n (frozenset({'A', 'D', 'J', 'T'}), 3),\n (frozenset({'D', 'hexameter', 'pentameter'}), 3),\n (frozenset({'A', 'D', 'J', 'X'}), 3),\n (frozenset({'X', 'hexameter', 'pentameter'}), 3),\n (frozenset({'A', 'D', 'X', 'Y'}), 3),\n (frozenset({'A', 'N'}), 3),\n (frozenset({'J', 'hexameter'}), 2),\n (frozenset({'A', 'DJX'}), 2),\n (frozenset({'D', 'X', 'Y'}), 2),\n (frozenset({'N', 'T', 'X'}), 2),\n (frozenset({'D', 'J', 'T', 'X', 'Y'}), 2),\n (frozenset({'D', 'J', 'N', 'T', 'X'}), 2),\n (frozenset({'D', 'DJX', 'J'}), 2),\n (frozenset({'X', 'hexameter'}), 2),\n (frozenset({'A', 'J', 'N', 'Y'}), 2),\n (frozenset({'D', 'DJ', 'J', 'JX'}), 2),\n (frozenset({'J', 'T', 'Y'}), 2),\n (frozenset({'D', 'J', 'N', 'T'}), 2),\n (frozenset({'J', 'TX'}), 2),\n (frozenset({'A', 'J', 'Y'}), 2),\n (frozenset({'D', 'JX', 'X'}), 2),\n (frozenset({'D', 'J', 'T', 'hexameter'}), 2),\n (frozenset({'D', 'J', 'Y'}), 2),\n (frozenset({'JX', 'X'}), 2),\n (frozenset({'DJX', 'J', 'X'}), 2),\n (frozenset({'A', 'J', 'X', 'Y'}), 2),\n (frozenset({'A', 'D', 'J', 'Y'}), 2),\n (frozenset({'A', 'D', 'J', 'T', 'X'}), 2),\n (frozenset({'A', 'D', 'JX'}), 1),\n (frozenset({'D', 'X', 'pentameter'}), 1),\n (frozenset({'A', 'D', 'T', 'X'}), 1),\n (frozenset({'A', 'D', 'J', 'N'}), 1),\n (frozenset({'DJX', 'TX'}), 1),\n (frozenset({'J', 'hexameter', 'pentameter'}), 1),\n (frozenset({'A', 'DJ'}), 1),\n (frozenset({'J', 'JX', 'X'}), 1),\n (frozenset({'D', 'J', 'T', 'Y'}), 1),\n (frozenset({'D', 'N', 'T'}), 1),\n (frozenset({'DJX', 'J', 'T'}), 1),\n (frozenset({'D', 'T', 'X', 'Y'}), 1),\n (frozenset({'A', 'D', 'T'}), 1),\n (frozenset({'DJT', 'T', 'X', 'Y'}), 1),\n (frozenset({'DJ', 'Y'}), 1),\n (frozenset({'N', 'hexameter'}), 1),\n (frozenset({'D', 'DJ', 'T'}), 1),\n (frozenset({'A', 'J', 'T', 'X', 'hexameter'}), 1),\n (frozenset({'J', 'T', 'X', 'Y'}), 1),\n (frozenset({'A', 'X', 'Y'}), 1),\n (frozenset({'D', 'JX', 'T'}), 1),\n (frozenset({'D', 'J', 'JX'}), 1),\n (frozenset({'J', 'T', 'TX'}), 1),\n (frozenset({'D', 'J', 'N'}), 1),\n (frozenset({'A', 'T', 'X', 'Y'}), 1),\n (frozenset({'DJ', 'J', 'T'}), 1),\n (frozenset({'DJX', 'X'}), 1)]"
     },
     "execution_count": 16,
     "metadata": {},
     "output_type": "execute_result"
    }
   ],
   "source": [
    "poems_metres.most_common()"
   ]
  },
  {
   "cell_type": "code",
   "execution_count": 17,
   "outputs": [
    {
     "data": {
      "text/plain": "{'p_author': {'born': 1864,\n  'died': 1942,\n  'name': 'Machar, Josef Svatopluk',\n  'identity': 'Machar, Josef Svatopluk'},\n 'biblio': {'motto_aut': 'Machar, Josef Svatopluk',\n  'b_subtitle': '1903',\n  'publisher': 'Nová Krameriova expedice; Zápotočný, Josef B.',\n  'edition': '[1.]',\n  'motto': 'Dívčina podkasaná luk a toulec mi dává: Zkus trochu, velitel náš, tvůj otec Foibos, teď spí!',\n  'p_title': 'EXTRAKT NAŠEHO DĚJEPISU.',\n  'place': 'Rokycany',\n  'dedication': None,\n  'b_title': 'Satiricon',\n  'pages': '92',\n  'year': '1904',\n  'signature': 'ÚČL AV ČR; 104 VIII 10'},\n 'book_id': '0601',\n 'poem_id': '0001-0000-0000-0002-0000',\n 'b_author': {'born': 1864,\n  'died': 1942,\n  'name': 'Machar, Josef Svatopluk',\n  'identity': 'Machar, Josef Svatopluk'},\n 'body': [[{'text': 'Duše k smrti dřímá',\n    'punct': {},\n    'words': [{'token_lc': 'duše',\n      'xsampa': 'duSE',\n      'morph': 'NNFS1-----A-----',\n      'phoebe': 'duSe',\n      'token': 'Duše',\n      'lemma': 'duše'},\n     {'token_lc': 'k',\n      'xsampa': 'k',\n      'morph': 'RR--3-----------',\n      'phoebe': 'k',\n      'token': 'k',\n      'lemma': 'k'},\n     {'token_lc': 'smrti',\n      'xsampa': 'smr=cI',\n      'morph': 'NNFS3-----A-----',\n      'phoebe': 'smQTi',\n      'token': 'smrti',\n      'lemma': 'smrt'},\n     {'token_lc': 'dřímá',\n      'xsampa': 'dP\\\\i:ma:',\n      'morph': 'VB-S---3P-AA---I',\n      'phoebe': 'dRImA',\n      'token': 'dřímá',\n      'lemma': 'dřímat'}],\n    'rhyme': 1,\n    'metre': [{'foot': '3', 'clause': 'f', 'pattern': 'SWSWSW', 'type': 'T'}],\n    'stress': '101010'},\n   {'text': 'v objetí Říma,',\n    'punct': {'3': ','},\n    'words': [{'token_lc': 'v',\n      'xsampa': 'f',\n      'morph': 'RR--6-----------',\n      'phoebe': 'f',\n      'token': 'v',\n      'lemma': 'v'},\n     {'token_lc': 'objetí',\n      'xsampa': 'objEci:',\n      'morph': 'NNNS6-----A-----',\n      'phoebe': 'objeTI',\n      'token': 'objetí',\n      'lemma': 'objetí'},\n     {'token_lc': 'říma',\n      'xsampa': 'P\\\\i:ma',\n      'morph': 'NNIS2-----A-----',\n      'phoebe': 'RIma',\n      'token': 'Říma',\n      'lemma': 'Řím'}],\n    'rhyme': 1,\n    'metre': [{'foot': '2', 'clause': 'f', 'pattern': 'SVWSW', 'type': 'X'},\n     {'foot': '2', 'clause': 'f', 'pattern': 'WSWSW', 'type': 'J'},\n     {'foot': '2', 'clause': 'a', 'pattern': 'SVWSV', 'type': 'D'}],\n    'stress': '10010'},\n   {'text': 'tělo hyne bídně',\n    'punct': {},\n    'words': [{'token_lc': 'tělo',\n      'xsampa': 'cElo',\n      'morph': 'NNNS1-----A-----',\n      'phoebe': 'Telo',\n      'token': 'tělo',\n      'lemma': 'tělo'},\n     {'token_lc': 'hyne',\n      'xsampa': 'h\\\\InE',\n      'morph': 'VB-S---3P-AA---I',\n      'phoebe': 'hine',\n      'token': 'hyne',\n      'lemma': 'hynout'},\n     {'token_lc': 'bídně',\n      'xsampa': 'bi:dJE',\n      'morph': 'Dg-------1A-----',\n      'phoebe': 'bIdNe',\n      'token': 'bídně',\n      'lemma': 'bídně'}],\n    'rhyme': 2,\n    'metre': [{'foot': '3', 'clause': 'f', 'pattern': 'SWSWSW', 'type': 'T'}],\n    'stress': '101010'},\n   {'text': 've službách Vídně.',\n    'punct': {'3': '.'},\n    'words': [{'token_lc': 've',\n      'xsampa': 'vE',\n      'morph': 'RV--6-----------',\n      'phoebe': 've',\n      'token': 've',\n      'lemma': 'v'},\n     {'token_lc': 'službách',\n      'xsampa': 'sluZba:x',\n      'morph': 'NNFP6-----A-----',\n      'phoebe': 'sluZbAx',\n      'token': 'službách',\n      'lemma': 'služba'},\n     {'token_lc': 'vídně',\n      'xsampa': 'vi:dJE',\n      'morph': 'NNFS2-----A-----',\n      'phoebe': 'vIdNe',\n      'token': 'Vídně',\n      'lemma': 'Vídeň'}],\n    'rhyme': 2,\n    'metre': [{'foot': '2', 'clause': 'f', 'pattern': 'SVWSW', 'type': 'X'},\n     {'foot': '2', 'clause': 'f', 'pattern': 'WSWSW', 'type': 'J'},\n     {'foot': '2', 'clause': 'a', 'pattern': 'SVWSV', 'type': 'D'}],\n    'stress': '10010'}]],\n 'results': {'poem': None}}"
     },
     "execution_count": 17,
     "metadata": {},
     "output_type": "execute_result"
    }
   ],
   "source": [
    "all_poems_data[poem_idx_by_metres[frozenset({\"DJX\", \"T\"})][0]]"
   ],
   "metadata": {
    "collapsed": false,
    "pycharm": {
     "name": "#%%\n"
    }
   }
  },
  {
   "cell_type": "markdown",
   "id": "f7703b8c",
   "metadata": {},
   "source": [
    "## Metres\n",
    "- T = trochej\n",
    "- X = daktylotrochej\n",
    "- J = jamb\n",
    "- D = daktyl\n",
    "- N = nerozpoznano\n",
    "- Y = daktylotrochej s predrazkou\n",
    "- A = amphibrach"
   ]
  },
  {
   "cell_type": "code",
   "execution_count": 18,
   "id": "84b22ed0",
   "metadata": {},
   "outputs": [],
   "source": [
    "metres = defaultdict(lambda: defaultdict(Counter))\n",
    "\n",
    "for poem in all_poems_data:\n",
    "    for stanza in poem[\"body\"]:\n",
    "        for line in stanza:\n",
    "            for metre in line[\"metre\"]:\n",
    "                metres[metre[\"type\"]][metre[\"pattern\"]][(line[\"stress\"], metre[\"clause\"], metre[\"foot\"])] += 1"
   ]
  },
  {
   "cell_type": "code",
   "execution_count": 19,
   "id": "4a402659",
   "metadata": {},
   "outputs": [
    {
     "data": {
      "text/plain": "dict_keys(['T', 'J', 'X', 'N', 'A', 'D', 'pentameter', 'hexameter', 'Y'])"
     },
     "execution_count": 19,
     "metadata": {},
     "output_type": "execute_result"
    }
   ],
   "source": [
    "metres.keys()"
   ]
  },
  {
   "cell_type": "markdown",
   "id": "d0bd4d0f",
   "metadata": {},
   "source": [
    "### Trochee - S1 W1 S2 W2 ... Sn (Wn)"
   ]
  },
  {
   "cell_type": "code",
   "execution_count": 20,
   "id": "12f0530a",
   "metadata": {},
   "outputs": [
    {
     "data": {
      "text/plain": "['SWSWSWSWSWSWSW',\n 'SWSWSWSW',\n 'SWSWSW',\n 'SWSWSWSWSW',\n 'SWSWSWS',\n 'SWSWSWSWSWSW',\n 'SWSWSWSWSWSWSWSW',\n 'SWSWSWSWS',\n 'SWSWS',\n 'SWSW']"
     },
     "execution_count": 20,
     "metadata": {},
     "output_type": "execute_result"
    }
   ],
   "source": [
    "list(metres[\"T\"].keys())[:10]"
   ]
  },
  {
   "cell_type": "code",
   "execution_count": 45,
   "id": "3690dd9c",
   "metadata": {},
   "outputs": [
    {
     "name": "stdout",
     "output_type": "stream",
     "text": [
      "SWSWSWSWSWSWSW\n"
     ]
    },
    {
     "data": {
      "text/plain": "[(('10101010101010', 'f', '7'), 438),\n (('10001010101010', 'f', '7'), 309),\n (('10101000101010', 'f', '7'), 304),\n (('10101010100010', 'f', '7'), 266),\n (('10101000100010', 'f', '7'), 236),\n (('10001010100010', 'f', '7'), 213),\n (('10001000101010', 'f', '7'), 198),\n (('10101010101000', 'f', '7'), 157),\n (('10001010101000', 'f', '7'), 155),\n (('10001000100010', 'f', '7'), 120),\n (('00101010101010', 'f', '7'), 119),\n (('10101000101000', 'f', '7'), 113),\n (('10001000101000', 'f', '7'), 109),\n (('00101010100010', 'f', '7'), 68),\n (('00101000101010', 'f', '7'), 62),\n (('10100010101010', 'f', '7'), 56),\n (('10100010100010', 'f', '7'), 52),\n (('10100010101000', 'f', '7'), 48),\n (('00101010101000', 'f', '7'), 43),\n (('00101000100010', 'f', '7'), 38)]"
     },
     "execution_count": 45,
     "metadata": {},
     "output_type": "execute_result"
    }
   ],
   "source": [
    "print(list(metres[\"T\"].keys())[0])\n",
    "list(metres[\"T\"].values())[0].most_common(20)"
   ]
  },
  {
   "cell_type": "markdown",
   "id": "f19d5e25",
   "metadata": {},
   "source": [
    "### Dactylotrochee - S1 (V1) W1 S2 (V2) W2 ... Sn ((Vn) Wn)"
   ]
  },
  {
   "cell_type": "code",
   "execution_count": 22,
   "id": "b1e18bbf",
   "metadata": {},
   "outputs": [
    {
     "data": {
      "text/plain": "['SVWSWSVW',\n 'SVWS',\n 'SVWSWSVWS',\n 'SVWSWSWSW',\n 'SVWSW',\n 'SVWSWSWSWS',\n 'WSVWSVWSVWSW',\n 'SVWSWSVWSW',\n 'WSVWSWSVW',\n 'SVWSVWSVWSW']"
     },
     "execution_count": 22,
     "metadata": {},
     "output_type": "execute_result"
    }
   ],
   "source": [
    "list(metres[\"X\"].keys())[:10]"
   ]
  },
  {
   "cell_type": "code",
   "execution_count": 46,
   "id": "8865d646",
   "metadata": {},
   "outputs": [
    {
     "name": "stdout",
     "output_type": "stream",
     "text": [
      "SVWSWSVW\n"
     ]
    },
    {
     "data": {
      "text/plain": "[(('10010100', 'a', '3'), 2787),\n (('10010101', 'a', '3'), 797),\n (('01010100', 'a', '3'), 784),\n (('00010100', 'a', '3'), 241),\n (('01010101', 'a', '3'), 221),\n (('10000100', 'a', '3'), 212),\n (('11010100', 'a', '3'), 206),\n (('10110100', 'a', '3'), 122),\n (('10100100', 'a', '3'), 62),\n (('01000100', 'a', '3'), 57),\n (('10000101', 'a', '3'), 50),\n (('10010001', 'a', '3'), 50),\n (('00010101', 'a', '3'), 41),\n (('11010101', 'a', '3'), 39),\n (('10110101', 'a', '3'), 31),\n (('10010010', 'a', '3'), 31),\n (('00110100', 'a', '3'), 27),\n (('10010000', 'a', '3'), 27),\n (('01010001', 'a', '3'), 25),\n (('01000101', 'a', '3'), 21)]"
     },
     "execution_count": 46,
     "metadata": {},
     "output_type": "execute_result"
    }
   ],
   "source": [
    "print(list(metres[\"X\"].keys())[0])\n",
    "list(metres[\"X\"].values())[0].most_common(20)"
   ]
  },
  {
   "cell_type": "markdown",
   "id": "6317714e",
   "metadata": {},
   "source": [
    "### Iamb - WS WS ... (W)"
   ]
  },
  {
   "cell_type": "code",
   "execution_count": 24,
   "id": "52a34853",
   "metadata": {},
   "outputs": [
    {
     "data": {
      "text/plain": "['WSWSWSWSWSW',\n 'WSWSWSWSW',\n 'WSWSWSWS',\n 'WSWS',\n 'WSWSWS',\n 'WSWSWSWSWS',\n 'WSWSWSW',\n 'WSWSWSWSWSWSW',\n 'WSWSWSWSWSWS',\n 'WSVWSWSWS']"
     },
     "execution_count": 24,
     "metadata": {},
     "output_type": "execute_result"
    }
   ],
   "source": [
    "list(metres[\"J\"].keys())[:10]"
   ]
  },
  {
   "cell_type": "code",
   "execution_count": 47,
   "id": "7dd3713b",
   "metadata": {},
   "outputs": [
    {
     "name": "stdout",
     "output_type": "stream",
     "text": [
      "WSWSWSWSWSW\n"
     ]
    },
    {
     "data": {
      "text/plain": "[(('01010101010', 'f', '5'), 54757),\n (('01000101010', 'f', '5'), 39280),\n (('01010100010', 'f', '5'), 36870),\n (('01010101000', 'f', '5'), 23639),\n (('01010001010', 'f', '5'), 22747),\n (('10010101010', 'f', '5'), 21835),\n (('01000100010', 'f', '5'), 21833),\n (('10010100010', 'f', '5'), 17430),\n (('01000101000', 'f', '5'), 17161),\n (('10010101000', 'f', '5'), 12542),\n (('11010101010', 'f', '5'), 11162),\n (('11000101010', 'f', '5'), 8807),\n (('01010001000', 'f', '5'), 7536),\n (('11010100010', 'f', '5'), 7508),\n (('10010001010', 'f', '5'), 6631),\n (('11000100010', 'f', '5'), 4941),\n (('11010101000', 'f', '5'), 4846),\n (('11010001010', 'f', '5'), 4501),\n (('11000101000', 'f', '5'), 3765),\n (('01001101010', 'f', '5'), 3439)]"
     },
     "execution_count": 47,
     "metadata": {},
     "output_type": "execute_result"
    }
   ],
   "source": [
    "print(list(metres[\"J\"].keys())[0])\n",
    "list(metres[\"J\"].values())[0].most_common(20)"
   ]
  },
  {
   "cell_type": "markdown",
   "id": "548bfe58",
   "metadata": {},
   "source": [
    "### Dactyl - S1 V1 W1 S2 V2 W2 ... Sn ((Vn) Wn)"
   ]
  },
  {
   "cell_type": "code",
   "execution_count": 28,
   "id": "e04fea61",
   "metadata": {},
   "outputs": [
    {
     "data": {
      "text/plain": "['SVWSVWSVW',\n 'SVWSV',\n 'SVWSVWSVWSVW',\n 'SVWSVWSVWSV',\n 'SVWSVWS',\n 'SVWS',\n 'SVWSWSVWSV',\n 'SVWSVWSV',\n 'SVWSWSVW',\n 'SVWSVWSWSV']"
     },
     "execution_count": 28,
     "metadata": {},
     "output_type": "execute_result"
    }
   ],
   "source": [
    "list(metres[\"D\"].keys())[:10]"
   ]
  },
  {
   "cell_type": "code",
   "execution_count": 48,
   "id": "746c887b",
   "metadata": {},
   "outputs": [
    {
     "name": "stdout",
     "output_type": "stream",
     "text": [
      "SVWSVWSVW\n"
     ]
    },
    {
     "data": {
      "text/plain": "[(('100100100', 'a', '3'), 3539),\n (('010100100', 'a', '3'), 799),\n (('100100101', 'a', '3'), 631),\n (('110100100', 'a', '3'), 260),\n (('000100100', 'a', '3'), 246),\n (('101100100', 'a', '3'), 218),\n (('100101100', 'a', '3'), 211),\n (('010010100', 'a', '3'), 190),\n (('010100101', 'a', '3'), 155),\n (('100010100', 'a', '3'), 124),\n (('100110100', 'a', '3'), 76),\n (('100101001', 'a', '3'), 58),\n (('100000100', 'a', '3'), 58),\n (('010000100', 'a', '3'), 58),\n (('100101101', 'a', '3'), 47),\n (('010010101', 'a', '3'), 42),\n (('110010100', 'a', '3'), 42),\n (('110100101', 'a', '3'), 42),\n (('010110100', 'a', '3'), 38),\n (('010101100', 'a', '3'), 38)]"
     },
     "execution_count": 48,
     "metadata": {},
     "output_type": "execute_result"
    }
   ],
   "source": [
    "print(list(metres[\"D\"].keys())[0])\n",
    "list(metres[\"D\"].values())[0].most_common(20)"
   ]
  },
  {
   "cell_type": "markdown",
   "id": "ce253bfd",
   "metadata": {},
   "source": [
    "### Not recognized"
   ]
  },
  {
   "cell_type": "code",
   "execution_count": 102,
   "id": "938fe142",
   "metadata": {},
   "outputs": [
    {
     "data": {
      "text/plain": "['XXXXXXXXX',\n 'XXXXXXXXXXXXX',\n 'XXXXX',\n 'XXXXXXXXXXX',\n 'XXXXXXXXXX',\n 'XXXXXXXXXXXX',\n 'XXXXXXXXXXXXXXX',\n 'XXXXXXXXXXXXXXXXX',\n 'XXXXXXXX',\n 'XXXXXX']"
     },
     "execution_count": 102,
     "metadata": {},
     "output_type": "execute_result"
    }
   ],
   "source": [
    "list(metres[\"N\"].keys())[:10]"
   ]
  },
  {
   "cell_type": "code",
   "execution_count": 49,
   "id": "7b0676d5",
   "metadata": {},
   "outputs": [
    {
     "name": "stdout",
     "output_type": "stream",
     "text": [
      "XXXXXXXXX\n"
     ]
    },
    {
     "data": {
      "text/plain": "[(('100100100', 'a', ''), 2334),\n (('010010010', 'a', ''), 1735),\n (('100101010', 'a', ''), 1560),\n (('100101000', 'a', ''), 1455),\n (('010010100', 'a', ''), 1032),\n (('100100010', 'a', ''), 791),\n (('101010100', 'a', ''), 749),\n (('010100100', 'a', ''), 706),\n (('100010100', 'a', ''), 674),\n (('100101001', 'a', ''), 646),\n (('010101010', 'a', ''), 535),\n (('100100101', 'a', ''), 494),\n (('100010010', 'a', ''), 471),\n (('101010010', 'a', ''), 431),\n (('010101000', 'a', ''), 429),\n (('101000100', 'a', ''), 389),\n (('101001010', 'a', ''), 365),\n (('010100010', 'a', ''), 348),\n (('101001000', 'a', ''), 344),\n (('010001010', 'a', ''), 333)]"
     },
     "execution_count": 49,
     "metadata": {},
     "output_type": "execute_result"
    }
   ],
   "source": [
    "print(list(metres[\"N\"].keys())[0])\n",
    "list(metres[\"N\"].values())[0].most_common(20)"
   ]
  },
  {
   "cell_type": "markdown",
   "id": "634abe9d",
   "metadata": {},
   "source": [
    "### Dactylotrochee with anacrusis - W0 S1 (V1) W1 S2 (V2) W2 ... Sn ((Vn) Wn)"
   ]
  },
  {
   "cell_type": "code",
   "execution_count": 103,
   "id": "0dd462a3",
   "metadata": {},
   "outputs": [
    {
     "data": {
      "text/plain": "['WSVWSVWSWSW',\n 'WSVWSVWSVWSW',\n 'WSVWSWSWSW',\n 'WSVWSWSWS',\n 'WSVWSWSVW',\n 'WSWSWSVWSVW',\n 'WSVWSWSV',\n 'WSVWSV',\n 'WSVWSWSVWS',\n 'WSVWSVWSVW']"
     },
     "execution_count": 103,
     "metadata": {},
     "output_type": "execute_result"
    }
   ],
   "source": [
    "list(metres[\"Y\"].keys())[:10]"
   ]
  },
  {
   "cell_type": "code",
   "execution_count": 50,
   "id": "c748a30c",
   "metadata": {},
   "outputs": [
    {
     "name": "stdout",
     "output_type": "stream",
     "text": [
      "WSVWSVWSWSW\n"
     ]
    },
    {
     "data": {
      "text/plain": "[(('01001001010', 'f', '4'), 76),\n (('01001001000', 'f', '4'), 22),\n (('11001001010', 'f', '4'), 20),\n (('11001001000', 'f', '4'), 6),\n (('01001011010', 'f', '4'), 4),\n (('01001010010', 'f', '4'), 3),\n (('01001101010', 'f', '4'), 2),\n (('01001000010', 'f', '4'), 2),\n (('11101001010', 'f', '4'), 2),\n (('01011001010', 'f', '4'), 2),\n (('11001010010', 'f', '4'), 1),\n (('11011001010', 'f', '4'), 1),\n (('01101001010', 'f', '4'), 1),\n (('01000001010', 'f', '4'), 1),\n (('11011000010', 'f', '4'), 1)]"
     },
     "execution_count": 50,
     "metadata": {},
     "output_type": "execute_result"
    }
   ],
   "source": [
    "print(list(metres[\"Y\"].keys())[0])\n",
    "list(metres[\"Y\"].values())[0].most_common(20)"
   ]
  },
  {
   "cell_type": "markdown",
   "id": "b336e769",
   "metadata": {},
   "source": [
    "### Dactyl with anacrusis (Amphibrach) - W0 S1 V1 W1 S2 V2 W2 ... Sn ((Vn) Wn)"
   ]
  },
  {
   "cell_type": "code",
   "execution_count": 104,
   "id": "c677dc1a",
   "metadata": {},
   "outputs": [
    {
     "data": {
      "text/plain": "['WSVWSVWSV',\n 'WSVWSV',\n 'SVWSVWSVW',\n 'WSVWSVWS',\n 'SVWSVWSVWS',\n 'WSVWSVWSVWS',\n 'WSVWSWSV',\n 'WSVWSVWSVW',\n 'WSVWSWSVWS',\n 'WSVWSVW']"
     },
     "execution_count": 104,
     "metadata": {},
     "output_type": "execute_result"
    }
   ],
   "source": [
    "list(metres[\"A\"].keys())[:10]"
   ]
  },
  {
   "cell_type": "code",
   "execution_count": 51,
   "id": "7959218b",
   "metadata": {},
   "outputs": [
    {
     "name": "stdout",
     "output_type": "stream",
     "text": [
      "WSVWSVWSV\n"
     ]
    },
    {
     "data": {
      "text/plain": "[(('010010010', 'a', '3'), 2492),\n (('110010010', 'a', '3'), 509),\n (('010110010', 'a', '3'), 140),\n (('100010010', 'a', '3'), 127),\n (('010010110', 'a', '3'), 119),\n (('011010010', 'a', '3'), 40),\n (('110110010', 'a', '3'), 35),\n (('010001010', 'a', '3'), 33),\n (('010100010', 'a', '3'), 32),\n (('010010000', 'a', '3'), 31),\n (('101010010', 'a', '3'), 30),\n (('010011010', 'a', '3'), 29),\n (('010000010', 'a', '3'), 25),\n (('010010100', 'a', '3'), 20),\n (('001010010', 'a', '3'), 18),\n (('110010110', 'a', '3'), 15),\n (('000010010', 'a', '3'), 14),\n (('010101010', 'a', '3'), 11),\n (('010110110', 'a', '3'), 10),\n (('110001010', 'a', '3'), 9)]"
     },
     "execution_count": 51,
     "metadata": {},
     "output_type": "execute_result"
    }
   ],
   "source": [
    "print(list(metres[\"A\"].keys())[0])\n",
    "list(metres[\"A\"].values())[0].most_common(20)"
   ]
  },
  {
   "cell_type": "markdown",
   "id": "8bd0bedb",
   "metadata": {},
   "source": [
    "### Hexametre"
   ]
  },
  {
   "cell_type": "code",
   "execution_count": 95,
   "id": "2cbebfc2",
   "metadata": {},
   "outputs": [
    {
     "data": {
      "text/plain": "93"
     },
     "execution_count": 95,
     "metadata": {},
     "output_type": "execute_result"
    }
   ],
   "source": [
    "len(metres[\"hexameter\"])"
   ]
  },
  {
   "cell_type": "code",
   "execution_count": 105,
   "id": "6217a63d",
   "metadata": {},
   "outputs": [
    {
     "data": {
      "text/plain": "['SVWSVWSVWSVWSVWSW',\n 'SVWSVWSWSVWSVWSW',\n 'SWSWSWSWSVWSV',\n 'SWSWSVWSVWSVWSW',\n 'SVWSWSWSWSVWSW',\n 'SVWSWSWSVWSVWSW',\n 'SWSWSVWSWSVWSW',\n 'SWSVWSWSVWSVWSV',\n 'SVWSWSVWSWSVWSV',\n 'SVWSVWSWSWSVWSW']"
     },
     "execution_count": 105,
     "metadata": {},
     "output_type": "execute_result"
    }
   ],
   "source": [
    "list(metres[\"hexameter\"].keys())[:10]"
   ]
  },
  {
   "cell_type": "code",
   "execution_count": 52,
   "id": "cb5e5132",
   "metadata": {},
   "outputs": [
    {
     "name": "stdout",
     "output_type": "stream",
     "text": [
      "SVWSVWSVWSVWSVWSW\n"
     ]
    },
    {
     "data": {
      "text/plain": "[(('10010010010010010', 'f', '6'), 199),\n (('10010001010010010', 'f', '6'), 53),\n (('10010011010010010', 'f', '6'), 52),\n (('10010010110010010', 'f', '6'), 10),\n (('10010000010010010', 'f', '6'), 8),\n (('01010010010010010', 'f', '6'), 7),\n (('10010010011010010', 'f', '6'), 6),\n (('10010100010010010', 'f', '6'), 6),\n (('10011010010010010', 'f', '6'), 6),\n (('10010010100010010', 'f', '6'), 5),\n (('10110010010010010', 'f', '6'), 5),\n (('10010010010110010', 'f', '6'), 5),\n (('10010010001010010', 'f', '6'), 4),\n (('00010010010010010', 'f', '6'), 4),\n (('10011011010010010', 'f', '6'), 4),\n (('10010110010010010', 'f', '6'), 4),\n (('10001010010010010', 'f', '6'), 3),\n (('10010001010010000', 'f', '6'), 3),\n (('10000010010010010', 'f', '6'), 3),\n (('10010001011010010', 'f', '6'), 3)]"
     },
     "execution_count": 52,
     "metadata": {},
     "output_type": "execute_result"
    }
   ],
   "source": [
    "print(list(metres[\"hexameter\"].keys())[0])\n",
    "list(metres[\"hexameter\"].values())[0].most_common(20)"
   ]
  },
  {
   "cell_type": "code",
   "execution_count": 134,
   "id": "3530ae45",
   "metadata": {
    "pycharm": {
     "name": "#%%\n"
    }
   },
   "outputs": [
    {
     "data": {
      "text/plain": "106"
     },
     "execution_count": 134,
     "metadata": {},
     "output_type": "execute_result"
    }
   ],
   "source": [
    "len(poem_idx_by_metres[frozenset({\"hexameter\"})])"
   ]
  },
  {
   "cell_type": "code",
   "execution_count": 135,
   "id": "5137e3c8",
   "metadata": {},
   "outputs": [
    {
     "data": {
      "text/plain": "{'p_author': {'born': 1769,\n  'died': 1847,\n  'name': 'Hek, František Vladislav',\n  'identity': 'Hek, František Vladislav'},\n 'biblio': {'motto_aut': None,\n  'b_subtitle': None,\n  'publisher': 'Novočeská knihovna; Jakubec, Jan; Česká akademie věd a umění; Leschinger, Edvard',\n  'edition': '[1.]',\n  'motto': None,\n  'p_title': 'Komu platí přízvuk.',\n  'place': 'Praha',\n  'dedication': None,\n  'b_title': 'Práce veršované (in Sebrané spisy Františka Vladislava Heka, svazek 1)',\n  'pages': 'XXVIII+148',\n  'year': '1917',\n  'signature': 'ÚČL AV ČR; 488 VIII 1/I'},\n 'book_id': '0180',\n 'poem_id': '0001-0001-0000-0069-0000',\n 'b_author': {'born': 1769,\n  'died': 1847,\n  'name': 'Hek, František Vladislav',\n  'identity': 'Hek, František Vladislav'},\n 'body': [[{'text': 'Statečný Agamemnon jak rychle se do českých básní',\n    'punct': {},\n    'words': [{'token_lc': 'statečný',\n      'xsampa': 'statEt_Sni:',\n      'morph': 'AAMS1----1A-----',\n      'phoebe': 'stateCnI',\n      'token': 'Statečný',\n      'lemma': 'statečný'},\n     {'token_lc': 'agamemnon',\n      'xsampa': 'agamEmnon',\n      'morph': 'NNMS1-----A-----',\n      'phoebe': 'agamemnon',\n      'token': 'Agamemnon',\n      'lemma': 'Agamemnon'},\n     {'token_lc': 'jak',\n      'xsampa': 'jak',\n      'morph': 'Db--------------',\n      'phoebe': 'jak',\n      'token': 'jak',\n      'lemma': 'jak'},\n     {'token_lc': 'rychle',\n      'xsampa': 'rIxlE',\n      'morph': 'Dg-------1A-----',\n      'phoebe': 'rixle',\n      'token': 'rychle',\n      'lemma': 'rychle'},\n     {'token_lc': 'se',\n      'xsampa': 'sE',\n      'morph': 'P7-X4-----------',\n      'phoebe': 'se',\n      'token': 'se',\n      'lemma': 'se'},\n     {'token_lc': 'do',\n      'xsampa': 'do',\n      'morph': 'RR--2-----------',\n      'phoebe': 'do',\n      'token': 'do',\n      'lemma': 'do'},\n     {'token_lc': 'českých',\n      'xsampa': 't_SEski:x',\n      'morph': 'AAMP2----1A-----',\n      'phoebe': 'CeskIx',\n      'token': 'českých',\n      'lemma': 'český'},\n     {'token_lc': 'básní',\n      'xsampa': 'ba:sJi:',\n      'morph': 'VB-S---3P-AA---I',\n      'phoebe': 'bAsNI',\n      'token': 'básní',\n      'lemma': 'básnit'}],\n    'rhyme': None,\n    'metre': [{'foot': '6',\n      'clause': 'f',\n      'pattern': 'SVWSWSVWSVWSVWSW',\n      'type': 'hexameter'}],\n    'stress': '1001000010010010'},\n   {'text': 'dostal, hned jeho jmě jsou na prsty měřili. Jedni',\n    'punct': {'8': '.', '1': ','},\n    'words': [{'token_lc': 'dostal',\n      'xsampa': 'dostal',\n      'morph': 'VpMS---3R-AA---P',\n      'phoebe': 'dostal',\n      'token': 'dostal',\n      'lemma': 'dostat'},\n     {'token_lc': 'hned',\n      'xsampa': 'h\\\\nEt',\n      'morph': 'Db--------------',\n      'phoebe': 'hnet',\n      'token': 'hned',\n      'lemma': 'hned'},\n     {'token_lc': 'jeho',\n      'xsampa': 'jEh\\\\o',\n      'morph': 'PSFS1XS3--------',\n      'phoebe': 'jeho',\n      'token': 'jeho',\n      'lemma': 'jeho'},\n     {'token_lc': 'jmě',\n      'xsampa': 'jmJE',\n      'morph': 'X24-------------',\n      'phoebe': 'jmNe',\n      'token': 'jmě',\n      'lemma': 'jmě'},\n     {'token_lc': 'jsou',\n      'xsampa': 'jso_u',\n      'morph': 'VB-P---3P-AA---I',\n      'phoebe': 'js0',\n      'token': 'jsou',\n      'lemma': 'být'},\n     {'token_lc': 'na',\n      'xsampa': 'na',\n      'morph': 'RR--4-----------',\n      'phoebe': 'na',\n      'token': 'na',\n      'lemma': 'na'},\n     {'token_lc': 'prsty',\n      'xsampa': 'pr=stI',\n      'morph': 'NNIP4-----A-----',\n      'phoebe': 'pQsti',\n      'token': 'prsty',\n      'lemma': 'prst'},\n     {'token_lc': 'měřili',\n      'xsampa': 'mJEP\\\\IlI',\n      'morph': 'VpMP---1R-AA---I',\n      'phoebe': 'mNeRili',\n      'token': 'měřili',\n      'lemma': 'měřit'},\n     {'token_lc': 'jedni',\n      'xsampa': 'jEdJI',\n      'morph': 'ChMP1-----------',\n      'phoebe': 'jedNi',\n      'token': 'Jedni',\n      'lemma': 'jeden'}],\n    'rhyme': None,\n    'metre': [{'foot': '6',\n      'clause': 'a',\n      'pattern': 'SVWSWSWSVWSVWSV',\n      'type': 'hexameter'}],\n    'stress': '100100010010010'},\n   {'text': 'vážíce ctnost tak slavného hrdiny – přízvučně psali;',\n    'punct': {'5': '–', '7': ';'},\n    'words': [{'token_lc': 'vážíce',\n      'xsampa': 'va:Zi:t_sE',\n      'morph': 'VeFP------A----I',\n      'phoebe': 'vAZIce',\n      'token': 'vážíce',\n      'lemma': 'vážit'},\n     {'token_lc': 'ctnost',\n      'xsampa': 't_stnost',\n      'morph': 'NNFS1-----A-----',\n      'phoebe': 'ctnost',\n      'token': 'ctnost',\n      'lemma': 'ctnost'},\n     {'token_lc': 'tak',\n      'xsampa': 'tak',\n      'morph': 'Db--------------',\n      'phoebe': 'tak',\n      'token': 'tak',\n      'lemma': 'tak'},\n     {'token_lc': 'slavného',\n      'xsampa': 'slavnE:h\\\\o',\n      'morph': 'AAMS2----1A-----',\n      'phoebe': 'slavnEho',\n      'token': 'slavného',\n      'lemma': 'slavný'},\n     {'token_lc': 'hrdiny',\n      'xsampa': 'h\\\\r=J\\\\InI',\n      'morph': 'NNMS2-----A-----',\n      'phoebe': 'hQDini',\n      'token': 'hrdiny',\n      'lemma': 'hrdina'},\n     {'token_lc': 'přízvučně',\n      'xsampa': 'pP\\\\i:zvut_SJE',\n      'morph': 'Dg-------1A-----',\n      'phoebe': 'pRIzvuCNe',\n      'token': 'přízvučně',\n      'lemma': 'přízvučně'},\n     {'token_lc': 'psali',\n      'xsampa': 'psalI',\n      'morph': 'VpMP---3R-AA---I',\n      'phoebe': 'psali',\n      'token': 'psali',\n      'lemma': 'psát'}],\n    'rhyme': None,\n    'metre': [{'foot': '6',\n      'clause': 'f',\n      'pattern': 'SVWSWSVWSVWSVWSW',\n      'type': 'hexameter'}],\n    'stress': '1001010010010010'},\n   {'text': 'pro pohodlí však své, jmě na prahu zkrátili druzí.',\n    'punct': {'9': '.', '4': ','},\n    'words': [{'token_lc': 'pro',\n      'xsampa': 'pro',\n      'morph': 'RR--4-----------',\n      'phoebe': 'pro',\n      'token': 'pro',\n      'lemma': 'pro'},\n     {'token_lc': 'pohodlí',\n      'xsampa': 'poh\\\\odli:',\n      'morph': 'NNNS4-----A-----',\n      'phoebe': 'pohodlI',\n      'token': 'pohodlí',\n      'lemma': 'pohodlí'},\n     {'token_lc': 'však',\n      'xsampa': 'fSak',\n      'morph': 'J^--------------',\n      'phoebe': 'fSak',\n      'token': 'však',\n      'lemma': 'však'},\n     {'token_lc': 'své',\n      'xsampa': 'svE:',\n      'morph': 'P8NS4---------1-',\n      'phoebe': 'svE',\n      'token': 'své',\n      'lemma': 'svůj'},\n     {'token_lc': 'jmě',\n      'xsampa': 'jmJE',\n      'morph': 'X24-------------',\n      'phoebe': 'jmNe',\n      'token': 'jmě',\n      'lemma': 'jmě'},\n     {'token_lc': 'na',\n      'xsampa': 'na',\n      'morph': 'RR--6-----------',\n      'phoebe': 'na',\n      'token': 'na',\n      'lemma': 'na'},\n     {'token_lc': 'prahu',\n      'xsampa': 'prah\\\\u',\n      'morph': 'NNIS6-----A-----',\n      'phoebe': 'prahu',\n      'token': 'prahu',\n      'lemma': 'práh'},\n     {'token_lc': 'zkrátili',\n      'xsampa': 'skra:cIlI',\n      'morph': 'VpMP---3R-AA---P',\n      'phoebe': 'skrATili',\n      'token': 'zkrátili',\n      'lemma': 'zkrátit'},\n     {'token_lc': 'druzí',\n      'xsampa': 'druzi:',\n      'morph': 'AAMP1----1A-----',\n      'phoebe': 'druzI',\n      'token': 'druzí',\n      'lemma': 'druhý'}],\n    'rhyme': None,\n    'metre': [{'foot': '6',\n      'clause': 'a',\n      'pattern': 'SVWSWSWSVWSVWSV',\n      'type': 'hexameter'}],\n    'stress': '100000010010010'},\n   {'text': 'Přízvuk pravidlem jest – když hodí se na prsty volně.',\n    'punct': {'3': '–', '9': '.'},\n    'words': [{'token_lc': 'přízvuk',\n      'xsampa': 'pP\\\\i:zvuk',\n      'morph': 'NNIS1-----A-----',\n      'phoebe': 'pRIzvuk',\n      'token': 'Přízvuk',\n      'lemma': 'přízvuk'},\n     {'token_lc': 'pravidlem',\n      'xsampa': 'pravIdlEm',\n      'morph': 'NNNS7-----A-----',\n      'phoebe': 'pravidlem',\n      'token': 'pravidlem',\n      'lemma': 'pravidlo'},\n     {'token_lc': 'jest',\n      'xsampa': 'jEst',\n      'morph': 'VB-S---3P-AA--2I',\n      'phoebe': 'jest',\n      'token': 'jest',\n      'lemma': 'být'},\n     {'token_lc': 'když',\n      'xsampa': 'gdIS',\n      'morph': 'J,--------------',\n      'phoebe': 'gdiS',\n      'token': 'když',\n      'lemma': 'když'},\n     {'token_lc': 'hodí',\n      'xsampa': 'h\\\\oJ\\\\i:',\n      'morph': 'VB-S---3P-AA---B',\n      'phoebe': 'hoDI',\n      'token': 'hodí',\n      'lemma': 'hodit'},\n     {'token_lc': 'se',\n      'xsampa': 'sE',\n      'morph': 'P7-X4-----------',\n      'phoebe': 'se',\n      'token': 'se',\n      'lemma': 'se'},\n     {'token_lc': 'na',\n      'xsampa': 'na',\n      'morph': 'RR--4-----------',\n      'phoebe': 'na',\n      'token': 'na',\n      'lemma': 'na'},\n     {'token_lc': 'prsty',\n      'xsampa': 'pr=stI',\n      'morph': 'NNIP4-----A-----',\n      'phoebe': 'pQsti',\n      'token': 'prsty',\n      'lemma': 'prst'},\n     {'token_lc': 'volně',\n      'xsampa': 'volJE',\n      'morph': 'Dg-------1A-----',\n      'phoebe': 'volNe',\n      'token': 'volně',\n      'lemma': 'volně'}],\n    'rhyme': None,\n    'metre': [{'foot': '6',\n      'clause': 'f',\n      'pattern': 'SWSVWSWSVWSVWSW',\n      'type': 'hexameter'}],\n    'stress': '101000010010010'}]],\n 'results': {'poem': None}}"
     },
     "execution_count": 135,
     "metadata": {},
     "output_type": "execute_result"
    }
   ],
   "source": [
    "all_poems_data[poem_idx_by_metres[frozenset({\"hexameter\"})][3]]"
   ]
  },
  {
   "cell_type": "markdown",
   "id": "ea23cc5a",
   "metadata": {},
   "source": [
    "### Pentametre"
   ]
  },
  {
   "cell_type": "code",
   "execution_count": 109,
   "id": "f6d866ff",
   "metadata": {},
   "outputs": [
    {
     "data": {
      "text/plain": "['SVWSVWSWSWSVWS',\n 'SVWSWSWSVWSVWS',\n 'SVWSVWSSVWSVWS',\n 'SVWSWSSVWSWS',\n 'SWSVWSSVWSVWS',\n 'SVWSWSSVWSVWS',\n 'SWSWSSVWSVWS',\n 'SVWSVWSWSVWSWS',\n 'SVWSVWSVWSVWSWS',\n 'SVWSVWSWSVWSVWS']"
     },
     "execution_count": 109,
     "metadata": {},
     "output_type": "execute_result"
    }
   ],
   "source": [
    "list(metres[\"pentameter\"].keys())[:10]"
   ]
  },
  {
   "cell_type": "code",
   "execution_count": 53,
   "id": "a2a8bd05",
   "metadata": {},
   "outputs": [
    {
     "name": "stdout",
     "output_type": "stream",
     "text": [
      "SVWSVWSWSWSVWS\n"
     ]
    },
    {
     "data": {
      "text/plain": "[(('10010010101001', 'm', '6'), 1)]"
     },
     "execution_count": 53,
     "metadata": {},
     "output_type": "execute_result"
    }
   ],
   "source": [
    "print(list(metres[\"pentameter\"].keys())[0])\n",
    "list(metres[\"pentameter\"].values())[0].most_common(20)"
   ]
  },
  {
   "cell_type": "code",
   "execution_count": 111,
   "id": "9d5472e9",
   "metadata": {
    "pycharm": {
     "name": "#%%\n"
    }
   },
   "outputs": [
    {
     "data": {
      "text/plain": "9"
     },
     "execution_count": 111,
     "metadata": {},
     "output_type": "execute_result"
    }
   ],
   "source": [
    "len(poem_idx_by_metres[frozenset({\"pentameter\"})])"
   ]
  },
  {
   "cell_type": "code",
   "execution_count": 136,
   "id": "56dd72c3",
   "metadata": {
    "pycharm": {
     "name": "#%%\n"
    }
   },
   "outputs": [
    {
     "data": {
      "text/plain": "{'p_author': {'born': 1853,\n  'died': 1912,\n  'name': 'Vrchlický, Jaroslav',\n  'identity': 'Vrchlický, Jaroslav'},\n 'biblio': {'motto_aut': None,\n  'b_subtitle': '1898-1899',\n  'publisher': 'Souborné vydání básnických spisů Jaroslava Vrchlického; Otto, Jan',\n  'edition': '[1.]',\n  'motto': None,\n  'p_title': 'VIII. Nicotin.',\n  'place': 'Praha',\n  'dedication': None,\n  'b_title': 'Překročen zenit...',\n  'pages': '208',\n  'year': '1899',\n  'signature': 'ÚČL AV ČR; 212 VIII 140'},\n 'book_id': '1059',\n 'poem_id': '0001-0006-0000-0008-0000',\n 'b_author': {'born': 1853,\n  'died': 1912,\n  'name': 'Vrchlický, Jaroslav',\n  'identity': 'Vrchlický, Jaroslav'},\n 'body': [[{'text': 'Moderních čivů ty’s v hnědé kápi zpovědník, vím,',\n    'punct': {'8': ',', '7': ','},\n    'words': [{'token_lc': 'moderních',\n      'xsampa': 'modErJi:x',\n      'morph': 'AAFP2----1A-----',\n      'phoebe': 'moderNIx',\n      'token': 'Moderních',\n      'lemma': 'moderní'},\n     {'token_lc': 'čivů',\n      'xsampa': 't_SIvu:',\n      'morph': 'X24-------------',\n      'phoebe': 'CivU',\n      'token': 'čivů',\n      'lemma': 'čivů'},\n     {'token_lc': 'tys',\n      'xsampa': 'tIs',\n      'morph': 'X24-------------',\n      'phoebe': 'tis',\n      'token': 'tys',\n      'lemma': 'ty´s'},\n     {'token_lc': 'v',\n      'xsampa': 'v',\n      'morph': 'RR--6-----------',\n      'phoebe': 'v',\n      'token': 'v',\n      'lemma': 'v'},\n     {'token_lc': 'hnědé',\n      'xsampa': 'h\\\\JEdE:',\n      'morph': 'AAFS6----1A-----',\n      'phoebe': 'hNedE',\n      'token': 'hnědé',\n      'lemma': 'hnědý'},\n     {'token_lc': 'kápi',\n      'xsampa': 'ka:pI',\n      'morph': 'NNFS6-----A-----',\n      'phoebe': 'kApi',\n      'token': 'kápi',\n      'lemma': 'kápě'},\n     {'token_lc': 'zpovědník',\n      'xsampa': 'spovjEdJi:k',\n      'morph': 'NNMS1-----A-----',\n      'phoebe': 'spovjedNIk',\n      'token': 'zpovědník',\n      'lemma': 'zpovědník'},\n     {'token_lc': 'vím',\n      'xsampa': 'vi:m',\n      'morph': 'VB-S---1P-AA---I',\n      'phoebe': 'vIm',\n      'token': 'vím',\n      'lemma': 'vědět'}],\n    'rhyme': 1,\n    'metre': [{'foot': '6',\n      'clause': 'm',\n      'pattern': 'SVWSVWSWSWSVWS',\n      'type': 'pentameter'}],\n    'stress': '10010010101001'},\n   {'text': 'tlumočíš věrně, mlčky a vážně: „Všecko jest dým!“',\n    'punct': {'5': ':„', '2': ',', '8': '!“'},\n    'words': [{'token_lc': 'tlumočíš',\n      'xsampa': 'tlumot_Si:S',\n      'morph': 'VB-S---2P-AA---I',\n      'phoebe': 'tlumoCIS',\n      'token': 'tlumočíš',\n      'lemma': 'tlumočit'},\n     {'token_lc': 'věrně',\n      'xsampa': 'vjErJE',\n      'morph': 'Dg-------1A-----',\n      'phoebe': 'vjerNe',\n      'token': 'věrně',\n      'lemma': 'věrně'},\n     {'token_lc': 'mlčky',\n      'xsampa': 'ml=t_SkI',\n      'morph': 'Db--------------',\n      'phoebe': 'mLCki',\n      'token': 'mlčky',\n      'lemma': 'mlčky'},\n     {'token_lc': 'a',\n      'xsampa': 'a',\n      'morph': 'J^--------------',\n      'phoebe': 'a',\n      'token': 'a',\n      'lemma': 'a'},\n     {'token_lc': 'vážně',\n      'xsampa': 'va:ZJE',\n      'morph': 'Dg-------1A-----',\n      'phoebe': 'vAZNe',\n      'token': 'vážně',\n      'lemma': 'vážně'},\n     {'token_lc': 'všecko',\n      'xsampa': 'fSEt_sko',\n      'morph': 'PLNS1-----------',\n      'phoebe': 'fSecko',\n      'token': 'Všecko',\n      'lemma': 'všecek'},\n     {'token_lc': 'jest',\n      'xsampa': 'jEst',\n      'morph': 'VB-S---3P-AA--2I',\n      'phoebe': 'jest',\n      'token': 'jest',\n      'lemma': 'být'},\n     {'token_lc': 'dým',\n      'xsampa': 'di:m',\n      'morph': 'NNIS1-----A-----',\n      'phoebe': 'dIm',\n      'token': 'dým',\n      'lemma': 'dým'}],\n    'rhyme': 1,\n    'metre': [{'foot': '6',\n      'clause': 'm',\n      'pattern': 'SVWSWSWSVWSVWS',\n      'type': 'pentameter'}],\n    'stress': '10010100101001'}]],\n 'results': {'poem': None}}"
     },
     "execution_count": 136,
     "metadata": {},
     "output_type": "execute_result"
    }
   ],
   "source": [
    "all_poems_data[poem_idx_by_metres[frozenset({\"pentameter\"})][0]]"
   ]
  },
  {
   "cell_type": "markdown",
   "id": "73be383e",
   "metadata": {},
   "source": [
    "## Clause"
   ]
  },
  {
   "cell_type": "code",
   "execution_count": 37,
   "id": "fc17dd90",
   "metadata": {},
   "outputs": [],
   "source": [
    "clauses = defaultdict(Counter)\n",
    "\n",
    "for poem in all_poems_data:\n",
    "    for stanza in poem[\"body\"]:\n",
    "        for line in stanza:\n",
    "            for metre in line[\"metre\"]:\n",
    "                clauses[metre[\"clause\"]][metre[\"pattern\"]] += 1"
   ]
  },
  {
   "cell_type": "markdown",
   "id": "2a234d4b",
   "metadata": {},
   "source": [
    "### Masculine"
   ]
  },
  {
   "cell_type": "code",
   "execution_count": 42,
   "id": "5cef3d3d",
   "metadata": {},
   "outputs": [
    {
     "data": {
      "text/plain": "[('WSWSWSWSWS', 228126),\n ('WSWSWSWS', 164591),\n ('SWSWSWS', 97379),\n ('SWSWSWSWS', 68108),\n ('WSWSWS', 42241),\n ('WSWSWSWSWSWS', 36505),\n ('SWSWSWSWSWS', 18662),\n ('SWSWS', 18637),\n ('SVWSVWSVWS', 8195),\n ('WSWS', 7815),\n ('SWSWSWSWSWSWSWS', 4807),\n ('SWS', 4011),\n ('WSWSWSWWSWSWS', 3894),\n ('SVWSVWS', 3320),\n ('SVWSWSVWS', 3170),\n ('WSWSWSWSWSWSWS', 3056),\n ('WSVWSVWSVWS', 2223),\n ('WSWSWSWSWSWSWSWS', 1857),\n ('SWSWSWSWSWSWS', 1736),\n ('SVWS', 1561)]"
     },
     "execution_count": 42,
     "metadata": {},
     "output_type": "execute_result"
    }
   ],
   "source": [
    "clauses[\"m\"].most_common(20)"
   ]
  },
  {
   "cell_type": "code",
   "execution_count": 39,
   "id": "5aac5f3b",
   "metadata": {},
   "outputs": [],
   "source": [
    "for pattern in clauses[\"m\"]:\n",
    "    assert (pattern[-1] == \"S\")"
   ]
  },
  {
   "cell_type": "markdown",
   "id": "42c894dd",
   "metadata": {},
   "source": [
    "### Feminine"
   ]
  },
  {
   "cell_type": "code",
   "execution_count": 43,
   "id": "070b5c1d",
   "metadata": {},
   "outputs": [
    {
     "data": {
      "text/plain": "[('WSWSWSWSWSW', 401928),\n ('SWSWSWSW', 270774),\n ('SWSWSWSWSW', 202093),\n ('WSWSWSWSW', 102829),\n ('SWSWSW', 69679),\n ('WSWSWSWSWSWSW', 57528),\n ('WSWSWSW', 57043),\n ('SWSWSWSWSWSW', 53300),\n ('WSWSW', 14964),\n ('SVWSWSVWSW', 10285),\n ('SWSW', 9525),\n ('SWSWSWSWSWSWSWSW', 6084),\n ('WSWSWSWSWSWSWSW', 5483),\n ('SWSWSWSWSWSWSW', 4348),\n ('SVWSW', 3179),\n ('SWSWSVWSWSW', 2550),\n ('SWSWSWSSWSWSW', 1406),\n ('WSW', 1400),\n ('WSWSWSWWSWSWSW', 1214),\n ('SVWSVWSWSW', 1014)]"
     },
     "execution_count": 43,
     "metadata": {},
     "output_type": "execute_result"
    }
   ],
   "source": [
    "clauses[\"f\"].most_common(20)"
   ]
  },
  {
   "cell_type": "code",
   "execution_count": 41,
   "id": "16c659b1",
   "metadata": {},
   "outputs": [],
   "source": [
    "for pattern in clauses[\"f\"]:\n",
    "    assert (pattern[-2:] == \"SW\")"
   ]
  },
  {
   "cell_type": "markdown",
   "id": "fa5d7578",
   "metadata": {},
   "source": [
    "### Acatalectic"
   ]
  },
  {
   "cell_type": "code",
   "execution_count": 44,
   "id": "0fe0ef5f",
   "metadata": {},
   "outputs": [
    {
     "data": {
      "text/plain": "[('XXXXXXXX', 31888),\n ('XXXXXXXXXX', 29919),\n ('XXXXXXXXX', 23832),\n ('XXXXXXXXXXX', 20240),\n ('SVWSVWSV', 16896),\n ('XXXXXXXXXXXX', 15136),\n ('XXXXXXXXXXXXX', 15086),\n ('XXXXXXX', 14455),\n ('XXXXXXXXXXXXXX', 12791),\n ('XXXXXXXXXXXXXXX', 11992),\n ('SVWSVWSVWSV', 11790),\n ('XXXXXX', 11674),\n ('XXXXXXXXXXXXXXXX', 10417),\n ('SVWSWSVW', 7833),\n ('SVWSVWSVW', 7783),\n ('XXXXX', 7386),\n ('SVWSVW', 6862),\n ('SVWSV', 5155),\n ('XXXXXXXXXXXXXXXXX', 4827),\n ('WSVWSVWSV', 4665)]"
     },
     "execution_count": 44,
     "metadata": {},
     "output_type": "execute_result"
    }
   ],
   "source": [
    "clauses[\"a\"].most_common(20)"
   ]
  },
  {
   "cell_type": "code",
   "execution_count": 119,
   "id": "10d58bc3",
   "metadata": {},
   "outputs": [
    {
     "name": "stdout",
     "output_type": "stream",
     "text": [
      "Error: W\n"
     ]
    }
   ],
   "source": [
    "for pattern in clauses[\"a\"]:\n",
    "    if not (pattern[-1] == \"X\" or pattern[-2:] == \"SV\" or pattern[-3:] == \"SVW\"):\n",
    "        print(f\"Error: {pattern}\")"
   ]
  },
  {
   "cell_type": "markdown",
   "id": "99f8040f",
   "metadata": {},
   "source": [
    "## Ghazal poems"
   ]
  },
  {
   "cell_type": "code",
   "execution_count": 138,
   "id": "9fc8cbc4",
   "metadata": {},
   "outputs": [],
   "source": [
    "ghazal_idxs = set()\n",
    "\n",
    "for idx, poem in enumerate(all_poems_data):\n",
    "    if any(pos == \"-\" for stanza in poem[\"body\"] for line in stanza for metre in line[\"metre\"] for pos in metre[\"pattern\"]):\n",
    "        ghazal_idxs.add(idx)\n",
    "\n",
    "ghazal_idxs = list(ghazal_idxs)"
   ]
  },
  {
   "cell_type": "code",
   "execution_count": 139,
   "id": "d73c23a9",
   "metadata": {},
   "outputs": [
    {
     "data": {
      "text/plain": "93"
     },
     "execution_count": 139,
     "metadata": {},
     "output_type": "execute_result"
    }
   ],
   "source": [
    "len(ghazal_idxs)"
   ]
  },
  {
   "cell_type": "code",
   "execution_count": 140,
   "id": "390b60b2",
   "metadata": {
    "pycharm": {
     "name": "#%%\n"
    }
   },
   "outputs": [
    {
     "data": {
      "text/plain": "{'p_author': {'born': 1853,\n  'died': 1912,\n  'name': 'Vrchlický, Jaroslav',\n  'identity': 'Vrchlický, Jaroslav'},\n 'biblio': {'motto_aut': None,\n  'b_subtitle': 'Básně, 1894-1897',\n  'publisher': 'Nové souborné vydání básnických spisů Jaroslava Vrchlického; Voborník, Jan; Otto, Jan; Průmyslová tiskárna v Praze; Unie',\n  'edition': '[1.]',\n  'motto': None,\n  'p_title': 'XXVIII. Řekni sama, nebyli jsme děti včera',\n  'place': 'Praha',\n  'dedication': None,\n  'b_title': 'Kvítí Perdity',\n  'pages': '160',\n  'year': '1930',\n  'signature': 'ÚČL AV ČR; 212 VIII 125'},\n 'book_id': '1032',\n 'poem_id': '0001-0007-0000-0029-0000',\n 'b_author': {'born': 1853,\n  'died': 1912,\n  'name': 'Vrchlický, Jaroslav',\n  'identity': 'Vrchlický, Jaroslav'},\n 'body': [[{'text': 'Řekni sama, nebyli jsme děti včera ',\n    'punct': {'2': ','},\n    'words': [{'token_lc': 'řekni',\n      'xsampa': 'P\\\\EkJI',\n      'morph': 'Vi-S---2--A----P',\n      'phoebe': 'RekNi',\n      'token': 'Řekni',\n      'lemma': 'říci'},\n     {'token_lc': 'sama',\n      'xsampa': 'sama',\n      'morph': 'PLFS1-----------',\n      'phoebe': 'sama',\n      'token': 'sama',\n      'lemma': 'sám'},\n     {'token_lc': 'nebyli',\n      'xsampa': 'nEbIlI',\n      'morph': 'VpMP---1R-NA---I',\n      'phoebe': 'nebili',\n      'token': 'nebyli',\n      'lemma': 'být'},\n     {'token_lc': 'jsme',\n      'xsampa': 'jsmE',\n      'morph': 'VB-P---1P-AA---I',\n      'phoebe': 'jsme',\n      'token': 'jsme',\n      'lemma': 'být'},\n     {'token_lc': 'děti',\n      'xsampa': 'J\\\\EcI',\n      'morph': 'NNFP1-----A-----',\n      'phoebe': 'DeTi',\n      'token': 'děti',\n      'lemma': 'dítě'},\n     {'token_lc': 'včera',\n      'xsampa': 'ft_SEra',\n      'morph': 'Db--------------',\n      'phoebe': 'fCera',\n      'token': 'včera',\n      'lemma': 'včera'}],\n    'rhyme': 1,\n    'metre': [{'foot': '6',\n      'clause': 'f',\n      'pattern': 'SWSWSWSWSW-SW',\n      'type': 'T'}],\n    'stress': '101010001010'},\n   {'text': 'letíce si vášní do objetí včera?',\n    'punct': {'6': '?'},\n    'words': [{'token_lc': 'letíce',\n      'xsampa': 'lEci:t_sE',\n      'morph': 'VeIP------A----I',\n      'phoebe': 'leTIce',\n      'token': 'letíce',\n      'lemma': 'letět'},\n     {'token_lc': 'si',\n      'xsampa': 'sI',\n      'morph': 'P7-X3-----------',\n      'phoebe': 'si',\n      'token': 'si',\n      'lemma': 'se'},\n     {'token_lc': 'vášní',\n      'xsampa': 'va:SJi:',\n      'morph': 'NNFS7-----A-----',\n      'phoebe': 'vASNI',\n      'token': 'vášní',\n      'lemma': 'vášeň'},\n     {'token_lc': 'do',\n      'xsampa': 'do',\n      'morph': 'RR--2-----------',\n      'phoebe': 'do',\n      'token': 'do',\n      'lemma': 'do'},\n     {'token_lc': 'objetí',\n      'xsampa': 'objEci:',\n      'morph': 'NNNS2-----A-----',\n      'phoebe': 'objeTI',\n      'token': 'objetí',\n      'lemma': 'objetí'},\n     {'token_lc': 'včera',\n      'xsampa': 'ft_SEra',\n      'morph': 'Db--------------',\n      'phoebe': 'fCera',\n      'token': 'včera',\n      'lemma': 'včera'}],\n    'rhyme': 1,\n    'metre': [{'foot': '6',\n      'clause': 'f',\n      'pattern': 'SWSWSWSWSW-SW',\n      'type': 'T'}],\n    'stress': '100010100010'},\n   {'text': 'Museli jsme oba, zda bůh ví to,',\n    'punct': {'3': ',', '7': ','},\n    'words': [{'token_lc': 'museli',\n      'xsampa': 'musElI',\n      'morph': 'VpMP---1R-AA---I',\n      'phoebe': 'museli',\n      'token': 'Museli',\n      'lemma': 'muset'},\n     {'token_lc': 'jsme',\n      'xsampa': 'jsmE',\n      'morph': 'VB-P---1P-AA---I',\n      'phoebe': 'jsme',\n      'token': 'jsme',\n      'lemma': 'být'},\n     {'token_lc': 'oba',\n      'xsampa': 'oba',\n      'morph': 'ClMP1-----------',\n      'phoebe': 'oba',\n      'token': 'oba',\n      'lemma': 'oba'},\n     {'token_lc': 'zda',\n      'xsampa': 'zda',\n      'morph': 'J,--------------',\n      'phoebe': 'zda',\n      'token': 'zda',\n      'lemma': 'zda'},\n     {'token_lc': 'bůh',\n      'xsampa': 'bu:x',\n      'morph': 'NNMS1-----A-----',\n      'phoebe': 'bUx',\n      'token': 'bůh',\n      'lemma': 'bůh'},\n     {'token_lc': 'ví',\n      'xsampa': 'vi:',\n      'morph': 'VB-S---3P-AA---I',\n      'phoebe': 'vI',\n      'token': 'ví',\n      'lemma': 'vědět'},\n     {'token_lc': 'to',\n      'xsampa': 'to',\n      'morph': 'PDNS4-----------',\n      'phoebe': 'to',\n      'token': 'to',\n      'lemma': 'ten'}],\n    'rhyme': None,\n    'metre': [{'foot': '5',\n      'clause': 'f',\n      'pattern': 'SWSWSWSWSW',\n      'type': 'T'}],\n    'stress': '1000100110'},\n   {'text': 'děsem se a nejistotou chvěti včera?',\n    'punct': {'6': '?'},\n    'words': [{'token_lc': 'děsem',\n      'xsampa': 'J\\\\EsEm',\n      'morph': 'NNIS7-----A-----',\n      'phoebe': 'Desem',\n      'token': 'děsem',\n      'lemma': 'děs'},\n     {'token_lc': 'se',\n      'xsampa': 'sE',\n      'morph': 'P7-X4-----------',\n      'phoebe': 'se',\n      'token': 'se',\n      'lemma': 'se'},\n     {'token_lc': 'a',\n      'xsampa': 'a',\n      'morph': 'J^--------------',\n      'phoebe': 'a',\n      'token': 'a',\n      'lemma': 'a'},\n     {'token_lc': 'nejistotou',\n      'xsampa': 'nEjIstoto_u',\n      'morph': 'NNFS7-----A-----',\n      'phoebe': 'nejistot0',\n      'token': 'nejistotou',\n      'lemma': 'nejistota'},\n     {'token_lc': 'chvěti',\n      'xsampa': 'xvjEcI',\n      'morph': 'Vf--------A---2I',\n      'phoebe': 'xvjeTi',\n      'token': 'chvěti',\n      'lemma': 'chvět'},\n     {'token_lc': 'včera',\n      'xsampa': 'ft_SEra',\n      'morph': 'Db--------------',\n      'phoebe': 'fCera',\n      'token': 'včera',\n      'lemma': 'včera'}],\n    'rhyme': 1,\n    'metre': [{'foot': '6',\n      'clause': 'f',\n      'pattern': 'SWSWSWSWSW-SW',\n      'type': 'T'}],\n    'stress': '100010001010'},\n   {'text': 'Musili jsme oba kupit mračno,',\n    'punct': {'5': ','},\n    'words': [{'token_lc': 'musili',\n      'xsampa': 'musIlI',\n      'morph': 'VpMP---1R-AA---I',\n      'phoebe': 'musili',\n      'token': 'Musili',\n      'lemma': 'muset'},\n     {'token_lc': 'jsme',\n      'xsampa': 'jsmE',\n      'morph': 'VB-P---1P-AA---I',\n      'phoebe': 'jsme',\n      'token': 'jsme',\n      'lemma': 'být'},\n     {'token_lc': 'oba',\n      'xsampa': 'oba',\n      'morph': 'ClMP1-----------',\n      'phoebe': 'oba',\n      'token': 'oba',\n      'lemma': 'oba'},\n     {'token_lc': 'kupit',\n      'xsampa': 'kupIt',\n      'morph': 'Vf--------A----I',\n      'phoebe': 'kupit',\n      'token': 'kupit',\n      'lemma': 'kupit'},\n     {'token_lc': 'mračno',\n      'xsampa': 'mrat_Sno',\n      'morph': 'NNNS4-----A-----',\n      'phoebe': 'mraCno',\n      'token': 'mračno',\n      'lemma': 'mračno'}],\n    'rhyme': None,\n    'metre': [{'foot': '5',\n      'clause': 'f',\n      'pattern': 'SWSWSWSWSW',\n      'type': 'T'}],\n    'stress': '1000101010'},\n   {'text': 'potácet se v záhad pestré změti včera?',\n    'punct': {'7': '?'},\n    'words': [{'token_lc': 'potácet',\n      'xsampa': 'pota:t_sEt',\n      'morph': 'Vf--------A----I',\n      'phoebe': 'potAcet',\n      'token': 'potácet',\n      'lemma': 'potácet'},\n     {'token_lc': 'se',\n      'xsampa': 'sE',\n      'morph': 'P7-X4-----------',\n      'phoebe': 'se',\n      'token': 'se',\n      'lemma': 'se'},\n     {'token_lc': 'v',\n      'xsampa': 'v',\n      'morph': 'RR--4-----------',\n      'phoebe': 'v',\n      'token': 'v',\n      'lemma': 'v'},\n     {'token_lc': 'záhad',\n      'xsampa': 'za:h\\\\at',\n      'morph': 'NNFP2-----A-----',\n      'phoebe': 'zAhat',\n      'token': 'záhad',\n      'lemma': 'záhada'},\n     {'token_lc': 'pestré',\n      'xsampa': 'pEstrE:',\n      'morph': 'AAFP4----1A-----',\n      'phoebe': 'pestrE',\n      'token': 'pestré',\n      'lemma': 'pestrý'},\n     {'token_lc': 'změti',\n      'xsampa': 'zmJEcI',\n      'morph': 'NNFP4-----A-----',\n      'phoebe': 'zmNeTi',\n      'token': 'změti',\n      'lemma': 'změť'},\n     {'token_lc': 'včera',\n      'xsampa': 'ft_SEra',\n      'morph': 'Db--------------',\n      'phoebe': 'fCera',\n      'token': 'včera',\n      'lemma': 'včera'}],\n    'rhyme': 1,\n    'metre': [{'foot': '6',\n      'clause': 'f',\n      'pattern': 'SWSWSWSWSW-SW',\n      'type': 'T'}],\n    'stress': '100010101010'},\n   {'text': 'A přec ráj nám kynul otevřený,',\n    'punct': {'6': ','},\n    'words': [{'token_lc': 'a',\n      'xsampa': 'a',\n      'morph': 'J^--------------',\n      'phoebe': 'a',\n      'token': 'A',\n      'lemma': 'a'},\n     {'token_lc': 'přec',\n      'xsampa': 'pP\\\\Et_s',\n      'morph': 'Db------------2-',\n      'phoebe': 'pRec',\n      'token': 'přec',\n      'lemma': 'přece'},\n     {'token_lc': 'ráj',\n      'xsampa': 'ra:j',\n      'morph': 'NNIS1-----A-----',\n      'phoebe': 'rAj',\n      'token': 'ráj',\n      'lemma': 'ráj'},\n     {'token_lc': 'nám',\n      'xsampa': 'na:m',\n      'morph': 'PP-P3--1--------',\n      'phoebe': 'nAm',\n      'token': 'nám',\n      'lemma': 'my'},\n     {'token_lc': 'kynul',\n      'xsampa': 'kInul',\n      'morph': 'VpIS---3R-AA---I',\n      'phoebe': 'kinul',\n      'token': 'kynul',\n      'lemma': 'kynout'},\n     {'token_lc': 'otevřený',\n      'xsampa': 'otEvP\\\\Eni:',\n      'morph': 'AAIS1----1A-----',\n      'phoebe': 'otevRenI',\n      'token': 'otevřený',\n      'lemma': 'otevřený'}],\n    'rhyme': None,\n    'metre': [{'foot': '5',\n      'clause': 'f',\n      'pattern': 'SWSWSWSWSW',\n      'type': 'T'}],\n    'stress': '1010101000'},\n   {'text': 'strachu šla jen radost ve zápětí včera!',\n    'punct': {'7': '!'},\n    'words': [{'token_lc': 'strachu',\n      'xsampa': 'straxu',\n      'morph': 'NNIS3-----A-----',\n      'phoebe': 'straxu',\n      'token': 'strachu',\n      'lemma': 'strach'},\n     {'token_lc': 'šla',\n      'xsampa': 'Sla',\n      'morph': 'VpFS---3R-AA---I',\n      'phoebe': 'Sla',\n      'token': 'šla',\n      'lemma': 'jít'},\n     {'token_lc': 'jen',\n      'xsampa': 'jEn',\n      'morph': 'TT--------------',\n      'phoebe': 'jen',\n      'token': 'jen',\n      'lemma': 'jen'},\n     {'token_lc': 'radost',\n      'xsampa': 'radost',\n      'morph': 'NNFS1-----A-----',\n      'phoebe': 'radost',\n      'token': 'radost',\n      'lemma': 'radost'},\n     {'token_lc': 've',\n      'xsampa': 'vE',\n      'morph': 'RV--6-----------',\n      'phoebe': 've',\n      'token': 've',\n      'lemma': 'v'},\n     {'token_lc': 'zápětí',\n      'xsampa': 'za:pjEci:',\n      'morph': 'NNNS6-----A-----',\n      'phoebe': 'zApjeTI',\n      'token': 'zápětí',\n      'lemma': 'zápětí'},\n     {'token_lc': 'včera',\n      'xsampa': 'ft_SEra',\n      'morph': 'Db--------------',\n      'phoebe': 'fCera',\n      'token': 'včera',\n      'lemma': 'včera'}],\n    'rhyme': 1,\n    'metre': [{'foot': '6',\n      'clause': 'f',\n      'pattern': 'SWSWSWSWSW-SW',\n      'type': 'T'}],\n    'stress': '101010100010'},\n   {'text': 'V strachu ztrávili jsme hodin řadu,',\n    'punct': {'6': ','},\n    'words': [{'token_lc': 'v',\n      'xsampa': 'f',\n      'morph': 'RR--6-----------',\n      'phoebe': 'f',\n      'token': 'V',\n      'lemma': 'v'},\n     {'token_lc': 'strachu',\n      'xsampa': 'straxu',\n      'morph': 'NNIS6-----A-----',\n      'phoebe': 'straxu',\n      'token': 'strachu',\n      'lemma': 'strach'},\n     {'token_lc': 'ztrávili',\n      'xsampa': 'stra:vIlI',\n      'morph': 'VpMP---1R-AA---P',\n      'phoebe': 'strAvili',\n      'token': 'ztrávili',\n      'lemma': 'strávit'},\n     {'token_lc': 'jsme',\n      'xsampa': 'jsmE',\n      'morph': 'VB-P---1P-AA---I',\n      'phoebe': 'jsme',\n      'token': 'jsme',\n      'lemma': 'být'},\n     {'token_lc': 'hodin',\n      'xsampa': 'h\\\\oJ\\\\In',\n      'morph': 'NNFP2-----A-----',\n      'phoebe': 'hoDin',\n      'token': 'hodin',\n      'lemma': 'hodina'},\n     {'token_lc': 'řadu',\n      'xsampa': 'P\\\\adu',\n      'morph': 'NNFS4-----A-----',\n      'phoebe': 'Radu',\n      'token': 'řadu',\n      'lemma': 'řada'}],\n    'rhyme': None,\n    'metre': [{'foot': '5',\n      'clause': 'f',\n      'pattern': 'SWSWSWSWSW',\n      'type': 'T'}],\n    'stress': '1010001010'},\n   {'text': 'bych moh píseň věčné lásky pěti včera,',\n    'punct': {'7': ','},\n    'words': [{'token_lc': 'bych',\n      'xsampa': 'bIx',\n      'morph': 'Vc-S---1-------I',\n      'phoebe': 'bix',\n      'token': 'bych',\n      'lemma': 'být'},\n     {'token_lc': 'moh',\n      'xsampa': 'mox',\n      'morph': 'VpMS---1R-AA--6I',\n      'phoebe': 'mox',\n      'token': 'moh',\n      'lemma': 'moci'},\n     {'token_lc': 'píseň',\n      'xsampa': 'pi:sEJ',\n      'morph': 'NNFS4-----A-----',\n      'phoebe': 'pIseN',\n      'token': 'píseň',\n      'lemma': 'píseň'},\n     {'token_lc': 'věčné',\n      'xsampa': 'vjEt_SnE:',\n      'morph': 'AAFS2----1A-----',\n      'phoebe': 'vjeCnE',\n      'token': 'věčné',\n      'lemma': 'věčný'},\n     {'token_lc': 'lásky',\n      'xsampa': 'la:skI',\n      'morph': 'NNFS2-----A-----',\n      'phoebe': 'lAski',\n      'token': 'lásky',\n      'lemma': 'láska'},\n     {'token_lc': 'pěti',\n      'xsampa': 'pjEcI',\n      'morph': 'Cn-P2-----------',\n      'phoebe': 'pjeTi',\n      'token': 'pěti',\n      'lemma': 'pět'},\n     {'token_lc': 'včera',\n      'xsampa': 'ft_SEra',\n      'morph': 'Db--------------',\n      'phoebe': 'fCera',\n      'token': 'včera',\n      'lemma': 'včera'}],\n    'rhyme': 1,\n    'metre': [{'foot': '6',\n      'clause': 'f',\n      'pattern': 'SWSWSWSWSW-SW',\n      'type': 'T'}],\n    'stress': '011010101010'},\n   {'text': 'bych moh jako orel na kořisti',\n    'punct': {},\n    'words': [{'token_lc': 'bych',\n      'xsampa': 'bIx',\n      'morph': 'Vc-S---1-------I',\n      'phoebe': 'bix',\n      'token': 'bych',\n      'lemma': 'být'},\n     {'token_lc': 'moh',\n      'xsampa': 'mox',\n      'morph': 'VpMS---1R-AA--6I',\n      'phoebe': 'mox',\n      'token': 'moh',\n      'lemma': 'moci'},\n     {'token_lc': 'jako',\n      'xsampa': 'jako',\n      'morph': 'J,--------------',\n      'phoebe': 'jako',\n      'token': 'jako',\n      'lemma': 'jako'},\n     {'token_lc': 'orel',\n      'xsampa': 'orEl',\n      'morph': 'NNMS1-----A-----',\n      'phoebe': 'orel',\n      'token': 'orel',\n      'lemma': 'orel'},\n     {'token_lc': 'na',\n      'xsampa': 'na',\n      'morph': 'RR--4-----------',\n      'phoebe': 'na',\n      'token': 'na',\n      'lemma': 'na'},\n     {'token_lc': 'kořisti',\n      'xsampa': 'koP\\\\IscI',\n      'morph': 'NNFP4-----A-----',\n      'phoebe': 'koRisTi',\n      'token': 'kořisti',\n      'lemma': 'kořist'}],\n    'rhyme': None,\n    'metre': [{'foot': '5',\n      'clause': 'f',\n      'pattern': 'SWSWSWSWSW',\n      'type': 'T'}],\n    'stress': '0110101000'},\n   {'text': 'okem v tvojí zřítelnici tkvěti včera,',\n    'punct': {'6': ','},\n    'words': [{'token_lc': 'okem',\n      'xsampa': 'okEm',\n      'morph': 'NNNS7-----A-----',\n      'phoebe': 'okem',\n      'token': 'okem',\n      'lemma': 'oko'},\n     {'token_lc': 'v',\n      'xsampa': 'f',\n      'morph': 'RR--6-----------',\n      'phoebe': 'f',\n      'token': 'v',\n      'lemma': 'v'},\n     {'token_lc': 'tvojí',\n      'xsampa': 'tvoji:',\n      'morph': 'PSFS6-S2--------',\n      'phoebe': 'tvojI',\n      'token': 'tvojí',\n      'lemma': 'tvůj'},\n     {'token_lc': 'zřítelnici',\n      'xsampa': 'zP\\\\i:tElJIt_sI',\n      'morph': 'NNFS6-----A-----',\n      'phoebe': 'zRItelNici',\n      'token': 'zřítelnici',\n      'lemma': 'zřítelnice'},\n     {'token_lc': 'tkvěti',\n      'xsampa': 'tkvjEcI',\n      'morph': 'Vf--------A---2I',\n      'phoebe': 'tkvjeTi',\n      'token': 'tkvěti',\n      'lemma': 'tkvít'},\n     {'token_lc': 'včera',\n      'xsampa': 'ft_SEra',\n      'morph': 'Db--------------',\n      'phoebe': 'fCera',\n      'token': 'včera',\n      'lemma': 'včera'}],\n    'rhyme': 1,\n    'metre': [{'foot': '6',\n      'clause': 'f',\n      'pattern': 'SWSWSWSWSW-SW',\n      'type': 'T'}],\n    'stress': '101010001010'},\n   {'text': 'bys mne mohla jako bludné ptáče',\n    'punct': {},\n    'words': [{'token_lc': 'bys',\n      'xsampa': 'bIs',\n      'morph': 'Vc-S---2-------I',\n      'phoebe': 'bis',\n      'token': 'bys',\n      'lemma': 'být'},\n     {'token_lc': 'mne',\n      'xsampa': 'mnE',\n      'morph': 'PP-S4--1--------',\n      'phoebe': 'mne',\n      'token': 'mne',\n      'lemma': 'já'},\n     {'token_lc': 'mohla',\n      'xsampa': 'moh\\\\la',\n      'morph': 'VpFS---2R-AA---I',\n      'phoebe': 'mohla',\n      'token': 'mohla',\n      'lemma': 'moci'},\n     {'token_lc': 'jako',\n      'xsampa': 'jako',\n      'morph': 'J,--------------',\n      'phoebe': 'jako',\n      'token': 'jako',\n      'lemma': 'jako'},\n     {'token_lc': 'bludné',\n      'xsampa': 'bludnE:',\n      'morph': 'AANS1----1A-----',\n      'phoebe': 'bludnE',\n      'token': 'bludné',\n      'lemma': 'bludný'},\n     {'token_lc': 'ptáče',\n      'xsampa': 'pta:t_SE',\n      'morph': 'NNNS1-----A-----',\n      'phoebe': 'ptACe',\n      'token': 'ptáče',\n      'lemma': 'ptáče'}],\n    'rhyme': None,\n    'metre': [{'foot': '5',\n      'clause': 'f',\n      'pattern': 'SWSWSWSWSW',\n      'type': 'T'}],\n    'stress': '0010101010'},\n   {'text': 'v růži svojí dlaně zadržeti včera!',\n    'punct': {'6': '!'},\n    'words': [{'token_lc': 'v',\n      'xsampa': 'v',\n      'morph': 'RR--6-----------',\n      'phoebe': 'v',\n      'token': 'v',\n      'lemma': 'v'},\n     {'token_lc': 'růži',\n      'xsampa': 'ru:ZI',\n      'morph': 'NNFS6-----A-----',\n      'phoebe': 'rUZi',\n      'token': 'růži',\n      'lemma': 'růže'},\n     {'token_lc': 'svojí',\n      'xsampa': 'svoji:',\n      'morph': 'P8FS2-----------',\n      'phoebe': 'svojI',\n      'token': 'svojí',\n      'lemma': 'svůj'},\n     {'token_lc': 'dlaně',\n      'xsampa': 'dlaJE',\n      'morph': 'NNFS2-----A-----',\n      'phoebe': 'dlaNe',\n      'token': 'dlaně',\n      'lemma': 'dlaň'},\n     {'token_lc': 'zadržeti',\n      'xsampa': 'zadr=ZEcI',\n      'morph': 'Vf--------A---2P',\n      'phoebe': 'zadQZeTi',\n      'token': 'zadržeti',\n      'lemma': 'zadržet'},\n     {'token_lc': 'včera',\n      'xsampa': 'ft_SEra',\n      'morph': 'Db--------------',\n      'phoebe': 'fCera',\n      'token': 'včera',\n      'lemma': 'včera'}],\n    'rhyme': 1,\n    'metre': [{'foot': '6',\n      'clause': 'f',\n      'pattern': 'SWSWSWSWSW-SW',\n      'type': 'T'}],\n    'stress': '101010100010'}]],\n 'results': {'poem': None}}"
     },
     "execution_count": 140,
     "metadata": {},
     "output_type": "execute_result"
    }
   ],
   "source": [
    "all_poems_data[ghazal_idxs[5]]"
   ]
  }
 ],
 "metadata": {
  "kernelspec": {
   "display_name": "Python 3 (ipykernel)",
   "language": "python",
   "name": "python3"
  },
  "language_info": {
   "codemirror_mode": {
    "name": "ipython",
    "version": 3
   },
   "file_extension": ".py",
   "mimetype": "text/x-python",
   "name": "python",
   "nbconvert_exporter": "python",
   "pygments_lexer": "ipython3",
   "version": "3.8.10"
  }
 },
 "nbformat": 4,
 "nbformat_minor": 5
}
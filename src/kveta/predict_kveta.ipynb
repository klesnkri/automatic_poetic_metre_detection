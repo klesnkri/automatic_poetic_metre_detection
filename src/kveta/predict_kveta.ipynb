{
 "cells": [
  {
   "cell_type": "markdown",
   "source": [
    "# Generate KVETA predictions"
   ],
   "metadata": {
    "collapsed": false,
    "pycharm": {
     "name": "#%% md\n"
    }
   }
  },
  {
   "cell_type": "code",
   "execution_count": 1,
   "outputs": [],
   "source": [
    "%load_ext dotenv\n",
    "%dotenv\n",
    "import os\n",
    "\n",
    "base_dir = os.getenv(\"WORKING_DIR\")\n",
    "os.chdir(base_dir)"
   ],
   "metadata": {
    "collapsed": false,
    "pycharm": {
     "name": "#%%\n"
    }
   }
  },
  {
   "cell_type": "code",
   "execution_count": 2,
   "metadata": {
    "pycharm": {
     "name": "#%%\n"
    }
   },
   "outputs": [],
   "source": [
    "from src.data_loader_and_saver import JSONDataLoaderAndSaver\n",
    "\n",
    "data_loader_and_saver = JSONDataLoaderAndSaver(base_dir, input_data_dir=\"src/data\")\n",
    "kveta_data_loader_and_saver = JSONDataLoaderAndSaver(base_dir, input_data_dir=\"src/kveta/data\", output_data_dir=\"src/kveta/data\")"
   ]
  },
  {
   "cell_type": "code",
   "execution_count": 3,
   "metadata": {
    "pycharm": {
     "name": "#%%\n"
    }
   },
   "outputs": [],
   "source": [
    "from src.kveta.sampa_syllable_parser import SampaSyllableParser\n",
    "from src.kveta.syllable_class_parser import SyllableClassParser\n",
    "from src.kveta.metre_generator import MetreGenerator\n",
    "from src.kveta.metre_assigner import MetreAssigner\n",
    "from src.kveta.metre_predictor import MetrePredictor\n",
    "\n",
    "sampa_parser = SampaSyllableParser()\n",
    "syllable_class_parser = SyllableClassParser()\n",
    "metre_generator = MetreGenerator()"
   ]
  },
  {
   "cell_type": "markdown",
   "metadata": {
    "pycharm": {
     "name": "#%% md\n"
    }
   },
   "source": [
    "## All poems just 1 metre, no unknown metres"
   ]
  },
  {
   "cell_type": "code",
   "execution_count": 4,
   "metadata": {
    "pycharm": {
     "name": "#%%\n"
    }
   },
   "outputs": [],
   "source": [
    "extension = \"_one_metre_all_metres_recognized\""
   ]
  },
  {
   "cell_type": "code",
   "execution_count": 5,
   "metadata": {
    "pycharm": {
     "name": "#%%\n"
    }
   },
   "outputs": [
    {
     "name": "stdout",
     "output_type": "stream",
     "text": [
      "kveta_probabilities_one_metre_all_metres_recognized.json: loaded 1 records.\n"
     ]
    }
   ],
   "source": [
    "kveta_probabilities = kveta_data_loader_and_saver.load_data(f\"kveta_probabilities{extension}\")"
   ]
  },
  {
   "cell_type": "code",
   "execution_count": 6,
   "metadata": {
    "pycharm": {
     "name": "#%%\n"
    }
   },
   "outputs": [],
   "source": [
    "metre_assigner = MetreAssigner(kveta_probabilities[\"metrical_pos_given_syll_cls_proba\"])"
   ]
  },
  {
   "cell_type": "markdown",
   "metadata": {},
   "source": [
    "### Load testing data"
   ]
  },
  {
   "cell_type": "code",
   "execution_count": 7,
   "metadata": {
    "pycharm": {
     "name": "#%%\n"
    }
   },
   "outputs": [
    {
     "name": "stdout",
     "output_type": "stream",
     "text": [
      "test_X_one_metre_all_metres_recognized.json: loaded 8601 records.\n"
     ]
    }
   ],
   "source": [
    "test_X = data_loader_and_saver.load_data(f\"test_X{extension}\")"
   ]
  },
  {
   "cell_type": "markdown",
   "metadata": {
    "pycharm": {
     "name": "#%% md\n"
    }
   },
   "source": [
    "### Predict"
   ]
  },
  {
   "cell_type": "code",
   "execution_count": 8,
   "metadata": {
    "pycharm": {
     "name": "#%%\n"
    }
   },
   "outputs": [],
   "source": [
    "metre_predictor = MetrePredictor(sampa_parser, syllable_class_parser, metre_generator, metre_assigner)"
   ]
  },
  {
   "cell_type": "code",
   "execution_count": 9,
   "metadata": {
    "pycharm": {
     "name": "#%%\n"
    }
   },
   "outputs": [
    {
     "name": "stdout",
     "output_type": "stream",
     "text": [
      "Analyzing poem 0...\n",
      "Analyzing poem 1000...\n",
      "Analyzing poem 2000...\n",
      "Analyzing poem 3000...\n",
      "Poem 3469: Too many syllables, no patterns generated, assigning error pattern...\n",
      "Analyzing poem 4000...\n",
      "Analyzing poem 5000...\n",
      "Analyzing poem 6000...\n",
      "Analyzing poem 7000...\n",
      "Analyzing poem 8000...\n"
     ]
    }
   ],
   "source": [
    "predictions = metre_predictor.predict(test_X)"
   ]
  },
  {
   "cell_type": "code",
   "execution_count": 10,
   "metadata": {
    "pycharm": {
     "name": "#%%\n"
    }
   },
   "outputs": [
    {
     "name": "stdout",
     "output_type": "stream",
     "text": [
      "Data saved to kveta_predictions_one_metre_all_metres_recognized.json\n"
     ]
    }
   ],
   "source": [
    "kveta_data_loader_and_saver.save_data(predictions, f\"kveta_predictions{extension}\")"
   ]
  },
  {
   "cell_type": "markdown",
   "metadata": {
    "pycharm": {
     "name": "#%% md\n"
    }
   },
   "source": [
    "## All lines just 1 metre, no unknown metres"
   ]
  },
  {
   "cell_type": "code",
   "execution_count": 11,
   "metadata": {
    "pycharm": {
     "name": "#%%\n"
    }
   },
   "outputs": [],
   "source": [
    "extension = \"_one_metre_line_all_metres_recognized\""
   ]
  },
  {
   "cell_type": "code",
   "execution_count": 12,
   "metadata": {
    "pycharm": {
     "name": "#%%\n"
    }
   },
   "outputs": [
    {
     "name": "stdout",
     "output_type": "stream",
     "text": [
      "kveta_probabilities_one_metre_line_all_metres_recognized.json: loaded 1 records.\n"
     ]
    }
   ],
   "source": [
    "kveta_probabilities = kveta_data_loader_and_saver.load_data(f\"kveta_probabilities{extension}\")"
   ]
  },
  {
   "cell_type": "code",
   "execution_count": 13,
   "metadata": {
    "pycharm": {
     "name": "#%%\n"
    }
   },
   "outputs": [],
   "source": [
    "metre_assigner = MetreAssigner(kveta_probabilities[\"metrical_pos_given_syll_cls_proba\"])"
   ]
  },
  {
   "cell_type": "markdown",
   "metadata": {
    "pycharm": {
     "name": "#%% md\n"
    }
   },
   "source": [
    "### Load testing data"
   ]
  },
  {
   "cell_type": "code",
   "execution_count": 14,
   "metadata": {
    "pycharm": {
     "name": "#%%\n"
    }
   },
   "outputs": [
    {
     "name": "stdout",
     "output_type": "stream",
     "text": [
      "test_X_one_metre_line_all_metres_recognized.json: loaded 8950 records.\n"
     ]
    }
   ],
   "source": [
    "test_X = data_loader_and_saver.load_data(f\"test_X{extension}\")"
   ]
  },
  {
   "cell_type": "code",
   "execution_count": 15,
   "metadata": {
    "pycharm": {
     "name": "#%%\n"
    }
   },
   "outputs": [
    {
     "data": {
      "text/plain": "8950"
     },
     "execution_count": 15,
     "metadata": {},
     "output_type": "execute_result"
    }
   ],
   "source": [
    "len(test_X)"
   ]
  },
  {
   "cell_type": "markdown",
   "metadata": {
    "pycharm": {
     "name": "#%% md\n"
    }
   },
   "source": [
    "### Predict"
   ]
  },
  {
   "cell_type": "code",
   "execution_count": 16,
   "metadata": {
    "pycharm": {
     "name": "#%%\n"
    }
   },
   "outputs": [],
   "source": [
    "metre_predictor = MetrePredictor(sampa_parser, syllable_class_parser, metre_generator, metre_assigner)"
   ]
  },
  {
   "cell_type": "code",
   "execution_count": 17,
   "metadata": {
    "pycharm": {
     "name": "#%%\n"
    }
   },
   "outputs": [
    {
     "name": "stdout",
     "output_type": "stream",
     "text": [
      "Analyzing poem 0...\n",
      "Analyzing poem 1000...\n",
      "Analyzing poem 2000...\n",
      "Analyzing poem 3000...\n",
      "Analyzing poem 4000...\n",
      "Analyzing poem 5000...\n",
      "Analyzing poem 6000...\n",
      "Analyzing poem 7000...\n",
      "Poem 7295: Too many syllables, no patterns generated, assigning error pattern...\n",
      "Analyzing poem 8000...\n"
     ]
    }
   ],
   "source": [
    "predictions = metre_predictor.predict(test_X)"
   ]
  },
  {
   "cell_type": "code",
   "execution_count": 19,
   "metadata": {
    "pycharm": {
     "name": "#%%\n"
    }
   },
   "outputs": [
    {
     "name": "stdout",
     "output_type": "stream",
     "text": [
      "Data saved to kveta_predictions_one_metre_line_all_metres_recognized.json\n"
     ]
    }
   ],
   "source": [
    "kveta_data_loader_and_saver.save_data(predictions, f\"kveta_predictions{extension}\")"
   ]
  }
 ],
 "metadata": {
  "kernelspec": {
   "display_name": "Python 3 (ipykernel)",
   "language": "python",
   "name": "python3"
  },
  "language_info": {
   "codemirror_mode": {
    "name": "ipython",
    "version": 3
   },
   "file_extension": ".py",
   "mimetype": "text/x-python",
   "name": "python",
   "nbconvert_exporter": "python",
   "pygments_lexer": "ipython3",
   "version": "3.8.10"
  }
 },
 "nbformat": 4,
 "nbformat_minor": 1
}
{
 "cells": [
  {
   "cell_type": "markdown",
   "source": [
    "# Train KVETA"
   ],
   "metadata": {
    "collapsed": false,
    "pycharm": {
     "name": "#%% md\n"
    }
   }
  },
  {
   "cell_type": "code",
   "execution_count": 1,
   "outputs": [],
   "source": [
    "%load_ext dotenv\n",
    "%dotenv\n",
    "import os\n",
    "\n",
    "base_dir = os.getenv(\"WORKING_DIR\")\n",
    "os.chdir(base_dir)"
   ],
   "metadata": {
    "collapsed": false,
    "pycharm": {
     "name": "#%%\n"
    }
   }
  },
  {
   "cell_type": "code",
   "execution_count": 2,
   "metadata": {
    "pycharm": {
     "name": "#%%\n"
    }
   },
   "outputs": [],
   "source": [
    "from src.data_loader_and_saver import JSONDataLoaderAndSaver\n",
    "\n",
    "data_loader_and_saver = JSONDataLoaderAndSaver(base_dir, input_data_dir=\"src/data\", output_data_dir=\"src/kveta/data\")"
   ]
  },
  {
   "cell_type": "code",
   "execution_count": 11,
   "metadata": {
    "pycharm": {
     "name": "#%%\n"
    }
   },
   "outputs": [],
   "source": [
    "from collections import Counter\n",
    "from typing import Tuple\n",
    "\n",
    "from src.util import Util\n",
    "from src.kveta.sampa_syllable_parser import SampaSyllableParser\n",
    "from src.kveta.syllable_class_parser import SyllableClassParser\n",
    "\n",
    "\n",
    "def get_counters(train_X: list, train_y: list) -> Tuple[Counter, Counter, Counter]:\n",
    "    \"\"\"\n",
    "    Given training data return counter of Syllable Classes, of metrical positions\n",
    "    and of metrical positions with corresponding Syllable Classes.\n",
    "    :param train_X: X training data\n",
    "    :param train_y: y training data\n",
    "    :return: Counters\n",
    "    \"\"\"\n",
    "    syll_cls_counter = Counter()\n",
    "    metrical_pos_counter = Counter()\n",
    "    metrical_pos_syll_cls_counter = Counter()\n",
    "\n",
    "    sampa_parser = SampaSyllableParser()\n",
    "    syllable_class_parser = SyllableClassParser()\n",
    "\n",
    "    for poem_idx, (poem_X, poem_y) in enumerate(zip(train_X, train_y)):\n",
    "        poem_sonority_peaks = sampa_parser.parse_poem(poem_X)\n",
    "        poem_syllable_classes = syllable_class_parser.parse_poem(poem_sonority_peaks, poem_X)\n",
    "\n",
    "        for line_idx, (line_syllable_classes, line_y) in enumerate(zip(poem_syllable_classes, poem_y)):\n",
    "            metrical_pattern = list(Util.normalize_metrical_pattern(line_y[\"pattern\"]))\n",
    "            syllable_classes = [syll_class for word in line_syllable_classes for syll_class in word]\n",
    "\n",
    "            for syllable_cls, metrical_pos in zip(syllable_classes, metrical_pattern):\n",
    "                syll_cls_counter[str(syllable_cls)] += 1\n",
    "                metrical_pos_counter[metrical_pos] += 1\n",
    "                metrical_pos_syll_cls_counter[(metrical_pos, str(syllable_cls))] += 1\n",
    "\n",
    "    return syll_cls_counter, metrical_pos_counter, metrical_pos_syll_cls_counter"
   ]
  },
  {
   "cell_type": "code",
   "execution_count": 12,
   "metadata": {},
   "outputs": [],
   "source": [
    "from collections import OrderedDict, Counter\n",
    "\n",
    "\n",
    "def get_metrical_pos_given_syll_class_proba(metrical_pos_syll_cls_counter: Counter, syll_cls_counter: Counter) -> OrderedDict:\n",
    "    \"\"\"\n",
    "    Get conditional probability of metrical positions given corresponding Syllable Class values.\n",
    "    :param metrical_pos_syll_cls_counter: Counter of metrical positions with corresponding Syllable Classes\n",
    "    :param syll_cls_counter: Counter of Syllable Classes\n",
    "    :return: Conditional probability\n",
    "    \"\"\"\n",
    "    metrical_pos_given_syll_class_proba = OrderedDict()\n",
    "\n",
    "    for metrical_pos, syll_cls in sorted(metrical_pos_syll_cls_counter):\n",
    "        if syll_cls not in metrical_pos_given_syll_class_proba:\n",
    "            metrical_pos_given_syll_class_proba[syll_cls] = OrderedDict()\n",
    "\n",
    "        metrical_pos_given_syll_class_proba[syll_cls][metrical_pos] = metrical_pos_syll_cls_counter[(metrical_pos, syll_cls)] / syll_cls_counter[syll_cls]\n",
    "\n",
    "    return metrical_pos_given_syll_class_proba"
   ]
  },
  {
   "cell_type": "markdown",
   "metadata": {
    "pycharm": {
     "name": "#%% md\n"
    }
   },
   "source": [
    "## All poems just 1 metre, no unknown metres"
   ]
  },
  {
   "cell_type": "code",
   "execution_count": 13,
   "metadata": {
    "pycharm": {
     "name": "#%%\n"
    }
   },
   "outputs": [],
   "source": [
    "extension = \"_one_metre_all_metres_recognized\""
   ]
  },
  {
   "cell_type": "markdown",
   "metadata": {
    "pycharm": {
     "name": "#%% md\n"
    }
   },
   "source": [
    "### Load data"
   ]
  },
  {
   "cell_type": "code",
   "execution_count": 14,
   "metadata": {
    "pycharm": {
     "name": "#%%\n"
    }
   },
   "outputs": [
    {
     "name": "stdout",
     "output_type": "stream",
     "text": [
      "train_X_one_metre_all_metres_recognized.json: loaded 40137 records.\n",
      "dev_X_one_metre_all_metres_recognized.json: loaded 8601 records.\n",
      "test_X_one_metre_all_metres_recognized.json: loaded 8601 records.\n"
     ]
    }
   ],
   "source": [
    "train_X, dev_X, _ = data_loader_and_saver.load_all_data(f\"_X{extension}\")"
   ]
  },
  {
   "cell_type": "code",
   "execution_count": 15,
   "metadata": {
    "pycharm": {
     "name": "#%%\n"
    }
   },
   "outputs": [],
   "source": [
    "train_X += dev_X"
   ]
  },
  {
   "cell_type": "code",
   "execution_count": 16,
   "metadata": {
    "pycharm": {
     "name": "#%%\n"
    }
   },
   "outputs": [
    {
     "data": {
      "text/plain": "48738"
     },
     "execution_count": 16,
     "metadata": {},
     "output_type": "execute_result"
    }
   ],
   "source": [
    "len(train_X)"
   ]
  },
  {
   "cell_type": "code",
   "execution_count": 17,
   "metadata": {
    "pycharm": {
     "name": "#%%\n"
    }
   },
   "outputs": [
    {
     "name": "stdout",
     "output_type": "stream",
     "text": [
      "train_y_one_metre_all_metres_recognized.json: loaded 40137 records.\n",
      "dev_y_one_metre_all_metres_recognized.json: loaded 8601 records.\n",
      "test_y_one_metre_all_metres_recognized.json: loaded 8601 records.\n"
     ]
    }
   ],
   "source": [
    "train_y, dev_y, _ = data_loader_and_saver.load_all_data(f\"_y{extension}\")"
   ]
  },
  {
   "cell_type": "code",
   "execution_count": 18,
   "metadata": {
    "pycharm": {
     "name": "#%%\n"
    }
   },
   "outputs": [],
   "source": [
    "train_y += dev_y"
   ]
  },
  {
   "cell_type": "code",
   "execution_count": 19,
   "metadata": {
    "pycharm": {
     "name": "#%%\n"
    }
   },
   "outputs": [
    {
     "data": {
      "text/plain": "48738"
     },
     "execution_count": 19,
     "metadata": {},
     "output_type": "execute_result"
    }
   ],
   "source": [
    "len(train_y)"
   ]
  },
  {
   "cell_type": "markdown",
   "metadata": {
    "pycharm": {
     "name": "#%% md\n"
    }
   },
   "source": [
    "### Preprocess and count probabilites"
   ]
  },
  {
   "cell_type": "code",
   "execution_count": 20,
   "metadata": {
    "pycharm": {
     "name": "#%%\n"
    }
   },
   "outputs": [],
   "source": [
    "syll_cls_counter, metrical_pos_counter, metrical_pos_syll_cls_counter = get_counters(train_X, train_y)"
   ]
  },
  {
   "cell_type": "code",
   "execution_count": 18,
   "metadata": {
    "pycharm": {
     "name": "#%%\n"
    }
   },
   "outputs": [
    {
     "data": {
      "text/plain": [
       "[('SyllableClass(initial=False, final=True, content_word=None, mpp_preposition=False, prev_mpp_preposition=False, prev_initial=None, next_long=None)',\n",
       "  4959072),\n",
       " ('SyllableClass(initial=True, final=True, content_word=False, mpp_preposition=False, prev_mpp_preposition=False, prev_initial=None, next_long=None)',\n",
       "  2390394),\n",
       " ('SyllableClass(initial=True, final=False, content_word=None, mpp_preposition=False, prev_mpp_preposition=False, prev_initial=False, next_long=False)',\n",
       "  2297302),\n",
       " ('SyllableClass(initial=False, final=False, content_word=None, mpp_preposition=False, prev_mpp_preposition=False, prev_initial=None, next_long=None)',\n",
       "  1772143),\n",
       " ('SyllableClass(initial=True, final=False, content_word=None, mpp_preposition=False, prev_mpp_preposition=False, prev_initial=True, next_long=False)',\n",
       "  1216977),\n",
       " ('SyllableClass(initial=True, final=False, content_word=None, mpp_preposition=False, prev_mpp_preposition=False, prev_initial=False, next_long=True)',\n",
       "  821695),\n",
       " ('SyllableClass(initial=True, final=True, content_word=True, mpp_preposition=False, prev_mpp_preposition=False, prev_initial=None, next_long=None)',\n",
       "  684232),\n",
       " ('SyllableClass(initial=True, final=False, content_word=None, mpp_preposition=False, prev_mpp_preposition=False, prev_initial=True, next_long=True)',\n",
       "  450823),\n",
       " ('SyllableClass(initial=True, final=False, content_word=None, mpp_preposition=False, prev_mpp_preposition=True, prev_initial=True, next_long=False)',\n",
       "  134006),\n",
       " ('SyllableClass(initial=True, final=True, content_word=False, mpp_preposition=True, prev_mpp_preposition=False, prev_initial=False, next_long=False)',\n",
       "  126396),\n",
       " ('SyllableClass(initial=True, final=True, content_word=None, mpp_preposition=False, prev_mpp_preposition=True, prev_initial=None, next_long=None)',\n",
       "  64628),\n",
       " ('SyllableClass(initial=True, final=True, content_word=False, mpp_preposition=True, prev_mpp_preposition=False, prev_initial=True, next_long=False)',\n",
       "  54240),\n",
       " ('SyllableClass(initial=True, final=True, content_word=False, mpp_preposition=True, prev_mpp_preposition=False, prev_initial=False, next_long=True)',\n",
       "  38731),\n",
       " ('SyllableClass(initial=True, final=False, content_word=None, mpp_preposition=False, prev_mpp_preposition=True, prev_initial=True, next_long=True)',\n",
       "  38269),\n",
       " ('SyllableClass(initial=True, final=True, content_word=False, mpp_preposition=True, prev_mpp_preposition=False, prev_initial=True, next_long=True)',\n",
       "  18210)]"
      ]
     },
     "execution_count": 18,
     "metadata": {},
     "output_type": "execute_result"
    }
   ],
   "source": [
    "syll_cls_counter.most_common()"
   ]
  },
  {
   "cell_type": "code",
   "execution_count": 22,
   "metadata": {
    "pycharm": {
     "name": "#%%\n"
    }
   },
   "outputs": [
    {
     "data": {
      "text/plain": "15"
     },
     "execution_count": 22,
     "metadata": {},
     "output_type": "execute_result"
    }
   ],
   "source": [
    "len(syll_cls_counter.keys())"
   ]
  },
  {
   "cell_type": "code",
   "execution_count": 23,
   "outputs": [
    {
     "data": {
      "text/plain": "[('W', 7793803), ('S', 7273315)]"
     },
     "execution_count": 23,
     "metadata": {},
     "output_type": "execute_result"
    }
   ],
   "source": [
    "metrical_pos_counter.most_common()"
   ],
   "metadata": {
    "collapsed": false,
    "pycharm": {
     "name": "#%%\n"
    }
   }
  },
  {
   "cell_type": "code",
   "execution_count": 24,
   "metadata": {
    "pycharm": {
     "name": "#%%\n"
    }
   },
   "outputs": [
    {
     "data": {
      "text/plain": "30"
     },
     "execution_count": 24,
     "metadata": {},
     "output_type": "execute_result"
    }
   ],
   "source": [
    "len(metrical_pos_syll_cls_counter.keys())"
   ]
  },
  {
   "cell_type": "code",
   "execution_count": 22,
   "metadata": {
    "pycharm": {
     "name": "#%%\n"
    }
   },
   "outputs": [
    {
     "data": {
      "text/plain": [
       "[(('W',\n",
       "   'SyllableClass(initial=False, final=True, content_word=None, mpp_preposition=False, prev_mpp_preposition=False, prev_initial=None, next_long=None)'),\n",
       "  4158333),\n",
       " (('S',\n",
       "   'SyllableClass(initial=True, final=False, content_word=None, mpp_preposition=False, prev_mpp_preposition=False, prev_initial=False, next_long=False)'),\n",
       "  2204835),\n",
       " (('W',\n",
       "   'SyllableClass(initial=True, final=True, content_word=False, mpp_preposition=False, prev_mpp_preposition=False, prev_initial=None, next_long=None)'),\n",
       "  1726755),\n",
       " (('W',\n",
       "   'SyllableClass(initial=False, final=False, content_word=None, mpp_preposition=False, prev_mpp_preposition=False, prev_initial=None, next_long=None)'),\n",
       "  1157366),\n",
       " (('S',\n",
       "   'SyllableClass(initial=True, final=False, content_word=None, mpp_preposition=False, prev_mpp_preposition=False, prev_initial=True, next_long=False)'),\n",
       "  1117978),\n",
       " (('S',\n",
       "   'SyllableClass(initial=False, final=True, content_word=None, mpp_preposition=False, prev_mpp_preposition=False, prev_initial=None, next_long=None)'),\n",
       "  800739),\n",
       " (('S',\n",
       "   'SyllableClass(initial=True, final=False, content_word=None, mpp_preposition=False, prev_mpp_preposition=False, prev_initial=False, next_long=True)'),\n",
       "  793601),\n",
       " (('S',\n",
       "   'SyllableClass(initial=True, final=True, content_word=False, mpp_preposition=False, prev_mpp_preposition=False, prev_initial=None, next_long=None)'),\n",
       "  663639),\n",
       " (('S',\n",
       "   'SyllableClass(initial=False, final=False, content_word=None, mpp_preposition=False, prev_mpp_preposition=False, prev_initial=None, next_long=None)'),\n",
       "  614777),\n",
       " (('S',\n",
       "   'SyllableClass(initial=True, final=False, content_word=None, mpp_preposition=False, prev_mpp_preposition=False, prev_initial=True, next_long=True)'),\n",
       "  422490),\n",
       " (('S',\n",
       "   'SyllableClass(initial=True, final=True, content_word=True, mpp_preposition=False, prev_mpp_preposition=False, prev_initial=None, next_long=None)'),\n",
       "  418736),\n",
       " (('W',\n",
       "   'SyllableClass(initial=True, final=True, content_word=True, mpp_preposition=False, prev_mpp_preposition=False, prev_initial=None, next_long=None)'),\n",
       "  265496),\n",
       " (('W',\n",
       "   'SyllableClass(initial=True, final=False, content_word=None, mpp_preposition=False, prev_mpp_preposition=False, prev_initial=True, next_long=False)'),\n",
       "  98999),\n",
       " (('W',\n",
       "   'SyllableClass(initial=True, final=False, content_word=None, mpp_preposition=False, prev_mpp_preposition=True, prev_initial=True, next_long=False)'),\n",
       "  98875),\n",
       " (('W',\n",
       "   'SyllableClass(initial=True, final=False, content_word=None, mpp_preposition=False, prev_mpp_preposition=False, prev_initial=False, next_long=False)'),\n",
       "  92467),\n",
       " (('S',\n",
       "   'SyllableClass(initial=True, final=True, content_word=False, mpp_preposition=True, prev_mpp_preposition=False, prev_initial=False, next_long=False)'),\n",
       "  92122),\n",
       " (('W',\n",
       "   'SyllableClass(initial=True, final=True, content_word=None, mpp_preposition=False, prev_mpp_preposition=True, prev_initial=None, next_long=None)'),\n",
       "  61809),\n",
       " (('S',\n",
       "   'SyllableClass(initial=True, final=True, content_word=False, mpp_preposition=True, prev_mpp_preposition=False, prev_initial=True, next_long=False)'),\n",
       "  45874),\n",
       " (('S',\n",
       "   'SyllableClass(initial=True, final=False, content_word=None, mpp_preposition=False, prev_mpp_preposition=True, prev_initial=True, next_long=False)'),\n",
       "  35131),\n",
       " (('W',\n",
       "   'SyllableClass(initial=True, final=True, content_word=False, mpp_preposition=True, prev_mpp_preposition=False, prev_initial=False, next_long=False)'),\n",
       "  34274),\n",
       " (('S',\n",
       "   'SyllableClass(initial=True, final=True, content_word=False, mpp_preposition=True, prev_mpp_preposition=False, prev_initial=False, next_long=True)'),\n",
       "  29801),\n",
       " (('W',\n",
       "   'SyllableClass(initial=True, final=False, content_word=None, mpp_preposition=False, prev_mpp_preposition=False, prev_initial=True, next_long=True)'),\n",
       "  28333),\n",
       " (('W',\n",
       "   'SyllableClass(initial=True, final=False, content_word=None, mpp_preposition=False, prev_mpp_preposition=False, prev_initial=False, next_long=True)'),\n",
       "  28094),\n",
       " (('W',\n",
       "   'SyllableClass(initial=True, final=False, content_word=None, mpp_preposition=False, prev_mpp_preposition=True, prev_initial=True, next_long=True)'),\n",
       "  23271),\n",
       " (('S',\n",
       "   'SyllableClass(initial=True, final=True, content_word=False, mpp_preposition=True, prev_mpp_preposition=False, prev_initial=True, next_long=True)'),\n",
       "  15775),\n",
       " (('S',\n",
       "   'SyllableClass(initial=True, final=False, content_word=None, mpp_preposition=False, prev_mpp_preposition=True, prev_initial=True, next_long=True)'),\n",
       "  14998),\n",
       " (('W',\n",
       "   'SyllableClass(initial=True, final=True, content_word=False, mpp_preposition=True, prev_mpp_preposition=False, prev_initial=False, next_long=True)'),\n",
       "  8930),\n",
       " (('W',\n",
       "   'SyllableClass(initial=True, final=True, content_word=False, mpp_preposition=True, prev_mpp_preposition=False, prev_initial=True, next_long=False)'),\n",
       "  8366),\n",
       " (('S',\n",
       "   'SyllableClass(initial=True, final=True, content_word=None, mpp_preposition=False, prev_mpp_preposition=True, prev_initial=None, next_long=None)'),\n",
       "  2819),\n",
       " (('W',\n",
       "   'SyllableClass(initial=True, final=True, content_word=False, mpp_preposition=True, prev_mpp_preposition=False, prev_initial=True, next_long=True)'),\n",
       "  2435)]"
      ]
     },
     "execution_count": 22,
     "metadata": {},
     "output_type": "execute_result"
    }
   ],
   "source": [
    "metrical_pos_syll_cls_counter.most_common()"
   ]
  },
  {
   "cell_type": "code",
   "execution_count": 26,
   "metadata": {
    "pycharm": {
     "name": "#%%\n"
    }
   },
   "outputs": [],
   "source": [
    "metrical_pos_cnt = sum(metrical_pos_counter.values())\n",
    "syll_cls_cnt = sum(syll_cls_counter.values())\n",
    "metrical_pos_syll_cls_cnt = sum(metrical_pos_syll_cls_counter.values())\n",
    "\n",
    "assert (metrical_pos_cnt == syll_cls_cnt == metrical_pos_syll_cls_cnt)"
   ]
  },
  {
   "cell_type": "code",
   "execution_count": 27,
   "metadata": {
    "pycharm": {
     "name": "#%%\n"
    }
   },
   "outputs": [
    {
     "data": {
      "text/plain": "15067118"
     },
     "execution_count": 27,
     "metadata": {},
     "output_type": "execute_result"
    }
   ],
   "source": [
    "pos_cnt = metrical_pos_cnt\n",
    "pos_cnt"
   ]
  },
  {
   "cell_type": "code",
   "execution_count": 28,
   "metadata": {},
   "outputs": [
    {
     "data": {
      "text/plain": "OrderedDict([('SyllableClass(initial=False, final=False, content_word=None, mpp_preposition=False, prev_mpp_preposition=False, prev_initial=None, next_long=None)',\n              OrderedDict([('S', 0.34691162056335184),\n                           ('W', 0.6530883794366482)])),\n             ('SyllableClass(initial=False, final=True, content_word=None, mpp_preposition=False, prev_mpp_preposition=False, prev_initial=None, next_long=None)',\n              OrderedDict([('S', 0.1614695249433765),\n                           ('W', 0.8385304750566235)])),\n             ('SyllableClass(initial=True, final=False, content_word=None, mpp_preposition=False, prev_mpp_preposition=False, prev_initial=False, next_long=False)',\n              OrderedDict([('S', 0.9597497412181768),\n                           ('W', 0.0402502587818232)])),\n             ('SyllableClass(initial=True, final=False, content_word=None, mpp_preposition=False, prev_mpp_preposition=False, prev_initial=False, next_long=True)',\n              OrderedDict([('S', 0.9658096982456994),\n                           ('W', 0.03419030175430056)])),\n             ('SyllableClass(initial=True, final=False, content_word=None, mpp_preposition=False, prev_mpp_preposition=False, prev_initial=True, next_long=False)',\n              OrderedDict([('S', 0.9186517082902964),\n                           ('W', 0.08134829170970363)])),\n             ('SyllableClass(initial=True, final=False, content_word=None, mpp_preposition=False, prev_mpp_preposition=False, prev_initial=True, next_long=True)',\n              OrderedDict([('S', 0.93715271847266), ('W', 0.06284728152734)])),\n             ('SyllableClass(initial=True, final=False, content_word=None, mpp_preposition=False, prev_mpp_preposition=True, prev_initial=True, next_long=False)',\n              OrderedDict([('S', 0.2621599032879125),\n                           ('W', 0.7378400967120875)])),\n             ('SyllableClass(initial=True, final=False, content_word=None, mpp_preposition=False, prev_mpp_preposition=True, prev_initial=True, next_long=True)',\n              OrderedDict([('S', 0.3919099009642269),\n                           ('W', 0.608090099035773)])),\n             ('SyllableClass(initial=True, final=True, content_word=False, mpp_preposition=False, prev_mpp_preposition=False, prev_initial=None, next_long=None)',\n              OrderedDict([('S', 0.27762745388417137),\n                           ('W', 0.7223725461158286)])),\n             ('SyllableClass(initial=True, final=True, content_word=False, mpp_preposition=True, prev_mpp_preposition=False, prev_initial=False, next_long=False)',\n              OrderedDict([('S', 0.7288363555808728),\n                           ('W', 0.2711636444191272)])),\n             ('SyllableClass(initial=True, final=True, content_word=False, mpp_preposition=True, prev_mpp_preposition=False, prev_initial=False, next_long=True)',\n              OrderedDict([('S', 0.7694353360357337),\n                           ('W', 0.23056466396426634)])),\n             ('SyllableClass(initial=True, final=True, content_word=False, mpp_preposition=True, prev_mpp_preposition=False, prev_initial=True, next_long=False)',\n              OrderedDict([('S', 0.845759587020649),\n                           ('W', 0.15424041297935104)])),\n             ('SyllableClass(initial=True, final=True, content_word=False, mpp_preposition=True, prev_mpp_preposition=False, prev_initial=True, next_long=True)',\n              OrderedDict([('S', 0.8662822624931357),\n                           ('W', 0.13371773750686436)])),\n             ('SyllableClass(initial=True, final=True, content_word=None, mpp_preposition=False, prev_mpp_preposition=True, prev_initial=None, next_long=None)',\n              OrderedDict([('S', 0.04361886488828372),\n                           ('W', 0.9563811351117163)])),\n             ('SyllableClass(initial=True, final=True, content_word=True, mpp_preposition=False, prev_mpp_preposition=False, prev_initial=None, next_long=None)',\n              OrderedDict([('S', 0.6119795624875773),\n                           ('W', 0.3880204375124227)]))])"
     },
     "execution_count": 28,
     "metadata": {},
     "output_type": "execute_result"
    }
   ],
   "source": [
    "metrical_pos_given_syll_class_proba = get_metrical_pos_given_syll_class_proba(metrical_pos_syll_cls_counter, syll_cls_counter)\n",
    "metrical_pos_given_syll_class_proba"
   ]
  },
  {
   "cell_type": "code",
   "execution_count": 29,
   "metadata": {
    "pycharm": {
     "name": "#%%\n"
    }
   },
   "outputs": [],
   "source": [
    "kveta_probabilities = {\n",
    "    \"metrical_pos_given_syll_cls_proba\": metrical_pos_given_syll_class_proba\n",
    "}"
   ]
  },
  {
   "cell_type": "code",
   "execution_count": 30,
   "metadata": {
    "pycharm": {
     "name": "#%%\n"
    }
   },
   "outputs": [
    {
     "name": "stdout",
     "output_type": "stream",
     "text": [
      "Data saved to kveta_probabilities_one_metre_all_metres_recognized.json\n"
     ]
    }
   ],
   "source": [
    "data_loader_and_saver.save_data(kveta_probabilities, f\"kveta_probabilities{extension}\")"
   ]
  },
  {
   "cell_type": "markdown",
   "metadata": {
    "pycharm": {
     "name": "#%% md\n"
    }
   },
   "source": [
    "## All lines just 1 metre, no unknown metres"
   ]
  },
  {
   "cell_type": "code",
   "execution_count": 31,
   "metadata": {
    "pycharm": {
     "name": "#%%\n"
    }
   },
   "outputs": [],
   "source": [
    "extension = \"_one_metre_line_all_metres_recognized\""
   ]
  },
  {
   "cell_type": "markdown",
   "metadata": {},
   "source": [
    "### Load data"
   ]
  },
  {
   "cell_type": "code",
   "execution_count": 32,
   "metadata": {
    "pycharm": {
     "name": "#%%\n"
    }
   },
   "outputs": [
    {
     "name": "stdout",
     "output_type": "stream",
     "text": [
      "train_X_one_metre_line_all_metres_recognized.json: loaded 41762 records.\n",
      "dev_X_one_metre_line_all_metres_recognized.json: loaded 8949 records.\n",
      "test_X_one_metre_line_all_metres_recognized.json: loaded 8950 records.\n"
     ]
    }
   ],
   "source": [
    "train_X, dev_X, _ = data_loader_and_saver.load_all_data(f\"_X{extension}\")"
   ]
  },
  {
   "cell_type": "code",
   "execution_count": 33,
   "metadata": {
    "pycharm": {
     "name": "#%%\n"
    }
   },
   "outputs": [],
   "source": [
    "train_X += dev_X"
   ]
  },
  {
   "cell_type": "code",
   "execution_count": 34,
   "metadata": {
    "pycharm": {
     "name": "#%%\n"
    }
   },
   "outputs": [
    {
     "data": {
      "text/plain": "50711"
     },
     "execution_count": 34,
     "metadata": {},
     "output_type": "execute_result"
    }
   ],
   "source": [
    "len(train_X)"
   ]
  },
  {
   "cell_type": "code",
   "execution_count": 35,
   "metadata": {
    "pycharm": {
     "name": "#%%\n"
    }
   },
   "outputs": [
    {
     "name": "stdout",
     "output_type": "stream",
     "text": [
      "train_y_one_metre_line_all_metres_recognized.json: loaded 41762 records.\n",
      "dev_y_one_metre_line_all_metres_recognized.json: loaded 8949 records.\n",
      "test_y_one_metre_line_all_metres_recognized.json: loaded 8950 records.\n"
     ]
    }
   ],
   "source": [
    "train_y, dev_y, _ = data_loader_and_saver.load_all_data(f\"_y{extension}\")"
   ]
  },
  {
   "cell_type": "code",
   "execution_count": 36,
   "metadata": {
    "pycharm": {
     "name": "#%%\n"
    }
   },
   "outputs": [],
   "source": [
    "train_y += dev_y"
   ]
  },
  {
   "cell_type": "code",
   "execution_count": 37,
   "metadata": {
    "pycharm": {
     "name": "#%%\n"
    }
   },
   "outputs": [
    {
     "data": {
      "text/plain": "50711"
     },
     "execution_count": 37,
     "metadata": {},
     "output_type": "execute_result"
    }
   ],
   "source": [
    "len(train_y)"
   ]
  },
  {
   "cell_type": "markdown",
   "metadata": {},
   "source": [
    "### Preprocess and count probabilites"
   ]
  },
  {
   "cell_type": "code",
   "execution_count": 38,
   "metadata": {
    "pycharm": {
     "name": "#%%\n"
    }
   },
   "outputs": [],
   "source": [
    "syll_cls_counter, metrical_pos_counter, metrical_pos_syll_cls_counter = get_counters(train_X, train_y)"
   ]
  },
  {
   "cell_type": "code",
   "execution_count": 39,
   "metadata": {
    "pycharm": {
     "name": "#%%\n"
    }
   },
   "outputs": [
    {
     "data": {
      "text/plain": "[('SyllableClass(initial=False, final=True, content_word=None, mpp_preposition=False, prev_mpp_preposition=False, prev_initial=None, next_long=None)',\n  5387807),\n ('SyllableClass(initial=True, final=True, content_word=False, mpp_preposition=False, prev_mpp_preposition=False, prev_initial=None, next_long=None)',\n  2597846),\n ('SyllableClass(initial=True, final=False, content_word=None, mpp_preposition=False, prev_mpp_preposition=False, prev_initial=False, next_long=False)',\n  2498180),\n ('SyllableClass(initial=False, final=False, content_word=None, mpp_preposition=False, prev_mpp_preposition=False, prev_initial=None, next_long=None)',\n  1930454),\n ('SyllableClass(initial=True, final=False, content_word=None, mpp_preposition=False, prev_mpp_preposition=False, prev_initial=True, next_long=False)',\n  1322609),\n ('SyllableClass(initial=True, final=False, content_word=None, mpp_preposition=False, prev_mpp_preposition=False, prev_initial=False, next_long=True)',\n  890423),\n ('SyllableClass(initial=True, final=True, content_word=True, mpp_preposition=False, prev_mpp_preposition=False, prev_initial=None, next_long=None)',\n  741921),\n ('SyllableClass(initial=True, final=False, content_word=None, mpp_preposition=False, prev_mpp_preposition=False, prev_initial=True, next_long=True)',\n  488749),\n ('SyllableClass(initial=True, final=False, content_word=None, mpp_preposition=False, prev_mpp_preposition=True, prev_initial=True, next_long=False)',\n  146085),\n ('SyllableClass(initial=True, final=True, content_word=False, mpp_preposition=True, prev_mpp_preposition=False, prev_initial=False, next_long=False)',\n  137440),\n ('SyllableClass(initial=True, final=True, content_word=None, mpp_preposition=False, prev_mpp_preposition=True, prev_initial=None, next_long=None)',\n  69714),\n ('SyllableClass(initial=True, final=True, content_word=False, mpp_preposition=True, prev_mpp_preposition=False, prev_initial=True, next_long=False)',\n  59135),\n ('SyllableClass(initial=True, final=True, content_word=False, mpp_preposition=True, prev_mpp_preposition=False, prev_initial=False, next_long=True)',\n  42002),\n ('SyllableClass(initial=True, final=False, content_word=None, mpp_preposition=False, prev_mpp_preposition=True, prev_initial=True, next_long=True)',\n  41761),\n ('SyllableClass(initial=True, final=True, content_word=False, mpp_preposition=True, prev_mpp_preposition=False, prev_initial=True, next_long=True)',\n  19730)]"
     },
     "execution_count": 39,
     "metadata": {},
     "output_type": "execute_result"
    }
   ],
   "source": [
    "syll_cls_counter.most_common()"
   ]
  },
  {
   "cell_type": "code",
   "execution_count": 40,
   "metadata": {
    "pycharm": {
     "name": "#%%\n"
    }
   },
   "outputs": [
    {
     "data": {
      "text/plain": "15"
     },
     "execution_count": 40,
     "metadata": {},
     "output_type": "execute_result"
    }
   ],
   "source": [
    "len(syll_cls_counter.keys())"
   ]
  },
  {
   "cell_type": "code",
   "execution_count": 41,
   "metadata": {
    "pycharm": {
     "name": "#%%\n"
    }
   },
   "outputs": [
    {
     "data": {
      "text/plain": "[('W', 8485897), ('S', 7887959)]"
     },
     "execution_count": 41,
     "metadata": {},
     "output_type": "execute_result"
    }
   ],
   "source": [
    "metrical_pos_counter.most_common()"
   ]
  },
  {
   "cell_type": "code",
   "execution_count": 42,
   "metadata": {
    "pycharm": {
     "name": "#%%\n"
    }
   },
   "outputs": [
    {
     "data": {
      "text/plain": "30"
     },
     "execution_count": 42,
     "metadata": {},
     "output_type": "execute_result"
    }
   ],
   "source": [
    "len(metrical_pos_syll_cls_counter.keys())"
   ]
  },
  {
   "cell_type": "code",
   "execution_count": 43,
   "metadata": {
    "pycharm": {
     "name": "#%%\n"
    }
   },
   "outputs": [
    {
     "data": {
      "text/plain": "[(('W',\n   'SyllableClass(initial=False, final=True, content_word=None, mpp_preposition=False, prev_mpp_preposition=False, prev_initial=None, next_long=None)'),\n  4523044),\n (('S',\n   'SyllableClass(initial=True, final=False, content_word=None, mpp_preposition=False, prev_mpp_preposition=False, prev_initial=False, next_long=False)'),\n  2394828),\n (('W',\n   'SyllableClass(initial=True, final=True, content_word=False, mpp_preposition=False, prev_mpp_preposition=False, prev_initial=None, next_long=None)'),\n  1876096),\n (('W',\n   'SyllableClass(initial=False, final=False, content_word=None, mpp_preposition=False, prev_mpp_preposition=False, prev_initial=None, next_long=None)'),\n  1264527),\n (('S',\n   'SyllableClass(initial=True, final=False, content_word=None, mpp_preposition=False, prev_mpp_preposition=False, prev_initial=True, next_long=False)'),\n  1212739),\n (('S',\n   'SyllableClass(initial=False, final=True, content_word=None, mpp_preposition=False, prev_mpp_preposition=False, prev_initial=None, next_long=None)'),\n  864763),\n (('S',\n   'SyllableClass(initial=True, final=False, content_word=None, mpp_preposition=False, prev_mpp_preposition=False, prev_initial=False, next_long=True)'),\n  858891),\n (('S',\n   'SyllableClass(initial=True, final=True, content_word=False, mpp_preposition=False, prev_mpp_preposition=False, prev_initial=None, next_long=None)'),\n  721750),\n (('S',\n   'SyllableClass(initial=False, final=False, content_word=None, mpp_preposition=False, prev_mpp_preposition=False, prev_initial=None, next_long=None)'),\n  665927),\n (('S',\n   'SyllableClass(initial=True, final=False, content_word=None, mpp_preposition=False, prev_mpp_preposition=False, prev_initial=True, next_long=True)'),\n  457333),\n (('S',\n   'SyllableClass(initial=True, final=True, content_word=True, mpp_preposition=False, prev_mpp_preposition=False, prev_initial=None, next_long=None)'),\n  454682),\n (('W',\n   'SyllableClass(initial=True, final=True, content_word=True, mpp_preposition=False, prev_mpp_preposition=False, prev_initial=None, next_long=None)'),\n  287239),\n (('W',\n   'SyllableClass(initial=True, final=False, content_word=None, mpp_preposition=False, prev_mpp_preposition=False, prev_initial=True, next_long=False)'),\n  109870),\n (('W',\n   'SyllableClass(initial=True, final=False, content_word=None, mpp_preposition=False, prev_mpp_preposition=True, prev_initial=True, next_long=False)'),\n  108121),\n (('W',\n   'SyllableClass(initial=True, final=False, content_word=None, mpp_preposition=False, prev_mpp_preposition=False, prev_initial=False, next_long=False)'),\n  103352),\n (('S',\n   'SyllableClass(initial=True, final=True, content_word=False, mpp_preposition=True, prev_mpp_preposition=False, prev_initial=False, next_long=False)'),\n  100562),\n (('W',\n   'SyllableClass(initial=True, final=True, content_word=None, mpp_preposition=False, prev_mpp_preposition=True, prev_initial=None, next_long=None)'),\n  66701),\n (('S',\n   'SyllableClass(initial=True, final=True, content_word=False, mpp_preposition=True, prev_mpp_preposition=False, prev_initial=True, next_long=False)'),\n  50026),\n (('S',\n   'SyllableClass(initial=True, final=False, content_word=None, mpp_preposition=False, prev_mpp_preposition=True, prev_initial=True, next_long=False)'),\n  37964),\n (('W',\n   'SyllableClass(initial=True, final=True, content_word=False, mpp_preposition=True, prev_mpp_preposition=False, prev_initial=False, next_long=False)'),\n  36878),\n (('S',\n   'SyllableClass(initial=True, final=True, content_word=False, mpp_preposition=True, prev_mpp_preposition=False, prev_initial=False, next_long=True)'),\n  32403),\n (('W',\n   'SyllableClass(initial=True, final=False, content_word=None, mpp_preposition=False, prev_mpp_preposition=False, prev_initial=False, next_long=True)'),\n  31532),\n (('W',\n   'SyllableClass(initial=True, final=False, content_word=None, mpp_preposition=False, prev_mpp_preposition=False, prev_initial=True, next_long=True)'),\n  31416),\n (('W',\n   'SyllableClass(initial=True, final=False, content_word=None, mpp_preposition=False, prev_mpp_preposition=True, prev_initial=True, next_long=True)'),\n  25737),\n (('S',\n   'SyllableClass(initial=True, final=True, content_word=False, mpp_preposition=True, prev_mpp_preposition=False, prev_initial=True, next_long=True)'),\n  17054),\n (('S',\n   'SyllableClass(initial=True, final=False, content_word=None, mpp_preposition=False, prev_mpp_preposition=True, prev_initial=True, next_long=True)'),\n  16024),\n (('W',\n   'SyllableClass(initial=True, final=True, content_word=False, mpp_preposition=True, prev_mpp_preposition=False, prev_initial=False, next_long=True)'),\n  9599),\n (('W',\n   'SyllableClass(initial=True, final=True, content_word=False, mpp_preposition=True, prev_mpp_preposition=False, prev_initial=True, next_long=False)'),\n  9109),\n (('S',\n   'SyllableClass(initial=True, final=True, content_word=None, mpp_preposition=False, prev_mpp_preposition=True, prev_initial=None, next_long=None)'),\n  3013),\n (('W',\n   'SyllableClass(initial=True, final=True, content_word=False, mpp_preposition=True, prev_mpp_preposition=False, prev_initial=True, next_long=True)'),\n  2676)]"
     },
     "execution_count": 43,
     "metadata": {},
     "output_type": "execute_result"
    }
   ],
   "source": [
    "metrical_pos_syll_cls_counter.most_common()"
   ]
  },
  {
   "cell_type": "code",
   "execution_count": 44,
   "metadata": {
    "pycharm": {
     "name": "#%%\n"
    }
   },
   "outputs": [],
   "source": [
    "metrical_pos_cnt = sum(metrical_pos_counter.values())\n",
    "syll_cls_cnt = sum(syll_cls_counter.values())\n",
    "metrical_pos_syll_cls_cnt = sum(metrical_pos_syll_cls_counter.values())\n",
    "\n",
    "assert (metrical_pos_cnt == syll_cls_cnt == metrical_pos_syll_cls_cnt)"
   ]
  },
  {
   "cell_type": "code",
   "execution_count": 45,
   "metadata": {
    "pycharm": {
     "name": "#%%\n"
    }
   },
   "outputs": [
    {
     "data": {
      "text/plain": "16373856"
     },
     "execution_count": 45,
     "metadata": {},
     "output_type": "execute_result"
    }
   ],
   "source": [
    "pos_cnt = metrical_pos_cnt\n",
    "pos_cnt"
   ]
  },
  {
   "cell_type": "code",
   "execution_count": 46,
   "metadata": {
    "pycharm": {
     "name": "#%%\n"
    }
   },
   "outputs": [
    {
     "data": {
      "text/plain": "OrderedDict([('SyllableClass(initial=False, final=False, content_word=None, mpp_preposition=False, prev_mpp_preposition=False, prev_initial=None, next_long=None)',\n              OrderedDict([('S', 0.3449587506358608),\n                           ('W', 0.6550412493641392)])),\n             ('SyllableClass(initial=False, final=True, content_word=None, mpp_preposition=False, prev_mpp_preposition=False, prev_initial=None, next_long=None)',\n              OrderedDict([('S', 0.16050370772375477),\n                           ('W', 0.8394962922762452)])),\n             ('SyllableClass(initial=True, final=False, content_word=None, mpp_preposition=False, prev_mpp_preposition=False, prev_initial=False, next_long=False)',\n              OrderedDict([('S', 0.9586290819716754),\n                           ('W', 0.04137091802832462)])),\n             ('SyllableClass(initial=True, final=False, content_word=None, mpp_preposition=False, prev_mpp_preposition=False, prev_initial=False, next_long=True)',\n              OrderedDict([('S', 0.9645876173459131),\n                           ('W', 0.03541238265408688)])),\n             ('SyllableClass(initial=True, final=False, content_word=None, mpp_preposition=False, prev_mpp_preposition=False, prev_initial=True, next_long=False)',\n              OrderedDict([('S', 0.9169293419294743),\n                           ('W', 0.08307065807052576)])),\n             ('SyllableClass(initial=True, final=False, content_word=None, mpp_preposition=False, prev_mpp_preposition=False, prev_initial=True, next_long=True)',\n              OrderedDict([('S', 0.9357216076145425),\n                           ('W', 0.06427839238545757)])),\n             ('SyllableClass(initial=True, final=False, content_word=None, mpp_preposition=False, prev_mpp_preposition=True, prev_initial=True, next_long=False)',\n              OrderedDict([('S', 0.2598760995310949),\n                           ('W', 0.7401239004689051)])),\n             ('SyllableClass(initial=True, final=False, content_word=None, mpp_preposition=False, prev_mpp_preposition=True, prev_initial=True, next_long=True)',\n              OrderedDict([('S', 0.3837072867029046),\n                           ('W', 0.6162927132970953)])),\n             ('SyllableClass(initial=True, final=True, content_word=False, mpp_preposition=False, prev_mpp_preposition=False, prev_initial=None, next_long=None)',\n              OrderedDict([('S', 0.27782632226852555),\n                           ('W', 0.7221736777314745)])),\n             ('SyllableClass(initial=True, final=True, content_word=False, mpp_preposition=True, prev_mpp_preposition=False, prev_initial=False, next_long=False)',\n              OrderedDict([('S', 0.7316792782305006),\n                           ('W', 0.2683207217694994)])),\n             ('SyllableClass(initial=True, final=True, content_word=False, mpp_preposition=True, prev_mpp_preposition=False, prev_initial=False, next_long=True)',\n              OrderedDict([('S', 0.7714632636541117),\n                           ('W', 0.22853673634588828)])),\n             ('SyllableClass(initial=True, final=True, content_word=False, mpp_preposition=True, prev_mpp_preposition=False, prev_initial=True, next_long=False)',\n              OrderedDict([('S', 0.845962627885347),\n                           ('W', 0.1540373721146529)])),\n             ('SyllableClass(initial=True, final=True, content_word=False, mpp_preposition=True, prev_mpp_preposition=False, prev_initial=True, next_long=True)',\n              OrderedDict([('S', 0.8643689812468323),\n                           ('W', 0.13563101875316777)])),\n             ('SyllableClass(initial=True, final=True, content_word=None, mpp_preposition=False, prev_mpp_preposition=True, prev_initial=None, next_long=None)',\n              OrderedDict([('S', 0.04321943942393207),\n                           ('W', 0.956780560576068)])),\n             ('SyllableClass(initial=True, final=True, content_word=True, mpp_preposition=False, prev_mpp_preposition=False, prev_initial=None, next_long=None)',\n              OrderedDict([('S', 0.6128442246546465),\n                           ('W', 0.3871557753453535)]))])"
     },
     "execution_count": 46,
     "metadata": {},
     "output_type": "execute_result"
    }
   ],
   "source": [
    "metrical_pos_given_syll_class_proba = get_metrical_pos_given_syll_class_proba(metrical_pos_syll_cls_counter, syll_cls_counter)\n",
    "metrical_pos_given_syll_class_proba"
   ]
  },
  {
   "cell_type": "code",
   "execution_count": 47,
   "metadata": {
    "pycharm": {
     "name": "#%%\n"
    }
   },
   "outputs": [],
   "source": [
    "kveta_probabilities = {\n",
    "    \"metrical_pos_given_syll_cls_proba\": metrical_pos_given_syll_class_proba\n",
    "}"
   ]
  },
  {
   "cell_type": "code",
   "execution_count": 48,
   "metadata": {
    "pycharm": {
     "name": "#%%\n"
    }
   },
   "outputs": [
    {
     "name": "stdout",
     "output_type": "stream",
     "text": [
      "Data saved to kveta_probabilities_one_metre_line_all_metres_recognized.json\n"
     ]
    }
   ],
   "source": [
    "data_loader_and_saver.save_data(kveta_probabilities, f\"kveta_probabilities{extension}\")"
   ]
  }
 ],
 "metadata": {
  "kernelspec": {
   "display_name": "Python 3 (ipykernel)",
   "language": "python",
   "name": "python3"
  },
  "language_info": {
   "codemirror_mode": {
    "name": "ipython",
    "version": 3
   },
   "file_extension": ".py",
   "mimetype": "text/x-python",
   "name": "python",
   "nbconvert_exporter": "python",
   "pygments_lexer": "ipython3",
   "version": "3.8.10"
  }
 },
 "nbformat": 4,
 "nbformat_minor": 1
}
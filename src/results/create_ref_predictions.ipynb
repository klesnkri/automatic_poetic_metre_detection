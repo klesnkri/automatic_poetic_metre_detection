{
 "cells": [
  {
   "cell_type": "markdown",
   "source": [
    "# Create referential predictions"
   ],
   "metadata": {
    "collapsed": false,
    "pycharm": {
     "name": "#%% md\n"
    }
   }
  },
  {
   "cell_type": "code",
   "execution_count": 3,
   "outputs": [
    {
     "name": "stdout",
     "output_type": "stream",
     "text": [
      "The dotenv extension is already loaded. To reload it, use:\n",
      "  %reload_ext dotenv\n"
     ]
    }
   ],
   "source": [
    "%load_ext dotenv\n",
    "%dotenv\n",
    "import os\n",
    "\n",
    "base_dir = os.getenv(\"WORKING_DIR\")\n",
    "os.chdir(base_dir)"
   ],
   "metadata": {
    "collapsed": false,
    "pycharm": {
     "name": "#%%\n"
    }
   }
  },
  {
   "cell_type": "code",
   "execution_count": 4,
   "metadata": {
    "pycharm": {
     "name": "#%%\n"
    }
   },
   "outputs": [],
   "source": [
    "from src.data_loader_and_saver import JSONDataLoaderAndSaver\n",
    "\n",
    "data_loader_and_saver = JSONDataLoaderAndSaver(base_dir, input_data_dir=\"src/data\", output_data_dir=\"src/results/data\")"
   ]
  },
  {
   "cell_type": "code",
   "execution_count": 5,
   "metadata": {
    "pycharm": {
     "name": "#%%\n"
    }
   },
   "outputs": [],
   "source": [
    "from src.util import Util\n",
    "\n",
    "def get_ref_predictions(test_y: list) -> list:\n",
    "    \"\"\"\n",
    "    Create referential predictions.\n",
    "    :param test_y: Testing y dataset to extract referential predictions from\n",
    "    :return: Referential predictions\n",
    "    \"\"\"\n",
    "    return [[Util.normalize_metrical_pattern(line[\"pattern\"]) for line in poem] for poem in test_y]"
   ]
  },
  {
   "cell_type": "markdown",
   "metadata": {
    "pycharm": {
     "name": "#%% md\n"
    }
   },
   "source": [
    "## All poems just 1 metre, no unknown metres"
   ]
  },
  {
   "cell_type": "code",
   "execution_count": 6,
   "metadata": {
    "pycharm": {
     "name": "#%%\n"
    }
   },
   "outputs": [],
   "source": [
    "extension = \"_one_metre_all_metres_recognized\""
   ]
  },
  {
   "cell_type": "code",
   "execution_count": 7,
   "metadata": {
    "pycharm": {
     "name": "#%%\n"
    }
   },
   "outputs": [
    {
     "name": "stdout",
     "output_type": "stream",
     "text": [
      "test_y_one_metre_all_metres_recognized.json: loaded 8601 records.\n"
     ]
    }
   ],
   "source": [
    "test_y = data_loader_and_saver.load_data(f\"test_y{extension}\")"
   ]
  },
  {
   "cell_type": "code",
   "execution_count": 8,
   "metadata": {
    "pycharm": {
     "name": "#%%\n"
    }
   },
   "outputs": [],
   "source": [
    "ref_predictions = get_ref_predictions(test_y)"
   ]
  },
  {
   "cell_type": "code",
   "execution_count": 9,
   "metadata": {
    "pycharm": {
     "name": "#%%\n"
    }
   },
   "outputs": [
    {
     "data": {
      "text/plain": "8601"
     },
     "execution_count": 9,
     "metadata": {},
     "output_type": "execute_result"
    }
   ],
   "source": [
    "len(ref_predictions)"
   ]
  },
  {
   "cell_type": "code",
   "execution_count": 10,
   "metadata": {
    "pycharm": {
     "name": "#%%\n"
    }
   },
   "outputs": [
    {
     "data": {
      "text/plain": "['WSWSWSWS',\n 'WSWSWSWS',\n 'WSWSWSW',\n 'WSWSWSWS',\n 'WSWSWSWS',\n 'WSWSWSW',\n 'WSWSWSWS',\n 'WSWSWSWS',\n 'WSWSWSW',\n 'WSWSWSWS',\n 'WSWSWSWS',\n 'WSWSWSW',\n 'WSWSWSWS',\n 'WSWSWSWS',\n 'WSWSWSW',\n 'WSWSWSWS',\n 'WSWSWSWS',\n 'WSWSWSW',\n 'WSWSWSWS',\n 'WSWSWSWS',\n 'WSWSWSW',\n 'WSWSWSWS',\n 'WSWSWSWS',\n 'WSWSWSW',\n 'WSWSWSWS',\n 'WSWSWSWS',\n 'WSWSWSW',\n 'WSWSWSWS',\n 'WSWSWSWS',\n 'WSWSWSW']"
     },
     "execution_count": 10,
     "metadata": {},
     "output_type": "execute_result"
    }
   ],
   "source": [
    "ref_predictions[0]"
   ]
  },
  {
   "cell_type": "code",
   "execution_count": 11,
   "metadata": {
    "pycharm": {
     "name": "#%%\n"
    }
   },
   "outputs": [
    {
     "name": "stdout",
     "output_type": "stream",
     "text": [
      "Data saved to ref_predictions_one_metre_all_metres_recognized.json\n"
     ]
    }
   ],
   "source": [
    "data_loader_and_saver.save_data(ref_predictions, f\"ref_predictions{extension}\")"
   ]
  },
  {
   "cell_type": "markdown",
   "metadata": {
    "pycharm": {
     "name": "#%% md\n"
    }
   },
   "source": [
    "## All lines just 1 metre, no unknown metres"
   ]
  },
  {
   "cell_type": "code",
   "execution_count": 12,
   "metadata": {
    "pycharm": {
     "name": "#%%\n"
    }
   },
   "outputs": [],
   "source": [
    "extension = \"_one_metre_line_all_metres_recognized\""
   ]
  },
  {
   "cell_type": "code",
   "execution_count": 13,
   "metadata": {
    "pycharm": {
     "name": "#%%\n"
    }
   },
   "outputs": [
    {
     "name": "stdout",
     "output_type": "stream",
     "text": [
      "test_y_one_metre_line_all_metres_recognized.json: loaded 8950 records.\n"
     ]
    }
   ],
   "source": [
    "test_y = data_loader_and_saver.load_data(f\"test_y{extension}\")"
   ]
  },
  {
   "cell_type": "code",
   "execution_count": 14,
   "metadata": {
    "pycharm": {
     "name": "#%%\n"
    }
   },
   "outputs": [],
   "source": [
    "ref_predictions = get_ref_predictions(test_y)"
   ]
  },
  {
   "cell_type": "code",
   "execution_count": 15,
   "metadata": {
    "pycharm": {
     "name": "#%%\n"
    }
   },
   "outputs": [
    {
     "data": {
      "text/plain": "8950"
     },
     "execution_count": 15,
     "metadata": {},
     "output_type": "execute_result"
    }
   ],
   "source": [
    "len(ref_predictions)"
   ]
  },
  {
   "cell_type": "code",
   "execution_count": 16,
   "metadata": {
    "pycharm": {
     "name": "#%%\n"
    }
   },
   "outputs": [
    {
     "data": {
      "text/plain": "['SWSWSWSW',\n 'SWSWSW',\n 'SWSWSWSW',\n 'SWSWSW',\n 'SWSWSWSW',\n 'SWSWSW',\n 'SWSWSWSW',\n 'SWSWSW',\n 'SWSWSWSW',\n 'SWSWSW',\n 'SWSWSWSW',\n 'SWSWSW']"
     },
     "execution_count": 16,
     "metadata": {},
     "output_type": "execute_result"
    }
   ],
   "source": [
    "ref_predictions[0]"
   ]
  },
  {
   "cell_type": "code",
   "execution_count": 17,
   "metadata": {
    "pycharm": {
     "name": "#%%\n"
    }
   },
   "outputs": [
    {
     "name": "stdout",
     "output_type": "stream",
     "text": [
      "Data saved to ref_predictions_one_metre_line_all_metres_recognized.json\n"
     ]
    }
   ],
   "source": [
    "data_loader_and_saver.save_data(ref_predictions, f\"ref_predictions{extension}\")"
   ]
  }
 ],
 "metadata": {
  "kernelspec": {
   "display_name": "Python 3 (ipykernel)",
   "language": "python",
   "name": "python3"
  },
  "language_info": {
   "codemirror_mode": {
    "name": "ipython",
    "version": 3
   },
   "file_extension": ".py",
   "mimetype": "text/x-python",
   "name": "python",
   "nbconvert_exporter": "python",
   "pygments_lexer": "ipython3",
   "version": "3.8.10"
  }
 },
 "nbformat": 4,
 "nbformat_minor": 1
}
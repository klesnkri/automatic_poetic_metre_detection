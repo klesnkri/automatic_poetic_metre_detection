{
 "cells": [
  {
   "cell_type": "markdown",
   "source": [
    "# Evaluate BiLSTM-CRF models with token input and input sequences representing whole poems"
   ],
   "metadata": {
    "collapsed": false,
    "pycharm": {
     "name": "#%% md\n"
    }
   }
  },
  {
   "cell_type": "code",
   "execution_count": 1,
   "outputs": [],
   "source": [
    "%load_ext dotenv\n",
    "%dotenv\n",
    "import os\n",
    "\n",
    "base_dir = os.getenv(\"WORKING_DIR\")\n",
    "os.chdir(base_dir)"
   ],
   "metadata": {
    "collapsed": false,
    "pycharm": {
     "name": "#%%\n"
    }
   }
  },
  {
   "cell_type": "code",
   "execution_count": 2,
   "metadata": {
    "pycharm": {
     "name": "#%%\n"
    }
   },
   "outputs": [],
   "source": [
    "from src.data_loader_and_saver import JSONDataLoaderAndSaver\n",
    "\n",
    "ref_data_loader = JSONDataLoaderAndSaver(base_dir, input_data_dir=\"src/results/data\")"
   ]
  },
  {
   "cell_type": "code",
   "execution_count": 3,
   "metadata": {
    "pycharm": {
     "name": "#%%\n"
    }
   },
   "outputs": [],
   "source": [
    "from src.results.evaluator import Evaluator"
   ]
  },
  {
   "cell_type": "markdown",
   "metadata": {
    "pycharm": {
     "name": "#%% md\n"
    }
   },
   "source": [
    "## All poems just 1 metre, no unknown metres"
   ]
  },
  {
   "cell_type": "code",
   "execution_count": 4,
   "metadata": {
    "pycharm": {
     "name": "#%%\n"
    }
   },
   "outputs": [],
   "source": [
    "ref_extension = \"_one_metre_all_metres_recognized\"\n",
    "pred_extension = f\"{ref_extension}_poem_line\""
   ]
  },
  {
   "cell_type": "code",
   "execution_count": 5,
   "metadata": {
    "pycharm": {
     "name": "#%%\n"
    }
   },
   "outputs": [],
   "source": [
    "bi_lstm_data_loader = JSONDataLoaderAndSaver(base_dir,\n",
    "                                             input_data_dir=f\"src/bi_lstm_crf/predictions/tokens{pred_extension}\")"
   ]
  },
  {
   "cell_type": "code",
   "execution_count": 6,
   "metadata": {
    "pycharm": {
     "name": "#%%\n"
    }
   },
   "outputs": [
    {
     "name": "stdout",
     "output_type": "stream",
     "text": [
      "ref_predictions_one_metre_all_metres_recognized.json: loaded 8601 records.\n"
     ]
    }
   ],
   "source": [
    "ref_predictions = ref_data_loader.load_data(f\"ref_predictions{ref_extension}\")"
   ]
  },
  {
   "cell_type": "code",
   "execution_count": 7,
   "metadata": {
    "pycharm": {
     "name": "#%%\n"
    }
   },
   "outputs": [],
   "source": [
    "evaluator = Evaluator(ref_predictions)"
   ]
  },
  {
   "cell_type": "markdown",
   "metadata": {
    "pycharm": {
     "name": "#%% md\n"
    }
   },
   "source": [
    "### Additional features: Line idx, author, year, POS tag, lemma\n",
    "### Epochs: 15"
   ]
  },
  {
   "cell_type": "code",
   "execution_count": 7,
   "metadata": {
    "pycharm": {
     "name": "#%%\n"
    }
   },
   "outputs": [
    {
     "name": "stdout",
     "output_type": "stream",
     "text": [
      "line_idx_author_year_pos_lemma_15_epochs.json: loaded 8601 records.\n"
     ]
    }
   ],
   "source": [
    "predictions = bi_lstm_data_loader.load_data(\"line_idx_author_year_pos_lemma_15_epochs\")"
   ]
  },
  {
   "cell_type": "code",
   "execution_count": 10,
   "metadata": {
    "pycharm": {
     "name": "#%%\n"
    }
   },
   "outputs": [
    {
     "name": "stdout",
     "output_type": "stream",
     "text": [
      "Line accuracy: 95.47 % (292686 lines)\n"
     ]
    },
    {
     "data": {
      "text/plain": [
       "0.9546647260203768"
      ]
     },
     "execution_count": 10,
     "metadata": {},
     "output_type": "execute_result"
    }
   ],
   "source": [
    "evaluator.get_line_accuracy(predictions)"
   ]
  },
  {
   "cell_type": "code",
   "execution_count": 11,
   "metadata": {
    "pycharm": {
     "name": "#%%\n"
    }
   },
   "outputs": [
    {
     "name": "stdout",
     "output_type": "stream",
     "text": [
      "Poem accuracy: 55.74 % (8601 poems)\n"
     ]
    },
    {
     "data": {
      "text/plain": [
       "0.5573770491803278"
      ]
     },
     "execution_count": 11,
     "metadata": {},
     "output_type": "execute_result"
    }
   ],
   "source": [
    "evaluator.get_poem_accuracy(predictions)"
   ]
  },
  {
   "cell_type": "markdown",
   "metadata": {
    "pycharm": {
     "name": "#%% md\n"
    }
   },
   "source": [
    "## All lines just 1 metre, no unknown metres"
   ]
  },
  {
   "cell_type": "code",
   "execution_count": 4,
   "metadata": {
    "pycharm": {
     "name": "#%%\n"
    }
   },
   "outputs": [],
   "source": [
    "ref_extension = \"_one_metre_line_all_metres_recognized\"\n",
    "pred_extension = f\"{ref_extension}_poem_line\""
   ]
  },
  {
   "cell_type": "code",
   "execution_count": 9,
   "metadata": {
    "pycharm": {
     "name": "#%%\n"
    }
   },
   "outputs": [],
   "source": [
    "bi_lstm_data_loader = JSONDataLoaderAndSaver(base_dir,\n",
    "                                             input_data_dir=f\"src/bi_lstm_crf/predictions/tokens{pred_extension}\")"
   ]
  },
  {
   "cell_type": "code",
   "execution_count": 6,
   "metadata": {
    "pycharm": {
     "name": "#%%\n"
    }
   },
   "outputs": [
    {
     "name": "stdout",
     "output_type": "stream",
     "text": [
      "ref_predictions_one_metre_line_all_metres_recognized.json: loaded 8950 records.\n"
     ]
    }
   ],
   "source": [
    "ref_predictions = ref_data_loader.load_data(f\"ref_predictions{ref_extension}\")"
   ]
  },
  {
   "cell_type": "code",
   "execution_count": 7,
   "metadata": {
    "pycharm": {
     "name": "#%%\n"
    }
   },
   "outputs": [],
   "source": [
    "evaluator = Evaluator(ref_predictions)"
   ]
  },
  {
   "cell_type": "markdown",
   "metadata": {
    "pycharm": {
     "name": "#%% md\n"
    }
   },
   "source": [
    "### Additional features: Line idx, author, year, POS tag, lemma\n",
    "### Epochs: 15"
   ]
  },
  {
   "cell_type": "code",
   "execution_count": 8,
   "metadata": {
    "pycharm": {
     "name": "#%%\n"
    }
   },
   "outputs": [
    {
     "name": "stdout",
     "output_type": "stream",
     "text": [
      "line_idx_author_year_pos_lemma_15_epochs.json: loaded 8950 records.\n"
     ]
    }
   ],
   "source": [
    "predictions = bi_lstm_data_loader.load_data(\"line_idx_author_year_pos_lemma_15_epochs\")"
   ]
  },
  {
   "cell_type": "code",
   "execution_count": 10,
   "metadata": {
    "pycharm": {
     "name": "#%%\n"
    }
   },
   "outputs": [
    {
     "name": "stdout",
     "output_type": "stream",
     "text": [
      "Line accuracy: 95.91 % (301485 lines)\n"
     ]
    },
    {
     "data": {
      "text/plain": [
       "0.9591389289682737"
      ]
     },
     "execution_count": 10,
     "metadata": {},
     "output_type": "execute_result"
    }
   ],
   "source": [
    "evaluator.get_line_accuracy(predictions)"
   ]
  },
  {
   "cell_type": "code",
   "execution_count": 11,
   "metadata": {
    "pycharm": {
     "name": "#%%\n"
    }
   },
   "outputs": [
    {
     "name": "stdout",
     "output_type": "stream",
     "text": [
      "Poem accuracy: 58.98 % (8950 poems)\n"
     ]
    },
    {
     "data": {
      "text/plain": [
       "0.5898324022346368"
      ]
     },
     "execution_count": 11,
     "metadata": {},
     "output_type": "execute_result"
    }
   ],
   "source": [
    "evaluator.get_poem_accuracy(predictions)"
   ]
  }
 ],
 "metadata": {
  "kernelspec": {
   "display_name": "Python 3 (ipykernel)",
   "language": "python",
   "name": "python3"
  },
  "language_info": {
   "codemirror_mode": {
    "name": "ipython",
    "version": 3
   },
   "file_extension": ".py",
   "mimetype": "text/x-python",
   "name": "python",
   "nbconvert_exporter": "python",
   "pygments_lexer": "ipython3",
   "version": "3.8.10"
  }
 },
 "nbformat": 4,
 "nbformat_minor": 1
}
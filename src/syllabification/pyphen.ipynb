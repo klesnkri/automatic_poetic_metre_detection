{
 "cells": [
  {
   "cell_type": "markdown",
   "source": [
    "# Test hyphenation using pyphen"
   ],
   "metadata": {
    "collapsed": false,
    "pycharm": {
     "name": "#%% md\n"
    }
   }
  },
  {
   "cell_type": "code",
   "execution_count": 1,
   "outputs": [],
   "source": [
    "%load_ext dotenv\n",
    "%dotenv\n",
    "import os\n",
    "\n",
    "base_dir = os.getenv(\"WORKING_DIR\")\n",
    "os.chdir(base_dir)"
   ],
   "metadata": {
    "collapsed": false,
    "pycharm": {
     "name": "#%%\n"
    }
   }
  },
  {
   "cell_type": "code",
   "execution_count": 2,
   "metadata": {
    "pycharm": {
     "name": "#%%\n"
    }
   },
   "outputs": [],
   "source": [
    "from src.data_loader_and_saver import JSONDataLoaderAndSaver\n",
    "\n",
    "data_loader = JSONDataLoaderAndSaver(base_dir, input_data_dir=\"src/syllabification\")"
   ]
  },
  {
   "cell_type": "code",
   "execution_count": 3,
   "metadata": {
    "pycharm": {
     "name": "#%%\n"
    }
   },
   "outputs": [],
   "source": [
    "import pyphen\n",
    "\n",
    "pyphen_dict = pyphen.Pyphen(lang=\"cs_CZ\")"
   ]
  },
  {
   "cell_type": "code",
   "execution_count": 4,
   "metadata": {
    "pycharm": {
     "name": "#%%\n"
    }
   },
   "outputs": [
    {
     "name": "stdout",
     "output_type": "stream",
     "text": [
      "resources/test_words.json: loaded 26 records.\n"
     ]
    }
   ],
   "source": [
    "test_words = data_loader.load_data(\"resources/test_words\")"
   ]
  },
  {
   "cell_type": "code",
   "execution_count": 5,
   "metadata": {
    "pycharm": {
     "name": "#%%\n"
    }
   },
   "outputs": [
    {
     "name": "stdout",
     "output_type": "stream",
     "text": [
      "nej-ne-ob-hos-po-da-řo-vá-va-tel-něj-ší-ho\n",
      "houska\n",
      "neja-trak-tiv-něj-ší\n",
      "nej-star-ší\n",
      "nej-krás-něj-ší\n",
      "ne-mast-ný\n",
      "ahoj\n",
      "ital-šti-na\n",
      "měk-ký\n",
      "krk\n",
      "ma-lí-ček\n",
      "sna-ha\n",
      "sna-cha\n",
      "ame-tyst\n",
      "hou-sen-ka\n",
      "ko-ro-ze\n",
      "hrad\n",
      "skunk\n",
      "mlok\n",
      "šun-ka\n",
      "sou-ostro-ví\n",
      "rá-na\n",
      "uvi-dím\n",
      "vi-dím\n",
      "nej-vnitř-něj-ším\n",
      "tr-pas-lík\n"
     ]
    }
   ],
   "source": [
    "for word in test_words:\n",
    "    print(pyphen_dict.inserted(word))"
   ]
  }
 ],
 "metadata": {
  "kernelspec": {
   "display_name": "Python 3 (ipykernel)",
   "language": "python",
   "name": "python3"
  },
  "language_info": {
   "codemirror_mode": {
    "name": "ipython",
    "version": 3
   },
   "file_extension": ".py",
   "mimetype": "text/x-python",
   "name": "python",
   "nbconvert_exporter": "python",
   "pygments_lexer": "ipython3",
   "version": "3.8.10"
  }
 },
 "nbformat": 4,
 "nbformat_minor": 1
}
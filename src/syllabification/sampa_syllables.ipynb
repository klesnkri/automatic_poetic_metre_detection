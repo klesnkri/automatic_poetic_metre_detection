{
 "cells": [
  {
   "cell_type": "markdown",
   "source": [
    "# Test syllabification using X-SAMPA transcription"
   ],
   "metadata": {
    "collapsed": false,
    "pycharm": {
     "name": "#%% md\n"
    }
   }
  },
  {
   "cell_type": "code",
   "execution_count": 1,
   "outputs": [],
   "source": [
    "%load_ext dotenv\n",
    "%dotenv\n",
    "import os\n",
    "\n",
    "base_dir = os.getenv(\"WORKING_DIR\")\n",
    "os.chdir(base_dir)"
   ],
   "metadata": {
    "collapsed": false,
    "pycharm": {
     "name": "#%%\n"
    }
   }
  },
  {
   "cell_type": "code",
   "execution_count": 2,
   "id": "fdb3ca61",
   "metadata": {
    "pycharm": {
     "name": "#%%\n"
    }
   },
   "outputs": [],
   "source": [
    "from src.data_loader_and_saver import JSONDataLoaderAndSaver\n",
    "\n",
    "data_loader_and_saver = JSONDataLoaderAndSaver(base_dir, input_data_dir=\"src/data\")"
   ]
  },
  {
   "cell_type": "code",
   "execution_count": 3,
   "id": "5ce3e125",
   "metadata": {
    "pycharm": {
     "name": "#%%\n"
    }
   },
   "outputs": [
    {
     "name": "stdout",
     "output_type": "stream",
     "text": [
      "train_sampa_tokens_one_metre_line_all_metres_recognized.json: loaded 4176 records.\n"
     ]
    },
    {
     "data": {
      "text/plain": "[['mu:j', 'koJi:t_SEk', 'vrani:'],\n ['jako', 'malovani:'],\n ['h\\\\opsa', 'h\\\\Ejsa', 'h\\\\Ej'],\n ['noSkI', 'pjEknE:', 'zdvi:h\\\\a:'],\n ['uSIma', 'sI', 'stP\\\\i:h\\\\a:'],\n ['h\\\\opsa', 'h\\\\Ejsa', 'h\\\\Ej'],\n ['dlo_uh\\\\a:', 't_SErna:', 'h\\\\P\\\\i:va'],\n ['po', 'vjEtru', 'mu', 'spli:va:'],\n ['h\\\\opsa', 'h\\\\Ejsa', 'h\\\\Ej'],\n ['potkofkI', 'mu', 'zvoJi:'],\n ['jIskra', 'jIskru', 'h\\\\oJi:'],\n ['h\\\\opsa', 'h\\\\Ejsa', 'h\\\\Ej'],\n ['mu:j', 'koJi:t_Sku', 'vrani:'],\n ['jako', 'malovani:'],\n ['h\\\\opsa', 'h\\\\Ejsa', 'h\\\\Ej'],\n ['aS', 'cE', 'osEdla:mE'],\n ['kam', 'sE', 'poJ\\\\i:va:mE'],\n ['h\\\\opsa', 'h\\\\Ejsa', 'h\\\\Ej'],\n ['rozjEdEm', 'sE', 'f', 'polI'],\n ['pP\\\\Ez', 'h\\\\orI', 'a', 'dolI'],\n ['h\\\\opsa', 'h\\\\Ejsa', 'h\\\\Ej'],\n ['rozjEdEm', 'sE', 'lEtEm'],\n ['SIroSIri:m', 'svjEtEm'],\n ['h\\\\opsa', 'h\\\\Ejsa', 'h\\\\Ej'],\n ['ZEc', 'sE', 'rozjEdEmE'],\n ['kam', 'sE', 'rozjEt', 'xt_sEmE'],\n ['h\\\\opsa', 'h\\\\Ejsa', 'h\\\\Ej'],\n ['tak', 'mu:j', 'vrani:', 'koJI'],\n ['ac', 'sI', 'na:s', 'gdo', 'h\\\\oJi:'],\n ['h\\\\opsa', 'h\\\\Ejsa', 'h\\\\Ej']]"
     },
     "execution_count": 3,
     "metadata": {},
     "output_type": "execute_result"
    }
   ],
   "source": [
    "sampa_tokens = data_loader_and_saver.load_data(\"train_sampa_tokens_one_metre_line_all_metres_recognized\", 0.1)\n",
    "sampa_tokens[0]"
   ]
  },
  {
   "cell_type": "code",
   "execution_count": 4,
   "id": "724aa312",
   "metadata": {
    "pycharm": {
     "name": "#%%\n"
    }
   },
   "outputs": [
    {
     "name": "stdout",
     "output_type": "stream",
     "text": [
      "train_tokens_one_metre_line_all_metres_recognized.json: loaded 4176 records.\n"
     ]
    },
    {
     "data": {
      "text/plain": "[['můj', 'koníček', 'vraný'],\n ['jako', 'malovaný'],\n ['hopsa', 'hejsa', 'hej'],\n ['nožky', 'pěkné', 'zdvíhá'],\n ['ušima', 'si', 'stříhá'],\n ['hopsa', 'hejsa', 'hej'],\n ['dlouhá', 'černá', 'hříva'],\n ['po', 'větru', 'mu', 'splývá'],\n ['hopsa', 'hejsa', 'hej'],\n ['podkovky', 'mu', 'zvoní'],\n ['jiskra', 'jiskru', 'honí'],\n ['hopsa', 'hejsa', 'hej'],\n ['můj', 'koníčku', 'vraný'],\n ['jako', 'malovaný'],\n ['hopsa', 'hejsa', 'hej'],\n ['až', 'tě', 'osedláme'],\n ['kam', 'se', 'podíváme'],\n ['hopsa', 'hejsa', 'hej'],\n ['rozjedem', 'se', 'v', 'poli'],\n ['přes', 'hory', 'a', 'doly'],\n ['hopsa', 'hejsa', 'hej'],\n ['rozjedem', 'se', 'letem'],\n ['široširým', 'světem'],\n ['hopsa', 'hejsa', 'hej'],\n ['žeť', 'se', 'rozjedeme'],\n ['kam', 'se', 'rozjet', 'chceme'],\n ['hopsa', 'hejsa', 'hej'],\n ['tak', 'můj', 'vraný', 'koni'],\n ['ať', 'si', 'nás', 'kdo', 'honí'],\n ['hopsa', 'hejsa', 'hej']]"
     },
     "execution_count": 4,
     "metadata": {},
     "output_type": "execute_result"
    }
   ],
   "source": [
    "tokens = data_loader_and_saver.load_data(\"train_tokens_one_metre_line_all_metres_recognized\", 0.1)\n",
    "tokens[0]"
   ]
  },
  {
   "cell_type": "code",
   "execution_count": 5,
   "id": "b994224f",
   "metadata": {},
   "outputs": [],
   "source": [
    "from src.kveta.sampa_syllable_parser import SampaSyllableParser\n",
    "\n",
    "sampa_parser = SampaSyllableParser()"
   ]
  },
  {
   "cell_type": "code",
   "execution_count": 6,
   "id": "6dc05fc5",
   "metadata": {
    "pycharm": {
     "name": "#%%\n"
    }
   },
   "outputs": [
    {
     "name": "stdout",
     "output_type": "stream",
     "text": [
      "Token: dlouho, Sampa: dlo_uh\\o, Sampa syllables: ['dlo_u', 'h\\\\o']\n",
      "Token: v, Sampa: v, Sampa syllables: ['v']\n",
      "Token: míru, Sampa: mi:ru, Sampa syllables: ['mi:', 'ru']\n",
      "Token: již, Sampa: jIS, Sampa syllables: ['jIS']\n",
      "Token: co, Sampa: t_so, Sampa syllables: ['t_so']\n",
      "Token: tichá, Sampa: cIxa:, Sampa syllables: ['cI', 'xa:']\n",
      "Token: zoře, Sampa: zoP\\E, Sampa syllables: ['zo', 'P\\\\E']\n",
      "Token: blaze, Sampa: blazE, Sampa syllables: ['bla', 'zE']\n",
      "Token: žijí, Sampa: ZIji:, Sampa syllables: ['ZI', 'ji:']\n",
      "Token: čeští, Sampa: t_SESci:, Sampa syllables: ['t_SE', 'Sci:']\n",
      "Token: slované, Sampa: slovanE:, Sampa syllables: ['slo', 'va', 'nE:']\n",
      "Token: v, Sampa: v, Sampa syllables: ['v']\n",
      "Token: nové, Sampa: novE:, Sampa syllables: ['no', 'vE:']\n",
      "Token: vlasti, Sampa: vlascI, Sampa syllables: ['vla', 'scI']\n",
      "Token: nebem, Sampa: nEbEm, Sampa syllables: ['nE', 'bEm']\n",
      "Token: žehnané, Sampa: ZEh\\nanE:, Sampa syllables: ['ZE', 'h\\\\na', 'nE:']\n",
      "Token: zapuzujíce, Sampa: zapuzuji:t_sE, Sampa syllables: ['za', 'pu', 'zu', 'ji:', 't_sE']\n",
      "Token: si, Sampa: sI, Sampa syllables: ['sI']\n",
      "Token: zpěvem, Sampa: spjEvEm, Sampa syllables: ['spjE', 'vEm']\n",
      "Token: hoře, Sampa: h\\oP\\E, Sampa syllables: ['h\\\\o', 'P\\\\E']\n",
      "Token: až, Sampa: aS, Sampa syllables: ['aS']\n",
      "Token: tu, Sampa: tu, Sampa syllables: ['tu']\n",
      "Token: jako, Sampa: jako, Sampa syllables: ['ja', 'ko']\n",
      "Token: rozbouřené, Sampa: rozbo_uP\\EnE:, Sampa syllables: ['ro', 'zbo_u', 'P\\\\E', 'nE:']\n",
      "Token: moře, Sampa: moP\\E, Sampa syllables: ['mo', 'P\\\\E']\n",
      "Token: divoký, Sampa: J\\Ivoki:, Sampa syllables: ['J\\\\I', 'vo', 'ki:']\n",
      "Token: je, Sampa: jE, Sampa syllables: ['jE']\n",
      "Token: avar, Sampa: avar, Sampa syllables: ['a', 'var']\n",
      "Token: do, Sampa: do, Sampa syllables: ['do']\n",
      "Token: zbraně, Sampa: zbraJE, Sampa syllables: ['zbra', 'JE']\n",
      "Token: vhání, Sampa: vh\\a:Ji:, Sampa syllables: ['vh\\\\a:', 'Ji:']\n",
      "Token: a, Sampa: a, Sampa syllables: ['a']\n",
      "Token: jho, Sampa: jh\\o, Sampa syllables: ['jh\\\\o']\n",
      "Token: na, Sampa: na, Sampa syllables: ['na']\n",
      "Token: ně, Sampa: JE, Sampa syllables: ['JE']\n",
      "Token: kované, Sampa: kovanE:, Sampa syllables: ['ko', 'va', 'nE:']\n",
      "Token: uvrhá, Sampa: uvr=h\\a:, Sampa syllables: ['u', 'vr=', 'h\\\\a:']\n",
      "Token: otrocké, Sampa: otrot_skE:, Sampa syllables: ['o', 'tro', 't_skE:']\n",
      "Token: ku, Sampa: ku, Sampa syllables: ['ku']\n",
      "Token: pokoře, Sampa: pokoP\\E, Sampa syllables: ['po', 'ko', 'P\\\\E']\n",
      "Token: volá, Sampa: vola:, Sampa syllables: ['vo', 'la:']\n",
      "Token: sámo, Sampa: sa:mo, Sampa syllables: ['sa:', 'mo']\n",
      "Token: hromovými, Sampa: h\\romovi:mI, Sampa syllables: ['h\\\\ro', 'mo', 'vi:', 'mI']\n",
      "Token: slovy, Sampa: slovI, Sampa syllables: ['slo', 'vI']\n",
      "Token: k, Sampa: k, Sampa syllables: ['k']\n",
      "Token: sjednocení, Sampa: sjEdnot_sEJi:, Sampa syllables: ['sjE', 'dno', 't_sE', 'Ji:']\n",
      "Token: bratry, Sampa: bratrI, Sampa syllables: ['bra', 'trI']\n",
      "Token: rozdělené, Sampa: rozJ\\ElEnE:, Sampa syllables: ['ro', 'zJ\\\\E', 'lE', 'nE:']\n",
      "Token: a, Sampa: a, Sampa syllables: ['a']\n",
      "Token: čech, Sampa: t_SEx, Sampa syllables: ['t_SEx']\n",
      "Token: shází, Sampa: sxa:zi:, Sampa syllables: ['sxa:', 'zi:']\n",
      "Token: jarmo, Sampa: jarmo, Sampa syllables: ['ja', 'rmo']\n",
      "Token: rozlomené, Sampa: rozlomEnE:, Sampa syllables: ['ro', 'zlo', 'mE', 'nE:']\n",
      "Token: z, Sampa: z, Sampa syllables: ['z']\n",
      "Token: jednoty, Sampa: jEdnotI, Sampa syllables: ['jE', 'dno', 'tI']\n",
      "Token: tak, Sampa: tak, Sampa syllables: ['tak']\n",
      "Token: plyne, Sampa: plInE, Sampa syllables: ['plI', 'nE']\n",
      "Token: život, Sampa: ZIvot, Sampa syllables: ['ZI', 'vot']\n",
      "Token: nový, Sampa: novi:, Sampa syllables: ['no', 'vi:']\n",
      "Token: svorností, Sampa: svornosci:, Sampa syllables: ['svo', 'rno', 'sci:']\n",
      "Token: zas, Sampa: zas, Sampa syllables: ['zas']\n",
      "Token: mdloba, Sampa: mdloba, Sampa syllables: ['mdlo', 'ba']\n",
      "Token: čerstvé, Sampa: t_SErstvE:, Sampa syllables: ['t_SE', 'rstvE:']\n",
      "Token: síly, Sampa: si:lI, Sampa syllables: ['si:', 'lI']\n",
      "Token: nabývá, Sampa: nabi:va:, Sampa syllables: ['na', 'bi:', 'va:']\n",
      "Token: a, Sampa: a, Sampa syllables: ['a']\n",
      "Token: šťastně, Sampa: ScastJE, Sampa syllables: ['Sca', 'stJE']\n",
      "Token: dojde, Sampa: dojdE, Sampa syllables: ['do', 'jdE']\n",
      "Token: k, Sampa: k, Sampa syllables: ['k']\n",
      "Token: cíli, Sampa: t_si:lI, Sampa syllables: ['t_si:', 'lI']\n"
     ]
    }
   ],
   "source": [
    "for poem_tokens, poem_sampa_tokens in zip(tokens[400:401], sampa_tokens[400:401]):\n",
    "    for line_tokens, line_sampa_tokens in zip(poem_tokens, poem_sampa_tokens):\n",
    "        for token, sampa in zip(line_tokens, line_sampa_tokens):\n",
    "            print(f\"Token: {token}, Sampa: {sampa}, Sampa syllables: {sampa_parser.split_to_syllables(sampa)}\")"
   ]
  }
 ],
 "metadata": {
  "kernelspec": {
   "display_name": "Python 3 (ipykernel)",
   "language": "python",
   "name": "python3"
  },
  "language_info": {
   "codemirror_mode": {
    "name": "ipython",
    "version": 3
   },
   "file_extension": ".py",
   "mimetype": "text/x-python",
   "name": "python",
   "nbconvert_exporter": "python",
   "pygments_lexer": "ipython3",
   "version": "3.8.10"
  }
 },
 "nbformat": 4,
 "nbformat_minor": 5
}
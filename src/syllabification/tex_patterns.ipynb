{
 "cells": [
  {
   "cell_type": "markdown",
   "source": [
    "# Test hyphenation using Czech TeX hyphenation patterns"
   ],
   "metadata": {
    "collapsed": false,
    "pycharm": {
     "name": "#%% md\n"
    }
   }
  },
  {
   "cell_type": "code",
   "execution_count": 1,
   "outputs": [],
   "source": [
    "%load_ext dotenv\n",
    "%dotenv\n",
    "import os\n",
    "\n",
    "base_dir = os.getenv(\"WORKING_DIR\")\n",
    "os.chdir(base_dir)"
   ],
   "metadata": {
    "collapsed": false,
    "pycharm": {
     "name": "#%%\n"
    }
   }
  },
  {
   "cell_type": "code",
   "execution_count": 2,
   "id": "5c3190ba",
   "metadata": {
    "pycharm": {
     "name": "#%%\n"
    }
   },
   "outputs": [],
   "source": [
    "from src.data_loader_and_saver import JSONDataLoaderAndSaver\n",
    "\n",
    "data_loader = JSONDataLoaderAndSaver(base_dir, input_data_dir=\"src/syllabification\")"
   ]
  },
  {
   "cell_type": "code",
   "execution_count": 3,
   "id": "9151ebc1",
   "metadata": {
    "pycharm": {
     "name": "#%%\n"
    }
   },
   "outputs": [
    {
     "name": "stdout",
     "output_type": "stream",
     "text": [
      "resources/test_words.json: loaded 26 records.\n"
     ]
    }
   ],
   "source": [
    "test_words = data_loader.load_data(\"resources/test_words\")"
   ]
  },
  {
   "cell_type": "code",
   "execution_count": 4,
   "outputs": [],
   "source": [
    "from src.syllabification.pat_data_loader import PatDataLoader\n",
    "\n",
    "pat_data_loader = PatDataLoader(base_dir, \"src/syllabification/resources\")"
   ],
   "metadata": {
    "collapsed": false,
    "pycharm": {
     "name": "#%%\n"
    }
   }
  },
  {
   "cell_type": "code",
   "execution_count": 5,
   "outputs": [
    {
     "data": {
      "text/plain": "['.ad3aw',\n '.ads4',\n '.af3r',\n '.ai4č',\n '.ak3ry',\n '.al3s',\n '.as3k',\n '.as3t',\n '.at3at.',\n '.bel3h']"
     },
     "execution_count": 5,
     "metadata": {},
     "output_type": "execute_result"
    }
   ],
   "source": [
    "patterns = pat_data_loader.load_data(\"csskhyphen.pat\")\n",
    "patterns[:10]"
   ],
   "metadata": {
    "collapsed": false,
    "pycharm": {
     "name": "#%%\n"
    }
   }
  },
  {
   "cell_type": "code",
   "execution_count": 7,
   "outputs": [],
   "source": [
    "from src.syllabification.czech_tex_hyphenator import CzechTexHyphenator\n",
    "\n",
    "tex_hyphenator = CzechTexHyphenator(patterns)"
   ],
   "metadata": {
    "collapsed": false,
    "pycharm": {
     "name": "#%%\n"
    }
   }
  },
  {
   "cell_type": "markdown",
   "source": [
    "### Test hyphenation"
   ],
   "metadata": {
    "collapsed": false,
    "pycharm": {
     "name": "#%% md\n"
    }
   }
  },
  {
   "cell_type": "code",
   "execution_count": 8,
   "id": "b8ea80a1",
   "metadata": {
    "pycharm": {
     "name": "#%%\n"
    }
   },
   "outputs": [
    {
     "name": "stdout",
     "output_type": "stream",
     "text": [
      "['nej', 'neob', 'ho', 's', 'po', 'da', 'řo', 'vá', 'va', 'tel', 'něj', 'ší', 'ho']\n",
      "['hou', 's', 'ka']\n",
      "['nej', 'atrak', 'tiv', 'něj', 'ší']\n",
      "['nej', 'star', 'ší']\n",
      "['nej', 'krá', 's', 'něj', 'ší']\n",
      "['ne', 'mast', 'ný']\n",
      "['ahoj']\n",
      "['ital', 'šti', 'na']\n",
      "['měk', 'ký']\n",
      "['krk']\n",
      "['ma', 'lí', 'ček']\n",
      "['sna', 'ha']\n",
      "['sna', 'cha']\n",
      "['ame', 'tyst']\n",
      "['hou', 'sen', 'ka']\n",
      "['ko', 'ro', 'ze']\n",
      "['hrad']\n",
      "['skunk']\n",
      "['mlok']\n",
      "['šun', 'ka']\n",
      "['sou', 'os', 't', 'ro', 'ví']\n",
      "['rána']\n",
      "['uvidím']\n",
      "['vidím']\n",
      "['nejv', 'ni', 'tř', 'něj', 'ším']\n",
      "['tr', 'pa', 's', 'lík']\n"
     ]
    }
   ],
   "source": [
    "for word in test_words:\n",
    "    print(tex_hyphenator.hyphenate_word(word))"
   ]
  },
  {
   "cell_type": "markdown",
   "source": [
    "### Test hyphenation with heuristics"
   ],
   "metadata": {
    "collapsed": false,
    "pycharm": {
     "name": "#%% md\n"
    }
   }
  },
  {
   "cell_type": "code",
   "execution_count": 9,
   "id": "719809f7",
   "metadata": {
    "pycharm": {
     "name": "#%%\n"
    }
   },
   "outputs": [
    {
     "name": "stdout",
     "output_type": "stream",
     "text": [
      "['nej', 'neob', 'hos', 'po', 'da', 'řo', 'vá', 'va', 'tel', 'něj', 'ší', 'ho']\n",
      "['hous', 'ka']\n",
      "['nej', 'atrak', 'tiv', 'něj', 'ší']\n",
      "['nej', 'star', 'ší']\n",
      "['nej', 'krás', 'něj', 'ší']\n",
      "['ne', 'mast', 'ný']\n",
      "['ahoj']\n",
      "['ital', 'šti', 'na']\n",
      "['měk', 'ký']\n",
      "['krk']\n",
      "['ma', 'lí', 'ček']\n",
      "['sna', 'ha']\n",
      "['sna', 'cha']\n",
      "['ame', 'tyst']\n",
      "['hou', 'sen', 'ka']\n",
      "['ko', 'ro', 'ze']\n",
      "['hrad']\n",
      "['skunk']\n",
      "['mlok']\n",
      "['šun', 'ka']\n",
      "['sou', 'ost', 'ro', 'ví']\n",
      "['rána']\n",
      "['uvidím']\n",
      "['vidím']\n",
      "['nejv', 'ni', 'tř', 'něj', 'ším']\n",
      "['tr', 'pas', 'lík']\n"
     ]
    }
   ],
   "source": [
    "from src.syllabification.tex_heuristics import tex_heuristics\n",
    "\n",
    "for word in test_words:\n",
    "    print(tex_heuristics(tex_hyphenator.hyphenate_word(word)))"
   ]
  }
 ],
 "metadata": {
  "kernelspec": {
   "display_name": "Python 3 (ipykernel)",
   "language": "python",
   "name": "python3"
  },
  "language_info": {
   "codemirror_mode": {
    "name": "ipython",
    "version": 3
   },
   "file_extension": ".py",
   "mimetype": "text/x-python",
   "name": "python",
   "nbconvert_exporter": "python",
   "pygments_lexer": "ipython3",
   "version": "3.8.10"
  }
 },
 "nbformat": 4,
 "nbformat_minor": 5
}